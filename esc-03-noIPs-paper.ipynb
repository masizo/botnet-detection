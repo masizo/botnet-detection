{
 "cells": [
  {
   "cell_type": "markdown",
   "metadata": {},
   "source": [
    "# Jupiter's Notebook for Scenario 03\n",
    "Requieres: [CategoryEncoders](http://contrib.scikit-learn.org/category_encoders/), [imbalanced-learn](https://imbalanced-learn.org/stable/)<br>\n",
    "`pip install category_encoders`<br>\n",
    "`pip install imbalanced-learn`"
   ]
  },
  {
   "cell_type": "code",
   "execution_count": 1,
   "metadata": {},
   "outputs": [],
   "source": [
    "#import libraries\n",
    "import numpy as np\n",
    "import pandas as pd\n",
    "import collections\n",
    "import matplotlib.pyplot as plt\n",
    "from sklearn.model_selection import train_test_split\n",
    "from sklearn.compose import ColumnTransformer\n",
    "from sklearn.pipeline import Pipeline,make_pipeline\n",
    "from sklearn.feature_selection import SelectKBest,chi2\n",
    "from sklearn.linear_model import LogisticRegression\n",
    "from sklearn.svm import SVC\n",
    "from sklearn.tree import DecisionTreeClassifier\n",
    "from sklearn.model_selection import RepeatedStratifiedKFold\n",
    "from sklearn.model_selection import cross_val_score\n",
    "from sklearn.model_selection import GridSearchCV\n",
    "from sklearn.model_selection import RepeatedStratifiedKFold\n",
    "from collections import Counter\n",
    "from sklearn.metrics import confusion_matrix\n",
    "from sklearn.metrics import accuracy_score, recall_score, precision_score, f1_score, confusion_matrix, roc_auc_score\n",
    "from sklearn.metrics import classification_report\n",
    "from sklearn.metrics import plot_confusion_matrix"
   ]
  },
  {
   "cell_type": "code",
   "execution_count": 2,
   "metadata": {},
   "outputs": [],
   "source": [
    "#To identify class 0 and 1, respectively\n",
    "target_names = ['class 0', 'class 1']"
   ]
  },
  {
   "cell_type": "code",
   "execution_count": 3,
   "metadata": {},
   "outputs": [],
   "source": [
    "#load dataset\n",
    "df=pd.read_csv('esc-03-Mixed-traffic.csv')"
   ]
  },
  {
   "cell_type": "code",
   "execution_count": 4,
   "metadata": {},
   "outputs": [
    {
     "data": {
      "text/plain": [
       "(425649, 52)"
      ]
     },
     "execution_count": 4,
     "metadata": {},
     "output_type": "execute_result"
    }
   ],
   "source": [
    "#check dimensions\n",
    "df.shape"
   ]
  },
  {
   "cell_type": "markdown",
   "metadata": {},
   "source": [
    "## Pre-feature selection"
   ]
  },
  {
   "cell_type": "code",
   "execution_count": 5,
   "metadata": {},
   "outputs": [
    {
     "name": "stdout",
     "output_type": "stream",
     "text": [
      "proto                 0\n",
      "ts                    0\n",
      "srcIP                 0\n",
      "srcPrt                0\n",
      "dstIP                 0\n",
      "dstPrt                0\n",
      "flowduration          0\n",
      "total_fpackets        0\n",
      "total_bpackets        0\n",
      "total_fpktl           0\n",
      "total_bpktl           0\n",
      "min_fpktl             0\n",
      "min_bpktl             0\n",
      "max_fpktl             0\n",
      "max_bpktl             0\n",
      "mean_fpktl            0\n",
      "mean_bpktl            0\n",
      "std_fpktl             0\n",
      "std_bpktl             0\n",
      "total_fipt            0\n",
      "total_bipt            0\n",
      "min_fipt              0\n",
      "min_bipt              0\n",
      "max_fipt              0\n",
      "max_bipt              0\n",
      "mean_fipt             0\n",
      "mean_bipt             0\n",
      "std_fipt              0\n",
      "std_bipt              0\n",
      "fpsh_cnt              0\n",
      "bpsh_cnt              0\n",
      "furg_cnt              0\n",
      "burg_cnt              0\n",
      "total_fhlen           0\n",
      "total_bhlen           0\n",
      "fPktsPerSecond        0\n",
      "bPktsPerSecond        0\n",
      "flowPktsPerSecond     0\n",
      "flowBytesPerSecond    0\n",
      "mean_flowpktl         0\n",
      "std_flowpktl          0\n",
      "mean_flowipt          0\n",
      "std_flowipt           0\n",
      "flow_fin              0\n",
      "flow_syn              0\n",
      "flow_rst              0\n",
      "flow_ack              0\n",
      "flow_urg              0\n",
      "flow_cwr              0\n",
      "flow_ece              0\n",
      "downUpRatio           0\n",
      "label                 0\n",
      "dtype: int64\n",
      "0\n"
     ]
    }
   ],
   "source": [
    "#check the number of null values\n",
    "print(df.isnull().sum())\n",
    "print(df.isnull().values.sum())"
   ]
  },
  {
   "cell_type": "code",
   "execution_count": 6,
   "metadata": {},
   "outputs": [],
   "source": [
    "#Dropping Rows with NA inplace\n",
    "df.dropna(inplace=True)"
   ]
  },
  {
   "cell_type": "code",
   "execution_count": 7,
   "metadata": {},
   "outputs": [
    {
     "name": "stdout",
     "output_type": "stream",
     "text": [
      "proto                      2\n",
      "ts                    425649\n",
      "srcIP                  14548\n",
      "srcPrt                 58384\n",
      "dstIP                  14533\n",
      "dstPrt                   210\n",
      "flowduration          243270\n",
      "total_fpackets           734\n",
      "total_bpackets           909\n",
      "total_fpktl             8911\n",
      "total_bpktl            19117\n",
      "min_fpktl                133\n",
      "min_bpktl                495\n",
      "max_fpktl               1207\n",
      "max_bpktl                901\n",
      "mean_fpktl             17918\n",
      "mean_bpktl             22846\n",
      "std_fpktl              31081\n",
      "std_bpktl              29105\n",
      "total_fipt             99977\n",
      "total_bipt             80181\n",
      "min_fipt               57495\n",
      "min_bipt               32892\n",
      "max_fipt               97386\n",
      "max_bipt               74151\n",
      "mean_fipt              96833\n",
      "mean_bipt              78646\n",
      "std_fipt               75211\n",
      "std_bipt               65535\n",
      "fpsh_cnt                 137\n",
      "bpsh_cnt                 413\n",
      "furg_cnt                   1\n",
      "burg_cnt                   1\n",
      "total_fhlen             3302\n",
      "total_bhlen             4475\n",
      "fPktsPerSecond        224935\n",
      "bPktsPerSecond        221219\n",
      "flowPktsPerSecond     230904\n",
      "flowBytesPerSecond    289433\n",
      "mean_flowpktl          32817\n",
      "std_flowpktl           49429\n",
      "mean_flowipt          236910\n",
      "std_flowipt           102668\n",
      "flow_fin                  15\n",
      "flow_syn                  12\n",
      "flow_rst                  20\n",
      "flow_ack                1155\n",
      "flow_urg                   1\n",
      "flow_cwr                   4\n",
      "flow_ece                   2\n",
      "downUpRatio            52024\n",
      "label                      2\n",
      "dtype: int64\n"
     ]
    }
   ],
   "source": [
    "#sumarize the number of unique values for each column \n",
    "print(df.nunique())"
   ]
  },
  {
   "cell_type": "code",
   "execution_count": 8,
   "metadata": {},
   "outputs": [
    {
     "name": "stdout",
     "output_type": "stream",
     "text": [
      "[31, 32, 47]\n",
      "(425649, 49)\n"
     ]
    }
   ],
   "source": [
    "#delete columns with a single unique value\n",
    "#get the indexes of the single-valued columns\n",
    "counts=df.nunique()\n",
    "to_del=[i for i,v in enumerate(counts) if v==1]\n",
    "print(to_del)\n",
    "#drop unless columns\n",
    "df.drop(df.columns[to_del],axis=1,inplace=True)\n",
    "print(df.shape)"
   ]
  },
  {
   "cell_type": "code",
   "execution_count": 9,
   "metadata": {},
   "outputs": [
    {
     "name": "stdout",
     "output_type": "stream",
     "text": [
      "proto                      2\n",
      "ts                    425649\n",
      "srcIP                  14548\n",
      "srcPrt                 58384\n",
      "dstIP                  14533\n",
      "dstPrt                   210\n",
      "flowduration          243270\n",
      "total_fpackets           734\n",
      "total_bpackets           909\n",
      "total_fpktl             8911\n",
      "total_bpktl            19117\n",
      "min_fpktl                133\n",
      "min_bpktl                495\n",
      "max_fpktl               1207\n",
      "max_bpktl                901\n",
      "mean_fpktl             17918\n",
      "mean_bpktl             22846\n",
      "std_fpktl              31081\n",
      "std_bpktl              29105\n",
      "total_fipt             99977\n",
      "total_bipt             80181\n",
      "min_fipt               57495\n",
      "min_bipt               32892\n",
      "max_fipt               97386\n",
      "max_bipt               74151\n",
      "mean_fipt              96833\n",
      "mean_bipt              78646\n",
      "std_fipt               75211\n",
      "std_bipt               65535\n",
      "fpsh_cnt                 137\n",
      "bpsh_cnt                 413\n",
      "total_fhlen             3302\n",
      "total_bhlen             4475\n",
      "fPktsPerSecond        224935\n",
      "bPktsPerSecond        221219\n",
      "flowPktsPerSecond     230904\n",
      "flowBytesPerSecond    289433\n",
      "mean_flowpktl          32817\n",
      "std_flowpktl           49429\n",
      "mean_flowipt          236910\n",
      "std_flowipt           102668\n",
      "flow_fin                  15\n",
      "flow_syn                  12\n",
      "flow_rst                  20\n",
      "flow_ack                1155\n",
      "flow_cwr                   4\n",
      "flow_ece                   2\n",
      "downUpRatio            52024\n",
      "label                      2\n",
      "dtype: int64\n"
     ]
    }
   ],
   "source": [
    "#sumarize the number of unique values for each column \n",
    "print(df.nunique())"
   ]
  },
  {
   "cell_type": "code",
   "execution_count": 10,
   "metadata": {},
   "outputs": [],
   "source": [
    "#delete ts, srcIP and dstIP features\n",
    "df.drop(['ts','srcIP','dstIP'],axis=1,inplace=True)"
   ]
  },
  {
   "cell_type": "code",
   "execution_count": 11,
   "metadata": {},
   "outputs": [
    {
     "data": {
      "image/png": "[encoded data removed]",
      "text/plain": [
       "<Figure size 432x288 with 1 Axes>"
      ]
     },
     "metadata": {
      "needs_background": "light"
     },
     "output_type": "display_data"
    }
   ],
   "source": [
    "#Consider columns that have very few values, e.g. flow_cwr column\n",
    "ax = df['flow_ece'].value_counts().plot(kind='bar',fontsize=16) \n",
    "for p in ax.patches:\n",
    "    x = p.get_x()\n",
    "    h = p.get_height()\n",
    "    w = p.get_width()\n",
    "    ax.annotate(f'{h:.0f}\\n', (x + w/2, h), ha='center', va='center', size=16)\n",
    "plt.margins(y=0.2)\n",
    "plt.tight_layout()\n",
    "plt.show()"
   ]
  },
  {
   "cell_type": "code",
   "execution_count": 12,
   "metadata": {},
   "outputs": [],
   "source": [
    "#delete flow_ece column\n",
    "df.drop('flow_ece',axis=1,inplace=True)"
   ]
  },
  {
   "cell_type": "code",
   "execution_count": 13,
   "metadata": {},
   "outputs": [
    {
     "data": {
      "text/plain": [
       "Counter({0: 422898, 1: 2751})"
      ]
     },
     "execution_count": 13,
     "metadata": {},
     "output_type": "execute_result"
    }
   ],
   "source": [
    "#counting classes\n",
    "collections.Counter(df.label.values)"
   ]
  },
  {
   "cell_type": "code",
   "execution_count": 14,
   "metadata": {},
   "outputs": [
    {
     "name": "stdout",
     "output_type": "stream",
     "text": [
      "(425649, 45)\n",
      "(422778, 45)\n"
     ]
    }
   ],
   "source": [
    "#Delete Rows That Contain Duplicate Data\n",
    "print(df.shape)\n",
    "df.drop_duplicates(inplace=True)\n",
    "print(df.shape)"
   ]
  },
  {
   "cell_type": "code",
   "execution_count": 15,
   "metadata": {},
   "outputs": [
    {
     "data": {
      "text/plain": [
       "Counter({0: 420074, 1: 2704})"
      ]
     },
     "execution_count": 15,
     "metadata": {},
     "output_type": "execute_result"
    }
   ],
   "source": [
    "#counting classes\n",
    "collections.Counter(df.label.values)"
   ]
  },
  {
   "cell_type": "code",
   "execution_count": 16,
   "metadata": {},
   "outputs": [
    {
     "data": {
      "text/html": [
       "<div>\n",
       "<style scoped>\n",
       "    .dataframe tbody tr th:only-of-type {\n",
       "        vertical-align: middle;\n",
       "    }\n",
       "\n",
       "    .dataframe tbody tr th {\n",
       "        vertical-align: top;\n",
       "    }\n",
       "\n",
       "    .dataframe thead th {\n",
       "        text-align: right;\n",
       "    }\n",
       "</style>\n",
       "<table border=\"1\" class=\"dataframe\">\n",
       "  <thead>\n",
       "    <tr style=\"text-align: right;\">\n",
       "      <th></th>\n",
       "      <th>proto</th>\n",
       "      <th>srcPrt</th>\n",
       "      <th>dstPrt</th>\n",
       "      <th>flowduration</th>\n",
       "      <th>total_fpackets</th>\n",
       "      <th>total_bpackets</th>\n",
       "      <th>total_fpktl</th>\n",
       "      <th>total_bpktl</th>\n",
       "      <th>min_fpktl</th>\n",
       "      <th>min_bpktl</th>\n",
       "      <th>...</th>\n",
       "      <th>std_flowpktl</th>\n",
       "      <th>mean_flowipt</th>\n",
       "      <th>std_flowipt</th>\n",
       "      <th>flow_fin</th>\n",
       "      <th>flow_syn</th>\n",
       "      <th>flow_rst</th>\n",
       "      <th>flow_ack</th>\n",
       "      <th>flow_cwr</th>\n",
       "      <th>downUpRatio</th>\n",
       "      <th>label</th>\n",
       "    </tr>\n",
       "  </thead>\n",
       "  <tbody>\n",
       "    <tr>\n",
       "      <th>0</th>\n",
       "      <td>TCP</td>\n",
       "      <td>37243</td>\n",
       "      <td>25</td>\n",
       "      <td>1.018562</td>\n",
       "      <td>3</td>\n",
       "      <td>3</td>\n",
       "      <td>186</td>\n",
       "      <td>162</td>\n",
       "      <td>62</td>\n",
       "      <td>54</td>\n",
       "      <td>...</td>\n",
       "      <td>4.381781</td>\n",
       "      <td>0.203716</td>\n",
       "      <td>0.283249</td>\n",
       "      <td>0</td>\n",
       "      <td>3</td>\n",
       "      <td>3</td>\n",
       "      <td>3</td>\n",
       "      <td>0</td>\n",
       "      <td>0.870968</td>\n",
       "      <td>0</td>\n",
       "    </tr>\n",
       "    <tr>\n",
       "      <th>1</th>\n",
       "      <td>TCP</td>\n",
       "      <td>63152</td>\n",
       "      <td>80</td>\n",
       "      <td>0.477808</td>\n",
       "      <td>11</td>\n",
       "      <td>16</td>\n",
       "      <td>1106</td>\n",
       "      <td>15237</td>\n",
       "      <td>60</td>\n",
       "      <td>54</td>\n",
       "      <td>...</td>\n",
       "      <td>656.407898</td>\n",
       "      <td>0.018434</td>\n",
       "      <td>0.037705</td>\n",
       "      <td>2</td>\n",
       "      <td>2</td>\n",
       "      <td>0</td>\n",
       "      <td>26</td>\n",
       "      <td>0</td>\n",
       "      <td>13.776672</td>\n",
       "      <td>0</td>\n",
       "    </tr>\n",
       "    <tr>\n",
       "      <th>2</th>\n",
       "      <td>TCP</td>\n",
       "      <td>52841</td>\n",
       "      <td>80</td>\n",
       "      <td>0.309601</td>\n",
       "      <td>6</td>\n",
       "      <td>7</td>\n",
       "      <td>629</td>\n",
       "      <td>6065</td>\n",
       "      <td>60</td>\n",
       "      <td>54</td>\n",
       "      <td>...</td>\n",
       "      <td>642.639771</td>\n",
       "      <td>0.027473</td>\n",
       "      <td>0.042772</td>\n",
       "      <td>0</td>\n",
       "      <td>2</td>\n",
       "      <td>1</td>\n",
       "      <td>12</td>\n",
       "      <td>0</td>\n",
       "      <td>9.642289</td>\n",
       "      <td>0</td>\n",
       "    </tr>\n",
       "    <tr>\n",
       "      <th>3</th>\n",
       "      <td>TCP</td>\n",
       "      <td>80</td>\n",
       "      <td>26739</td>\n",
       "      <td>60.019398</td>\n",
       "      <td>2</td>\n",
       "      <td>0</td>\n",
       "      <td>2868</td>\n",
       "      <td>0</td>\n",
       "      <td>1434</td>\n",
       "      <td>0</td>\n",
       "      <td>...</td>\n",
       "      <td>0.000000</td>\n",
       "      <td>60.019398</td>\n",
       "      <td>0.000000</td>\n",
       "      <td>0</td>\n",
       "      <td>0</td>\n",
       "      <td>0</td>\n",
       "      <td>2</td>\n",
       "      <td>0</td>\n",
       "      <td>0.000000</td>\n",
       "      <td>0</td>\n",
       "    </tr>\n",
       "    <tr>\n",
       "      <th>4</th>\n",
       "      <td>TCP</td>\n",
       "      <td>38554</td>\n",
       "      <td>80</td>\n",
       "      <td>17.941672</td>\n",
       "      <td>48</td>\n",
       "      <td>87</td>\n",
       "      <td>4594</td>\n",
       "      <td>116619</td>\n",
       "      <td>60</td>\n",
       "      <td>54</td>\n",
       "      <td>...</td>\n",
       "      <td>655.934814</td>\n",
       "      <td>0.227301</td>\n",
       "      <td>1.555660</td>\n",
       "      <td>1</td>\n",
       "      <td>2</td>\n",
       "      <td>1</td>\n",
       "      <td>134</td>\n",
       "      <td>0</td>\n",
       "      <td>25.385067</td>\n",
       "      <td>0</td>\n",
       "    </tr>\n",
       "    <tr>\n",
       "      <th>...</th>\n",
       "      <td>...</td>\n",
       "      <td>...</td>\n",
       "      <td>...</td>\n",
       "      <td>...</td>\n",
       "      <td>...</td>\n",
       "      <td>...</td>\n",
       "      <td>...</td>\n",
       "      <td>...</td>\n",
       "      <td>...</td>\n",
       "      <td>...</td>\n",
       "      <td>...</td>\n",
       "      <td>...</td>\n",
       "      <td>...</td>\n",
       "      <td>...</td>\n",
       "      <td>...</td>\n",
       "      <td>...</td>\n",
       "      <td>...</td>\n",
       "      <td>...</td>\n",
       "      <td>...</td>\n",
       "      <td>...</td>\n",
       "      <td>...</td>\n",
       "    </tr>\n",
       "    <tr>\n",
       "      <th>425644</th>\n",
       "      <td>UDP</td>\n",
       "      <td>47379</td>\n",
       "      <td>53</td>\n",
       "      <td>0.000000</td>\n",
       "      <td>1</td>\n",
       "      <td>0</td>\n",
       "      <td>71</td>\n",
       "      <td>0</td>\n",
       "      <td>71</td>\n",
       "      <td>0</td>\n",
       "      <td>...</td>\n",
       "      <td>0.000000</td>\n",
       "      <td>0.000000</td>\n",
       "      <td>0.000000</td>\n",
       "      <td>0</td>\n",
       "      <td>0</td>\n",
       "      <td>0</td>\n",
       "      <td>0</td>\n",
       "      <td>0</td>\n",
       "      <td>0.000000</td>\n",
       "      <td>0</td>\n",
       "    </tr>\n",
       "    <tr>\n",
       "      <th>425645</th>\n",
       "      <td>UDP</td>\n",
       "      <td>65320</td>\n",
       "      <td>53</td>\n",
       "      <td>0.000345</td>\n",
       "      <td>1</td>\n",
       "      <td>1</td>\n",
       "      <td>83</td>\n",
       "      <td>175</td>\n",
       "      <td>83</td>\n",
       "      <td>175</td>\n",
       "      <td>...</td>\n",
       "      <td>65.053825</td>\n",
       "      <td>0.000345</td>\n",
       "      <td>0.000000</td>\n",
       "      <td>0</td>\n",
       "      <td>0</td>\n",
       "      <td>0</td>\n",
       "      <td>0</td>\n",
       "      <td>0</td>\n",
       "      <td>2.108434</td>\n",
       "      <td>0</td>\n",
       "    </tr>\n",
       "    <tr>\n",
       "      <th>425646</th>\n",
       "      <td>UDP</td>\n",
       "      <td>31073</td>\n",
       "      <td>53</td>\n",
       "      <td>0.000231</td>\n",
       "      <td>1</td>\n",
       "      <td>1</td>\n",
       "      <td>85</td>\n",
       "      <td>177</td>\n",
       "      <td>85</td>\n",
       "      <td>177</td>\n",
       "      <td>...</td>\n",
       "      <td>65.053825</td>\n",
       "      <td>0.000231</td>\n",
       "      <td>0.000000</td>\n",
       "      <td>0</td>\n",
       "      <td>0</td>\n",
       "      <td>0</td>\n",
       "      <td>0</td>\n",
       "      <td>0</td>\n",
       "      <td>2.082353</td>\n",
       "      <td>0</td>\n",
       "    </tr>\n",
       "    <tr>\n",
       "      <th>425647</th>\n",
       "      <td>UDP</td>\n",
       "      <td>6141</td>\n",
       "      <td>53</td>\n",
       "      <td>0.000173</td>\n",
       "      <td>1</td>\n",
       "      <td>1</td>\n",
       "      <td>85</td>\n",
       "      <td>144</td>\n",
       "      <td>85</td>\n",
       "      <td>144</td>\n",
       "      <td>...</td>\n",
       "      <td>41.719299</td>\n",
       "      <td>0.000173</td>\n",
       "      <td>0.000000</td>\n",
       "      <td>0</td>\n",
       "      <td>0</td>\n",
       "      <td>0</td>\n",
       "      <td>0</td>\n",
       "      <td>0</td>\n",
       "      <td>1.694118</td>\n",
       "      <td>0</td>\n",
       "    </tr>\n",
       "    <tr>\n",
       "      <th>425648</th>\n",
       "      <td>UDP</td>\n",
       "      <td>5797</td>\n",
       "      <td>53</td>\n",
       "      <td>0.000181</td>\n",
       "      <td>1</td>\n",
       "      <td>1</td>\n",
       "      <td>83</td>\n",
       "      <td>142</td>\n",
       "      <td>83</td>\n",
       "      <td>142</td>\n",
       "      <td>...</td>\n",
       "      <td>41.719299</td>\n",
       "      <td>0.000181</td>\n",
       "      <td>0.000000</td>\n",
       "      <td>0</td>\n",
       "      <td>0</td>\n",
       "      <td>0</td>\n",
       "      <td>0</td>\n",
       "      <td>0</td>\n",
       "      <td>1.710843</td>\n",
       "      <td>0</td>\n",
       "    </tr>\n",
       "  </tbody>\n",
       "</table>\n",
       "<p>422778 rows × 45 columns</p>\n",
       "</div>"
      ],
      "text/plain": [
       "       proto  srcPrt  dstPrt  flowduration  total_fpackets  total_bpackets  \\\n",
       "0        TCP   37243      25      1.018562               3               3   \n",
       "1        TCP   63152      80      0.477808              11              16   \n",
       "2        TCP   52841      80      0.309601               6               7   \n",
       "3        TCP      80   26739     60.019398               2               0   \n",
       "4        TCP   38554      80     17.941672              48              87   \n",
       "...      ...     ...     ...           ...             ...             ...   \n",
       "425644   UDP   47379      53      0.000000               1               0   \n",
       "425645   UDP   65320      53      0.000345               1               1   \n",
       "425646   UDP   31073      53      0.000231               1               1   \n",
       "425647   UDP    6141      53      0.000173               1               1   \n",
       "425648   UDP    5797      53      0.000181               1               1   \n",
       "\n",
       "        total_fpktl  total_bpktl  min_fpktl  min_bpktl  ...  std_flowpktl  \\\n",
       "0               186          162         62         54  ...      4.381781   \n",
       "1              1106        15237         60         54  ...    656.407898   \n",
       "2               629         6065         60         54  ...    642.639771   \n",
       "3              2868            0       1434          0  ...      0.000000   \n",
       "4              4594       116619         60         54  ...    655.934814   \n",
       "...             ...          ...        ...        ...  ...           ...   \n",
       "425644           71            0         71          0  ...      0.000000   \n",
       "425645           83          175         83        175  ...     65.053825   \n",
       "425646           85          177         85        177  ...     65.053825   \n",
       "425647           85          144         85        144  ...     41.719299   \n",
       "425648           83          142         83        142  ...     41.719299   \n",
       "\n",
       "        mean_flowipt  std_flowipt  flow_fin  flow_syn  flow_rst  flow_ack  \\\n",
       "0           0.203716     0.283249         0         3         3         3   \n",
       "1           0.018434     0.037705         2         2         0        26   \n",
       "2           0.027473     0.042772         0         2         1        12   \n",
       "3          60.019398     0.000000         0         0         0         2   \n",
       "4           0.227301     1.555660         1         2         1       134   \n",
       "...              ...          ...       ...       ...       ...       ...   \n",
       "425644      0.000000     0.000000         0         0         0         0   \n",
       "425645      0.000345     0.000000         0         0         0         0   \n",
       "425646      0.000231     0.000000         0         0         0         0   \n",
       "425647      0.000173     0.000000         0         0         0         0   \n",
       "425648      0.000181     0.000000         0         0         0         0   \n",
       "\n",
       "        flow_cwr  downUpRatio  label  \n",
       "0              0     0.870968      0  \n",
       "1              0    13.776672      0  \n",
       "2              0     9.642289      0  \n",
       "3              0     0.000000      0  \n",
       "4              0    25.385067      0  \n",
       "...          ...          ...    ...  \n",
       "425644         0     0.000000      0  \n",
       "425645         0     2.108434      0  \n",
       "425646         0     2.082353      0  \n",
       "425647         0     1.694118      0  \n",
       "425648         0     1.710843      0  \n",
       "\n",
       "[422778 rows x 45 columns]"
      ]
     },
     "execution_count": 16,
     "metadata": {},
     "output_type": "execute_result"
    }
   ],
   "source": [
    "df"
   ]
  },
  {
   "cell_type": "code",
   "execution_count": 17,
   "metadata": {},
   "outputs": [
    {
     "name": "stdout",
     "output_type": "stream",
     "text": [
      "> Class 0 : 420074 of 422778 (99.4%)\n",
      "> Class 1 : 2704 of 422778 (0.6%)\n"
     ]
    }
   ],
   "source": [
    "#check % class distribution \n",
    "y=df['label'].values #convert to nparray\n",
    "\n",
    "classes=np.unique(y)\n",
    "total=len(y)\n",
    "\n",
    "for c in classes:\n",
    "    n_examples=len(y[y==c])\n",
    "    percent = n_examples/total*100\n",
    "    print('> Class %d : %d of %d (%.1f%%)' % (c, n_examples,total,percent))"
   ]
  },
  {
   "cell_type": "markdown",
   "metadata": {},
   "source": [
    "# Coding of categorical variables\n",
    "[Target encoding](https://contrib.scikit-learn.org/category_encoders/targetencoder.html) for categorical features will be used to encode three nominal categorical variables: protocol, source and destination ports. This method is supervised and requires training."
   ]
  },
  {
   "cell_type": "code",
   "execution_count": 18,
   "metadata": {},
   "outputs": [
    {
     "data": {
      "text/plain": [
       "proto                  object\n",
       "srcPrt                  int64\n",
       "dstPrt                  int64\n",
       "flowduration          float64\n",
       "total_fpackets          int64\n",
       "total_bpackets          int64\n",
       "total_fpktl             int64\n",
       "total_bpktl             int64\n",
       "min_fpktl               int64\n",
       "min_bpktl               int64\n",
       "max_fpktl               int64\n",
       "max_bpktl               int64\n",
       "mean_fpktl            float64\n",
       "mean_bpktl            float64\n",
       "std_fpktl             float64\n",
       "std_bpktl             float64\n",
       "total_fipt            float64\n",
       "total_bipt            float64\n",
       "min_fipt              float64\n",
       "min_bipt              float64\n",
       "max_fipt              float64\n",
       "max_bipt              float64\n",
       "mean_fipt             float64\n",
       "mean_bipt             float64\n",
       "std_fipt              float64\n",
       "std_bipt              float64\n",
       "fpsh_cnt                int64\n",
       "bpsh_cnt                int64\n",
       "total_fhlen             int64\n",
       "total_bhlen             int64\n",
       "fPktsPerSecond        float64\n",
       "bPktsPerSecond        float64\n",
       "flowPktsPerSecond     float64\n",
       "flowBytesPerSecond    float64\n",
       "mean_flowpktl         float64\n",
       "std_flowpktl          float64\n",
       "mean_flowipt          float64\n",
       "std_flowipt           float64\n",
       "flow_fin                int64\n",
       "flow_syn                int64\n",
       "flow_rst                int64\n",
       "flow_ack                int64\n",
       "flow_cwr                int64\n",
       "downUpRatio           float64\n",
       "label                   int64\n",
       "dtype: object"
      ]
     },
     "execution_count": 18,
     "metadata": {},
     "output_type": "execute_result"
    }
   ],
   "source": [
    "#Data types for each attibute\n",
    "df.dtypes"
   ]
  },
  {
   "cell_type": "code",
   "execution_count": 19,
   "metadata": {},
   "outputs": [],
   "source": [
    "#create training and test dataset\n",
    "X_train,X_test,y_train,y_test = train_test_split(df.drop(columns=['label']), df['label'], test_size=0.2, random_state=42)"
   ]
  },
  {
   "cell_type": "code",
   "execution_count": 20,
   "metadata": {},
   "outputs": [],
   "source": [
    "#load library for target encoder \n",
    "from category_encoders import TargetEncoder"
   ]
  },
  {
   "cell_type": "code",
   "execution_count": 21,
   "metadata": {},
   "outputs": [],
   "source": [
    "# Selecting the three categorical variables to be coded\n",
    "enc = TargetEncoder(cols=['proto','srcPrt','dstPrt'])\n",
    "\n",
    "# transform the datasets\n",
    "training_numeric_dataset = enc.fit_transform(X_train, y_train)\n",
    "testing_numeric_dataset = enc.transform(X_test)"
   ]
  },
  {
   "cell_type": "code",
   "execution_count": 22,
   "metadata": {},
   "outputs": [
    {
     "data": {
      "text/html": [
       "<div>\n",
       "<style scoped>\n",
       "    .dataframe tbody tr th:only-of-type {\n",
       "        vertical-align: middle;\n",
       "    }\n",
       "\n",
       "    .dataframe tbody tr th {\n",
       "        vertical-align: top;\n",
       "    }\n",
       "\n",
       "    .dataframe thead th {\n",
       "        text-align: right;\n",
       "    }\n",
       "</style>\n",
       "<table border=\"1\" class=\"dataframe\">\n",
       "  <thead>\n",
       "    <tr style=\"text-align: right;\">\n",
       "      <th></th>\n",
       "      <th>proto</th>\n",
       "      <th>srcPrt</th>\n",
       "      <th>dstPrt</th>\n",
       "      <th>flowduration</th>\n",
       "      <th>total_fpackets</th>\n",
       "      <th>total_bpackets</th>\n",
       "      <th>total_fpktl</th>\n",
       "      <th>total_bpktl</th>\n",
       "      <th>min_fpktl</th>\n",
       "      <th>min_bpktl</th>\n",
       "      <th>...</th>\n",
       "      <th>mean_flowpktl</th>\n",
       "      <th>std_flowpktl</th>\n",
       "      <th>mean_flowipt</th>\n",
       "      <th>std_flowipt</th>\n",
       "      <th>flow_fin</th>\n",
       "      <th>flow_syn</th>\n",
       "      <th>flow_rst</th>\n",
       "      <th>flow_ack</th>\n",
       "      <th>flow_cwr</th>\n",
       "      <th>downUpRatio</th>\n",
       "    </tr>\n",
       "  </thead>\n",
       "  <tbody>\n",
       "    <tr>\n",
       "      <th>406917</th>\n",
       "      <td>0.00021</td>\n",
       "      <td>1.069572e-07</td>\n",
       "      <td>0.000023</td>\n",
       "      <td>2.351661</td>\n",
       "      <td>1</td>\n",
       "      <td>1</td>\n",
       "      <td>74</td>\n",
       "      <td>303</td>\n",
       "      <td>74</td>\n",
       "      <td>303</td>\n",
       "      <td>...</td>\n",
       "      <td>188.5</td>\n",
       "      <td>161.927460</td>\n",
       "      <td>2.351661</td>\n",
       "      <td>0.000000</td>\n",
       "      <td>0</td>\n",
       "      <td>0</td>\n",
       "      <td>0</td>\n",
       "      <td>0</td>\n",
       "      <td>0</td>\n",
       "      <td>4.094594</td>\n",
       "    </tr>\n",
       "    <tr>\n",
       "      <th>338618</th>\n",
       "      <td>0.00021</td>\n",
       "      <td>0.000000e+00</td>\n",
       "      <td>0.000023</td>\n",
       "      <td>0.649577</td>\n",
       "      <td>1</td>\n",
       "      <td>1</td>\n",
       "      <td>82</td>\n",
       "      <td>227</td>\n",
       "      <td>82</td>\n",
       "      <td>227</td>\n",
       "      <td>...</td>\n",
       "      <td>154.5</td>\n",
       "      <td>102.530487</td>\n",
       "      <td>0.649577</td>\n",
       "      <td>0.000000</td>\n",
       "      <td>0</td>\n",
       "      <td>0</td>\n",
       "      <td>0</td>\n",
       "      <td>0</td>\n",
       "      <td>0</td>\n",
       "      <td>2.768293</td>\n",
       "    </tr>\n",
       "    <tr>\n",
       "      <th>240805</th>\n",
       "      <td>0.00021</td>\n",
       "      <td>1.151851e-04</td>\n",
       "      <td>0.000023</td>\n",
       "      <td>0.002353</td>\n",
       "      <td>2</td>\n",
       "      <td>2</td>\n",
       "      <td>169</td>\n",
       "      <td>301</td>\n",
       "      <td>79</td>\n",
       "      <td>149</td>\n",
       "      <td>...</td>\n",
       "      <td>117.5</td>\n",
       "      <td>38.388367</td>\n",
       "      <td>0.000840</td>\n",
       "      <td>0.001122</td>\n",
       "      <td>0</td>\n",
       "      <td>0</td>\n",
       "      <td>0</td>\n",
       "      <td>0</td>\n",
       "      <td>0</td>\n",
       "      <td>1.781065</td>\n",
       "    </tr>\n",
       "    <tr>\n",
       "      <th>182074</th>\n",
       "      <td>0.00021</td>\n",
       "      <td>4.286154e-05</td>\n",
       "      <td>0.000023</td>\n",
       "      <td>0.000111</td>\n",
       "      <td>1</td>\n",
       "      <td>1</td>\n",
       "      <td>161</td>\n",
       "      <td>54</td>\n",
       "      <td>161</td>\n",
       "      <td>54</td>\n",
       "      <td>...</td>\n",
       "      <td>107.5</td>\n",
       "      <td>75.660423</td>\n",
       "      <td>0.000111</td>\n",
       "      <td>0.000000</td>\n",
       "      <td>0</td>\n",
       "      <td>0</td>\n",
       "      <td>0</td>\n",
       "      <td>0</td>\n",
       "      <td>0</td>\n",
       "      <td>0.335404</td>\n",
       "    </tr>\n",
       "    <tr>\n",
       "      <th>314247</th>\n",
       "      <td>0.00021</td>\n",
       "      <td>3.037190e-04</td>\n",
       "      <td>0.000023</td>\n",
       "      <td>1.976254</td>\n",
       "      <td>2</td>\n",
       "      <td>2</td>\n",
       "      <td>176</td>\n",
       "      <td>934</td>\n",
       "      <td>88</td>\n",
       "      <td>467</td>\n",
       "      <td>...</td>\n",
       "      <td>277.5</td>\n",
       "      <td>218.815750</td>\n",
       "      <td>0.945076</td>\n",
       "      <td>0.990426</td>\n",
       "      <td>0</td>\n",
       "      <td>0</td>\n",
       "      <td>0</td>\n",
       "      <td>0</td>\n",
       "      <td>0</td>\n",
       "      <td>5.306818</td>\n",
       "    </tr>\n",
       "    <tr>\n",
       "      <th>...</th>\n",
       "      <td>...</td>\n",
       "      <td>...</td>\n",
       "      <td>...</td>\n",
       "      <td>...</td>\n",
       "      <td>...</td>\n",
       "      <td>...</td>\n",
       "      <td>...</td>\n",
       "      <td>...</td>\n",
       "      <td>...</td>\n",
       "      <td>...</td>\n",
       "      <td>...</td>\n",
       "      <td>...</td>\n",
       "      <td>...</td>\n",
       "      <td>...</td>\n",
       "      <td>...</td>\n",
       "      <td>...</td>\n",
       "      <td>...</td>\n",
       "      <td>...</td>\n",
       "      <td>...</td>\n",
       "      <td>...</td>\n",
       "      <td>...</td>\n",
       "    </tr>\n",
       "    <tr>\n",
       "      <th>260878</th>\n",
       "      <td>0.00021</td>\n",
       "      <td>7.902285e-07</td>\n",
       "      <td>0.000023</td>\n",
       "      <td>0.000472</td>\n",
       "      <td>1</td>\n",
       "      <td>1</td>\n",
       "      <td>72</td>\n",
       "      <td>347</td>\n",
       "      <td>72</td>\n",
       "      <td>347</td>\n",
       "      <td>...</td>\n",
       "      <td>209.5</td>\n",
       "      <td>194.454361</td>\n",
       "      <td>0.000472</td>\n",
       "      <td>0.000000</td>\n",
       "      <td>0</td>\n",
       "      <td>0</td>\n",
       "      <td>0</td>\n",
       "      <td>0</td>\n",
       "      <td>0</td>\n",
       "      <td>4.819445</td>\n",
       "    </tr>\n",
       "    <tr>\n",
       "      <th>368261</th>\n",
       "      <td>0.00021</td>\n",
       "      <td>7.633848e-04</td>\n",
       "      <td>0.000023</td>\n",
       "      <td>0.000242</td>\n",
       "      <td>1</td>\n",
       "      <td>1</td>\n",
       "      <td>81</td>\n",
       "      <td>149</td>\n",
       "      <td>81</td>\n",
       "      <td>149</td>\n",
       "      <td>...</td>\n",
       "      <td>115.0</td>\n",
       "      <td>48.083260</td>\n",
       "      <td>0.000242</td>\n",
       "      <td>0.000000</td>\n",
       "      <td>0</td>\n",
       "      <td>0</td>\n",
       "      <td>0</td>\n",
       "      <td>0</td>\n",
       "      <td>0</td>\n",
       "      <td>1.839506</td>\n",
       "    </tr>\n",
       "    <tr>\n",
       "      <th>132675</th>\n",
       "      <td>0.00021</td>\n",
       "      <td>2.147608e-06</td>\n",
       "      <td>0.000023</td>\n",
       "      <td>0.000240</td>\n",
       "      <td>1</td>\n",
       "      <td>1</td>\n",
       "      <td>85</td>\n",
       "      <td>136</td>\n",
       "      <td>85</td>\n",
       "      <td>136</td>\n",
       "      <td>...</td>\n",
       "      <td>110.5</td>\n",
       "      <td>36.062447</td>\n",
       "      <td>0.000240</td>\n",
       "      <td>0.000000</td>\n",
       "      <td>0</td>\n",
       "      <td>0</td>\n",
       "      <td>0</td>\n",
       "      <td>0</td>\n",
       "      <td>0</td>\n",
       "      <td>1.600000</td>\n",
       "    </tr>\n",
       "    <tr>\n",
       "      <th>147732</th>\n",
       "      <td>0.00021</td>\n",
       "      <td>0.000000e+00</td>\n",
       "      <td>0.000023</td>\n",
       "      <td>61.150707</td>\n",
       "      <td>10</td>\n",
       "      <td>0</td>\n",
       "      <td>808</td>\n",
       "      <td>0</td>\n",
       "      <td>71</td>\n",
       "      <td>0</td>\n",
       "      <td>...</td>\n",
       "      <td>80.8</td>\n",
       "      <td>5.159673</td>\n",
       "      <td>6.794523</td>\n",
       "      <td>5.594150</td>\n",
       "      <td>0</td>\n",
       "      <td>0</td>\n",
       "      <td>0</td>\n",
       "      <td>0</td>\n",
       "      <td>0</td>\n",
       "      <td>0.000000</td>\n",
       "    </tr>\n",
       "    <tr>\n",
       "      <th>122608</th>\n",
       "      <td>0.00021</td>\n",
       "      <td>3.037190e-04</td>\n",
       "      <td>0.000023</td>\n",
       "      <td>0.000146</td>\n",
       "      <td>1</td>\n",
       "      <td>1</td>\n",
       "      <td>166</td>\n",
       "      <td>54</td>\n",
       "      <td>166</td>\n",
       "      <td>54</td>\n",
       "      <td>...</td>\n",
       "      <td>110.0</td>\n",
       "      <td>79.195961</td>\n",
       "      <td>0.000146</td>\n",
       "      <td>0.000000</td>\n",
       "      <td>0</td>\n",
       "      <td>0</td>\n",
       "      <td>0</td>\n",
       "      <td>0</td>\n",
       "      <td>0</td>\n",
       "      <td>0.325301</td>\n",
       "    </tr>\n",
       "  </tbody>\n",
       "</table>\n",
       "<p>338222 rows × 44 columns</p>\n",
       "</div>"
      ],
      "text/plain": [
       "          proto        srcPrt    dstPrt  flowduration  total_fpackets  \\\n",
       "406917  0.00021  1.069572e-07  0.000023      2.351661               1   \n",
       "338618  0.00021  0.000000e+00  0.000023      0.649577               1   \n",
       "240805  0.00021  1.151851e-04  0.000023      0.002353               2   \n",
       "182074  0.00021  4.286154e-05  0.000023      0.000111               1   \n",
       "314247  0.00021  3.037190e-04  0.000023      1.976254               2   \n",
       "...         ...           ...       ...           ...             ...   \n",
       "260878  0.00021  7.902285e-07  0.000023      0.000472               1   \n",
       "368261  0.00021  7.633848e-04  0.000023      0.000242               1   \n",
       "132675  0.00021  2.147608e-06  0.000023      0.000240               1   \n",
       "147732  0.00021  0.000000e+00  0.000023     61.150707              10   \n",
       "122608  0.00021  3.037190e-04  0.000023      0.000146               1   \n",
       "\n",
       "        total_bpackets  total_fpktl  total_bpktl  min_fpktl  min_bpktl  ...  \\\n",
       "406917               1           74          303         74        303  ...   \n",
       "338618               1           82          227         82        227  ...   \n",
       "240805               2          169          301         79        149  ...   \n",
       "182074               1          161           54        161         54  ...   \n",
       "314247               2          176          934         88        467  ...   \n",
       "...                ...          ...          ...        ...        ...  ...   \n",
       "260878               1           72          347         72        347  ...   \n",
       "368261               1           81          149         81        149  ...   \n",
       "132675               1           85          136         85        136  ...   \n",
       "147732               0          808            0         71          0  ...   \n",
       "122608               1          166           54        166         54  ...   \n",
       "\n",
       "        mean_flowpktl  std_flowpktl  mean_flowipt  std_flowipt  flow_fin  \\\n",
       "406917          188.5    161.927460      2.351661     0.000000         0   \n",
       "338618          154.5    102.530487      0.649577     0.000000         0   \n",
       "240805          117.5     38.388367      0.000840     0.001122         0   \n",
       "182074          107.5     75.660423      0.000111     0.000000         0   \n",
       "314247          277.5    218.815750      0.945076     0.990426         0   \n",
       "...               ...           ...           ...          ...       ...   \n",
       "260878          209.5    194.454361      0.000472     0.000000         0   \n",
       "368261          115.0     48.083260      0.000242     0.000000         0   \n",
       "132675          110.5     36.062447      0.000240     0.000000         0   \n",
       "147732           80.8      5.159673      6.794523     5.594150         0   \n",
       "122608          110.0     79.195961      0.000146     0.000000         0   \n",
       "\n",
       "        flow_syn  flow_rst  flow_ack  flow_cwr  downUpRatio  \n",
       "406917         0         0         0         0     4.094594  \n",
       "338618         0         0         0         0     2.768293  \n",
       "240805         0         0         0         0     1.781065  \n",
       "182074         0         0         0         0     0.335404  \n",
       "314247         0         0         0         0     5.306818  \n",
       "...          ...       ...       ...       ...          ...  \n",
       "260878         0         0         0         0     4.819445  \n",
       "368261         0         0         0         0     1.839506  \n",
       "132675         0         0         0         0     1.600000  \n",
       "147732         0         0         0         0     0.000000  \n",
       "122608         0         0         0         0     0.325301  \n",
       "\n",
       "[338222 rows x 44 columns]"
      ]
     },
     "execution_count": 22,
     "metadata": {},
     "output_type": "execute_result"
    }
   ],
   "source": [
    "#show the coded features\n",
    "training_numeric_dataset"
   ]
  },
  {
   "cell_type": "code",
   "execution_count": 23,
   "metadata": {},
   "outputs": [
    {
     "data": {
      "text/html": [
       "<div>\n",
       "<style scoped>\n",
       "    .dataframe tbody tr th:only-of-type {\n",
       "        vertical-align: middle;\n",
       "    }\n",
       "\n",
       "    .dataframe tbody tr th {\n",
       "        vertical-align: top;\n",
       "    }\n",
       "\n",
       "    .dataframe thead th {\n",
       "        text-align: right;\n",
       "    }\n",
       "</style>\n",
       "<table border=\"1\" class=\"dataframe\">\n",
       "  <thead>\n",
       "    <tr style=\"text-align: right;\">\n",
       "      <th></th>\n",
       "      <th>proto</th>\n",
       "      <th>srcPrt</th>\n",
       "      <th>dstPrt</th>\n",
       "      <th>flowduration</th>\n",
       "      <th>total_fpackets</th>\n",
       "      <th>total_bpackets</th>\n",
       "      <th>total_fpktl</th>\n",
       "      <th>total_bpktl</th>\n",
       "      <th>min_fpktl</th>\n",
       "      <th>min_bpktl</th>\n",
       "      <th>...</th>\n",
       "      <th>mean_flowpktl</th>\n",
       "      <th>std_flowpktl</th>\n",
       "      <th>mean_flowipt</th>\n",
       "      <th>std_flowipt</th>\n",
       "      <th>flow_fin</th>\n",
       "      <th>flow_syn</th>\n",
       "      <th>flow_rst</th>\n",
       "      <th>flow_ack</th>\n",
       "      <th>flow_cwr</th>\n",
       "      <th>downUpRatio</th>\n",
       "    </tr>\n",
       "  </thead>\n",
       "  <tbody>\n",
       "    <tr>\n",
       "      <th>225200</th>\n",
       "      <td>0.000210</td>\n",
       "      <td>2.907315e-07</td>\n",
       "      <td>0.000023</td>\n",
       "      <td>0.000227</td>\n",
       "      <td>1</td>\n",
       "      <td>1</td>\n",
       "      <td>80</td>\n",
       "      <td>131</td>\n",
       "      <td>80</td>\n",
       "      <td>131</td>\n",
       "      <td>...</td>\n",
       "      <td>105.500000</td>\n",
       "      <td>36.062447</td>\n",
       "      <td>0.000227</td>\n",
       "      <td>0.000000</td>\n",
       "      <td>0</td>\n",
       "      <td>0</td>\n",
       "      <td>0</td>\n",
       "      <td>0</td>\n",
       "      <td>0</td>\n",
       "      <td>1.637500</td>\n",
       "    </tr>\n",
       "    <tr>\n",
       "      <th>337858</th>\n",
       "      <td>0.000210</td>\n",
       "      <td>2.907315e-07</td>\n",
       "      <td>0.000023</td>\n",
       "      <td>0.000236</td>\n",
       "      <td>1</td>\n",
       "      <td>1</td>\n",
       "      <td>74</td>\n",
       "      <td>138</td>\n",
       "      <td>74</td>\n",
       "      <td>138</td>\n",
       "      <td>...</td>\n",
       "      <td>106.000000</td>\n",
       "      <td>45.254833</td>\n",
       "      <td>0.000236</td>\n",
       "      <td>0.000000</td>\n",
       "      <td>0</td>\n",
       "      <td>0</td>\n",
       "      <td>0</td>\n",
       "      <td>0</td>\n",
       "      <td>0</td>\n",
       "      <td>1.864865</td>\n",
       "    </tr>\n",
       "    <tr>\n",
       "      <th>404282</th>\n",
       "      <td>0.000210</td>\n",
       "      <td>1.151851e-04</td>\n",
       "      <td>0.000023</td>\n",
       "      <td>19.993312</td>\n",
       "      <td>1</td>\n",
       "      <td>1</td>\n",
       "      <td>74</td>\n",
       "      <td>74</td>\n",
       "      <td>74</td>\n",
       "      <td>74</td>\n",
       "      <td>...</td>\n",
       "      <td>74.000000</td>\n",
       "      <td>0.000000</td>\n",
       "      <td>19.993313</td>\n",
       "      <td>0.000000</td>\n",
       "      <td>0</td>\n",
       "      <td>0</td>\n",
       "      <td>0</td>\n",
       "      <td>0</td>\n",
       "      <td>0</td>\n",
       "      <td>1.000000</td>\n",
       "    </tr>\n",
       "    <tr>\n",
       "      <th>65570</th>\n",
       "      <td>0.000210</td>\n",
       "      <td>1.151851e-04</td>\n",
       "      <td>0.000023</td>\n",
       "      <td>0.000343</td>\n",
       "      <td>1</td>\n",
       "      <td>1</td>\n",
       "      <td>77</td>\n",
       "      <td>77</td>\n",
       "      <td>77</td>\n",
       "      <td>77</td>\n",
       "      <td>...</td>\n",
       "      <td>77.000000</td>\n",
       "      <td>0.000000</td>\n",
       "      <td>0.000343</td>\n",
       "      <td>0.000000</td>\n",
       "      <td>0</td>\n",
       "      <td>0</td>\n",
       "      <td>0</td>\n",
       "      <td>0</td>\n",
       "      <td>0</td>\n",
       "      <td>1.000000</td>\n",
       "    </tr>\n",
       "    <tr>\n",
       "      <th>69846</th>\n",
       "      <td>0.000210</td>\n",
       "      <td>0.000000e+00</td>\n",
       "      <td>0.000023</td>\n",
       "      <td>2.860653</td>\n",
       "      <td>12</td>\n",
       "      <td>12</td>\n",
       "      <td>1116</td>\n",
       "      <td>1116</td>\n",
       "      <td>93</td>\n",
       "      <td>93</td>\n",
       "      <td>...</td>\n",
       "      <td>93.000000</td>\n",
       "      <td>0.000000</td>\n",
       "      <td>0.154731</td>\n",
       "      <td>0.104448</td>\n",
       "      <td>0</td>\n",
       "      <td>0</td>\n",
       "      <td>0</td>\n",
       "      <td>0</td>\n",
       "      <td>0</td>\n",
       "      <td>1.000000</td>\n",
       "    </tr>\n",
       "    <tr>\n",
       "      <th>...</th>\n",
       "      <td>...</td>\n",
       "      <td>...</td>\n",
       "      <td>...</td>\n",
       "      <td>...</td>\n",
       "      <td>...</td>\n",
       "      <td>...</td>\n",
       "      <td>...</td>\n",
       "      <td>...</td>\n",
       "      <td>...</td>\n",
       "      <td>...</td>\n",
       "      <td>...</td>\n",
       "      <td>...</td>\n",
       "      <td>...</td>\n",
       "      <td>...</td>\n",
       "      <td>...</td>\n",
       "      <td>...</td>\n",
       "      <td>...</td>\n",
       "      <td>...</td>\n",
       "      <td>...</td>\n",
       "      <td>...</td>\n",
       "      <td>...</td>\n",
       "    </tr>\n",
       "    <tr>\n",
       "      <th>269777</th>\n",
       "      <td>0.000210</td>\n",
       "      <td>5.834443e-06</td>\n",
       "      <td>0.000023</td>\n",
       "      <td>0.711955</td>\n",
       "      <td>1</td>\n",
       "      <td>1</td>\n",
       "      <td>78</td>\n",
       "      <td>183</td>\n",
       "      <td>78</td>\n",
       "      <td>183</td>\n",
       "      <td>...</td>\n",
       "      <td>130.500000</td>\n",
       "      <td>74.246216</td>\n",
       "      <td>0.711955</td>\n",
       "      <td>0.000000</td>\n",
       "      <td>0</td>\n",
       "      <td>0</td>\n",
       "      <td>0</td>\n",
       "      <td>0</td>\n",
       "      <td>0</td>\n",
       "      <td>2.346154</td>\n",
       "    </tr>\n",
       "    <tr>\n",
       "      <th>15294</th>\n",
       "      <td>0.055365</td>\n",
       "      <td>3.037190e-04</td>\n",
       "      <td>0.045616</td>\n",
       "      <td>1.405245</td>\n",
       "      <td>4</td>\n",
       "      <td>3</td>\n",
       "      <td>506</td>\n",
       "      <td>602</td>\n",
       "      <td>60</td>\n",
       "      <td>54</td>\n",
       "      <td>...</td>\n",
       "      <td>158.285714</td>\n",
       "      <td>174.926376</td>\n",
       "      <td>0.249384</td>\n",
       "      <td>0.355009</td>\n",
       "      <td>0</td>\n",
       "      <td>2</td>\n",
       "      <td>1</td>\n",
       "      <td>6</td>\n",
       "      <td>0</td>\n",
       "      <td>1.189723</td>\n",
       "    </tr>\n",
       "    <tr>\n",
       "      <th>13885</th>\n",
       "      <td>0.055365</td>\n",
       "      <td>7.633848e-04</td>\n",
       "      <td>0.045616</td>\n",
       "      <td>4.520789</td>\n",
       "      <td>17</td>\n",
       "      <td>19</td>\n",
       "      <td>1772</td>\n",
       "      <td>21016</td>\n",
       "      <td>66</td>\n",
       "      <td>66</td>\n",
       "      <td>...</td>\n",
       "      <td>633.000000</td>\n",
       "      <td>658.590454</td>\n",
       "      <td>0.129182</td>\n",
       "      <td>0.262038</td>\n",
       "      <td>2</td>\n",
       "      <td>2</td>\n",
       "      <td>0</td>\n",
       "      <td>35</td>\n",
       "      <td>0</td>\n",
       "      <td>11.860045</td>\n",
       "    </tr>\n",
       "    <tr>\n",
       "      <th>318886</th>\n",
       "      <td>0.000210</td>\n",
       "      <td>1.447529e-08</td>\n",
       "      <td>0.000023</td>\n",
       "      <td>6.740578</td>\n",
       "      <td>1</td>\n",
       "      <td>1</td>\n",
       "      <td>69</td>\n",
       "      <td>142</td>\n",
       "      <td>69</td>\n",
       "      <td>142</td>\n",
       "      <td>...</td>\n",
       "      <td>105.500000</td>\n",
       "      <td>51.618793</td>\n",
       "      <td>6.740578</td>\n",
       "      <td>0.000000</td>\n",
       "      <td>0</td>\n",
       "      <td>0</td>\n",
       "      <td>0</td>\n",
       "      <td>0</td>\n",
       "      <td>0</td>\n",
       "      <td>2.057971</td>\n",
       "    </tr>\n",
       "    <tr>\n",
       "      <th>152666</th>\n",
       "      <td>0.000210</td>\n",
       "      <td>0.000000e+00</td>\n",
       "      <td>0.000023</td>\n",
       "      <td>0.797708</td>\n",
       "      <td>1</td>\n",
       "      <td>1</td>\n",
       "      <td>97</td>\n",
       "      <td>118</td>\n",
       "      <td>97</td>\n",
       "      <td>118</td>\n",
       "      <td>...</td>\n",
       "      <td>107.500000</td>\n",
       "      <td>14.849242</td>\n",
       "      <td>0.797708</td>\n",
       "      <td>0.000000</td>\n",
       "      <td>0</td>\n",
       "      <td>0</td>\n",
       "      <td>0</td>\n",
       "      <td>0</td>\n",
       "      <td>0</td>\n",
       "      <td>1.216495</td>\n",
       "    </tr>\n",
       "  </tbody>\n",
       "</table>\n",
       "<p>84556 rows × 44 columns</p>\n",
       "</div>"
      ],
      "text/plain": [
       "           proto        srcPrt    dstPrt  flowduration  total_fpackets  \\\n",
       "225200  0.000210  2.907315e-07  0.000023      0.000227               1   \n",
       "337858  0.000210  2.907315e-07  0.000023      0.000236               1   \n",
       "404282  0.000210  1.151851e-04  0.000023     19.993312               1   \n",
       "65570   0.000210  1.151851e-04  0.000023      0.000343               1   \n",
       "69846   0.000210  0.000000e+00  0.000023      2.860653              12   \n",
       "...          ...           ...       ...           ...             ...   \n",
       "269777  0.000210  5.834443e-06  0.000023      0.711955               1   \n",
       "15294   0.055365  3.037190e-04  0.045616      1.405245               4   \n",
       "13885   0.055365  7.633848e-04  0.045616      4.520789              17   \n",
       "318886  0.000210  1.447529e-08  0.000023      6.740578               1   \n",
       "152666  0.000210  0.000000e+00  0.000023      0.797708               1   \n",
       "\n",
       "        total_bpackets  total_fpktl  total_bpktl  min_fpktl  min_bpktl  ...  \\\n",
       "225200               1           80          131         80        131  ...   \n",
       "337858               1           74          138         74        138  ...   \n",
       "404282               1           74           74         74         74  ...   \n",
       "65570                1           77           77         77         77  ...   \n",
       "69846               12         1116         1116         93         93  ...   \n",
       "...                ...          ...          ...        ...        ...  ...   \n",
       "269777               1           78          183         78        183  ...   \n",
       "15294                3          506          602         60         54  ...   \n",
       "13885               19         1772        21016         66         66  ...   \n",
       "318886               1           69          142         69        142  ...   \n",
       "152666               1           97          118         97        118  ...   \n",
       "\n",
       "        mean_flowpktl  std_flowpktl  mean_flowipt  std_flowipt  flow_fin  \\\n",
       "225200     105.500000     36.062447      0.000227     0.000000         0   \n",
       "337858     106.000000     45.254833      0.000236     0.000000         0   \n",
       "404282      74.000000      0.000000     19.993313     0.000000         0   \n",
       "65570       77.000000      0.000000      0.000343     0.000000         0   \n",
       "69846       93.000000      0.000000      0.154731     0.104448         0   \n",
       "...               ...           ...           ...          ...       ...   \n",
       "269777     130.500000     74.246216      0.711955     0.000000         0   \n",
       "15294      158.285714    174.926376      0.249384     0.355009         0   \n",
       "13885      633.000000    658.590454      0.129182     0.262038         2   \n",
       "318886     105.500000     51.618793      6.740578     0.000000         0   \n",
       "152666     107.500000     14.849242      0.797708     0.000000         0   \n",
       "\n",
       "        flow_syn  flow_rst  flow_ack  flow_cwr  downUpRatio  \n",
       "225200         0         0         0         0     1.637500  \n",
       "337858         0         0         0         0     1.864865  \n",
       "404282         0         0         0         0     1.000000  \n",
       "65570          0         0         0         0     1.000000  \n",
       "69846          0         0         0         0     1.000000  \n",
       "...          ...       ...       ...       ...          ...  \n",
       "269777         0         0         0         0     2.346154  \n",
       "15294          2         1         6         0     1.189723  \n",
       "13885          2         0        35         0    11.860045  \n",
       "318886         0         0         0         0     2.057971  \n",
       "152666         0         0         0         0     1.216495  \n",
       "\n",
       "[84556 rows x 44 columns]"
      ]
     },
     "execution_count": 23,
     "metadata": {},
     "output_type": "execute_result"
    }
   ],
   "source": [
    "#show the coded features\n",
    "testing_numeric_dataset"
   ]
  },
  {
   "cell_type": "markdown",
   "metadata": {},
   "source": [
    "# Standardization and scaling of numerical variables"
   ]
  },
  {
   "cell_type": "code",
   "execution_count": 24,
   "metadata": {},
   "outputs": [],
   "source": [
    "# import libraries\n",
    "from sklearn.preprocessing import StandardScaler\n",
    "from sklearn.compose import ColumnTransformer\n",
    "\n",
    "numeric_cols = training_numeric_dataset.select_dtypes(include=['float64', 'int']).columns.to_list()\n",
    "preprocessor = ColumnTransformer([('scale', StandardScaler(), numeric_cols)], remainder='passthrough')"
   ]
  },
  {
   "cell_type": "code",
   "execution_count": 25,
   "metadata": {},
   "outputs": [],
   "source": [
    "X_train_prep = preprocessor.fit_transform(training_numeric_dataset)\n",
    "X_test_prep  = preprocessor.transform(testing_numeric_dataset)\n",
    "#The result returned by ColumnTransformer is a numpy array, so the column names are lost."
   ]
  },
  {
   "cell_type": "code",
   "execution_count": 26,
   "metadata": {},
   "outputs": [
    {
     "data": {
      "text/plain": [
       "((338222, 44), (84556, 44))"
      ]
     },
     "execution_count": 26,
     "metadata": {},
     "output_type": "execute_result"
    }
   ],
   "source": [
    "#Dimensions of training and testing datasets\n",
    "X_train_prep.shape, X_test_prep.shape"
   ]
  },
  {
   "cell_type": "markdown",
   "metadata": {},
   "source": [
    "# Feature selection\n",
    "Exclusion of variables with variance close to zero"
   ]
  },
  {
   "cell_type": "code",
   "execution_count": 27,
   "metadata": {},
   "outputs": [],
   "source": [
    "#join the prepared traing and test datasets in a single array X and y\n",
    "X = np.vstack((X_train_prep, X_test_prep))\n",
    "y = np.hstack((y_train, y_test))"
   ]
  },
  {
   "cell_type": "code",
   "execution_count": 28,
   "metadata": {},
   "outputs": [
    {
     "data": {
      "text/plain": [
       "Counter({0: 420074, 1: 2704})"
      ]
     },
     "execution_count": 28,
     "metadata": {},
     "output_type": "execute_result"
    }
   ],
   "source": [
    "collections.Counter(y)"
   ]
  },
  {
   "cell_type": "code",
   "execution_count": 29,
   "metadata": {},
   "outputs": [
    {
     "name": "stdout",
     "output_type": "stream",
     "text": [
      ">Threshold=0.00, Features=44\n",
      ">Threshold=0.05, Features=43\n",
      ">Threshold=0.10, Features=42\n",
      ">Threshold=0.15, Features=42\n",
      ">Threshold=0.20, Features=42\n",
      ">Threshold=0.25, Features=42\n",
      ">Threshold=0.30, Features=42\n",
      ">Threshold=0.35, Features=42\n",
      ">Threshold=0.40, Features=41\n",
      ">Threshold=0.45, Features=41\n",
      ">Threshold=0.50, Features=41\n",
      ">Threshold=0.55, Features=40\n",
      ">Threshold=0.60, Features=40\n",
      ">Threshold=0.65, Features=40\n"
     ]
    },
    {
     "data": {
      "image/png": "[encoded data removed]",
      "text/plain": [
       "<Figure size 432x288 with 1 Axes>"
      ]
     },
     "metadata": {
      "needs_background": "light"
     },
     "output_type": "display_data"
    }
   ],
   "source": [
    "#the VarianceThreshold class from sklearn support a type of feature selection\n",
    "from sklearn.feature_selection import VarianceThreshold\n",
    "from numpy import arange\n",
    "#split data into inputs\n",
    "#data=df_float.values\n",
    "#X=data[:,:]\n",
    "#define thresholds to check\n",
    "thresholds = arange(0.0,0.7,0.05)\n",
    "#apply transform with each treshold\n",
    "results=list()\n",
    "for t in thresholds:\n",
    "    #define the transform\n",
    "    transform = VarianceThreshold(threshold=t)\n",
    "    #transform the input data\n",
    "    X_sel=transform.fit_transform(X)\n",
    "    #determine the number of input features\n",
    "    n_features=X_sel.shape[1]\n",
    "    print('>Threshold=%.2f, Features=%d' %(t,n_features))\n",
    "    #store the result\n",
    "    results.append(n_features)\n",
    "#plot the theshold vs the number of selected features\n",
    "plt.plot(thresholds,results)\n",
    "plt.show()"
   ]
  },
  {
   "cell_type": "code",
   "execution_count": 30,
   "metadata": {},
   "outputs": [
    {
     "name": "stdout",
     "output_type": "stream",
     "text": [
      "(422778, 40)\n"
     ]
    }
   ],
   "source": [
    "#new set of selected features\n",
    "X=X_sel\n",
    "print(X.shape)"
   ]
  },
  {
   "cell_type": "markdown",
   "metadata": {},
   "source": [
    "# Create Machine Learning Models"
   ]
  },
  {
   "cell_type": "markdown",
   "metadata": {},
   "source": [
    "### a) Grid search with Logistic Regression (GS-LR)"
   ]
  },
  {
   "cell_type": "code",
   "execution_count": 31,
   "metadata": {},
   "outputs": [
    {
     "name": "stdout",
     "output_type": "stream",
     "text": [
      "Best: 0.997819 using {'class_weight': {0: 0.001, 1: 1.0}}\n",
      "0.997819 (0.002107) with: {'class_weight': {0: 0.001, 1: 1.0}}\n",
      "0.997288 (0.002282) with: {'class_weight': {0: 0.01, 1: 1.0}}\n",
      "0.993947 (0.008997) with: {'class_weight': {0: 0.1, 1: 1}}\n",
      "0.996945 (0.002577) with: {'class_weight': {0: 1, 1: 100}}\n",
      "0.997557 (0.002307) with: {'class_weight': {0: 1, 1: 200}}\n"
     ]
    },
    {
     "name": "stderr",
     "output_type": "stream",
     "text": [
      "C:\\Users\\pvelarde\\anaconda3\\lib\\site-packages\\sklearn\\linear_model\\_logistic.py:763: ConvergenceWarning: lbfgs failed to converge (status=1):\n",
      "STOP: TOTAL NO. of ITERATIONS REACHED LIMIT.\n",
      "\n",
      "Increase the number of iterations (max_iter) or scale the data as shown in:\n",
      "    https://scikit-learn.org/stable/modules/preprocessing.html\n",
      "Please also refer to the documentation for alternative solver options:\n",
      "    https://scikit-learn.org/stable/modules/linear_model.html#logistic-regression\n",
      "  n_iter_i = _check_optimize_result(\n"
     ]
    }
   ],
   "source": [
    "# grid search class weights with logistic regression for imbalanced classification\n",
    "\n",
    "model = LogisticRegression(solver='lbfgs',max_iter=1000)\n",
    "# define grid\n",
    "balance = [{0:0.001,1:1.0},{0:0.01,1:1.0}, {0:0.1,1:1}, {0:1,1:100},{0:1,1:200}]\n",
    "param_grid = dict(class_weight=balance)\n",
    "# define evaluation procedure\n",
    "cv = RepeatedStratifiedKFold(n_splits=10, n_repeats=3, random_state=1)\n",
    "# define grid search\n",
    "grid = GridSearchCV(estimator=model, param_grid=param_grid, n_jobs=-1, cv=cv,\n",
    "scoring='roc_auc')\n",
    "# execute the grid search\n",
    "grid_result = grid.fit(X, y)\n",
    "# report the best configuration\n",
    "print('Best: %f using %s' % (grid_result.best_score_, grid_result.best_params_))\n",
    "# report all configurations\n",
    "means = grid_result.cv_results_['mean_test_score']\n",
    "stds = grid_result.cv_results_['std_test_score']\n",
    "params = grid_result.cv_results_['params']\n",
    "for mean, stdev, param in zip(means, stds, params):\n",
    "    print('%f (%f) with: %r' % (mean, stdev, param))"
   ]
  },
  {
   "cell_type": "code",
   "execution_count": 31,
   "metadata": {},
   "outputs": [],
   "source": [
    "## split into train test sets\n",
    "X_train,X_test,y_train,y_test = train_test_split(X, y, test_size=0.2, random_state=42)"
   ]
  },
  {
   "cell_type": "code",
   "execution_count": 32,
   "metadata": {},
   "outputs": [
    {
     "name": "stderr",
     "output_type": "stream",
     "text": [
      "C:\\Users\\pvelarde\\anaconda3\\lib\\site-packages\\sklearn\\linear_model\\_logistic.py:763: ConvergenceWarning: lbfgs failed to converge (status=1):\n",
      "STOP: TOTAL NO. of ITERATIONS REACHED LIMIT.\n",
      "\n",
      "Increase the number of iterations (max_iter) or scale the data as shown in:\n",
      "    https://scikit-learn.org/stable/modules/preprocessing.html\n",
      "Please also refer to the documentation for alternative solver options:\n",
      "    https://scikit-learn.org/stable/modules/linear_model.html#logistic-regression\n",
      "  n_iter_i = _check_optimize_result(\n"
     ]
    }
   ],
   "source": [
    "#Using the obtained weights for training the model GS-LR\n",
    "weights = {0: 0.01, 1: 1.0}\n",
    "model = LogisticRegression(solver='lbfgs', class_weight=weights,max_iter=2000)\n",
    "model.fit(X_train, y_train)\n",
    "y_pred=model.predict(X_test)"
   ]
  },
  {
   "cell_type": "code",
   "execution_count": 33,
   "metadata": {},
   "outputs": [
    {
     "name": "stdout",
     "output_type": "stream",
     "text": [
      "ROCAUC score: 0.9897449555250548\n",
      "Accuracy score: 0.9955414163394674\n",
      "F1 score: 0.744406779661017\n",
      "Recall score: 0.9838709677419355\n",
      "Precision score: 0.5986913849509269\n",
      "              precision    recall  f1-score   support\n",
      "\n",
      "     class 0       1.00      1.00      1.00     83998\n",
      "     class 1       0.60      0.98      0.74       558\n",
      "\n",
      "    accuracy                           1.00     84556\n",
      "   macro avg       0.80      0.99      0.87     84556\n",
      "weighted avg       1.00      1.00      1.00     84556\n",
      "\n"
     ]
    },
    {
     "data": {
      "image/png": "[encoded data removed]",
      "text/plain": [
       "<Figure size 432x288 with 2 Axes>"
      ]
     },
     "metadata": {
      "needs_background": "light"
     },
     "output_type": "display_data"
    }
   ],
   "source": [
    "print('ROCAUC score:',roc_auc_score(y_test, y_pred))\n",
    "print('Accuracy score:',accuracy_score(y_test, y_pred))\n",
    "print('F1 score:',f1_score(y_test, y_pred))\n",
    "print('Recall score:',recall_score(y_test, y_pred))\n",
    "print('Precision score:',precision_score(y_test, y_pred))\n",
    "print(classification_report(y_test, y_pred, target_names=target_names))\n",
    "plot_confusion_matrix(model, X_test, y_test, display_labels=target_names,cmap=plt.cm.Blues);"
   ]
  },
  {
   "cell_type": "markdown",
   "metadata": {},
   "source": [
    " ### b) Logistic Regression with Synthetic minority over-sampleing technique (LR+SMOTE)"
   ]
  },
  {
   "cell_type": "code",
   "execution_count": 42,
   "metadata": {},
   "outputs": [
    {
     "name": "stdout",
     "output_type": "stream",
     "text": [
      "Origianl dataset shape: Counter({0: 420074, 1: 2704})\n",
      "Resample dataset shape: Counter({0: 420074, 1: 420074})\n"
     ]
    }
   ],
   "source": [
    "# load library\n",
    "from imblearn.over_sampling import SMOTE\n",
    "\n",
    "smote = SMOTE()\n",
    "\n",
    "# fit target and predictor variable\n",
    "X_smote , y_smote = smote.fit_resample(X, y)\n",
    "\n",
    "print('Origianl dataset shape:', Counter(y))\n",
    "print('Resample dataset shape:', Counter(y_smote))"
   ]
  },
  {
   "cell_type": "code",
   "execution_count": 43,
   "metadata": {},
   "outputs": [],
   "source": [
    "X_train2, X_test2, y_train2, y_test2 = train_test_split(X_smote, y_smote, test_size =0.20, random_state=42)"
   ]
  },
  {
   "cell_type": "code",
   "execution_count": 44,
   "metadata": {},
   "outputs": [
    {
     "name": "stderr",
     "output_type": "stream",
     "text": [
      "C:\\Users\\pvelarde\\anaconda3\\lib\\site-packages\\sklearn\\linear_model\\_logistic.py:763: ConvergenceWarning: lbfgs failed to converge (status=2):\n",
      "ABNORMAL_TERMINATION_IN_LNSRCH.\n",
      "\n",
      "Increase the number of iterations (max_iter) or scale the data as shown in:\n",
      "    https://scikit-learn.org/stable/modules/preprocessing.html\n",
      "Please also refer to the documentation for alternative solver options:\n",
      "    https://scikit-learn.org/stable/modules/linear_model.html#logistic-regression\n",
      "  n_iter_i = _check_optimize_result(\n"
     ]
    }
   ],
   "source": [
    "model2=LogisticRegression(solver='lbfgs',max_iter=2000)\n",
    "model2.fit(X_train2, y_train2)\n",
    "y_pred2=model2.predict(X_test2)"
   ]
  },
  {
   "cell_type": "code",
   "execution_count": 45,
   "metadata": {},
   "outputs": [
    {
     "name": "stdout",
     "output_type": "stream",
     "text": [
      "ROCAUC score: 0.9943801251819663\n",
      "Accuracy score: 0.9943819556031661\n",
      "F1 score: 0.994398556916358\n",
      "Recall score: 0.9952489547700494\n",
      "Precision score: 0.9935496110794916\n",
      "              precision    recall  f1-score   support\n",
      "\n",
      "     class 0       1.00      0.99      0.99     83838\n",
      "     class 1       0.99      1.00      0.99     84192\n",
      "\n",
      "    accuracy                           0.99    168030\n",
      "   macro avg       0.99      0.99      0.99    168030\n",
      "weighted avg       0.99      0.99      0.99    168030\n",
      "\n"
     ]
    },
    {
     "data": {
      "image/png": "[encoded data removed]",
      "text/plain": [
       "<Figure size 432x288 with 2 Axes>"
      ]
     },
     "metadata": {
      "needs_background": "light"
     },
     "output_type": "display_data"
    }
   ],
   "source": [
    "print('ROCAUC score:',roc_auc_score(y_test2, y_pred2))\n",
    "print('Accuracy score:',accuracy_score(y_test2, y_pred2))\n",
    "print('F1 score:',f1_score(y_test2, y_pred2))\n",
    "print('Recall score:',recall_score(y_test2, y_pred2))\n",
    "print('Precision score:',precision_score(y_test2, y_pred2))\n",
    "\n",
    "print(classification_report(y_test2, y_pred2, target_names=target_names))\n",
    "plot_confusion_matrix(model2, X_test2, y_test2, display_labels=target_names,cmap=plt.cm.Blues); "
   ]
  },
  {
   "cell_type": "markdown",
   "metadata": {},
   "source": [
    "### c) Weighted Support Vector Machine (W-SVM)"
   ]
  },
  {
   "cell_type": "code",
   "execution_count": 47,
   "metadata": {},
   "outputs": [],
   "source": [
    "#train a model using Penalized-SVM on the original imbalanced dataset:\n",
    "# we can add class_weight='balanced' to add panalize mistake\n",
    "model_SVM = SVC(class_weight='balanced', probability=True)\n",
    "model_SVM.fit(X_train, y_train)\n",
    "y_pred_SVM = model_SVM.predict(X_test)"
   ]
  },
  {
   "cell_type": "code",
   "execution_count": 48,
   "metadata": {},
   "outputs": [],
   "source": [
    "y_pred_SVM = model_SVM.predict(X_test)"
   ]
  },
  {
   "cell_type": "code",
   "execution_count": 49,
   "metadata": {},
   "outputs": [
    {
     "name": "stdout",
     "output_type": "stream",
     "text": [
      "ROCAUC score: 0.5984630458431294\n",
      "Accuracy score: 0.207531103647287\n",
      "F1 score: 0.01629525235620541\n",
      "Recall score: 0.9946236559139785\n",
      "Precision score: 0.008214920071047958\n",
      "              precision    recall  f1-score   support\n",
      "\n",
      "     class 0       1.00      0.20      0.34     83998\n",
      "     class 1       0.01      0.99      0.02       558\n",
      "\n",
      "    accuracy                           0.21     84556\n",
      "   macro avg       0.50      0.60      0.18     84556\n",
      "weighted avg       0.99      0.21      0.33     84556\n",
      "\n"
     ]
    },
    {
     "data": {
      "image/png": "[encoded data removed]",
      "text/plain": [
       "<Figure size 432x288 with 2 Axes>"
      ]
     },
     "metadata": {
      "needs_background": "light"
     },
     "output_type": "display_data"
    }
   ],
   "source": [
    "print('ROCAUC score:',roc_auc_score(y_test, y_pred_SVM))\n",
    "print('Accuracy score:',accuracy_score(y_test, y_pred_SVM))\n",
    "print('F1 score:',f1_score(y_test, y_pred_SVM))\n",
    "print('Recall score:',recall_score(y_test, y_pred_SVM))\n",
    "print('Precision score:',precision_score(y_test, y_pred_SVM))\n",
    "\n",
    "print(classification_report(y_test, y_pred_SVM, target_names=target_names))\n",
    "plot_confusion_matrix(model_SVM, X_test, y_test, display_labels=target_names,cmap=plt.cm.Blues);"
   ]
  },
  {
   "cell_type": "markdown",
   "metadata": {},
   "source": [
    "# Undersampling using CNN\n",
    "Condensed Nearest Neighbor (CNN) is used to remove redundant examples from the interior of the density of the majority class. "
   ]
  },
  {
   "cell_type": "code",
   "execution_count": 50,
   "metadata": {},
   "outputs": [],
   "source": [
    "# undersample an imbalanced dataset with the Condensed Nearest Neighbor Rule\n",
    "from imblearn.under_sampling import CondensedNearestNeighbour"
   ]
  },
  {
   "cell_type": "code",
   "execution_count": 51,
   "metadata": {},
   "outputs": [
    {
     "name": "stdout",
     "output_type": "stream",
     "text": [
      "Counter({0: 420074, 1: 2704})\n"
     ]
    }
   ],
   "source": [
    "counter = Counter(y)\n",
    "print(counter)"
   ]
  },
  {
   "cell_type": "code",
   "execution_count": 52,
   "metadata": {},
   "outputs": [
    {
     "name": "stdout",
     "output_type": "stream",
     "text": [
      "Counter({1: 2704, 0: 219})\n"
     ]
    }
   ],
   "source": [
    "# define the undersampling method\n",
    "undersample = CondensedNearestNeighbour(n_neighbors=1)\n",
    "# transform the dataset\n",
    "Xu, yu = undersample.fit_resample(X, y)\n",
    "# summarize the new class distribution\n",
    "counter = Counter(yu)\n",
    "print(counter)"
   ]
  },
  {
   "cell_type": "markdown",
   "metadata": {},
   "source": [
    "### d) Weighted Decision Tree with Condensed Nearest Neighbor (DT+CNN)\n",
    "The `DecisionTreeClassifier` class provides the class weight argument that can be speci ed as a model hyperparameter. The class weight is a dictionary that de nes each class label (e.g. 0 and 1) and the weighting to apply in the calculation of group purity for splits in the decision tree when tting the model."
   ]
  },
  {
   "cell_type": "code",
   "execution_count": 53,
   "metadata": {},
   "outputs": [],
   "source": [
    "X_train3, X_test3, y_train3, y_test3 = train_test_split(Xu, yu, test_size =0.20, random_state=42)"
   ]
  },
  {
   "cell_type": "code",
   "execution_count": 54,
   "metadata": {},
   "outputs": [],
   "source": [
    "# define model\n",
    "model_DT = DecisionTreeClassifier(class_weight='balanced')\n",
    "#model performance\n",
    "model_DT.fit(X_train3, y_train3)\n",
    "y_pred_DT=model_DT.predict(X_test3)"
   ]
  },
  {
   "cell_type": "code",
   "execution_count": 55,
   "metadata": {},
   "outputs": [
    {
     "name": "stdout",
     "output_type": "stream",
     "text": [
      "ROCAUC score: 0.9308939674004368\n",
      "Accuracy score: 0.9880341880341881\n",
      "F1 score: 0.9935602575896965\n",
      "Recall score: 0.9981515711645101\n",
      "Precision score: 0.989010989010989\n",
      "              precision    recall  f1-score   support\n",
      "\n",
      "     class 0       0.97      0.86      0.92        44\n",
      "     class 1       0.99      1.00      0.99       541\n",
      "\n",
      "    accuracy                           0.99       585\n",
      "   macro avg       0.98      0.93      0.95       585\n",
      "weighted avg       0.99      0.99      0.99       585\n",
      "\n"
     ]
    },
    {
     "data": {
      "image/png": "[encoded data removed]",
      "text/plain": [
       "<Figure size 432x288 with 2 Axes>"
      ]
     },
     "metadata": {
      "needs_background": "light"
     },
     "output_type": "display_data"
    }
   ],
   "source": [
    "print('ROCAUC score:',roc_auc_score(y_test3, y_pred_DT))\n",
    "print('Accuracy score:',accuracy_score(y_test3, y_pred_DT))\n",
    "print('F1 score:',f1_score(y_test3, y_pred_DT))\n",
    "print('Recall score:',recall_score(y_test3, y_pred_DT))\n",
    "print('Precision score:',precision_score(y_test3, y_pred_DT))\n",
    "\n",
    "print(classification_report(y_test3, y_pred_DT, target_names=target_names))\n",
    "plot_confusion_matrix(model_DT, X_test3, y_test3, display_labels=target_names,cmap=plt.cm.Blues);"
   ]
  },
  {
   "cell_type": "markdown",
   "metadata": {},
   "source": [
    "### e) Support Vector Machine with Condensed Nearest Neighbor (SVM+CNN)"
   ]
  },
  {
   "cell_type": "code",
   "execution_count": 58,
   "metadata": {},
   "outputs": [],
   "source": [
    "model_SVM_cnn = SVC(class_weight='balanced', probability=True)\n",
    "model_SVM_cnn.fit(X_train3, y_train3)\n",
    "y_pred_SVM_cnn = model_SVM_cnn.predict(X_test3)"
   ]
  },
  {
   "cell_type": "code",
   "execution_count": 59,
   "metadata": {},
   "outputs": [
    {
     "name": "stdout",
     "output_type": "stream",
     "text": [
      "ROCAUC score: 0.8307427323138968\n",
      "Accuracy score: 0.9572649572649573\n",
      "F1 score: 0.9769585253456222\n",
      "Recall score: 0.9796672828096118\n",
      "Precision score: 0.9742647058823529\n",
      "              precision    recall  f1-score   support\n",
      "\n",
      "     class 0       0.73      0.68      0.71        44\n",
      "     class 1       0.97      0.98      0.98       541\n",
      "\n",
      "    accuracy                           0.96       585\n",
      "   macro avg       0.85      0.83      0.84       585\n",
      "weighted avg       0.96      0.96      0.96       585\n",
      "\n"
     ]
    },
    {
     "data": {
      "image/png": "[encoded data removed]",
      "text/plain": [
       "<Figure size 432x288 with 2 Axes>"
      ]
     },
     "metadata": {
      "needs_background": "light"
     },
     "output_type": "display_data"
    }
   ],
   "source": [
    "print('ROCAUC score:',roc_auc_score(y_test3, y_pred_SVM_cnn))\n",
    "print('Accuracy score:',accuracy_score(y_test3, y_pred_SVM_cnn))\n",
    "print('F1 score:',f1_score(y_test3, y_pred_SVM_cnn))\n",
    "print('Recall score:',recall_score(y_test3, y_pred_SVM_cnn))\n",
    "print('Precision score:',precision_score(y_test3, y_pred_SVM_cnn))\n",
    "\n",
    "print(classification_report(y_test3, y_pred_SVM_cnn, target_names=target_names))\n",
    "plot_confusion_matrix(model_SVM_cnn, X_test3, y_test3, display_labels=target_names,cmap=plt.cm.Blues);"
   ]
  }
 ],
 "metadata": {
  "kernelspec": {
   "display_name": "Python 3",
   "language": "python",
   "name": "python3"
  },
  "language_info": {
   "codemirror_mode": {
    "name": "ipython",
    "version": 3
   },
   "file_extension": ".py",
   "mimetype": "text/x-python",
   "name": "python",
   "nbconvert_exporter": "python",
   "pygments_lexer": "ipython3",
   "version": "3.8.5"
  }
 },
 "nbformat": 4,
 "nbformat_minor": 4
}
