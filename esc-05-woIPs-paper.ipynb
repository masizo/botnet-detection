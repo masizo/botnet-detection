{
 "cells": [
  {
   "cell_type": "markdown",
   "metadata": {},
   "source": [
    "# Jupiter's Notebook for Scenario 05\n",
    "Requieres: [CategoryEncoders](http://contrib.scikit-learn.org/category_encoders/), and [imbalanced-learn](https://imbalanced-learn.org/stable/)<br>\n",
    "`pip install category_encoders`<br>\n",
    "`pip install imbalanced-learn`"
   ]
  },
  {
   "cell_type": "code",
   "execution_count": 1,
   "metadata": {},
   "outputs": [],
   "source": [
    "#import libraries\n",
    "import numpy as np\n",
    "import pandas as pd\n",
    "import collections\n",
    "import matplotlib.pyplot as plt\n",
    "from sklearn.model_selection import train_test_split\n",
    "from sklearn.feature_selection import SelectKBest,chi2\n",
    "from sklearn.linear_model import LogisticRegression\n",
    "from sklearn.svm import SVC\n",
    "from sklearn.tree import DecisionTreeClassifier\n",
    "from sklearn.model_selection import RepeatedStratifiedKFold\n",
    "from sklearn.model_selection import cross_val_score\n",
    "from sklearn.model_selection import GridSearchCV\n",
    "from collections import Counter\n",
    "from sklearn.metrics import confusion_matrix\n",
    "from sklearn.metrics import accuracy_score, recall_score, precision_score, f1_score, confusion_matrix, roc_auc_score\n",
    "from sklearn.metrics import classification_report\n",
    "from sklearn.metrics import plot_confusion_matrix"
   ]
  },
  {
   "cell_type": "code",
   "execution_count": 2,
   "metadata": {},
   "outputs": [],
   "source": [
    "#To identify class 0 and 1, respectively\n",
    "target_names = ['class 0', 'class 1']"
   ]
  },
  {
   "cell_type": "code",
   "execution_count": 3,
   "metadata": {},
   "outputs": [],
   "source": [
    "#load dataset\n",
    "df=pd.read_csv('esc-05-Mixed-traffic.csv')"
   ]
  },
  {
   "cell_type": "code",
   "execution_count": 4,
   "metadata": {},
   "outputs": [
    {
     "data": {
      "text/plain": [
       "(235047, 52)"
      ]
     },
     "execution_count": 4,
     "metadata": {},
     "output_type": "execute_result"
    }
   ],
   "source": [
    "#check dimensions\n",
    "df.shape"
   ]
  },
  {
   "cell_type": "markdown",
   "metadata": {},
   "source": [
    "## Pre-feature selection"
   ]
  },
  {
   "cell_type": "code",
   "execution_count": 5,
   "metadata": {},
   "outputs": [
    {
     "name": "stdout",
     "output_type": "stream",
     "text": [
      "proto                 0\n",
      "ts                    0\n",
      "srcIP                 0\n",
      "srcPrt                0\n",
      "dstIP                 0\n",
      "dstPrt                0\n",
      "flowduration          0\n",
      "total_fpackets        0\n",
      "total_bpackets        0\n",
      "total_fpktl           0\n",
      "total_bpktl           0\n",
      "min_fpktl             0\n",
      "min_bpktl             0\n",
      "max_fpktl             0\n",
      "max_bpktl             0\n",
      "mean_fpktl            0\n",
      "mean_bpktl            0\n",
      "std_fpktl             0\n",
      "std_bpktl             0\n",
      "total_fipt            0\n",
      "total_bipt            0\n",
      "min_fipt              0\n",
      "min_bipt              0\n",
      "max_fipt              0\n",
      "max_bipt              0\n",
      "mean_fipt             0\n",
      "mean_bipt             0\n",
      "std_fipt              0\n",
      "std_bipt              0\n",
      "fpsh_cnt              0\n",
      "bpsh_cnt              0\n",
      "furg_cnt              0\n",
      "burg_cnt              0\n",
      "total_fhlen           0\n",
      "total_bhlen           0\n",
      "fPktsPerSecond        0\n",
      "bPktsPerSecond        0\n",
      "flowPktsPerSecond     0\n",
      "flowBytesPerSecond    0\n",
      "mean_flowpktl         0\n",
      "std_flowpktl          0\n",
      "mean_flowipt          0\n",
      "std_flowipt           0\n",
      "flow_fin              0\n",
      "flow_syn              0\n",
      "flow_rst              0\n",
      "flow_ack              0\n",
      "flow_urg              0\n",
      "flow_cwr              0\n",
      "flow_ece              0\n",
      "downUpRatio           0\n",
      "label                 0\n",
      "dtype: int64\n",
      "0\n"
     ]
    }
   ],
   "source": [
    "#check the number of null values\n",
    "print(df.isnull().sum())\n",
    "print(df.isnull().values.sum())"
   ]
  },
  {
   "cell_type": "code",
   "execution_count": 6,
   "metadata": {},
   "outputs": [],
   "source": [
    "#Dropping Rows with NA inplace\n",
    "df.dropna(inplace=True)"
   ]
  },
  {
   "cell_type": "code",
   "execution_count": 7,
   "metadata": {},
   "outputs": [
    {
     "name": "stdout",
     "output_type": "stream",
     "text": [
      "proto                      2\n",
      "ts                    235047\n",
      "srcIP                  10896\n",
      "srcPrt                 52820\n",
      "dstIP                   9121\n",
      "dstPrt                   159\n",
      "flowduration          146619\n",
      "total_fpackets           646\n",
      "total_bpackets           837\n",
      "total_fpktl             9020\n",
      "total_bpktl            19539\n",
      "min_fpktl                128\n",
      "min_bpktl                495\n",
      "max_fpktl               1292\n",
      "max_bpktl               1002\n",
      "mean_fpktl             18650\n",
      "mean_bpktl             22812\n",
      "std_fpktl              31894\n",
      "std_bpktl              28039\n",
      "total_fipt             79401\n",
      "total_bipt             68439\n",
      "min_fipt               39584\n",
      "min_bipt               21411\n",
      "max_fipt               77114\n",
      "max_bipt               60980\n",
      "mean_fipt              76692\n",
      "mean_bipt              66633\n",
      "std_fipt               65172\n",
      "std_bipt               59806\n",
      "fpsh_cnt                 142\n",
      "bpsh_cnt                 383\n",
      "furg_cnt                   1\n",
      "burg_cnt                   1\n",
      "total_fhlen             3078\n",
      "total_bhlen             4012\n",
      "fPktsPerSecond        136400\n",
      "bPktsPerSecond        133890\n",
      "flowPktsPerSecond     138882\n",
      "flowBytesPerSecond    175983\n",
      "mean_flowpktl          33901\n",
      "std_flowpktl           46856\n",
      "mean_flowipt          141421\n",
      "std_flowipt            80042\n",
      "flow_fin                  16\n",
      "flow_syn                  10\n",
      "flow_rst                  21\n",
      "flow_ack                1102\n",
      "flow_urg                   1\n",
      "flow_cwr                   2\n",
      "flow_ece                   1\n",
      "downUpRatio            49103\n",
      "label                      2\n",
      "dtype: int64\n"
     ]
    }
   ],
   "source": [
    "#sumarize the number of unique values for each column (feature)\n",
    "print(df.nunique())"
   ]
  },
  {
   "cell_type": "code",
   "execution_count": 8,
   "metadata": {},
   "outputs": [
    {
     "name": "stdout",
     "output_type": "stream",
     "text": [
      "[31, 32, 47, 49]\n",
      "(235047, 48)\n"
     ]
    }
   ],
   "source": [
    "#delete columns with a single unique value\n",
    "#get the indexes of the single-valued columns\n",
    "counts=df.nunique()\n",
    "to_del=[i for i,v in enumerate(counts) if v==1]\n",
    "print(to_del)\n",
    "#drop unless columns\n",
    "df.drop(df.columns[to_del],axis=1,inplace=True)\n",
    "print(df.shape)"
   ]
  },
  {
   "cell_type": "code",
   "execution_count": 9,
   "metadata": {},
   "outputs": [
    {
     "name": "stdout",
     "output_type": "stream",
     "text": [
      "proto                      2\n",
      "ts                    235047\n",
      "srcIP                  10896\n",
      "srcPrt                 52820\n",
      "dstIP                   9121\n",
      "dstPrt                   159\n",
      "flowduration          146619\n",
      "total_fpackets           646\n",
      "total_bpackets           837\n",
      "total_fpktl             9020\n",
      "total_bpktl            19539\n",
      "min_fpktl                128\n",
      "min_bpktl                495\n",
      "max_fpktl               1292\n",
      "max_bpktl               1002\n",
      "mean_fpktl             18650\n",
      "mean_bpktl             22812\n",
      "std_fpktl              31894\n",
      "std_bpktl              28039\n",
      "total_fipt             79401\n",
      "total_bipt             68439\n",
      "min_fipt               39584\n",
      "min_bipt               21411\n",
      "max_fipt               77114\n",
      "max_bipt               60980\n",
      "mean_fipt              76692\n",
      "mean_bipt              66633\n",
      "std_fipt               65172\n",
      "std_bipt               59806\n",
      "fpsh_cnt                 142\n",
      "bpsh_cnt                 383\n",
      "total_fhlen             3078\n",
      "total_bhlen             4012\n",
      "fPktsPerSecond        136400\n",
      "bPktsPerSecond        133890\n",
      "flowPktsPerSecond     138882\n",
      "flowBytesPerSecond    175983\n",
      "mean_flowpktl          33901\n",
      "std_flowpktl           46856\n",
      "mean_flowipt          141421\n",
      "std_flowipt            80042\n",
      "flow_fin                  16\n",
      "flow_syn                  10\n",
      "flow_rst                  21\n",
      "flow_ack                1102\n",
      "flow_cwr                   2\n",
      "downUpRatio            49103\n",
      "label                      2\n",
      "dtype: int64\n"
     ]
    }
   ],
   "source": [
    "#sumarize the number of unique values for each column \n",
    "print(df.nunique())"
   ]
  },
  {
   "cell_type": "code",
   "execution_count": 10,
   "metadata": {},
   "outputs": [],
   "source": [
    "#delete ts, srcIP and dstIP columns\n",
    "df.drop(['ts','srcIP','dstIP'],axis=1,inplace=True)"
   ]
  },
  {
   "cell_type": "code",
   "execution_count": 11,
   "metadata": {},
   "outputs": [
    {
     "data": {
      "image/png": "[encoded data removed]",
      "text/plain": [
       "<Figure size 432x288 with 1 Axes>"
      ]
     },
     "metadata": {
      "needs_background": "light"
     },
     "output_type": "display_data"
    }
   ],
   "source": [
    "#Consider columns that have very few values, e.g. flow_cwr column\n",
    "ax = df['flow_cwr'].value_counts().plot(kind='bar',fontsize=16) \n",
    "for p in ax.patches:\n",
    "    x = p.get_x()\n",
    "    h = p.get_height()\n",
    "    w = p.get_width()\n",
    "    ax.annotate(f'{h:.0f}\\n', (x + w/2, h), ha='center', va='center', size=16)\n",
    "plt.margins(y=0.2)\n",
    "plt.tight_layout()\n",
    "plt.show()"
   ]
  },
  {
   "cell_type": "code",
   "execution_count": 12,
   "metadata": {},
   "outputs": [],
   "source": [
    "#delete flow_cwr column\n",
    "df.drop('flow_cwr',axis=1,inplace=True)"
   ]
  },
  {
   "cell_type": "code",
   "execution_count": 13,
   "metadata": {},
   "outputs": [
    {
     "data": {
      "text/plain": [
       "Counter({0: 234175, 1: 872})"
      ]
     },
     "execution_count": 13,
     "metadata": {},
     "output_type": "execute_result"
    }
   ],
   "source": [
    "#counting classes\n",
    "collections.Counter(df.label.values)"
   ]
  },
  {
   "cell_type": "code",
   "execution_count": 14,
   "metadata": {},
   "outputs": [
    {
     "name": "stdout",
     "output_type": "stream",
     "text": [
      "(235047, 44)\n",
      "(233046, 44)\n"
     ]
    }
   ],
   "source": [
    "#Delete Rows That Contain Duplicate Data\n",
    "print(df.shape)\n",
    "df.drop_duplicates(inplace=True)\n",
    "print(df.shape)"
   ]
  },
  {
   "cell_type": "code",
   "execution_count": 15,
   "metadata": {},
   "outputs": [
    {
     "data": {
      "text/plain": [
       "Counter({0: 232174, 1: 872})"
      ]
     },
     "execution_count": 15,
     "metadata": {},
     "output_type": "execute_result"
    }
   ],
   "source": [
    "#counting classes\n",
    "collections.Counter(df.label.values)"
   ]
  },
  {
   "cell_type": "code",
   "execution_count": 16,
   "metadata": {},
   "outputs": [
    {
     "data": {
      "text/html": [
       "<div>\n",
       "<style scoped>\n",
       "    .dataframe tbody tr th:only-of-type {\n",
       "        vertical-align: middle;\n",
       "    }\n",
       "\n",
       "    .dataframe tbody tr th {\n",
       "        vertical-align: top;\n",
       "    }\n",
       "\n",
       "    .dataframe thead th {\n",
       "        text-align: right;\n",
       "    }\n",
       "</style>\n",
       "<table border=\"1\" class=\"dataframe\">\n",
       "  <thead>\n",
       "    <tr style=\"text-align: right;\">\n",
       "      <th></th>\n",
       "      <th>proto</th>\n",
       "      <th>srcPrt</th>\n",
       "      <th>dstPrt</th>\n",
       "      <th>flowduration</th>\n",
       "      <th>total_fpackets</th>\n",
       "      <th>total_bpackets</th>\n",
       "      <th>total_fpktl</th>\n",
       "      <th>total_bpktl</th>\n",
       "      <th>min_fpktl</th>\n",
       "      <th>min_bpktl</th>\n",
       "      <th>...</th>\n",
       "      <th>mean_flowpktl</th>\n",
       "      <th>std_flowpktl</th>\n",
       "      <th>mean_flowipt</th>\n",
       "      <th>std_flowipt</th>\n",
       "      <th>flow_fin</th>\n",
       "      <th>flow_syn</th>\n",
       "      <th>flow_rst</th>\n",
       "      <th>flow_ack</th>\n",
       "      <th>downUpRatio</th>\n",
       "      <th>label</th>\n",
       "    </tr>\n",
       "  </thead>\n",
       "  <tbody>\n",
       "    <tr>\n",
       "      <th>0</th>\n",
       "      <td>TCP</td>\n",
       "      <td>50673</td>\n",
       "      <td>80</td>\n",
       "      <td>5.058138</td>\n",
       "      <td>30</td>\n",
       "      <td>46</td>\n",
       "      <td>2181</td>\n",
       "      <td>60058</td>\n",
       "      <td>60</td>\n",
       "      <td>54</td>\n",
       "      <td>...</td>\n",
       "      <td>818.934211</td>\n",
       "      <td>680.514587</td>\n",
       "      <td>0.131807</td>\n",
       "      <td>0.782458</td>\n",
       "      <td>2</td>\n",
       "      <td>2</td>\n",
       "      <td>0</td>\n",
       "      <td>75</td>\n",
       "      <td>27.536909</td>\n",
       "      <td>0</td>\n",
       "    </tr>\n",
       "    <tr>\n",
       "      <th>1</th>\n",
       "      <td>TCP</td>\n",
       "      <td>37998</td>\n",
       "      <td>25</td>\n",
       "      <td>1.165490</td>\n",
       "      <td>3</td>\n",
       "      <td>3</td>\n",
       "      <td>194</td>\n",
       "      <td>162</td>\n",
       "      <td>62</td>\n",
       "      <td>54</td>\n",
       "      <td>...</td>\n",
       "      <td>59.333333</td>\n",
       "      <td>6.022182</td>\n",
       "      <td>0.233104</td>\n",
       "      <td>0.319191</td>\n",
       "      <td>0</td>\n",
       "      <td>3</td>\n",
       "      <td>3</td>\n",
       "      <td>3</td>\n",
       "      <td>0.835052</td>\n",
       "      <td>0</td>\n",
       "    </tr>\n",
       "    <tr>\n",
       "      <th>2</th>\n",
       "      <td>TCP</td>\n",
       "      <td>50707</td>\n",
       "      <td>80</td>\n",
       "      <td>5.063241</td>\n",
       "      <td>28</td>\n",
       "      <td>43</td>\n",
       "      <td>2055</td>\n",
       "      <td>55798</td>\n",
       "      <td>60</td>\n",
       "      <td>54</td>\n",
       "      <td>...</td>\n",
       "      <td>814.830986</td>\n",
       "      <td>681.063843</td>\n",
       "      <td>0.139963</td>\n",
       "      <td>0.793474</td>\n",
       "      <td>2</td>\n",
       "      <td>2</td>\n",
       "      <td>0</td>\n",
       "      <td>70</td>\n",
       "      <td>27.152311</td>\n",
       "      <td>0</td>\n",
       "    </tr>\n",
       "    <tr>\n",
       "      <th>3</th>\n",
       "      <td>TCP</td>\n",
       "      <td>50727</td>\n",
       "      <td>80</td>\n",
       "      <td>5.068497</td>\n",
       "      <td>26</td>\n",
       "      <td>41</td>\n",
       "      <td>1939</td>\n",
       "      <td>52894</td>\n",
       "      <td>60</td>\n",
       "      <td>54</td>\n",
       "      <td>...</td>\n",
       "      <td>818.402985</td>\n",
       "      <td>680.254456</td>\n",
       "      <td>0.147856</td>\n",
       "      <td>0.809372</td>\n",
       "      <td>2</td>\n",
       "      <td>2</td>\n",
       "      <td>0</td>\n",
       "      <td>66</td>\n",
       "      <td>27.279009</td>\n",
       "      <td>0</td>\n",
       "    </tr>\n",
       "    <tr>\n",
       "      <th>4</th>\n",
       "      <td>TCP</td>\n",
       "      <td>17095</td>\n",
       "      <td>80</td>\n",
       "      <td>0.754277</td>\n",
       "      <td>38</td>\n",
       "      <td>65</td>\n",
       "      <td>2601</td>\n",
       "      <td>88789</td>\n",
       "      <td>60</td>\n",
       "      <td>54</td>\n",
       "      <td>...</td>\n",
       "      <td>887.281553</td>\n",
       "      <td>667.837280</td>\n",
       "      <td>0.007496</td>\n",
       "      <td>0.022677</td>\n",
       "      <td>0</td>\n",
       "      <td>2</td>\n",
       "      <td>1</td>\n",
       "      <td>102</td>\n",
       "      <td>34.136486</td>\n",
       "      <td>0</td>\n",
       "    </tr>\n",
       "    <tr>\n",
       "      <th>...</th>\n",
       "      <td>...</td>\n",
       "      <td>...</td>\n",
       "      <td>...</td>\n",
       "      <td>...</td>\n",
       "      <td>...</td>\n",
       "      <td>...</td>\n",
       "      <td>...</td>\n",
       "      <td>...</td>\n",
       "      <td>...</td>\n",
       "      <td>...</td>\n",
       "      <td>...</td>\n",
       "      <td>...</td>\n",
       "      <td>...</td>\n",
       "      <td>...</td>\n",
       "      <td>...</td>\n",
       "      <td>...</td>\n",
       "      <td>...</td>\n",
       "      <td>...</td>\n",
       "      <td>...</td>\n",
       "      <td>...</td>\n",
       "      <td>...</td>\n",
       "    </tr>\n",
       "    <tr>\n",
       "      <th>235042</th>\n",
       "      <td>UDP</td>\n",
       "      <td>29025</td>\n",
       "      <td>53</td>\n",
       "      <td>0.000243</td>\n",
       "      <td>1</td>\n",
       "      <td>1</td>\n",
       "      <td>85</td>\n",
       "      <td>136</td>\n",
       "      <td>85</td>\n",
       "      <td>136</td>\n",
       "      <td>...</td>\n",
       "      <td>110.500000</td>\n",
       "      <td>36.062447</td>\n",
       "      <td>0.000243</td>\n",
       "      <td>0.000000</td>\n",
       "      <td>0</td>\n",
       "      <td>0</td>\n",
       "      <td>0</td>\n",
       "      <td>0</td>\n",
       "      <td>1.600000</td>\n",
       "      <td>0</td>\n",
       "    </tr>\n",
       "    <tr>\n",
       "      <th>235043</th>\n",
       "      <td>UDP</td>\n",
       "      <td>23952</td>\n",
       "      <td>53</td>\n",
       "      <td>0.000307</td>\n",
       "      <td>1</td>\n",
       "      <td>1</td>\n",
       "      <td>74</td>\n",
       "      <td>166</td>\n",
       "      <td>74</td>\n",
       "      <td>166</td>\n",
       "      <td>...</td>\n",
       "      <td>120.000000</td>\n",
       "      <td>65.053825</td>\n",
       "      <td>0.000307</td>\n",
       "      <td>0.000000</td>\n",
       "      <td>0</td>\n",
       "      <td>0</td>\n",
       "      <td>0</td>\n",
       "      <td>0</td>\n",
       "      <td>2.243243</td>\n",
       "      <td>0</td>\n",
       "    </tr>\n",
       "    <tr>\n",
       "      <th>235044</th>\n",
       "      <td>UDP</td>\n",
       "      <td>55139</td>\n",
       "      <td>53</td>\n",
       "      <td>0.000250</td>\n",
       "      <td>1</td>\n",
       "      <td>1</td>\n",
       "      <td>74</td>\n",
       "      <td>166</td>\n",
       "      <td>74</td>\n",
       "      <td>166</td>\n",
       "      <td>...</td>\n",
       "      <td>120.000000</td>\n",
       "      <td>65.053825</td>\n",
       "      <td>0.000250</td>\n",
       "      <td>0.000000</td>\n",
       "      <td>0</td>\n",
       "      <td>0</td>\n",
       "      <td>0</td>\n",
       "      <td>0</td>\n",
       "      <td>2.243243</td>\n",
       "      <td>0</td>\n",
       "    </tr>\n",
       "    <tr>\n",
       "      <th>235045</th>\n",
       "      <td>UDP</td>\n",
       "      <td>43136</td>\n",
       "      <td>53</td>\n",
       "      <td>0.000000</td>\n",
       "      <td>1</td>\n",
       "      <td>0</td>\n",
       "      <td>67</td>\n",
       "      <td>0</td>\n",
       "      <td>67</td>\n",
       "      <td>0</td>\n",
       "      <td>...</td>\n",
       "      <td>67.000000</td>\n",
       "      <td>0.000000</td>\n",
       "      <td>0.000000</td>\n",
       "      <td>0.000000</td>\n",
       "      <td>0</td>\n",
       "      <td>0</td>\n",
       "      <td>0</td>\n",
       "      <td>0</td>\n",
       "      <td>0.000000</td>\n",
       "      <td>0</td>\n",
       "    </tr>\n",
       "    <tr>\n",
       "      <th>235046</th>\n",
       "      <td>UDP</td>\n",
       "      <td>3137</td>\n",
       "      <td>53</td>\n",
       "      <td>0.000202</td>\n",
       "      <td>1</td>\n",
       "      <td>1</td>\n",
       "      <td>72</td>\n",
       "      <td>164</td>\n",
       "      <td>72</td>\n",
       "      <td>164</td>\n",
       "      <td>...</td>\n",
       "      <td>118.000000</td>\n",
       "      <td>65.053825</td>\n",
       "      <td>0.000202</td>\n",
       "      <td>0.000000</td>\n",
       "      <td>0</td>\n",
       "      <td>0</td>\n",
       "      <td>0</td>\n",
       "      <td>0</td>\n",
       "      <td>2.277778</td>\n",
       "      <td>0</td>\n",
       "    </tr>\n",
       "  </tbody>\n",
       "</table>\n",
       "<p>233046 rows × 44 columns</p>\n",
       "</div>"
      ],
      "text/plain": [
       "       proto  srcPrt  dstPrt  flowduration  total_fpackets  total_bpackets  \\\n",
       "0        TCP   50673      80      5.058138              30              46   \n",
       "1        TCP   37998      25      1.165490               3               3   \n",
       "2        TCP   50707      80      5.063241              28              43   \n",
       "3        TCP   50727      80      5.068497              26              41   \n",
       "4        TCP   17095      80      0.754277              38              65   \n",
       "...      ...     ...     ...           ...             ...             ...   \n",
       "235042   UDP   29025      53      0.000243               1               1   \n",
       "235043   UDP   23952      53      0.000307               1               1   \n",
       "235044   UDP   55139      53      0.000250               1               1   \n",
       "235045   UDP   43136      53      0.000000               1               0   \n",
       "235046   UDP    3137      53      0.000202               1               1   \n",
       "\n",
       "        total_fpktl  total_bpktl  min_fpktl  min_bpktl  ...  mean_flowpktl  \\\n",
       "0              2181        60058         60         54  ...     818.934211   \n",
       "1               194          162         62         54  ...      59.333333   \n",
       "2              2055        55798         60         54  ...     814.830986   \n",
       "3              1939        52894         60         54  ...     818.402985   \n",
       "4              2601        88789         60         54  ...     887.281553   \n",
       "...             ...          ...        ...        ...  ...            ...   \n",
       "235042           85          136         85        136  ...     110.500000   \n",
       "235043           74          166         74        166  ...     120.000000   \n",
       "235044           74          166         74        166  ...     120.000000   \n",
       "235045           67            0         67          0  ...      67.000000   \n",
       "235046           72          164         72        164  ...     118.000000   \n",
       "\n",
       "        std_flowpktl  mean_flowipt  std_flowipt  flow_fin  flow_syn  flow_rst  \\\n",
       "0         680.514587      0.131807     0.782458         2         2         0   \n",
       "1           6.022182      0.233104     0.319191         0         3         3   \n",
       "2         681.063843      0.139963     0.793474         2         2         0   \n",
       "3         680.254456      0.147856     0.809372         2         2         0   \n",
       "4         667.837280      0.007496     0.022677         0         2         1   \n",
       "...              ...           ...          ...       ...       ...       ...   \n",
       "235042     36.062447      0.000243     0.000000         0         0         0   \n",
       "235043     65.053825      0.000307     0.000000         0         0         0   \n",
       "235044     65.053825      0.000250     0.000000         0         0         0   \n",
       "235045      0.000000      0.000000     0.000000         0         0         0   \n",
       "235046     65.053825      0.000202     0.000000         0         0         0   \n",
       "\n",
       "        flow_ack  downUpRatio  label  \n",
       "0             75    27.536909      0  \n",
       "1              3     0.835052      0  \n",
       "2             70    27.152311      0  \n",
       "3             66    27.279009      0  \n",
       "4            102    34.136486      0  \n",
       "...          ...          ...    ...  \n",
       "235042         0     1.600000      0  \n",
       "235043         0     2.243243      0  \n",
       "235044         0     2.243243      0  \n",
       "235045         0     0.000000      0  \n",
       "235046         0     2.277778      0  \n",
       "\n",
       "[233046 rows x 44 columns]"
      ]
     },
     "execution_count": 16,
     "metadata": {},
     "output_type": "execute_result"
    }
   ],
   "source": [
    "df"
   ]
  },
  {
   "cell_type": "code",
   "execution_count": 17,
   "metadata": {},
   "outputs": [
    {
     "name": "stdout",
     "output_type": "stream",
     "text": [
      "> Class 0 : 232174 of 233046 (99.6%)\n",
      "> Class 1 : 872 of 233046 (0.4%)\n"
     ]
    }
   ],
   "source": [
    "#check % class distribution \n",
    "y=df['label'].values #convert to nparray\n",
    "\n",
    "classes=np.unique(y)\n",
    "total=len(y)\n",
    "\n",
    "for c in classes:\n",
    "    n_examples=len(y[y==c])\n",
    "    percent = n_examples/total*100\n",
    "    print('> Class %d : %d of %d (%.1f%%)' % (c, n_examples,total,percent))"
   ]
  },
  {
   "cell_type": "markdown",
   "metadata": {},
   "source": [
    "# Coding of categorical variables\n",
    "[Target encoding](https://contrib.scikit-learn.org/category_encoders/targetencoder.html) for categorical features will be used to encode three nominal categorical variables: protocol, source and destination ports. This method is supervised and requires training."
   ]
  },
  {
   "cell_type": "code",
   "execution_count": 18,
   "metadata": {},
   "outputs": [
    {
     "data": {
      "text/plain": [
       "proto                  object\n",
       "srcPrt                  int64\n",
       "dstPrt                  int64\n",
       "flowduration          float64\n",
       "total_fpackets          int64\n",
       "total_bpackets          int64\n",
       "total_fpktl             int64\n",
       "total_bpktl             int64\n",
       "min_fpktl               int64\n",
       "min_bpktl               int64\n",
       "max_fpktl               int64\n",
       "max_bpktl               int64\n",
       "mean_fpktl            float64\n",
       "mean_bpktl            float64\n",
       "std_fpktl             float64\n",
       "std_bpktl             float64\n",
       "total_fipt            float64\n",
       "total_bipt            float64\n",
       "min_fipt              float64\n",
       "min_bipt              float64\n",
       "max_fipt              float64\n",
       "max_bipt              float64\n",
       "mean_fipt             float64\n",
       "mean_bipt             float64\n",
       "std_fipt              float64\n",
       "std_bipt              float64\n",
       "fpsh_cnt                int64\n",
       "bpsh_cnt                int64\n",
       "total_fhlen             int64\n",
       "total_bhlen             int64\n",
       "fPktsPerSecond        float64\n",
       "bPktsPerSecond        float64\n",
       "flowPktsPerSecond     float64\n",
       "flowBytesPerSecond    float64\n",
       "mean_flowpktl         float64\n",
       "std_flowpktl          float64\n",
       "mean_flowipt          float64\n",
       "std_flowipt           float64\n",
       "flow_fin                int64\n",
       "flow_syn                int64\n",
       "flow_rst                int64\n",
       "flow_ack                int64\n",
       "downUpRatio           float64\n",
       "label                   int64\n",
       "dtype: object"
      ]
     },
     "execution_count": 18,
     "metadata": {},
     "output_type": "execute_result"
    }
   ],
   "source": [
    "#Data types for each attibute\n",
    "df.dtypes"
   ]
  },
  {
   "cell_type": "code",
   "execution_count": 19,
   "metadata": {},
   "outputs": [],
   "source": [
    "#create training and test dataset\n",
    "X_train,X_test,y_train,y_test = train_test_split(df.drop(columns=['label']), df['label'], test_size=0.2, random_state=42)"
   ]
  },
  {
   "cell_type": "code",
   "execution_count": 20,
   "metadata": {},
   "outputs": [],
   "source": [
    "#load library for target encoder \n",
    "from category_encoders import TargetEncoder"
   ]
  },
  {
   "cell_type": "code",
   "execution_count": 21,
   "metadata": {},
   "outputs": [],
   "source": [
    "# Selecting the three categorical variables to be coded\n",
    "enc = TargetEncoder(cols=['proto','srcPrt','dstPrt'])\n",
    "\n",
    "# transform the datasets\n",
    "training_numeric_dataset = enc.fit_transform(X_train, y_train)\n",
    "testing_numeric_dataset = enc.transform(X_test)"
   ]
  },
  {
   "cell_type": "code",
   "execution_count": 22,
   "metadata": {},
   "outputs": [
    {
     "data": {
      "text/html": [
       "<div>\n",
       "<style scoped>\n",
       "    .dataframe tbody tr th:only-of-type {\n",
       "        vertical-align: middle;\n",
       "    }\n",
       "\n",
       "    .dataframe tbody tr th {\n",
       "        vertical-align: top;\n",
       "    }\n",
       "\n",
       "    .dataframe thead th {\n",
       "        text-align: right;\n",
       "    }\n",
       "</style>\n",
       "<table border=\"1\" class=\"dataframe\">\n",
       "  <thead>\n",
       "    <tr style=\"text-align: right;\">\n",
       "      <th></th>\n",
       "      <th>proto</th>\n",
       "      <th>srcPrt</th>\n",
       "      <th>dstPrt</th>\n",
       "      <th>flowduration</th>\n",
       "      <th>total_fpackets</th>\n",
       "      <th>total_bpackets</th>\n",
       "      <th>total_fpktl</th>\n",
       "      <th>total_bpktl</th>\n",
       "      <th>min_fpktl</th>\n",
       "      <th>min_bpktl</th>\n",
       "      <th>...</th>\n",
       "      <th>flowBytesPerSecond</th>\n",
       "      <th>mean_flowpktl</th>\n",
       "      <th>std_flowpktl</th>\n",
       "      <th>mean_flowipt</th>\n",
       "      <th>std_flowipt</th>\n",
       "      <th>flow_fin</th>\n",
       "      <th>flow_syn</th>\n",
       "      <th>flow_rst</th>\n",
       "      <th>flow_ack</th>\n",
       "      <th>downUpRatio</th>\n",
       "    </tr>\n",
       "  </thead>\n",
       "  <tbody>\n",
       "    <tr>\n",
       "      <th>130622</th>\n",
       "      <td>0.000089</td>\n",
       "      <td>0.000179</td>\n",
       "      <td>0.000034</td>\n",
       "      <td>0.244809</td>\n",
       "      <td>1</td>\n",
       "      <td>1</td>\n",
       "      <td>75</td>\n",
       "      <td>234</td>\n",
       "      <td>75</td>\n",
       "      <td>234</td>\n",
       "      <td>...</td>\n",
       "      <td>1.262209e+03</td>\n",
       "      <td>154.5</td>\n",
       "      <td>112.429977</td>\n",
       "      <td>0.244809</td>\n",
       "      <td>0.0</td>\n",
       "      <td>0</td>\n",
       "      <td>0</td>\n",
       "      <td>0</td>\n",
       "      <td>0</td>\n",
       "      <td>3.120000</td>\n",
       "    </tr>\n",
       "    <tr>\n",
       "      <th>154682</th>\n",
       "      <td>0.000089</td>\n",
       "      <td>0.000025</td>\n",
       "      <td>0.000034</td>\n",
       "      <td>0.094433</td>\n",
       "      <td>1</td>\n",
       "      <td>1</td>\n",
       "      <td>79</td>\n",
       "      <td>256</td>\n",
       "      <td>79</td>\n",
       "      <td>256</td>\n",
       "      <td>...</td>\n",
       "      <td>3.547486e+03</td>\n",
       "      <td>167.5</td>\n",
       "      <td>125.157898</td>\n",
       "      <td>0.094433</td>\n",
       "      <td>0.0</td>\n",
       "      <td>0</td>\n",
       "      <td>0</td>\n",
       "      <td>0</td>\n",
       "      <td>0</td>\n",
       "      <td>3.240506</td>\n",
       "    </tr>\n",
       "    <tr>\n",
       "      <th>62790</th>\n",
       "      <td>0.000089</td>\n",
       "      <td>0.000179</td>\n",
       "      <td>0.000034</td>\n",
       "      <td>0.128450</td>\n",
       "      <td>1</td>\n",
       "      <td>1</td>\n",
       "      <td>76</td>\n",
       "      <td>76</td>\n",
       "      <td>76</td>\n",
       "      <td>76</td>\n",
       "      <td>...</td>\n",
       "      <td>1.183341e+03</td>\n",
       "      <td>76.0</td>\n",
       "      <td>0.000000</td>\n",
       "      <td>0.128450</td>\n",
       "      <td>0.0</td>\n",
       "      <td>0</td>\n",
       "      <td>0</td>\n",
       "      <td>0</td>\n",
       "      <td>0</td>\n",
       "      <td>1.000000</td>\n",
       "    </tr>\n",
       "    <tr>\n",
       "      <th>216383</th>\n",
       "      <td>0.000089</td>\n",
       "      <td>0.000068</td>\n",
       "      <td>0.000034</td>\n",
       "      <td>0.200984</td>\n",
       "      <td>1</td>\n",
       "      <td>1</td>\n",
       "      <td>73</td>\n",
       "      <td>73</td>\n",
       "      <td>73</td>\n",
       "      <td>73</td>\n",
       "      <td>...</td>\n",
       "      <td>7.264260e+02</td>\n",
       "      <td>73.0</td>\n",
       "      <td>0.000000</td>\n",
       "      <td>0.200984</td>\n",
       "      <td>0.0</td>\n",
       "      <td>0</td>\n",
       "      <td>0</td>\n",
       "      <td>0</td>\n",
       "      <td>0</td>\n",
       "      <td>1.000000</td>\n",
       "    </tr>\n",
       "    <tr>\n",
       "      <th>145496</th>\n",
       "      <td>0.000089</td>\n",
       "      <td>0.000179</td>\n",
       "      <td>0.000034</td>\n",
       "      <td>0.000177</td>\n",
       "      <td>1</td>\n",
       "      <td>1</td>\n",
       "      <td>85</td>\n",
       "      <td>149</td>\n",
       "      <td>85</td>\n",
       "      <td>149</td>\n",
       "      <td>...</td>\n",
       "      <td>1.322732e+06</td>\n",
       "      <td>117.0</td>\n",
       "      <td>45.254833</td>\n",
       "      <td>0.000177</td>\n",
       "      <td>0.0</td>\n",
       "      <td>0</td>\n",
       "      <td>0</td>\n",
       "      <td>0</td>\n",
       "      <td>0</td>\n",
       "      <td>1.752941</td>\n",
       "    </tr>\n",
       "    <tr>\n",
       "      <th>...</th>\n",
       "      <td>...</td>\n",
       "      <td>...</td>\n",
       "      <td>...</td>\n",
       "      <td>...</td>\n",
       "      <td>...</td>\n",
       "      <td>...</td>\n",
       "      <td>...</td>\n",
       "      <td>...</td>\n",
       "      <td>...</td>\n",
       "      <td>...</td>\n",
       "      <td>...</td>\n",
       "      <td>...</td>\n",
       "      <td>...</td>\n",
       "      <td>...</td>\n",
       "      <td>...</td>\n",
       "      <td>...</td>\n",
       "      <td>...</td>\n",
       "      <td>...</td>\n",
       "      <td>...</td>\n",
       "      <td>...</td>\n",
       "      <td>...</td>\n",
       "    </tr>\n",
       "    <tr>\n",
       "      <th>120683</th>\n",
       "      <td>0.000089</td>\n",
       "      <td>0.001017</td>\n",
       "      <td>0.000034</td>\n",
       "      <td>0.000217</td>\n",
       "      <td>1</td>\n",
       "      <td>1</td>\n",
       "      <td>85</td>\n",
       "      <td>169</td>\n",
       "      <td>85</td>\n",
       "      <td>169</td>\n",
       "      <td>...</td>\n",
       "      <td>1.170718e+06</td>\n",
       "      <td>127.0</td>\n",
       "      <td>59.396969</td>\n",
       "      <td>0.000217</td>\n",
       "      <td>0.0</td>\n",
       "      <td>0</td>\n",
       "      <td>0</td>\n",
       "      <td>0</td>\n",
       "      <td>0</td>\n",
       "      <td>1.988235</td>\n",
       "    </tr>\n",
       "    <tr>\n",
       "      <th>104328</th>\n",
       "      <td>0.000089</td>\n",
       "      <td>0.000068</td>\n",
       "      <td>0.000034</td>\n",
       "      <td>0.143165</td>\n",
       "      <td>1</td>\n",
       "      <td>1</td>\n",
       "      <td>71</td>\n",
       "      <td>71</td>\n",
       "      <td>71</td>\n",
       "      <td>71</td>\n",
       "      <td>...</td>\n",
       "      <td>9.918618e+02</td>\n",
       "      <td>71.0</td>\n",
       "      <td>0.000000</td>\n",
       "      <td>0.143165</td>\n",
       "      <td>0.0</td>\n",
       "      <td>0</td>\n",
       "      <td>0</td>\n",
       "      <td>0</td>\n",
       "      <td>0</td>\n",
       "      <td>1.000000</td>\n",
       "    </tr>\n",
       "    <tr>\n",
       "      <th>132863</th>\n",
       "      <td>0.000089</td>\n",
       "      <td>0.000025</td>\n",
       "      <td>0.000034</td>\n",
       "      <td>0.000539</td>\n",
       "      <td>1</td>\n",
       "      <td>1</td>\n",
       "      <td>85</td>\n",
       "      <td>149</td>\n",
       "      <td>85</td>\n",
       "      <td>149</td>\n",
       "      <td>...</td>\n",
       "      <td>4.340854e+05</td>\n",
       "      <td>117.0</td>\n",
       "      <td>45.254833</td>\n",
       "      <td>0.000539</td>\n",
       "      <td>0.0</td>\n",
       "      <td>0</td>\n",
       "      <td>0</td>\n",
       "      <td>0</td>\n",
       "      <td>0</td>\n",
       "      <td>1.752941</td>\n",
       "    </tr>\n",
       "    <tr>\n",
       "      <th>147967</th>\n",
       "      <td>0.000089</td>\n",
       "      <td>0.000179</td>\n",
       "      <td>0.000034</td>\n",
       "      <td>0.000195</td>\n",
       "      <td>1</td>\n",
       "      <td>1</td>\n",
       "      <td>165</td>\n",
       "      <td>54</td>\n",
       "      <td>165</td>\n",
       "      <td>54</td>\n",
       "      <td>...</td>\n",
       "      <td>1.122925e+06</td>\n",
       "      <td>109.5</td>\n",
       "      <td>78.488853</td>\n",
       "      <td>0.000195</td>\n",
       "      <td>0.0</td>\n",
       "      <td>0</td>\n",
       "      <td>0</td>\n",
       "      <td>0</td>\n",
       "      <td>0</td>\n",
       "      <td>0.327273</td>\n",
       "    </tr>\n",
       "    <tr>\n",
       "      <th>122790</th>\n",
       "      <td>0.000089</td>\n",
       "      <td>0.000179</td>\n",
       "      <td>0.000034</td>\n",
       "      <td>0.002731</td>\n",
       "      <td>1</td>\n",
       "      <td>1</td>\n",
       "      <td>87</td>\n",
       "      <td>87</td>\n",
       "      <td>87</td>\n",
       "      <td>87</td>\n",
       "      <td>...</td>\n",
       "      <td>6.371095e+04</td>\n",
       "      <td>87.0</td>\n",
       "      <td>0.000000</td>\n",
       "      <td>0.002731</td>\n",
       "      <td>0.0</td>\n",
       "      <td>0</td>\n",
       "      <td>0</td>\n",
       "      <td>0</td>\n",
       "      <td>0</td>\n",
       "      <td>1.000000</td>\n",
       "    </tr>\n",
       "  </tbody>\n",
       "</table>\n",
       "<p>186436 rows × 43 columns</p>\n",
       "</div>"
      ],
      "text/plain": [
       "           proto    srcPrt    dstPrt  flowduration  total_fpackets  \\\n",
       "130622  0.000089  0.000179  0.000034      0.244809               1   \n",
       "154682  0.000089  0.000025  0.000034      0.094433               1   \n",
       "62790   0.000089  0.000179  0.000034      0.128450               1   \n",
       "216383  0.000089  0.000068  0.000034      0.200984               1   \n",
       "145496  0.000089  0.000179  0.000034      0.000177               1   \n",
       "...          ...       ...       ...           ...             ...   \n",
       "120683  0.000089  0.001017  0.000034      0.000217               1   \n",
       "104328  0.000089  0.000068  0.000034      0.143165               1   \n",
       "132863  0.000089  0.000025  0.000034      0.000539               1   \n",
       "147967  0.000089  0.000179  0.000034      0.000195               1   \n",
       "122790  0.000089  0.000179  0.000034      0.002731               1   \n",
       "\n",
       "        total_bpackets  total_fpktl  total_bpktl  min_fpktl  min_bpktl  ...  \\\n",
       "130622               1           75          234         75        234  ...   \n",
       "154682               1           79          256         79        256  ...   \n",
       "62790                1           76           76         76         76  ...   \n",
       "216383               1           73           73         73         73  ...   \n",
       "145496               1           85          149         85        149  ...   \n",
       "...                ...          ...          ...        ...        ...  ...   \n",
       "120683               1           85          169         85        169  ...   \n",
       "104328               1           71           71         71         71  ...   \n",
       "132863               1           85          149         85        149  ...   \n",
       "147967               1          165           54        165         54  ...   \n",
       "122790               1           87           87         87         87  ...   \n",
       "\n",
       "        flowBytesPerSecond  mean_flowpktl  std_flowpktl  mean_flowipt  \\\n",
       "130622        1.262209e+03          154.5    112.429977      0.244809   \n",
       "154682        3.547486e+03          167.5    125.157898      0.094433   \n",
       "62790         1.183341e+03           76.0      0.000000      0.128450   \n",
       "216383        7.264260e+02           73.0      0.000000      0.200984   \n",
       "145496        1.322732e+06          117.0     45.254833      0.000177   \n",
       "...                    ...            ...           ...           ...   \n",
       "120683        1.170718e+06          127.0     59.396969      0.000217   \n",
       "104328        9.918618e+02           71.0      0.000000      0.143165   \n",
       "132863        4.340854e+05          117.0     45.254833      0.000539   \n",
       "147967        1.122925e+06          109.5     78.488853      0.000195   \n",
       "122790        6.371095e+04           87.0      0.000000      0.002731   \n",
       "\n",
       "        std_flowipt  flow_fin  flow_syn  flow_rst  flow_ack  downUpRatio  \n",
       "130622          0.0         0         0         0         0     3.120000  \n",
       "154682          0.0         0         0         0         0     3.240506  \n",
       "62790           0.0         0         0         0         0     1.000000  \n",
       "216383          0.0         0         0         0         0     1.000000  \n",
       "145496          0.0         0         0         0         0     1.752941  \n",
       "...             ...       ...       ...       ...       ...          ...  \n",
       "120683          0.0         0         0         0         0     1.988235  \n",
       "104328          0.0         0         0         0         0     1.000000  \n",
       "132863          0.0         0         0         0         0     1.752941  \n",
       "147967          0.0         0         0         0         0     0.327273  \n",
       "122790          0.0         0         0         0         0     1.000000  \n",
       "\n",
       "[186436 rows x 43 columns]"
      ]
     },
     "execution_count": 22,
     "metadata": {},
     "output_type": "execute_result"
    }
   ],
   "source": [
    "#show the coded features\n",
    "training_numeric_dataset"
   ]
  },
  {
   "cell_type": "code",
   "execution_count": 23,
   "metadata": {},
   "outputs": [
    {
     "data": {
      "text/html": [
       "<div>\n",
       "<style scoped>\n",
       "    .dataframe tbody tr th:only-of-type {\n",
       "        vertical-align: middle;\n",
       "    }\n",
       "\n",
       "    .dataframe tbody tr th {\n",
       "        vertical-align: top;\n",
       "    }\n",
       "\n",
       "    .dataframe thead th {\n",
       "        text-align: right;\n",
       "    }\n",
       "</style>\n",
       "<table border=\"1\" class=\"dataframe\">\n",
       "  <thead>\n",
       "    <tr style=\"text-align: right;\">\n",
       "      <th></th>\n",
       "      <th>proto</th>\n",
       "      <th>srcPrt</th>\n",
       "      <th>dstPrt</th>\n",
       "      <th>flowduration</th>\n",
       "      <th>total_fpackets</th>\n",
       "      <th>total_bpackets</th>\n",
       "      <th>total_fpktl</th>\n",
       "      <th>total_bpktl</th>\n",
       "      <th>min_fpktl</th>\n",
       "      <th>min_bpktl</th>\n",
       "      <th>...</th>\n",
       "      <th>flowBytesPerSecond</th>\n",
       "      <th>mean_flowpktl</th>\n",
       "      <th>std_flowpktl</th>\n",
       "      <th>mean_flowipt</th>\n",
       "      <th>std_flowipt</th>\n",
       "      <th>flow_fin</th>\n",
       "      <th>flow_syn</th>\n",
       "      <th>flow_rst</th>\n",
       "      <th>flow_ack</th>\n",
       "      <th>downUpRatio</th>\n",
       "    </tr>\n",
       "  </thead>\n",
       "  <tbody>\n",
       "    <tr>\n",
       "      <th>4767</th>\n",
       "      <td>0.017203</td>\n",
       "      <td>6.315573e-08</td>\n",
       "      <td>0.002744</td>\n",
       "      <td>7.186589</td>\n",
       "      <td>6</td>\n",
       "      <td>4</td>\n",
       "      <td>1260</td>\n",
       "      <td>530</td>\n",
       "      <td>60</td>\n",
       "      <td>54</td>\n",
       "      <td>...</td>\n",
       "      <td>2.490750e+02</td>\n",
       "      <td>179.000000</td>\n",
       "      <td>287.785797</td>\n",
       "      <td>1.330888</td>\n",
       "      <td>2.071102</td>\n",
       "      <td>1</td>\n",
       "      <td>2</td>\n",
       "      <td>1</td>\n",
       "      <td>9</td>\n",
       "      <td>0.420635</td>\n",
       "    </tr>\n",
       "    <tr>\n",
       "      <th>9787</th>\n",
       "      <td>0.017203</td>\n",
       "      <td>3.781459e-03</td>\n",
       "      <td>0.002744</td>\n",
       "      <td>5.254203</td>\n",
       "      <td>12</td>\n",
       "      <td>19</td>\n",
       "      <td>1951</td>\n",
       "      <td>21483</td>\n",
       "      <td>60</td>\n",
       "      <td>54</td>\n",
       "      <td>...</td>\n",
       "      <td>4.460048e+03</td>\n",
       "      <td>755.935484</td>\n",
       "      <td>668.596802</td>\n",
       "      <td>0.341379</td>\n",
       "      <td>1.257006</td>\n",
       "      <td>1</td>\n",
       "      <td>2</td>\n",
       "      <td>0</td>\n",
       "      <td>30</td>\n",
       "      <td>11.011276</td>\n",
       "    </tr>\n",
       "    <tr>\n",
       "      <th>88970</th>\n",
       "      <td>0.000089</td>\n",
       "      <td>0.000000e+00</td>\n",
       "      <td>0.000034</td>\n",
       "      <td>48.541293</td>\n",
       "      <td>12</td>\n",
       "      <td>12</td>\n",
       "      <td>1020</td>\n",
       "      <td>1020</td>\n",
       "      <td>85</td>\n",
       "      <td>85</td>\n",
       "      <td>...</td>\n",
       "      <td>4.202607e+01</td>\n",
       "      <td>85.000000</td>\n",
       "      <td>0.000000</td>\n",
       "      <td>2.271531</td>\n",
       "      <td>2.650631</td>\n",
       "      <td>0</td>\n",
       "      <td>0</td>\n",
       "      <td>0</td>\n",
       "      <td>0</td>\n",
       "      <td>1.000000</td>\n",
       "    </tr>\n",
       "    <tr>\n",
       "      <th>200741</th>\n",
       "      <td>0.000089</td>\n",
       "      <td>1.016991e-03</td>\n",
       "      <td>0.000034</td>\n",
       "      <td>0.000313</td>\n",
       "      <td>1</td>\n",
       "      <td>1</td>\n",
       "      <td>84</td>\n",
       "      <td>176</td>\n",
       "      <td>84</td>\n",
       "      <td>176</td>\n",
       "      <td>...</td>\n",
       "      <td>8.305552e+05</td>\n",
       "      <td>130.000000</td>\n",
       "      <td>65.053825</td>\n",
       "      <td>0.000313</td>\n",
       "      <td>0.000000</td>\n",
       "      <td>0</td>\n",
       "      <td>0</td>\n",
       "      <td>0</td>\n",
       "      <td>0</td>\n",
       "      <td>2.095238</td>\n",
       "    </tr>\n",
       "    <tr>\n",
       "      <th>50872</th>\n",
       "      <td>0.000089</td>\n",
       "      <td>3.445102e-06</td>\n",
       "      <td>0.000034</td>\n",
       "      <td>0.733001</td>\n",
       "      <td>1</td>\n",
       "      <td>1</td>\n",
       "      <td>72</td>\n",
       "      <td>72</td>\n",
       "      <td>72</td>\n",
       "      <td>72</td>\n",
       "      <td>...</td>\n",
       "      <td>1.964527e+02</td>\n",
       "      <td>72.000000</td>\n",
       "      <td>0.000000</td>\n",
       "      <td>0.733001</td>\n",
       "      <td>0.000000</td>\n",
       "      <td>0</td>\n",
       "      <td>0</td>\n",
       "      <td>0</td>\n",
       "      <td>0</td>\n",
       "      <td>1.000000</td>\n",
       "    </tr>\n",
       "    <tr>\n",
       "      <th>...</th>\n",
       "      <td>...</td>\n",
       "      <td>...</td>\n",
       "      <td>...</td>\n",
       "      <td>...</td>\n",
       "      <td>...</td>\n",
       "      <td>...</td>\n",
       "      <td>...</td>\n",
       "      <td>...</td>\n",
       "      <td>...</td>\n",
       "      <td>...</td>\n",
       "      <td>...</td>\n",
       "      <td>...</td>\n",
       "      <td>...</td>\n",
       "      <td>...</td>\n",
       "      <td>...</td>\n",
       "      <td>...</td>\n",
       "      <td>...</td>\n",
       "      <td>...</td>\n",
       "      <td>...</td>\n",
       "      <td>...</td>\n",
       "      <td>...</td>\n",
       "    </tr>\n",
       "    <tr>\n",
       "      <th>42421</th>\n",
       "      <td>0.017203</td>\n",
       "      <td>9.350122e-06</td>\n",
       "      <td>0.002744</td>\n",
       "      <td>0.238693</td>\n",
       "      <td>5</td>\n",
       "      <td>5</td>\n",
       "      <td>551</td>\n",
       "      <td>529</td>\n",
       "      <td>66</td>\n",
       "      <td>66</td>\n",
       "      <td>...</td>\n",
       "      <td>4.524641e+03</td>\n",
       "      <td>108.000000</td>\n",
       "      <td>83.603561</td>\n",
       "      <td>0.036432</td>\n",
       "      <td>0.059081</td>\n",
       "      <td>2</td>\n",
       "      <td>2</td>\n",
       "      <td>0</td>\n",
       "      <td>9</td>\n",
       "      <td>0.960073</td>\n",
       "    </tr>\n",
       "    <tr>\n",
       "      <th>233523</th>\n",
       "      <td>0.000089</td>\n",
       "      <td>1.793390e-04</td>\n",
       "      <td>0.000034</td>\n",
       "      <td>0.000387</td>\n",
       "      <td>1</td>\n",
       "      <td>1</td>\n",
       "      <td>85</td>\n",
       "      <td>255</td>\n",
       "      <td>85</td>\n",
       "      <td>255</td>\n",
       "      <td>...</td>\n",
       "      <td>8.786589e+05</td>\n",
       "      <td>170.000000</td>\n",
       "      <td>120.208153</td>\n",
       "      <td>0.000387</td>\n",
       "      <td>0.000000</td>\n",
       "      <td>0</td>\n",
       "      <td>0</td>\n",
       "      <td>0</td>\n",
       "      <td>0</td>\n",
       "      <td>3.000000</td>\n",
       "    </tr>\n",
       "    <tr>\n",
       "      <th>19280</th>\n",
       "      <td>0.017203</td>\n",
       "      <td>6.801411e-05</td>\n",
       "      <td>0.002744</td>\n",
       "      <td>0.000013</td>\n",
       "      <td>1</td>\n",
       "      <td>1</td>\n",
       "      <td>66</td>\n",
       "      <td>66</td>\n",
       "      <td>66</td>\n",
       "      <td>66</td>\n",
       "      <td>...</td>\n",
       "      <td>1.006633e+07</td>\n",
       "      <td>66.000000</td>\n",
       "      <td>0.000000</td>\n",
       "      <td>0.000013</td>\n",
       "      <td>0.000000</td>\n",
       "      <td>1</td>\n",
       "      <td>0</td>\n",
       "      <td>0</td>\n",
       "      <td>2</td>\n",
       "      <td>1.000000</td>\n",
       "    </tr>\n",
       "    <tr>\n",
       "      <th>131374</th>\n",
       "      <td>0.000089</td>\n",
       "      <td>3.781459e-03</td>\n",
       "      <td>0.000034</td>\n",
       "      <td>4.959883</td>\n",
       "      <td>1</td>\n",
       "      <td>1</td>\n",
       "      <td>71</td>\n",
       "      <td>71</td>\n",
       "      <td>71</td>\n",
       "      <td>71</td>\n",
       "      <td>...</td>\n",
       "      <td>2.862970e+01</td>\n",
       "      <td>71.000000</td>\n",
       "      <td>0.000000</td>\n",
       "      <td>4.959883</td>\n",
       "      <td>0.000000</td>\n",
       "      <td>0</td>\n",
       "      <td>0</td>\n",
       "      <td>0</td>\n",
       "      <td>0</td>\n",
       "      <td>1.000000</td>\n",
       "    </tr>\n",
       "    <tr>\n",
       "      <th>14702</th>\n",
       "      <td>0.017203</td>\n",
       "      <td>3.781459e-03</td>\n",
       "      <td>0.002744</td>\n",
       "      <td>5.091107</td>\n",
       "      <td>7</td>\n",
       "      <td>7</td>\n",
       "      <td>729</td>\n",
       "      <td>2141</td>\n",
       "      <td>60</td>\n",
       "      <td>54</td>\n",
       "      <td>...</td>\n",
       "      <td>5.637281e+02</td>\n",
       "      <td>205.000000</td>\n",
       "      <td>372.717682</td>\n",
       "      <td>0.391852</td>\n",
       "      <td>1.257404</td>\n",
       "      <td>2</td>\n",
       "      <td>2</td>\n",
       "      <td>0</td>\n",
       "      <td>13</td>\n",
       "      <td>2.936900</td>\n",
       "    </tr>\n",
       "  </tbody>\n",
       "</table>\n",
       "<p>46610 rows × 43 columns</p>\n",
       "</div>"
      ],
      "text/plain": [
       "           proto        srcPrt    dstPrt  flowduration  total_fpackets  \\\n",
       "4767    0.017203  6.315573e-08  0.002744      7.186589               6   \n",
       "9787    0.017203  3.781459e-03  0.002744      5.254203              12   \n",
       "88970   0.000089  0.000000e+00  0.000034     48.541293              12   \n",
       "200741  0.000089  1.016991e-03  0.000034      0.000313               1   \n",
       "50872   0.000089  3.445102e-06  0.000034      0.733001               1   \n",
       "...          ...           ...       ...           ...             ...   \n",
       "42421   0.017203  9.350122e-06  0.002744      0.238693               5   \n",
       "233523  0.000089  1.793390e-04  0.000034      0.000387               1   \n",
       "19280   0.017203  6.801411e-05  0.002744      0.000013               1   \n",
       "131374  0.000089  3.781459e-03  0.000034      4.959883               1   \n",
       "14702   0.017203  3.781459e-03  0.002744      5.091107               7   \n",
       "\n",
       "        total_bpackets  total_fpktl  total_bpktl  min_fpktl  min_bpktl  ...  \\\n",
       "4767                 4         1260          530         60         54  ...   \n",
       "9787                19         1951        21483         60         54  ...   \n",
       "88970               12         1020         1020         85         85  ...   \n",
       "200741               1           84          176         84        176  ...   \n",
       "50872                1           72           72         72         72  ...   \n",
       "...                ...          ...          ...        ...        ...  ...   \n",
       "42421                5          551          529         66         66  ...   \n",
       "233523               1           85          255         85        255  ...   \n",
       "19280                1           66           66         66         66  ...   \n",
       "131374               1           71           71         71         71  ...   \n",
       "14702                7          729         2141         60         54  ...   \n",
       "\n",
       "        flowBytesPerSecond  mean_flowpktl  std_flowpktl  mean_flowipt  \\\n",
       "4767          2.490750e+02     179.000000    287.785797      1.330888   \n",
       "9787          4.460048e+03     755.935484    668.596802      0.341379   \n",
       "88970         4.202607e+01      85.000000      0.000000      2.271531   \n",
       "200741        8.305552e+05     130.000000     65.053825      0.000313   \n",
       "50872         1.964527e+02      72.000000      0.000000      0.733001   \n",
       "...                    ...            ...           ...           ...   \n",
       "42421         4.524641e+03     108.000000     83.603561      0.036432   \n",
       "233523        8.786589e+05     170.000000    120.208153      0.000387   \n",
       "19280         1.006633e+07      66.000000      0.000000      0.000013   \n",
       "131374        2.862970e+01      71.000000      0.000000      4.959883   \n",
       "14702         5.637281e+02     205.000000    372.717682      0.391852   \n",
       "\n",
       "        std_flowipt  flow_fin  flow_syn  flow_rst  flow_ack  downUpRatio  \n",
       "4767       2.071102         1         2         1         9     0.420635  \n",
       "9787       1.257006         1         2         0        30    11.011276  \n",
       "88970      2.650631         0         0         0         0     1.000000  \n",
       "200741     0.000000         0         0         0         0     2.095238  \n",
       "50872      0.000000         0         0         0         0     1.000000  \n",
       "...             ...       ...       ...       ...       ...          ...  \n",
       "42421      0.059081         2         2         0         9     0.960073  \n",
       "233523     0.000000         0         0         0         0     3.000000  \n",
       "19280      0.000000         1         0         0         2     1.000000  \n",
       "131374     0.000000         0         0         0         0     1.000000  \n",
       "14702      1.257404         2         2         0        13     2.936900  \n",
       "\n",
       "[46610 rows x 43 columns]"
      ]
     },
     "execution_count": 23,
     "metadata": {},
     "output_type": "execute_result"
    }
   ],
   "source": [
    "#show the coded features\n",
    "testing_numeric_dataset"
   ]
  },
  {
   "cell_type": "markdown",
   "metadata": {},
   "source": [
    "# Standardization and scaling of numerical variables"
   ]
  },
  {
   "cell_type": "code",
   "execution_count": 24,
   "metadata": {},
   "outputs": [],
   "source": [
    "# import libraries\n",
    "from sklearn.preprocessing import StandardScaler\n",
    "from sklearn.compose import ColumnTransformer\n",
    "\n",
    "numeric_cols = training_numeric_dataset.select_dtypes(include=['float64', 'int']).columns.to_list()\n",
    "preprocessor = ColumnTransformer([('scale', StandardScaler(), numeric_cols)], remainder='passthrough')"
   ]
  },
  {
   "cell_type": "code",
   "execution_count": 25,
   "metadata": {},
   "outputs": [],
   "source": [
    "X_train_prep = preprocessor.fit_transform(training_numeric_dataset)\n",
    "X_test_prep  = preprocessor.transform(testing_numeric_dataset)\n",
    "#The result returned by ColumnTransformer is a numpy array, so the column names are lost."
   ]
  },
  {
   "cell_type": "code",
   "execution_count": 26,
   "metadata": {},
   "outputs": [
    {
     "data": {
      "text/plain": [
       "((186436, 43), (46610, 43))"
      ]
     },
     "execution_count": 26,
     "metadata": {},
     "output_type": "execute_result"
    }
   ],
   "source": [
    "#Dimensions of training and testing datasets\n",
    "X_train_prep.shape, X_test_prep.shape"
   ]
  },
  {
   "cell_type": "markdown",
   "metadata": {},
   "source": [
    "# Feature selection\n",
    "Exclusion of variables with variance close to zero"
   ]
  },
  {
   "cell_type": "code",
   "execution_count": 27,
   "metadata": {},
   "outputs": [],
   "source": [
    "#join the prepared traing and test datasets in a single array X and y\n",
    "X = np.vstack((X_train_prep, X_test_prep))\n",
    "y = np.hstack((y_train, y_test))"
   ]
  },
  {
   "cell_type": "code",
   "execution_count": 28,
   "metadata": {},
   "outputs": [
    {
     "data": {
      "text/plain": [
       "Counter({0: 232174, 1: 872})"
      ]
     },
     "execution_count": 28,
     "metadata": {},
     "output_type": "execute_result"
    }
   ],
   "source": [
    "collections.Counter(y)"
   ]
  },
  {
   "cell_type": "code",
   "execution_count": 29,
   "metadata": {},
   "outputs": [
    {
     "name": "stdout",
     "output_type": "stream",
     "text": [
      ">Threshold=0.00, Features=43\n",
      ">Threshold=0.05, Features=43\n",
      ">Threshold=0.10, Features=43\n",
      ">Threshold=0.15, Features=43\n",
      ">Threshold=0.20, Features=42\n",
      ">Threshold=0.25, Features=42\n",
      ">Threshold=0.30, Features=42\n",
      ">Threshold=0.35, Features=42\n",
      ">Threshold=0.40, Features=42\n",
      ">Threshold=0.45, Features=42\n",
      ">Threshold=0.50, Features=42\n",
      ">Threshold=0.55, Features=42\n",
      ">Threshold=0.60, Features=41\n",
      ">Threshold=0.65, Features=41\n"
     ]
    },
    {
     "data": {
      "image/png": "[encoded data removed]",
      "text/plain": [
       "<Figure size 432x288 with 1 Axes>"
      ]
     },
     "metadata": {
      "needs_background": "light"
     },
     "output_type": "display_data"
    }
   ],
   "source": [
    "#the VarianceThreshold class from sklearn support a type of feature selection\n",
    "from sklearn.feature_selection import VarianceThreshold\n",
    "from numpy import arange\n",
    "#split data into inputs\n",
    "#data=df_float.values\n",
    "#X=data[:,:]\n",
    "#define thresholds to check\n",
    "thresholds = arange(0.0,0.7,0.05)\n",
    "#apply transform with each treshold\n",
    "results=list()\n",
    "for t in thresholds:\n",
    "    #define the transform\n",
    "    transform = VarianceThreshold(threshold=t)\n",
    "    #transform the input data\n",
    "    X_sel=transform.fit_transform(X)\n",
    "    #determine the number of input features\n",
    "    n_features=X_sel.shape[1]\n",
    "    print('>Threshold=%.2f, Features=%d' %(t,n_features))\n",
    "    #store the result\n",
    "    results.append(n_features)\n",
    "#plot the theshold vs the number of selected features\n",
    "plt.plot(thresholds,results)\n",
    "plt.show()"
   ]
  },
  {
   "cell_type": "code",
   "execution_count": 30,
   "metadata": {},
   "outputs": [
    {
     "name": "stdout",
     "output_type": "stream",
     "text": [
      "(233046, 41)\n"
     ]
    }
   ],
   "source": [
    "#new set of selected features\n",
    "X=X_sel\n",
    "print(X.shape)"
   ]
  },
  {
   "cell_type": "markdown",
   "metadata": {},
   "source": [
    "# Create Machine Learning Models"
   ]
  },
  {
   "cell_type": "markdown",
   "metadata": {},
   "source": [
    "### a) Grid search with Logistic Regression (GS-LR)"
   ]
  },
  {
   "cell_type": "code",
   "execution_count": 31,
   "metadata": {},
   "outputs": [
    {
     "name": "stdout",
     "output_type": "stream",
     "text": [
      "Best: 0.996338 using {'class_weight': {0: 0.001, 1: 1.0}}\n",
      "0.996338 (0.004512) with: {'class_weight': {0: 0.001, 1: 1.0}}\n",
      "0.991506 (0.007167) with: {'class_weight': {0: 0.01, 1: 1.0}}\n",
      "0.987277 (0.009871) with: {'class_weight': {0: 0.1, 1: 1}}\n",
      "0.990923 (0.006545) with: {'class_weight': {0: 1, 1: 100}}\n",
      "0.995092 (0.005142) with: {'class_weight': {0: 1, 1: 200}}\n"
     ]
    },
    {
     "name": "stderr",
     "output_type": "stream",
     "text": [
      "C:\\Users\\pvelarde\\anaconda3\\lib\\site-packages\\sklearn\\linear_model\\_logistic.py:763: ConvergenceWarning: lbfgs failed to converge (status=1):\n",
      "STOP: TOTAL NO. of ITERATIONS REACHED LIMIT.\n",
      "\n",
      "Increase the number of iterations (max_iter) or scale the data as shown in:\n",
      "    https://scikit-learn.org/stable/modules/preprocessing.html\n",
      "Please also refer to the documentation for alternative solver options:\n",
      "    https://scikit-learn.org/stable/modules/linear_model.html#logistic-regression\n",
      "  n_iter_i = _check_optimize_result(\n"
     ]
    }
   ],
   "source": [
    "# grid search class weights with logistic regression for imbalanced classification\n",
    "\n",
    "model = LogisticRegression(solver='lbfgs',max_iter=1000)\n",
    "# define grid\n",
    "balance = [{0:0.001,1:1.0},{0:0.01,1:1.0}, {0:0.1,1:1}, {0:1,1:100},{0:1,1:200}]\n",
    "param_grid = dict(class_weight=balance)\n",
    "# define evaluation procedure\n",
    "cv = RepeatedStratifiedKFold(n_splits=10, n_repeats=3, random_state=1)\n",
    "# define grid search\n",
    "grid = GridSearchCV(estimator=model, param_grid=param_grid, n_jobs=-1, cv=cv,\n",
    "scoring='roc_auc')\n",
    "# execute the grid search\n",
    "grid_result = grid.fit(X, y)\n",
    "# report the best configuration\n",
    "print('Best: %f using %s' % (grid_result.best_score_, grid_result.best_params_))\n",
    "# report all configurations\n",
    "means = grid_result.cv_results_['mean_test_score']\n",
    "stds = grid_result.cv_results_['std_test_score']\n",
    "params = grid_result.cv_results_['params']\n",
    "for mean, stdev, param in zip(means, stds, params):\n",
    "    print('%f (%f) with: %r' % (mean, stdev, param))"
   ]
  },
  {
   "cell_type": "markdown",
   "metadata": {},
   "source": [
    "### Modelo de LR con pesos de clase seleccionado"
   ]
  },
  {
   "cell_type": "code",
   "execution_count": 30,
   "metadata": {},
   "outputs": [],
   "source": [
    "## split into train test sets\n",
    "X_train,X_test,y_train,y_test = train_test_split(X, y, test_size=0.2, random_state=42)"
   ]
  },
  {
   "cell_type": "code",
   "execution_count": 31,
   "metadata": {},
   "outputs": [
    {
     "name": "stderr",
     "output_type": "stream",
     "text": [
      "C:\\Users\\pvelarde\\anaconda3\\lib\\site-packages\\sklearn\\linear_model\\_logistic.py:763: ConvergenceWarning: lbfgs failed to converge (status=1):\n",
      "STOP: TOTAL NO. of ITERATIONS REACHED LIMIT.\n",
      "\n",
      "Increase the number of iterations (max_iter) or scale the data as shown in:\n",
      "    https://scikit-learn.org/stable/modules/preprocessing.html\n",
      "Please also refer to the documentation for alternative solver options:\n",
      "    https://scikit-learn.org/stable/modules/linear_model.html#logistic-regression\n",
      "  n_iter_i = _check_optimize_result(\n"
     ]
    }
   ],
   "source": [
    "#evaluating a class-weighted logistic regression algorithm on the imbalanced classiffication dataset\n",
    "#listing 16.12\n",
    "\n",
    "weights = {0: 0.01, 1: 1.0}\n",
    "model = LogisticRegression(solver='lbfgs', class_weight=weights,max_iter=2000)\n",
    "model.fit(X_train, y_train)\n",
    "y_pred=model.predict(X_test)"
   ]
  },
  {
   "cell_type": "code",
   "execution_count": 32,
   "metadata": {},
   "outputs": [
    {
     "name": "stdout",
     "output_type": "stream",
     "text": [
      "ROCAUC score: 0.9750141280947255\n",
      "Accuracy score: 0.993649431452478\n",
      "F1 score: 0.5083056478405316\n",
      "Recall score: 0.95625\n",
      "Precision score: 0.34615384615384615\n",
      "              precision    recall  f1-score   support\n",
      "\n",
      "     class 0       1.00      0.99      1.00     46450\n",
      "     class 1       0.35      0.96      0.51       160\n",
      "\n",
      "    accuracy                           0.99     46610\n",
      "   macro avg       0.67      0.98      0.75     46610\n",
      "weighted avg       1.00      0.99      1.00     46610\n",
      "\n"
     ]
    },
    {
     "data": {
      "image/png": "[encoded data removed]",
      "text/plain": [
       "<Figure size 432x288 with 2 Axes>"
      ]
     },
     "metadata": {
      "needs_background": "light"
     },
     "output_type": "display_data"
    }
   ],
   "source": [
    "print('ROCAUC score:',roc_auc_score(y_test, y_pred))\n",
    "print('Accuracy score:',accuracy_score(y_test, y_pred))\n",
    "print('F1 score:',f1_score(y_test, y_pred))\n",
    "print('Recall score:',recall_score(y_test, y_pred))\n",
    "print('Precision score:',precision_score(y_test, y_pred))\n",
    "print(classification_report(y_test, y_pred, target_names=target_names))\n",
    "plot_confusion_matrix(model, X_test, y_test, display_labels=target_names,cmap=plt.cm.Blues);"
   ]
  },
  {
   "cell_type": "markdown",
   "metadata": {},
   "source": [
    " ### b) Logistic Regression with Synthetic minority over-sampleing technique (LR+SMOTE)"
   ]
  },
  {
   "cell_type": "code",
   "execution_count": 39,
   "metadata": {},
   "outputs": [
    {
     "name": "stdout",
     "output_type": "stream",
     "text": [
      "Origianl dataset shape: Counter({0: 232174, 1: 872})\n",
      "Resample dataset shape: Counter({0: 232174, 1: 232174})\n"
     ]
    }
   ],
   "source": [
    "# load library\n",
    "from imblearn.over_sampling import SMOTE\n",
    "\n",
    "smote = SMOTE()\n",
    "\n",
    "# fit target and predictor variable\n",
    "X_smote , y_smote = smote.fit_resample(X, y)\n",
    "\n",
    "print('Origianl dataset shape:', Counter(y))\n",
    "print('Resample dataset shape:', Counter(y_smote))"
   ]
  },
  {
   "cell_type": "code",
   "execution_count": 40,
   "metadata": {},
   "outputs": [],
   "source": [
    "X_train2, X_test2, y_train2, y_test2 = train_test_split(X_smote, y_smote, test_size =0.20, random_state=42)"
   ]
  },
  {
   "cell_type": "code",
   "execution_count": 41,
   "metadata": {},
   "outputs": [
    {
     "name": "stderr",
     "output_type": "stream",
     "text": [
      "C:\\Users\\pvelarde\\anaconda3\\lib\\site-packages\\sklearn\\linear_model\\_logistic.py:763: ConvergenceWarning: lbfgs failed to converge (status=1):\n",
      "STOP: TOTAL NO. of ITERATIONS REACHED LIMIT.\n",
      "\n",
      "Increase the number of iterations (max_iter) or scale the data as shown in:\n",
      "    https://scikit-learn.org/stable/modules/preprocessing.html\n",
      "Please also refer to the documentation for alternative solver options:\n",
      "    https://scikit-learn.org/stable/modules/linear_model.html#logistic-regression\n",
      "  n_iter_i = _check_optimize_result(\n"
     ]
    }
   ],
   "source": [
    "model2=LogisticRegression(solver='lbfgs',max_iter=2000)\n",
    "model2.fit(X_train2, y_train2)\n",
    "y_pred2=model2.predict(X_test2)"
   ]
  },
  {
   "cell_type": "code",
   "execution_count": 42,
   "metadata": {},
   "outputs": [
    {
     "name": "stdout",
     "output_type": "stream",
     "text": [
      "ROCAUC score: 0.9918810887237363\n",
      "Accuracy score: 0.9918811241520404\n",
      "F1 score: 0.9918980486546892\n",
      "Recall score: 0.9918980486546892\n",
      "Precision score: 0.9918980486546892\n",
      "              precision    recall  f1-score   support\n",
      "\n",
      "     class 0       0.99      0.99      0.99     46338\n",
      "     class 1       0.99      0.99      0.99     46532\n",
      "\n",
      "    accuracy                           0.99     92870\n",
      "   macro avg       0.99      0.99      0.99     92870\n",
      "weighted avg       0.99      0.99      0.99     92870\n",
      "\n"
     ]
    },
    {
     "data": {
      "image/png": "[encoded data removed]",
      "text/plain": [
       "<Figure size 432x288 with 2 Axes>"
      ]
     },
     "metadata": {
      "needs_background": "light"
     },
     "output_type": "display_data"
    }
   ],
   "source": [
    "print('ROCAUC score:',roc_auc_score(y_test2, y_pred2))\n",
    "print('Accuracy score:',accuracy_score(y_test2, y_pred2))\n",
    "print('F1 score:',f1_score(y_test2, y_pred2))\n",
    "print('Recall score:',recall_score(y_test2, y_pred2))\n",
    "print('Precision score:',precision_score(y_test2, y_pred2))\n",
    "\n",
    "print(classification_report(y_test2, y_pred2, target_names=target_names))\n",
    "plot_confusion_matrix(model2, X_test2, y_test2, display_labels=target_names,cmap=plt.cm.Blues); "
   ]
  },
  {
   "cell_type": "markdown",
   "metadata": {},
   "source": [
    "### c) Weighted Support Vector Machine (W-SVM)"
   ]
  },
  {
   "cell_type": "code",
   "execution_count": null,
   "metadata": {},
   "outputs": [],
   "source": [
    "#train a model using Penalized-SVM on the original imbalanced dataset:\n",
    "# we can add class_weight='balanced' to add panalize mistake\n",
    "model_SVM = SVC(class_weight='balanced', probability=True)\n",
    "model_SVM.fit(X_train, y_train)\n",
    "y_pred_SVM = model_SVM.predict(X_test)"
   ]
  },
  {
   "cell_type": "code",
   "execution_count": 45,
   "metadata": {},
   "outputs": [],
   "source": [
    "y_pred_SVM = model_SVM.predict(X_test)"
   ]
  },
  {
   "cell_type": "code",
   "execution_count": 46,
   "metadata": {},
   "outputs": [
    {
     "name": "stdout",
     "output_type": "stream",
     "text": [
      "ROCAUC score: 0.6850988966630785\n",
      "Accuracy score: 0.9744475434456126\n",
      "F1 score: 0.09567198177676538\n",
      "Recall score: 0.39375\n",
      "Precision score: 0.05445116681071737\n",
      "              precision    recall  f1-score   support\n",
      "\n",
      "     class 0       1.00      0.98      0.99     46450\n",
      "     class 1       0.05      0.39      0.10       160\n",
      "\n",
      "    accuracy                           0.97     46610\n",
      "   macro avg       0.53      0.69      0.54     46610\n",
      "weighted avg       0.99      0.97      0.98     46610\n",
      "\n"
     ]
    },
    {
     "data": {
      "image/png": "[encoded data removed]",
      "text/plain": [
       "<Figure size 432x288 with 2 Axes>"
      ]
     },
     "metadata": {
      "needs_background": "light"
     },
     "output_type": "display_data"
    }
   ],
   "source": [
    "print('ROCAUC score:',roc_auc_score(y_test, y_pred_SVM))\n",
    "print('Accuracy score:',accuracy_score(y_test, y_pred_SVM))\n",
    "print('F1 score:',f1_score(y_test, y_pred_SVM))\n",
    "print('Recall score:',recall_score(y_test, y_pred_SVM))\n",
    "print('Precision score:',precision_score(y_test, y_pred_SVM))\n",
    "\n",
    "print(classification_report(y_test, y_pred_SVM, target_names=target_names))\n",
    "plot_confusion_matrix(model_SVM, X_test, y_test, display_labels=target_names,cmap=plt.cm.Blues);"
   ]
  },
  {
   "cell_type": "markdown",
   "metadata": {},
   "source": [
    "# Undersampling using CNN\n",
    "Condensed Nearest Neighbor (CNN) is used to remove redundant examples from the interior of the density of the majority class. "
   ]
  },
  {
   "cell_type": "code",
   "execution_count": 47,
   "metadata": {},
   "outputs": [],
   "source": [
    "# undersample an imbalanced dataset with the Condensed Nearest Neighbor Rule pp.148\n",
    "from imblearn.under_sampling import CondensedNearestNeighbour"
   ]
  },
  {
   "cell_type": "code",
   "execution_count": 48,
   "metadata": {},
   "outputs": [
    {
     "name": "stdout",
     "output_type": "stream",
     "text": [
      "Counter({0: 232174, 1: 872})\n"
     ]
    }
   ],
   "source": [
    "counter = Counter(y)\n",
    "print(counter)"
   ]
  },
  {
   "cell_type": "code",
   "execution_count": 49,
   "metadata": {},
   "outputs": [
    {
     "name": "stdout",
     "output_type": "stream",
     "text": [
      "Counter({1: 872, 0: 368})\n"
     ]
    }
   ],
   "source": [
    "# define the undersampling method\n",
    "undersample = CondensedNearestNeighbour(n_neighbors=1)\n",
    "# transform the dataset\n",
    "Xu, yu = undersample.fit_resample(X, y)\n",
    "# summarize the new class distribution\n",
    "counter = Counter(yu)\n",
    "print(counter)"
   ]
  },
  {
   "cell_type": "markdown",
   "metadata": {},
   "source": [
    "### d) Weighted Decision Tree with Condensed Nearest Neighbor (DT+CNN)\n",
    "The `DecisionTreeClassifier` class provides the class weight argument that can be speci ed as a model hyperparameter. The class weight is a dictionary that de nes each class label (e.g. 0 and 1) and the weighting to apply in the calculation of group purity for splits in the decision tree when tting the model."
   ]
  },
  {
   "cell_type": "code",
   "execution_count": 50,
   "metadata": {},
   "outputs": [],
   "source": [
    "X_train3, X_test3, y_train3, y_test3 = train_test_split(Xu, yu, test_size =0.20, random_state=42)"
   ]
  },
  {
   "cell_type": "code",
   "execution_count": 51,
   "metadata": {},
   "outputs": [],
   "source": [
    "# define model\n",
    "model_DT = DecisionTreeClassifier(class_weight='balanced')\n",
    "#model performance\n",
    "model_DT.fit(X_train3, y_train3)\n",
    "y_pred_DT=model_DT.predict(X_test3)"
   ]
  },
  {
   "cell_type": "code",
   "execution_count": 52,
   "metadata": {},
   "outputs": [
    {
     "name": "stdout",
     "output_type": "stream",
     "text": [
      "ROCAUC score: 0.9812971342383107\n",
      "Accuracy score: 0.9838709677419355\n",
      "F1 score: 0.9882352941176471\n",
      "Recall score: 0.9882352941176471\n",
      "Precision score: 0.9882352941176471\n",
      "              precision    recall  f1-score   support\n",
      "\n",
      "     class 0       0.97      0.97      0.97        78\n",
      "     class 1       0.99      0.99      0.99       170\n",
      "\n",
      "    accuracy                           0.98       248\n",
      "   macro avg       0.98      0.98      0.98       248\n",
      "weighted avg       0.98      0.98      0.98       248\n",
      "\n"
     ]
    },
    {
     "data": {
      "image/png": "[encoded data removed]",
      "text/plain": [
       "<Figure size 432x288 with 2 Axes>"
      ]
     },
     "metadata": {
      "needs_background": "light"
     },
     "output_type": "display_data"
    }
   ],
   "source": [
    "print('ROCAUC score:',roc_auc_score(y_test3, y_pred_DT))\n",
    "print('Accuracy score:',accuracy_score(y_test3, y_pred_DT))\n",
    "print('F1 score:',f1_score(y_test3, y_pred_DT))\n",
    "print('Recall score:',recall_score(y_test3, y_pred_DT))\n",
    "print('Precision score:',precision_score(y_test3, y_pred_DT))\n",
    "\n",
    "print(classification_report(y_test3, y_pred_DT, target_names=target_names))\n",
    "plot_confusion_matrix(model_DT, X_test3, y_test3, display_labels=target_names,cmap=plt.cm.Blues);"
   ]
  },
  {
   "cell_type": "markdown",
   "metadata": {},
   "source": [
    "### d) Weighted Decision Tree with Condensed Nearest Neighbor (DT+CNN)"
   ]
  },
  {
   "cell_type": "code",
   "execution_count": 55,
   "metadata": {},
   "outputs": [],
   "source": [
    "model_SVM_cnn = SVC(class_weight='balanced', probability=True)\n",
    "model_SVM_cnn.fit(X_train3, y_train3)\n",
    "y_pred_SVM_cnn = model_SVM_cnn.predict(X_test3)"
   ]
  },
  {
   "cell_type": "code",
   "execution_count": 56,
   "metadata": {},
   "outputs": [
    {
     "name": "stdout",
     "output_type": "stream",
     "text": [
      "ROCAUC score: 0.5835595776772248\n",
      "Accuracy score: 0.7096774193548387\n",
      "F1 score: 0.8134715025906736\n",
      "Recall score: 0.9235294117647059\n",
      "Precision score: 0.7268518518518519\n",
      "              precision    recall  f1-score   support\n",
      "\n",
      "     class 0       0.59      0.24      0.35        78\n",
      "     class 1       0.73      0.92      0.81       170\n",
      "\n",
      "    accuracy                           0.71       248\n",
      "   macro avg       0.66      0.58      0.58       248\n",
      "weighted avg       0.68      0.71      0.67       248\n",
      "\n"
     ]
    },
    {
     "data": {
      "image/png": "[encoded data removed]",
      "text/plain": [
       "<Figure size 432x288 with 2 Axes>"
      ]
     },
     "metadata": {
      "needs_background": "light"
     },
     "output_type": "display_data"
    }
   ],
   "source": [
    "print('ROCAUC score:',roc_auc_score(y_test3, y_pred_SVM_cnn))\n",
    "print('Accuracy score:',accuracy_score(y_test3, y_pred_SVM_cnn))\n",
    "print('F1 score:',f1_score(y_test3, y_pred_SVM_cnn))\n",
    "print('Recall score:',recall_score(y_test3, y_pred_SVM_cnn))\n",
    "print('Precision score:',precision_score(y_test3, y_pred_SVM_cnn))\n",
    "\n",
    "print(classification_report(y_test3, y_pred_SVM_cnn, target_names=target_names))\n",
    "plot_confusion_matrix(model_SVM_cnn, X_test3, y_test3, display_labels=target_names,cmap=plt.cm.Blues);"
   ]
  }
 ],
 "metadata": {
  "kernelspec": {
   "display_name": "Python 3",
   "language": "python",
   "name": "python3"
  },
  "language_info": {
   "codemirror_mode": {
    "name": "ipython",
    "version": 3
   },
   "file_extension": ".py",
   "mimetype": "text/x-python",
   "name": "python",
   "nbconvert_exporter": "python",
   "pygments_lexer": "ipython3",
   "version": "3.8.5"
  }
 },
 "nbformat": 4,
 "nbformat_minor": 4
}
