{
 "cells": [
  {
   "cell_type": "markdown",
   "metadata": {},
   "source": [
    "# Jupiter's Notebook for Scenario 04\n",
    "Requieres: [CategoryEncoders](http://contrib.scikit-learn.org/category_encoders/), and [imbalanced-learn](https://imbalanced-learn.org/stable/)<br>\n",
    "`pip install category_encoders`<br>\n",
    "`pip install imbalanced-learn`"
   ]
  },
  {
   "cell_type": "code",
   "execution_count": 1,
   "metadata": {},
   "outputs": [],
   "source": [
    "#import libraries\n",
    "import numpy as np\n",
    "import pandas as pd\n",
    "import collections\n",
    "import matplotlib.pyplot as plt\n",
    "from sklearn.model_selection import train_test_split\n",
    "from sklearn.compose import ColumnTransformer\n",
    "from sklearn.feature_selection import SelectKBest,chi2\n",
    "from sklearn.linear_model import LogisticRegression\n",
    "from sklearn.svm import SVC\n",
    "from sklearn.tree import DecisionTreeClassifier\n",
    "from sklearn.model_selection import RepeatedStratifiedKFold\n",
    "from sklearn.model_selection import cross_val_score\n",
    "from sklearn.model_selection import GridSearchCV\n",
    "from collections import Counter\n",
    "from sklearn.metrics import confusion_matrix\n",
    "from sklearn.metrics import accuracy_score, recall_score, precision_score, f1_score, confusion_matrix, roc_auc_score\n",
    "from sklearn.metrics import classification_report\n",
    "from sklearn.metrics import plot_confusion_matrix\n",
    "from sklearn.calibration import CalibratedClassifierCV"
   ]
  },
  {
   "cell_type": "code",
   "execution_count": 2,
   "metadata": {},
   "outputs": [],
   "source": [
    "#To identify class 0 and 1, respectively\n",
    "target_names = ['class 0', 'class 1']"
   ]
  },
  {
   "cell_type": "code",
   "execution_count": 3,
   "metadata": {},
   "outputs": [],
   "source": [
    "#load dataset\n",
    "df=pd.read_csv('esc-04-Mixed-traffic.csv')"
   ]
  },
  {
   "cell_type": "code",
   "execution_count": 4,
   "metadata": {},
   "outputs": [
    {
     "data": {
      "text/plain": [
       "(306189, 52)"
      ]
     },
     "execution_count": 4,
     "metadata": {},
     "output_type": "execute_result"
    }
   ],
   "source": [
    "#check dimensions\n",
    "df.shape"
   ]
  },
  {
   "cell_type": "markdown",
   "metadata": {},
   "source": [
    "## Pre-feature selection"
   ]
  },
  {
   "cell_type": "code",
   "execution_count": 5,
   "metadata": {},
   "outputs": [
    {
     "name": "stdout",
     "output_type": "stream",
     "text": [
      "proto                 0\n",
      "ts                    0\n",
      "srcIP                 0\n",
      "srcPrt                0\n",
      "dstIP                 0\n",
      "dstPrt                0\n",
      "flowduration          0\n",
      "total_fpackets        0\n",
      "total_bpackets        0\n",
      "total_fpktl           0\n",
      "total_bpktl           0\n",
      "min_fpktl             0\n",
      "min_bpktl             0\n",
      "max_fpktl             0\n",
      "max_bpktl             0\n",
      "mean_fpktl            0\n",
      "mean_bpktl            0\n",
      "std_fpktl             0\n",
      "std_bpktl             0\n",
      "total_fipt            0\n",
      "total_bipt            0\n",
      "min_fipt              0\n",
      "min_bipt              0\n",
      "max_fipt              0\n",
      "max_bipt              0\n",
      "mean_fipt             0\n",
      "mean_bipt             0\n",
      "std_fipt              0\n",
      "std_bipt              0\n",
      "fpsh_cnt              0\n",
      "bpsh_cnt              0\n",
      "furg_cnt              0\n",
      "burg_cnt              0\n",
      "total_fhlen           0\n",
      "total_bhlen           0\n",
      "fPktsPerSecond        0\n",
      "bPktsPerSecond        0\n",
      "flowPktsPerSecond     0\n",
      "flowBytesPerSecond    0\n",
      "mean_flowpktl         0\n",
      "std_flowpktl          0\n",
      "mean_flowipt          0\n",
      "std_flowipt           0\n",
      "flow_fin              0\n",
      "flow_syn              0\n",
      "flow_rst              0\n",
      "flow_ack              0\n",
      "flow_urg              0\n",
      "flow_cwr              0\n",
      "flow_ece              0\n",
      "downUpRatio           0\n",
      "label                 0\n",
      "dtype: int64\n",
      "0\n"
     ]
    }
   ],
   "source": [
    "#check the number of null values\n",
    "print(df.isnull().sum())\n",
    "print(df.isnull().values.sum())"
   ]
  },
  {
   "cell_type": "code",
   "execution_count": 6,
   "metadata": {},
   "outputs": [],
   "source": [
    "#Dropping Rows with NA inplace\n",
    "df.dropna(inplace=True)"
   ]
  },
  {
   "cell_type": "code",
   "execution_count": 7,
   "metadata": {},
   "outputs": [
    {
     "name": "stdout",
     "output_type": "stream",
     "text": [
      "proto                      2\n",
      "ts                    306189\n",
      "srcIP                  11689\n",
      "srcPrt                 55439\n",
      "dstIP                  10472\n",
      "dstPrt                   253\n",
      "flowduration          187275\n",
      "total_fpackets           757\n",
      "total_bpackets           955\n",
      "total_fpktl             8786\n",
      "total_bpktl            17519\n",
      "min_fpktl                129\n",
      "min_bpktl                496\n",
      "max_fpktl               1295\n",
      "max_bpktl                952\n",
      "mean_fpktl             16481\n",
      "mean_bpktl             20690\n",
      "std_fpktl              27150\n",
      "std_bpktl              25898\n",
      "total_fipt             76284\n",
      "total_bipt             59794\n",
      "min_fipt               41025\n",
      "min_bipt               20208\n",
      "max_fipt               74006\n",
      "max_bipt               54941\n",
      "mean_fipt              73547\n",
      "mean_bipt              58506\n",
      "std_fipt               60371\n",
      "std_bipt               52206\n",
      "fpsh_cnt                 152\n",
      "bpsh_cnt                 396\n",
      "furg_cnt                   1\n",
      "burg_cnt                   1\n",
      "total_fhlen             3197\n",
      "total_bhlen             4339\n",
      "fPktsPerSecond        172894\n",
      "bPktsPerSecond        169790\n",
      "flowPktsPerSecond     176347\n",
      "flowBytesPerSecond    221167\n",
      "mean_flowpktl          29061\n",
      "std_flowpktl           42534\n",
      "mean_flowipt          182102\n",
      "std_flowipt            78131\n",
      "flow_fin                  18\n",
      "flow_syn                  13\n",
      "flow_rst                  20\n",
      "flow_ack                1218\n",
      "flow_urg                   1\n",
      "flow_cwr                   2\n",
      "flow_ece                   2\n",
      "downUpRatio            45307\n",
      "label                      2\n",
      "dtype: int64\n"
     ]
    }
   ],
   "source": [
    "#sumarize the number of unique values for each column \n",
    "print(df.nunique())"
   ]
  },
  {
   "cell_type": "code",
   "execution_count": 8,
   "metadata": {},
   "outputs": [
    {
     "name": "stdout",
     "output_type": "stream",
     "text": [
      "[31, 32, 47]\n",
      "(306189, 49)\n"
     ]
    }
   ],
   "source": [
    "#delete columns with a single unique value\n",
    "#get the indexes of the single-valued columns\n",
    "counts=df.nunique()\n",
    "to_del=[i for i,v in enumerate(counts) if v==1]\n",
    "print(to_del)\n",
    "#drop unless columns\n",
    "df.drop(df.columns[to_del],axis=1,inplace=True)\n",
    "print(df.shape)"
   ]
  },
  {
   "cell_type": "code",
   "execution_count": 9,
   "metadata": {},
   "outputs": [
    {
     "name": "stdout",
     "output_type": "stream",
     "text": [
      "proto                      2\n",
      "ts                    306189\n",
      "srcIP                  11689\n",
      "srcPrt                 55439\n",
      "dstIP                  10472\n",
      "dstPrt                   253\n",
      "flowduration          187275\n",
      "total_fpackets           757\n",
      "total_bpackets           955\n",
      "total_fpktl             8786\n",
      "total_bpktl            17519\n",
      "min_fpktl                129\n",
      "min_bpktl                496\n",
      "max_fpktl               1295\n",
      "max_bpktl                952\n",
      "mean_fpktl             16481\n",
      "mean_bpktl             20690\n",
      "std_fpktl              27150\n",
      "std_bpktl              25898\n",
      "total_fipt             76284\n",
      "total_bipt             59794\n",
      "min_fipt               41025\n",
      "min_bipt               20208\n",
      "max_fipt               74006\n",
      "max_bipt               54941\n",
      "mean_fipt              73547\n",
      "mean_bipt              58506\n",
      "std_fipt               60371\n",
      "std_bipt               52206\n",
      "fpsh_cnt                 152\n",
      "bpsh_cnt                 396\n",
      "total_fhlen             3197\n",
      "total_bhlen             4339\n",
      "fPktsPerSecond        172894\n",
      "bPktsPerSecond        169790\n",
      "flowPktsPerSecond     176347\n",
      "flowBytesPerSecond    221167\n",
      "mean_flowpktl          29061\n",
      "std_flowpktl           42534\n",
      "mean_flowipt          182102\n",
      "std_flowipt            78131\n",
      "flow_fin                  18\n",
      "flow_syn                  13\n",
      "flow_rst                  20\n",
      "flow_ack                1218\n",
      "flow_cwr                   2\n",
      "flow_ece                   2\n",
      "downUpRatio            45307\n",
      "label                      2\n",
      "dtype: int64\n"
     ]
    }
   ],
   "source": [
    "#sumarize the number of unique values for each column \n",
    "print(df.nunique())"
   ]
  },
  {
   "cell_type": "code",
   "execution_count": 10,
   "metadata": {},
   "outputs": [],
   "source": [
    "#delete ts, srcIP and dstIP featrures\n",
    "df.drop(['ts','srcIP','dstIP'],axis=1,inplace=True)"
   ]
  },
  {
   "cell_type": "code",
   "execution_count": 11,
   "metadata": {},
   "outputs": [
    {
     "data": {
      "image/png": "[encoded data removed]",
      "text/plain": [
       "<Figure size 432x288 with 1 Axes>"
      ]
     },
     "metadata": {
      "needs_background": "light"
     },
     "output_type": "display_data"
    }
   ],
   "source": [
    "#Consider columns that have very few values, e.g. flow_cwr column\n",
    "ax = df['flow_cwr'].value_counts().plot(kind='bar',fontsize=16) \n",
    "for p in ax.patches:\n",
    "    x = p.get_x()\n",
    "    h = p.get_height()\n",
    "    w = p.get_width()\n",
    "    ax.annotate(f'{h:.0f}\\n', (x + w/2, h), ha='center', va='center', size=16)\n",
    "plt.margins(y=0.2)\n",
    "plt.tight_layout()\n",
    "plt.show()"
   ]
  },
  {
   "cell_type": "code",
   "execution_count": 12,
   "metadata": {},
   "outputs": [
    {
     "data": {
      "image/png": "[encoded data removed]",
      "text/plain": [
       "<Figure size 432x288 with 1 Axes>"
      ]
     },
     "metadata": {
      "needs_background": "light"
     },
     "output_type": "display_data"
    }
   ],
   "source": [
    "#Consider columns that have very few values, e.g. flow_cwr column\n",
    "ax = df['flow_ece'].value_counts().plot(kind='bar',fontsize=16) \n",
    "for p in ax.patches:\n",
    "    x = p.get_x()\n",
    "    h = p.get_height()\n",
    "    w = p.get_width()\n",
    "    ax.annotate(f'{h:.0f}\\n', (x + w/2, h), ha='center', va='center', size=16)\n",
    "plt.margins(y=0.2)\n",
    "plt.tight_layout()\n",
    "plt.show()"
   ]
  },
  {
   "cell_type": "code",
   "execution_count": 13,
   "metadata": {},
   "outputs": [],
   "source": [
    "#delete flow_ece column\n",
    "df.drop('flow_cwr',axis=1,inplace=True)"
   ]
  },
  {
   "cell_type": "code",
   "execution_count": 14,
   "metadata": {},
   "outputs": [],
   "source": [
    "#delete flow_cwr column\n",
    "df.drop('flow_ece',axis=1,inplace=True)"
   ]
  },
  {
   "cell_type": "code",
   "execution_count": 15,
   "metadata": {},
   "outputs": [
    {
     "data": {
      "text/plain": [
       "Counter({0: 305991, 1: 198})"
      ]
     },
     "execution_count": 15,
     "metadata": {},
     "output_type": "execute_result"
    }
   ],
   "source": [
    "#counting classes\n",
    "collections.Counter(df.label.values)"
   ]
  },
  {
   "cell_type": "code",
   "execution_count": 16,
   "metadata": {},
   "outputs": [
    {
     "name": "stdout",
     "output_type": "stream",
     "text": [
      "(306189, 44)\n",
      "(303784, 44)\n"
     ]
    }
   ],
   "source": [
    "#Delete Rows That Contain Duplicate Data\n",
    "print(df.shape)\n",
    "df.drop_duplicates(inplace=True)\n",
    "print(df.shape)"
   ]
  },
  {
   "cell_type": "code",
   "execution_count": 17,
   "metadata": {},
   "outputs": [
    {
     "data": {
      "text/plain": [
       "Counter({0: 303587, 1: 197})"
      ]
     },
     "execution_count": 17,
     "metadata": {},
     "output_type": "execute_result"
    }
   ],
   "source": [
    "#counting classes\n",
    "collections.Counter(df.label.values)"
   ]
  },
  {
   "cell_type": "code",
   "execution_count": 18,
   "metadata": {},
   "outputs": [
    {
     "data": {
      "text/html": [
       "<div>\n",
       "<style scoped>\n",
       "    .dataframe tbody tr th:only-of-type {\n",
       "        vertical-align: middle;\n",
       "    }\n",
       "\n",
       "    .dataframe tbody tr th {\n",
       "        vertical-align: top;\n",
       "    }\n",
       "\n",
       "    .dataframe thead th {\n",
       "        text-align: right;\n",
       "    }\n",
       "</style>\n",
       "<table border=\"1\" class=\"dataframe\">\n",
       "  <thead>\n",
       "    <tr style=\"text-align: right;\">\n",
       "      <th></th>\n",
       "      <th>proto</th>\n",
       "      <th>srcPrt</th>\n",
       "      <th>dstPrt</th>\n",
       "      <th>flowduration</th>\n",
       "      <th>total_fpackets</th>\n",
       "      <th>total_bpackets</th>\n",
       "      <th>total_fpktl</th>\n",
       "      <th>total_bpktl</th>\n",
       "      <th>min_fpktl</th>\n",
       "      <th>min_bpktl</th>\n",
       "      <th>...</th>\n",
       "      <th>mean_flowpktl</th>\n",
       "      <th>std_flowpktl</th>\n",
       "      <th>mean_flowipt</th>\n",
       "      <th>std_flowipt</th>\n",
       "      <th>flow_fin</th>\n",
       "      <th>flow_syn</th>\n",
       "      <th>flow_rst</th>\n",
       "      <th>flow_ack</th>\n",
       "      <th>downUpRatio</th>\n",
       "      <th>label</th>\n",
       "    </tr>\n",
       "  </thead>\n",
       "  <tbody>\n",
       "    <tr>\n",
       "      <th>0</th>\n",
       "      <td>TCP</td>\n",
       "      <td>12686</td>\n",
       "      <td>25</td>\n",
       "      <td>0.000014</td>\n",
       "      <td>1</td>\n",
       "      <td>1</td>\n",
       "      <td>62</td>\n",
       "      <td>54</td>\n",
       "      <td>62</td>\n",
       "      <td>54</td>\n",
       "      <td>...</td>\n",
       "      <td>58.000000</td>\n",
       "      <td>5.656854</td>\n",
       "      <td>0.000014</td>\n",
       "      <td>0.000000</td>\n",
       "      <td>0</td>\n",
       "      <td>1</td>\n",
       "      <td>1</td>\n",
       "      <td>1</td>\n",
       "      <td>0.870968</td>\n",
       "      <td>0</td>\n",
       "    </tr>\n",
       "    <tr>\n",
       "      <th>1</th>\n",
       "      <td>TCP</td>\n",
       "      <td>59694</td>\n",
       "      <td>80</td>\n",
       "      <td>8.593100</td>\n",
       "      <td>6</td>\n",
       "      <td>5</td>\n",
       "      <td>923</td>\n",
       "      <td>502</td>\n",
       "      <td>60</td>\n",
       "      <td>54</td>\n",
       "      <td>...</td>\n",
       "      <td>129.545455</td>\n",
       "      <td>175.829102</td>\n",
       "      <td>1.340874</td>\n",
       "      <td>2.130220</td>\n",
       "      <td>2</td>\n",
       "      <td>2</td>\n",
       "      <td>0</td>\n",
       "      <td>10</td>\n",
       "      <td>0.543879</td>\n",
       "      <td>0</td>\n",
       "    </tr>\n",
       "    <tr>\n",
       "      <th>2</th>\n",
       "      <td>TCP</td>\n",
       "      <td>54641</td>\n",
       "      <td>80</td>\n",
       "      <td>1.518976</td>\n",
       "      <td>7</td>\n",
       "      <td>6</td>\n",
       "      <td>682</td>\n",
       "      <td>2313</td>\n",
       "      <td>66</td>\n",
       "      <td>66</td>\n",
       "      <td>...</td>\n",
       "      <td>230.384615</td>\n",
       "      <td>393.028290</td>\n",
       "      <td>0.163290</td>\n",
       "      <td>0.264648</td>\n",
       "      <td>2</td>\n",
       "      <td>2</td>\n",
       "      <td>0</td>\n",
       "      <td>12</td>\n",
       "      <td>3.391496</td>\n",
       "      <td>0</td>\n",
       "    </tr>\n",
       "    <tr>\n",
       "      <th>3</th>\n",
       "      <td>TCP</td>\n",
       "      <td>11449</td>\n",
       "      <td>25</td>\n",
       "      <td>1.114772</td>\n",
       "      <td>3</td>\n",
       "      <td>3</td>\n",
       "      <td>186</td>\n",
       "      <td>162</td>\n",
       "      <td>62</td>\n",
       "      <td>54</td>\n",
       "      <td>...</td>\n",
       "      <td>58.000000</td>\n",
       "      <td>4.381781</td>\n",
       "      <td>0.222960</td>\n",
       "      <td>0.313212</td>\n",
       "      <td>0</td>\n",
       "      <td>3</td>\n",
       "      <td>3</td>\n",
       "      <td>3</td>\n",
       "      <td>0.870968</td>\n",
       "      <td>0</td>\n",
       "    </tr>\n",
       "    <tr>\n",
       "      <th>4</th>\n",
       "      <td>TCP</td>\n",
       "      <td>59695</td>\n",
       "      <td>80</td>\n",
       "      <td>14.950082</td>\n",
       "      <td>8</td>\n",
       "      <td>6</td>\n",
       "      <td>1676</td>\n",
       "      <td>1212</td>\n",
       "      <td>60</td>\n",
       "      <td>54</td>\n",
       "      <td>...</td>\n",
       "      <td>206.285714</td>\n",
       "      <td>260.677063</td>\n",
       "      <td>1.519740</td>\n",
       "      <td>2.568937</td>\n",
       "      <td>1</td>\n",
       "      <td>2</td>\n",
       "      <td>1</td>\n",
       "      <td>13</td>\n",
       "      <td>0.723150</td>\n",
       "      <td>0</td>\n",
       "    </tr>\n",
       "    <tr>\n",
       "      <th>...</th>\n",
       "      <td>...</td>\n",
       "      <td>...</td>\n",
       "      <td>...</td>\n",
       "      <td>...</td>\n",
       "      <td>...</td>\n",
       "      <td>...</td>\n",
       "      <td>...</td>\n",
       "      <td>...</td>\n",
       "      <td>...</td>\n",
       "      <td>...</td>\n",
       "      <td>...</td>\n",
       "      <td>...</td>\n",
       "      <td>...</td>\n",
       "      <td>...</td>\n",
       "      <td>...</td>\n",
       "      <td>...</td>\n",
       "      <td>...</td>\n",
       "      <td>...</td>\n",
       "      <td>...</td>\n",
       "      <td>...</td>\n",
       "      <td>...</td>\n",
       "    </tr>\n",
       "    <tr>\n",
       "      <th>306184</th>\n",
       "      <td>UDP</td>\n",
       "      <td>62204</td>\n",
       "      <td>53</td>\n",
       "      <td>0.270114</td>\n",
       "      <td>1</td>\n",
       "      <td>1</td>\n",
       "      <td>78</td>\n",
       "      <td>78</td>\n",
       "      <td>78</td>\n",
       "      <td>78</td>\n",
       "      <td>...</td>\n",
       "      <td>78.000000</td>\n",
       "      <td>0.000000</td>\n",
       "      <td>0.270114</td>\n",
       "      <td>0.000000</td>\n",
       "      <td>0</td>\n",
       "      <td>0</td>\n",
       "      <td>0</td>\n",
       "      <td>0</td>\n",
       "      <td>1.000000</td>\n",
       "      <td>0</td>\n",
       "    </tr>\n",
       "    <tr>\n",
       "      <th>306185</th>\n",
       "      <td>UDP</td>\n",
       "      <td>28571</td>\n",
       "      <td>53</td>\n",
       "      <td>0.000281</td>\n",
       "      <td>1</td>\n",
       "      <td>1</td>\n",
       "      <td>74</td>\n",
       "      <td>166</td>\n",
       "      <td>74</td>\n",
       "      <td>166</td>\n",
       "      <td>...</td>\n",
       "      <td>120.000000</td>\n",
       "      <td>65.053825</td>\n",
       "      <td>0.000281</td>\n",
       "      <td>0.000000</td>\n",
       "      <td>0</td>\n",
       "      <td>0</td>\n",
       "      <td>0</td>\n",
       "      <td>0</td>\n",
       "      <td>2.243243</td>\n",
       "      <td>0</td>\n",
       "    </tr>\n",
       "    <tr>\n",
       "      <th>306186</th>\n",
       "      <td>UDP</td>\n",
       "      <td>62218</td>\n",
       "      <td>53</td>\n",
       "      <td>0.000000</td>\n",
       "      <td>1</td>\n",
       "      <td>0</td>\n",
       "      <td>72</td>\n",
       "      <td>0</td>\n",
       "      <td>72</td>\n",
       "      <td>0</td>\n",
       "      <td>...</td>\n",
       "      <td>72.000000</td>\n",
       "      <td>0.000000</td>\n",
       "      <td>0.000000</td>\n",
       "      <td>0.000000</td>\n",
       "      <td>0</td>\n",
       "      <td>0</td>\n",
       "      <td>0</td>\n",
       "      <td>0</td>\n",
       "      <td>0.000000</td>\n",
       "      <td>0</td>\n",
       "    </tr>\n",
       "    <tr>\n",
       "      <th>306187</th>\n",
       "      <td>UDP</td>\n",
       "      <td>62219</td>\n",
       "      <td>53</td>\n",
       "      <td>0.000000</td>\n",
       "      <td>1</td>\n",
       "      <td>0</td>\n",
       "      <td>78</td>\n",
       "      <td>0</td>\n",
       "      <td>78</td>\n",
       "      <td>0</td>\n",
       "      <td>...</td>\n",
       "      <td>78.000000</td>\n",
       "      <td>0.000000</td>\n",
       "      <td>0.000000</td>\n",
       "      <td>0.000000</td>\n",
       "      <td>0</td>\n",
       "      <td>0</td>\n",
       "      <td>0</td>\n",
       "      <td>0</td>\n",
       "      <td>0.000000</td>\n",
       "      <td>0</td>\n",
       "    </tr>\n",
       "    <tr>\n",
       "      <th>306188</th>\n",
       "      <td>UDP</td>\n",
       "      <td>62220</td>\n",
       "      <td>53</td>\n",
       "      <td>0.000000</td>\n",
       "      <td>1</td>\n",
       "      <td>0</td>\n",
       "      <td>72</td>\n",
       "      <td>0</td>\n",
       "      <td>72</td>\n",
       "      <td>0</td>\n",
       "      <td>...</td>\n",
       "      <td>72.000000</td>\n",
       "      <td>0.000000</td>\n",
       "      <td>0.000000</td>\n",
       "      <td>0.000000</td>\n",
       "      <td>0</td>\n",
       "      <td>0</td>\n",
       "      <td>0</td>\n",
       "      <td>0</td>\n",
       "      <td>0.000000</td>\n",
       "      <td>0</td>\n",
       "    </tr>\n",
       "  </tbody>\n",
       "</table>\n",
       "<p>303784 rows × 44 columns</p>\n",
       "</div>"
      ],
      "text/plain": [
       "       proto  srcPrt  dstPrt  flowduration  total_fpackets  total_bpackets  \\\n",
       "0        TCP   12686      25      0.000014               1               1   \n",
       "1        TCP   59694      80      8.593100               6               5   \n",
       "2        TCP   54641      80      1.518976               7               6   \n",
       "3        TCP   11449      25      1.114772               3               3   \n",
       "4        TCP   59695      80     14.950082               8               6   \n",
       "...      ...     ...     ...           ...             ...             ...   \n",
       "306184   UDP   62204      53      0.270114               1               1   \n",
       "306185   UDP   28571      53      0.000281               1               1   \n",
       "306186   UDP   62218      53      0.000000               1               0   \n",
       "306187   UDP   62219      53      0.000000               1               0   \n",
       "306188   UDP   62220      53      0.000000               1               0   \n",
       "\n",
       "        total_fpktl  total_bpktl  min_fpktl  min_bpktl  ...  mean_flowpktl  \\\n",
       "0                62           54         62         54  ...      58.000000   \n",
       "1               923          502         60         54  ...     129.545455   \n",
       "2               682         2313         66         66  ...     230.384615   \n",
       "3               186          162         62         54  ...      58.000000   \n",
       "4              1676         1212         60         54  ...     206.285714   \n",
       "...             ...          ...        ...        ...  ...            ...   \n",
       "306184           78           78         78         78  ...      78.000000   \n",
       "306185           74          166         74        166  ...     120.000000   \n",
       "306186           72            0         72          0  ...      72.000000   \n",
       "306187           78            0         78          0  ...      78.000000   \n",
       "306188           72            0         72          0  ...      72.000000   \n",
       "\n",
       "        std_flowpktl  mean_flowipt  std_flowipt  flow_fin  flow_syn  flow_rst  \\\n",
       "0           5.656854      0.000014     0.000000         0         1         1   \n",
       "1         175.829102      1.340874     2.130220         2         2         0   \n",
       "2         393.028290      0.163290     0.264648         2         2         0   \n",
       "3           4.381781      0.222960     0.313212         0         3         3   \n",
       "4         260.677063      1.519740     2.568937         1         2         1   \n",
       "...              ...           ...          ...       ...       ...       ...   \n",
       "306184      0.000000      0.270114     0.000000         0         0         0   \n",
       "306185     65.053825      0.000281     0.000000         0         0         0   \n",
       "306186      0.000000      0.000000     0.000000         0         0         0   \n",
       "306187      0.000000      0.000000     0.000000         0         0         0   \n",
       "306188      0.000000      0.000000     0.000000         0         0         0   \n",
       "\n",
       "        flow_ack  downUpRatio  label  \n",
       "0              1     0.870968      0  \n",
       "1             10     0.543879      0  \n",
       "2             12     3.391496      0  \n",
       "3              3     0.870968      0  \n",
       "4             13     0.723150      0  \n",
       "...          ...          ...    ...  \n",
       "306184         0     1.000000      0  \n",
       "306185         0     2.243243      0  \n",
       "306186         0     0.000000      0  \n",
       "306187         0     0.000000      0  \n",
       "306188         0     0.000000      0  \n",
       "\n",
       "[303784 rows x 44 columns]"
      ]
     },
     "execution_count": 18,
     "metadata": {},
     "output_type": "execute_result"
    }
   ],
   "source": [
    "df"
   ]
  },
  {
   "cell_type": "code",
   "execution_count": 19,
   "metadata": {},
   "outputs": [
    {
     "name": "stdout",
     "output_type": "stream",
     "text": [
      "> Class 0 : 303587 of 303784 (99.9%)\n",
      "> Class 1 : 197 of 303784 (0.1%)\n"
     ]
    }
   ],
   "source": [
    "#check % class distribution \n",
    "y=df['label'].values #convert to nparray\n",
    "\n",
    "classes=np.unique(y)\n",
    "total=len(y)\n",
    "\n",
    "for c in classes:\n",
    "    n_examples=len(y[y==c])\n",
    "    percent = n_examples/total*100\n",
    "    print('> Class %d : %d of %d (%.1f%%)' % (c, n_examples,total,percent))"
   ]
  },
  {
   "cell_type": "markdown",
   "metadata": {},
   "source": [
    "# Coding of categorical variables\n",
    "[Target encoding](https://contrib.scikit-learn.org/category_encoders/targetencoder.html) for categorical features will be used to encode three nominal categorical variables: protocol, source and destination ports. This method is supervised and requires training."
   ]
  },
  {
   "cell_type": "code",
   "execution_count": 20,
   "metadata": {},
   "outputs": [
    {
     "data": {
      "text/plain": [
       "proto                  object\n",
       "srcPrt                  int64\n",
       "dstPrt                  int64\n",
       "flowduration          float64\n",
       "total_fpackets          int64\n",
       "total_bpackets          int64\n",
       "total_fpktl             int64\n",
       "total_bpktl             int64\n",
       "min_fpktl               int64\n",
       "min_bpktl               int64\n",
       "max_fpktl               int64\n",
       "max_bpktl               int64\n",
       "mean_fpktl            float64\n",
       "mean_bpktl            float64\n",
       "std_fpktl             float64\n",
       "std_bpktl             float64\n",
       "total_fipt            float64\n",
       "total_bipt            float64\n",
       "min_fipt              float64\n",
       "min_bipt              float64\n",
       "max_fipt              float64\n",
       "max_bipt              float64\n",
       "mean_fipt             float64\n",
       "mean_bipt             float64\n",
       "std_fipt              float64\n",
       "std_bipt              float64\n",
       "fpsh_cnt                int64\n",
       "bpsh_cnt                int64\n",
       "total_fhlen             int64\n",
       "total_bhlen             int64\n",
       "fPktsPerSecond        float64\n",
       "bPktsPerSecond        float64\n",
       "flowPktsPerSecond     float64\n",
       "flowBytesPerSecond    float64\n",
       "mean_flowpktl         float64\n",
       "std_flowpktl          float64\n",
       "mean_flowipt          float64\n",
       "std_flowipt           float64\n",
       "flow_fin                int64\n",
       "flow_syn                int64\n",
       "flow_rst                int64\n",
       "flow_ack                int64\n",
       "downUpRatio           float64\n",
       "label                   int64\n",
       "dtype: object"
      ]
     },
     "execution_count": 20,
     "metadata": {},
     "output_type": "execute_result"
    }
   ],
   "source": [
    "#check data types for each feature\n",
    "df.dtypes"
   ]
  },
  {
   "cell_type": "code",
   "execution_count": 21,
   "metadata": {},
   "outputs": [],
   "source": [
    "#create training and test dataset\n",
    "X_train,X_test,y_train,y_test = train_test_split(df.drop(columns=['label']), df['label'], test_size=0.2, random_state=42)"
   ]
  },
  {
   "cell_type": "code",
   "execution_count": 22,
   "metadata": {},
   "outputs": [],
   "source": [
    "#load library for target encoder \n",
    "from category_encoders import TargetEncoder"
   ]
  },
  {
   "cell_type": "code",
   "execution_count": 23,
   "metadata": {},
   "outputs": [],
   "source": [
    "# Selecting the three categorical variables to be coded\n",
    "enc = TargetEncoder(cols=['proto','srcPrt','dstPrt'])\n",
    "\n",
    "# transform the datasets\n",
    "training_numeric_dataset = enc.fit_transform(X_train, y_train)\n",
    "testing_numeric_dataset = enc.transform(X_test)"
   ]
  },
  {
   "cell_type": "code",
   "execution_count": 24,
   "metadata": {},
   "outputs": [
    {
     "data": {
      "text/html": [
       "<div>\n",
       "<style scoped>\n",
       "    .dataframe tbody tr th:only-of-type {\n",
       "        vertical-align: middle;\n",
       "    }\n",
       "\n",
       "    .dataframe tbody tr th {\n",
       "        vertical-align: top;\n",
       "    }\n",
       "\n",
       "    .dataframe thead th {\n",
       "        text-align: right;\n",
       "    }\n",
       "</style>\n",
       "<table border=\"1\" class=\"dataframe\">\n",
       "  <thead>\n",
       "    <tr style=\"text-align: right;\">\n",
       "      <th></th>\n",
       "      <th>proto</th>\n",
       "      <th>srcPrt</th>\n",
       "      <th>dstPrt</th>\n",
       "      <th>flowduration</th>\n",
       "      <th>total_fpackets</th>\n",
       "      <th>total_bpackets</th>\n",
       "      <th>total_fpktl</th>\n",
       "      <th>total_bpktl</th>\n",
       "      <th>min_fpktl</th>\n",
       "      <th>min_bpktl</th>\n",
       "      <th>...</th>\n",
       "      <th>flowBytesPerSecond</th>\n",
       "      <th>mean_flowpktl</th>\n",
       "      <th>std_flowpktl</th>\n",
       "      <th>mean_flowipt</th>\n",
       "      <th>std_flowipt</th>\n",
       "      <th>flow_fin</th>\n",
       "      <th>flow_syn</th>\n",
       "      <th>flow_rst</th>\n",
       "      <th>flow_ack</th>\n",
       "      <th>downUpRatio</th>\n",
       "    </tr>\n",
       "  </thead>\n",
       "  <tbody>\n",
       "    <tr>\n",
       "      <th>276663</th>\n",
       "      <td>0.000085</td>\n",
       "      <td>1.110137e-05</td>\n",
       "      <td>0.000009</td>\n",
       "      <td>0.000157</td>\n",
       "      <td>1</td>\n",
       "      <td>1</td>\n",
       "      <td>85</td>\n",
       "      <td>136</td>\n",
       "      <td>85</td>\n",
       "      <td>136</td>\n",
       "      <td>...</td>\n",
       "      <td>1.406588e+06</td>\n",
       "      <td>110.500000</td>\n",
       "      <td>36.062447</td>\n",
       "      <td>0.000157</td>\n",
       "      <td>0.000000</td>\n",
       "      <td>0</td>\n",
       "      <td>0</td>\n",
       "      <td>0</td>\n",
       "      <td>0</td>\n",
       "      <td>1.600000</td>\n",
       "    </tr>\n",
       "    <tr>\n",
       "      <th>1742</th>\n",
       "      <td>0.004191</td>\n",
       "      <td>2.927198e-05</td>\n",
       "      <td>0.000370</td>\n",
       "      <td>5.179779</td>\n",
       "      <td>24</td>\n",
       "      <td>24</td>\n",
       "      <td>1973</td>\n",
       "      <td>27273</td>\n",
       "      <td>66</td>\n",
       "      <td>66</td>\n",
       "      <td>...</td>\n",
       "      <td>5.646187e+03</td>\n",
       "      <td>609.291667</td>\n",
       "      <td>658.189392</td>\n",
       "      <td>0.212943</td>\n",
       "      <td>0.974687</td>\n",
       "      <td>2</td>\n",
       "      <td>2</td>\n",
       "      <td>0</td>\n",
       "      <td>47</td>\n",
       "      <td>13.823112</td>\n",
       "    </tr>\n",
       "    <tr>\n",
       "      <th>128139</th>\n",
       "      <td>0.000085</td>\n",
       "      <td>1.526141e-06</td>\n",
       "      <td>0.000009</td>\n",
       "      <td>3.464763</td>\n",
       "      <td>1</td>\n",
       "      <td>1</td>\n",
       "      <td>78</td>\n",
       "      <td>165</td>\n",
       "      <td>78</td>\n",
       "      <td>165</td>\n",
       "      <td>...</td>\n",
       "      <td>7.013467e+01</td>\n",
       "      <td>121.500000</td>\n",
       "      <td>61.518291</td>\n",
       "      <td>3.464763</td>\n",
       "      <td>0.000000</td>\n",
       "      <td>0</td>\n",
       "      <td>0</td>\n",
       "      <td>0</td>\n",
       "      <td>0</td>\n",
       "      <td>2.115385</td>\n",
       "    </tr>\n",
       "    <tr>\n",
       "      <th>250078</th>\n",
       "      <td>0.000085</td>\n",
       "      <td>2.927198e-05</td>\n",
       "      <td>0.000009</td>\n",
       "      <td>2.492490</td>\n",
       "      <td>1</td>\n",
       "      <td>1</td>\n",
       "      <td>77</td>\n",
       "      <td>77</td>\n",
       "      <td>77</td>\n",
       "      <td>77</td>\n",
       "      <td>...</td>\n",
       "      <td>6.178560e+01</td>\n",
       "      <td>77.000000</td>\n",
       "      <td>0.000000</td>\n",
       "      <td>2.492490</td>\n",
       "      <td>0.000000</td>\n",
       "      <td>0</td>\n",
       "      <td>0</td>\n",
       "      <td>0</td>\n",
       "      <td>0</td>\n",
       "      <td>1.000000</td>\n",
       "    </tr>\n",
       "    <tr>\n",
       "      <th>156656</th>\n",
       "      <td>0.000085</td>\n",
       "      <td>4.130930e-06</td>\n",
       "      <td>0.000009</td>\n",
       "      <td>0.000450</td>\n",
       "      <td>1</td>\n",
       "      <td>1</td>\n",
       "      <td>81</td>\n",
       "      <td>368</td>\n",
       "      <td>81</td>\n",
       "      <td>368</td>\n",
       "      <td>...</td>\n",
       "      <td>9.980088e+05</td>\n",
       "      <td>224.500000</td>\n",
       "      <td>202.939651</td>\n",
       "      <td>0.000450</td>\n",
       "      <td>0.000000</td>\n",
       "      <td>0</td>\n",
       "      <td>0</td>\n",
       "      <td>0</td>\n",
       "      <td>0</td>\n",
       "      <td>4.543210</td>\n",
       "    </tr>\n",
       "    <tr>\n",
       "      <th>...</th>\n",
       "      <td>...</td>\n",
       "      <td>...</td>\n",
       "      <td>...</td>\n",
       "      <td>...</td>\n",
       "      <td>...</td>\n",
       "      <td>...</td>\n",
       "      <td>...</td>\n",
       "      <td>...</td>\n",
       "      <td>...</td>\n",
       "      <td>...</td>\n",
       "      <td>...</td>\n",
       "      <td>...</td>\n",
       "      <td>...</td>\n",
       "      <td>...</td>\n",
       "      <td>...</td>\n",
       "      <td>...</td>\n",
       "      <td>...</td>\n",
       "      <td>...</td>\n",
       "      <td>...</td>\n",
       "      <td>...</td>\n",
       "      <td>...</td>\n",
       "    </tr>\n",
       "    <tr>\n",
       "      <th>120616</th>\n",
       "      <td>0.000085</td>\n",
       "      <td>1.110137e-05</td>\n",
       "      <td>0.000009</td>\n",
       "      <td>7.491007</td>\n",
       "      <td>1</td>\n",
       "      <td>1</td>\n",
       "      <td>76</td>\n",
       "      <td>158</td>\n",
       "      <td>76</td>\n",
       "      <td>158</td>\n",
       "      <td>...</td>\n",
       "      <td>3.123745e+01</td>\n",
       "      <td>117.000000</td>\n",
       "      <td>57.982758</td>\n",
       "      <td>7.491007</td>\n",
       "      <td>0.000000</td>\n",
       "      <td>0</td>\n",
       "      <td>0</td>\n",
       "      <td>0</td>\n",
       "      <td>0</td>\n",
       "      <td>2.078947</td>\n",
       "    </tr>\n",
       "    <tr>\n",
       "      <th>261043</th>\n",
       "      <td>0.000085</td>\n",
       "      <td>5.623148e-07</td>\n",
       "      <td>0.000009</td>\n",
       "      <td>0.898636</td>\n",
       "      <td>1</td>\n",
       "      <td>1</td>\n",
       "      <td>83</td>\n",
       "      <td>330</td>\n",
       "      <td>83</td>\n",
       "      <td>330</td>\n",
       "      <td>...</td>\n",
       "      <td>4.595854e+02</td>\n",
       "      <td>206.500000</td>\n",
       "      <td>174.655380</td>\n",
       "      <td>0.898636</td>\n",
       "      <td>0.000000</td>\n",
       "      <td>0</td>\n",
       "      <td>0</td>\n",
       "      <td>0</td>\n",
       "      <td>0</td>\n",
       "      <td>3.975904</td>\n",
       "    </tr>\n",
       "    <tr>\n",
       "      <th>132766</th>\n",
       "      <td>0.000085</td>\n",
       "      <td>5.623148e-07</td>\n",
       "      <td>0.000009</td>\n",
       "      <td>0.000265</td>\n",
       "      <td>1</td>\n",
       "      <td>1</td>\n",
       "      <td>72</td>\n",
       "      <td>164</td>\n",
       "      <td>72</td>\n",
       "      <td>164</td>\n",
       "      <td>...</td>\n",
       "      <td>8.901581e+05</td>\n",
       "      <td>118.000000</td>\n",
       "      <td>65.053825</td>\n",
       "      <td>0.000265</td>\n",
       "      <td>0.000000</td>\n",
       "      <td>0</td>\n",
       "      <td>0</td>\n",
       "      <td>0</td>\n",
       "      <td>0</td>\n",
       "      <td>2.277778</td>\n",
       "    </tr>\n",
       "    <tr>\n",
       "      <th>147818</th>\n",
       "      <td>0.000085</td>\n",
       "      <td>1.110137e-05</td>\n",
       "      <td>0.000009</td>\n",
       "      <td>1.584262</td>\n",
       "      <td>1</td>\n",
       "      <td>1</td>\n",
       "      <td>78</td>\n",
       "      <td>454</td>\n",
       "      <td>78</td>\n",
       "      <td>454</td>\n",
       "      <td>...</td>\n",
       "      <td>3.358031e+02</td>\n",
       "      <td>266.000000</td>\n",
       "      <td>265.872162</td>\n",
       "      <td>1.584262</td>\n",
       "      <td>0.000000</td>\n",
       "      <td>0</td>\n",
       "      <td>0</td>\n",
       "      <td>0</td>\n",
       "      <td>0</td>\n",
       "      <td>5.820513</td>\n",
       "    </tr>\n",
       "    <tr>\n",
       "      <th>122713</th>\n",
       "      <td>0.000085</td>\n",
       "      <td>1.030837e-08</td>\n",
       "      <td>0.000009</td>\n",
       "      <td>0.000182</td>\n",
       "      <td>1</td>\n",
       "      <td>1</td>\n",
       "      <td>85</td>\n",
       "      <td>136</td>\n",
       "      <td>85</td>\n",
       "      <td>136</td>\n",
       "      <td>...</td>\n",
       "      <td>1.214864e+06</td>\n",
       "      <td>110.500000</td>\n",
       "      <td>36.062447</td>\n",
       "      <td>0.000182</td>\n",
       "      <td>0.000000</td>\n",
       "      <td>0</td>\n",
       "      <td>0</td>\n",
       "      <td>0</td>\n",
       "      <td>0</td>\n",
       "      <td>1.600000</td>\n",
       "    </tr>\n",
       "  </tbody>\n",
       "</table>\n",
       "<p>243027 rows × 43 columns</p>\n",
       "</div>"
      ],
      "text/plain": [
       "           proto        srcPrt    dstPrt  flowduration  total_fpackets  \\\n",
       "276663  0.000085  1.110137e-05  0.000009      0.000157               1   \n",
       "1742    0.004191  2.927198e-05  0.000370      5.179779              24   \n",
       "128139  0.000085  1.526141e-06  0.000009      3.464763               1   \n",
       "250078  0.000085  2.927198e-05  0.000009      2.492490               1   \n",
       "156656  0.000085  4.130930e-06  0.000009      0.000450               1   \n",
       "...          ...           ...       ...           ...             ...   \n",
       "120616  0.000085  1.110137e-05  0.000009      7.491007               1   \n",
       "261043  0.000085  5.623148e-07  0.000009      0.898636               1   \n",
       "132766  0.000085  5.623148e-07  0.000009      0.000265               1   \n",
       "147818  0.000085  1.110137e-05  0.000009      1.584262               1   \n",
       "122713  0.000085  1.030837e-08  0.000009      0.000182               1   \n",
       "\n",
       "        total_bpackets  total_fpktl  total_bpktl  min_fpktl  min_bpktl  ...  \\\n",
       "276663               1           85          136         85        136  ...   \n",
       "1742                24         1973        27273         66         66  ...   \n",
       "128139               1           78          165         78        165  ...   \n",
       "250078               1           77           77         77         77  ...   \n",
       "156656               1           81          368         81        368  ...   \n",
       "...                ...          ...          ...        ...        ...  ...   \n",
       "120616               1           76          158         76        158  ...   \n",
       "261043               1           83          330         83        330  ...   \n",
       "132766               1           72          164         72        164  ...   \n",
       "147818               1           78          454         78        454  ...   \n",
       "122713               1           85          136         85        136  ...   \n",
       "\n",
       "        flowBytesPerSecond  mean_flowpktl  std_flowpktl  mean_flowipt  \\\n",
       "276663        1.406588e+06     110.500000     36.062447      0.000157   \n",
       "1742          5.646187e+03     609.291667    658.189392      0.212943   \n",
       "128139        7.013467e+01     121.500000     61.518291      3.464763   \n",
       "250078        6.178560e+01      77.000000      0.000000      2.492490   \n",
       "156656        9.980088e+05     224.500000    202.939651      0.000450   \n",
       "...                    ...            ...           ...           ...   \n",
       "120616        3.123745e+01     117.000000     57.982758      7.491007   \n",
       "261043        4.595854e+02     206.500000    174.655380      0.898636   \n",
       "132766        8.901581e+05     118.000000     65.053825      0.000265   \n",
       "147818        3.358031e+02     266.000000    265.872162      1.584262   \n",
       "122713        1.214864e+06     110.500000     36.062447      0.000182   \n",
       "\n",
       "        std_flowipt  flow_fin  flow_syn  flow_rst  flow_ack  downUpRatio  \n",
       "276663     0.000000         0         0         0         0     1.600000  \n",
       "1742       0.974687         2         2         0        47    13.823112  \n",
       "128139     0.000000         0         0         0         0     2.115385  \n",
       "250078     0.000000         0         0         0         0     1.000000  \n",
       "156656     0.000000         0         0         0         0     4.543210  \n",
       "...             ...       ...       ...       ...       ...          ...  \n",
       "120616     0.000000         0         0         0         0     2.078947  \n",
       "261043     0.000000         0         0         0         0     3.975904  \n",
       "132766     0.000000         0         0         0         0     2.277778  \n",
       "147818     0.000000         0         0         0         0     5.820513  \n",
       "122713     0.000000         0         0         0         0     1.600000  \n",
       "\n",
       "[243027 rows x 43 columns]"
      ]
     },
     "execution_count": 24,
     "metadata": {},
     "output_type": "execute_result"
    }
   ],
   "source": [
    "#show the coded features\n",
    "training_numeric_dataset"
   ]
  },
  {
   "cell_type": "code",
   "execution_count": 25,
   "metadata": {},
   "outputs": [
    {
     "data": {
      "text/html": [
       "<div>\n",
       "<style scoped>\n",
       "    .dataframe tbody tr th:only-of-type {\n",
       "        vertical-align: middle;\n",
       "    }\n",
       "\n",
       "    .dataframe tbody tr th {\n",
       "        vertical-align: top;\n",
       "    }\n",
       "\n",
       "    .dataframe thead th {\n",
       "        text-align: right;\n",
       "    }\n",
       "</style>\n",
       "<table border=\"1\" class=\"dataframe\">\n",
       "  <thead>\n",
       "    <tr style=\"text-align: right;\">\n",
       "      <th></th>\n",
       "      <th>proto</th>\n",
       "      <th>srcPrt</th>\n",
       "      <th>dstPrt</th>\n",
       "      <th>flowduration</th>\n",
       "      <th>total_fpackets</th>\n",
       "      <th>total_bpackets</th>\n",
       "      <th>total_fpktl</th>\n",
       "      <th>total_bpktl</th>\n",
       "      <th>min_fpktl</th>\n",
       "      <th>min_bpktl</th>\n",
       "      <th>...</th>\n",
       "      <th>flowBytesPerSecond</th>\n",
       "      <th>mean_flowpktl</th>\n",
       "      <th>std_flowpktl</th>\n",
       "      <th>mean_flowipt</th>\n",
       "      <th>std_flowipt</th>\n",
       "      <th>flow_fin</th>\n",
       "      <th>flow_syn</th>\n",
       "      <th>flow_rst</th>\n",
       "      <th>flow_ack</th>\n",
       "      <th>downUpRatio</th>\n",
       "    </tr>\n",
       "  </thead>\n",
       "  <tbody>\n",
       "    <tr>\n",
       "      <th>184211</th>\n",
       "      <td>0.000085</td>\n",
       "      <td>1.110137e-05</td>\n",
       "      <td>0.000009</td>\n",
       "      <td>8.869140</td>\n",
       "      <td>1</td>\n",
       "      <td>1</td>\n",
       "      <td>65</td>\n",
       "      <td>377</td>\n",
       "      <td>65</td>\n",
       "      <td>377</td>\n",
       "      <td>...</td>\n",
       "      <td>4.983572e+01</td>\n",
       "      <td>221.0</td>\n",
       "      <td>220.617310</td>\n",
       "      <td>8.869140</td>\n",
       "      <td>0.000000</td>\n",
       "      <td>0</td>\n",
       "      <td>0</td>\n",
       "      <td>0</td>\n",
       "      <td>0</td>\n",
       "      <td>5.800000</td>\n",
       "    </tr>\n",
       "    <tr>\n",
       "      <th>251384</th>\n",
       "      <td>0.000085</td>\n",
       "      <td>1.526141e-06</td>\n",
       "      <td>0.000009</td>\n",
       "      <td>0.000201</td>\n",
       "      <td>1</td>\n",
       "      <td>1</td>\n",
       "      <td>74</td>\n",
       "      <td>138</td>\n",
       "      <td>74</td>\n",
       "      <td>138</td>\n",
       "      <td>...</td>\n",
       "      <td>1.054795e+06</td>\n",
       "      <td>106.0</td>\n",
       "      <td>45.254833</td>\n",
       "      <td>0.000201</td>\n",
       "      <td>0.000000</td>\n",
       "      <td>0</td>\n",
       "      <td>0</td>\n",
       "      <td>0</td>\n",
       "      <td>0</td>\n",
       "      <td>1.864865</td>\n",
       "    </tr>\n",
       "    <tr>\n",
       "      <th>47615</th>\n",
       "      <td>0.000085</td>\n",
       "      <td>0.000000e+00</td>\n",
       "      <td>0.000009</td>\n",
       "      <td>2.080990</td>\n",
       "      <td>2</td>\n",
       "      <td>2</td>\n",
       "      <td>176</td>\n",
       "      <td>218</td>\n",
       "      <td>87</td>\n",
       "      <td>94</td>\n",
       "      <td>...</td>\n",
       "      <td>1.893330e+02</td>\n",
       "      <td>98.5</td>\n",
       "      <td>17.253019</td>\n",
       "      <td>0.758814</td>\n",
       "      <td>0.976082</td>\n",
       "      <td>0</td>\n",
       "      <td>0</td>\n",
       "      <td>0</td>\n",
       "      <td>0</td>\n",
       "      <td>1.238636</td>\n",
       "    </tr>\n",
       "    <tr>\n",
       "      <th>71252</th>\n",
       "      <td>0.000085</td>\n",
       "      <td>1.659948e-04</td>\n",
       "      <td>0.000009</td>\n",
       "      <td>0.189192</td>\n",
       "      <td>1</td>\n",
       "      <td>1</td>\n",
       "      <td>74</td>\n",
       "      <td>74</td>\n",
       "      <td>74</td>\n",
       "      <td>74</td>\n",
       "      <td>...</td>\n",
       "      <td>7.822739e+02</td>\n",
       "      <td>74.0</td>\n",
       "      <td>0.000000</td>\n",
       "      <td>0.189192</td>\n",
       "      <td>0.000000</td>\n",
       "      <td>0</td>\n",
       "      <td>0</td>\n",
       "      <td>0</td>\n",
       "      <td>0</td>\n",
       "      <td>1.000000</td>\n",
       "    </tr>\n",
       "    <tr>\n",
       "      <th>80679</th>\n",
       "      <td>0.000085</td>\n",
       "      <td>4.130930e-06</td>\n",
       "      <td>0.000009</td>\n",
       "      <td>0.000288</td>\n",
       "      <td>1</td>\n",
       "      <td>1</td>\n",
       "      <td>77</td>\n",
       "      <td>189</td>\n",
       "      <td>77</td>\n",
       "      <td>189</td>\n",
       "      <td>...</td>\n",
       "      <td>9.235802e+05</td>\n",
       "      <td>133.0</td>\n",
       "      <td>79.195961</td>\n",
       "      <td>0.000288</td>\n",
       "      <td>0.000000</td>\n",
       "      <td>0</td>\n",
       "      <td>0</td>\n",
       "      <td>0</td>\n",
       "      <td>0</td>\n",
       "      <td>2.454545</td>\n",
       "    </tr>\n",
       "    <tr>\n",
       "      <th>...</th>\n",
       "      <td>...</td>\n",
       "      <td>...</td>\n",
       "      <td>...</td>\n",
       "      <td>...</td>\n",
       "      <td>...</td>\n",
       "      <td>...</td>\n",
       "      <td>...</td>\n",
       "      <td>...</td>\n",
       "      <td>...</td>\n",
       "      <td>...</td>\n",
       "      <td>...</td>\n",
       "      <td>...</td>\n",
       "      <td>...</td>\n",
       "      <td>...</td>\n",
       "      <td>...</td>\n",
       "      <td>...</td>\n",
       "      <td>...</td>\n",
       "      <td>...</td>\n",
       "      <td>...</td>\n",
       "      <td>...</td>\n",
       "      <td>...</td>\n",
       "    </tr>\n",
       "    <tr>\n",
       "      <th>149416</th>\n",
       "      <td>0.000085</td>\n",
       "      <td>5.623148e-07</td>\n",
       "      <td>0.000009</td>\n",
       "      <td>2.154643</td>\n",
       "      <td>1</td>\n",
       "      <td>1</td>\n",
       "      <td>77</td>\n",
       "      <td>77</td>\n",
       "      <td>77</td>\n",
       "      <td>77</td>\n",
       "      <td>...</td>\n",
       "      <td>7.147356e+01</td>\n",
       "      <td>77.0</td>\n",
       "      <td>0.000000</td>\n",
       "      <td>2.154643</td>\n",
       "      <td>0.000000</td>\n",
       "      <td>0</td>\n",
       "      <td>0</td>\n",
       "      <td>0</td>\n",
       "      <td>0</td>\n",
       "      <td>1.000000</td>\n",
       "    </tr>\n",
       "    <tr>\n",
       "      <th>231098</th>\n",
       "      <td>0.000085</td>\n",
       "      <td>2.927198e-05</td>\n",
       "      <td>0.000009</td>\n",
       "      <td>0.000302</td>\n",
       "      <td>1</td>\n",
       "      <td>1</td>\n",
       "      <td>66</td>\n",
       "      <td>66</td>\n",
       "      <td>66</td>\n",
       "      <td>66</td>\n",
       "      <td>...</td>\n",
       "      <td>4.369756e+05</td>\n",
       "      <td>66.0</td>\n",
       "      <td>0.000000</td>\n",
       "      <td>0.000302</td>\n",
       "      <td>0.000000</td>\n",
       "      <td>0</td>\n",
       "      <td>0</td>\n",
       "      <td>0</td>\n",
       "      <td>0</td>\n",
       "      <td>1.000000</td>\n",
       "    </tr>\n",
       "    <tr>\n",
       "      <th>143182</th>\n",
       "      <td>0.000085</td>\n",
       "      <td>0.000000e+00</td>\n",
       "      <td>0.000009</td>\n",
       "      <td>0.607321</td>\n",
       "      <td>1</td>\n",
       "      <td>1</td>\n",
       "      <td>93</td>\n",
       "      <td>195</td>\n",
       "      <td>93</td>\n",
       "      <td>195</td>\n",
       "      <td>...</td>\n",
       "      <td>4.742138e+02</td>\n",
       "      <td>144.0</td>\n",
       "      <td>72.124893</td>\n",
       "      <td>0.607321</td>\n",
       "      <td>0.000000</td>\n",
       "      <td>0</td>\n",
       "      <td>0</td>\n",
       "      <td>0</td>\n",
       "      <td>0</td>\n",
       "      <td>2.096774</td>\n",
       "    </tr>\n",
       "    <tr>\n",
       "      <th>14919</th>\n",
       "      <td>0.004191</td>\n",
       "      <td>2.802026e-08</td>\n",
       "      <td>0.000370</td>\n",
       "      <td>6.046401</td>\n",
       "      <td>9</td>\n",
       "      <td>11</td>\n",
       "      <td>1078</td>\n",
       "      <td>8928</td>\n",
       "      <td>60</td>\n",
       "      <td>54</td>\n",
       "      <td>...</td>\n",
       "      <td>1.654869e+03</td>\n",
       "      <td>500.3</td>\n",
       "      <td>638.026306</td>\n",
       "      <td>0.523668</td>\n",
       "      <td>1.274822</td>\n",
       "      <td>2</td>\n",
       "      <td>2</td>\n",
       "      <td>0</td>\n",
       "      <td>19</td>\n",
       "      <td>8.282003</td>\n",
       "    </tr>\n",
       "    <tr>\n",
       "      <th>243587</th>\n",
       "      <td>0.000085</td>\n",
       "      <td>1.659948e-04</td>\n",
       "      <td>0.000009</td>\n",
       "      <td>0.000356</td>\n",
       "      <td>1</td>\n",
       "      <td>1</td>\n",
       "      <td>74</td>\n",
       "      <td>138</td>\n",
       "      <td>74</td>\n",
       "      <td>138</td>\n",
       "      <td>...</td>\n",
       "      <td>5.955743e+05</td>\n",
       "      <td>106.0</td>\n",
       "      <td>45.254833</td>\n",
       "      <td>0.000356</td>\n",
       "      <td>0.000000</td>\n",
       "      <td>0</td>\n",
       "      <td>0</td>\n",
       "      <td>0</td>\n",
       "      <td>0</td>\n",
       "      <td>1.864865</td>\n",
       "    </tr>\n",
       "  </tbody>\n",
       "</table>\n",
       "<p>60757 rows × 43 columns</p>\n",
       "</div>"
      ],
      "text/plain": [
       "           proto        srcPrt    dstPrt  flowduration  total_fpackets  \\\n",
       "184211  0.000085  1.110137e-05  0.000009      8.869140               1   \n",
       "251384  0.000085  1.526141e-06  0.000009      0.000201               1   \n",
       "47615   0.000085  0.000000e+00  0.000009      2.080990               2   \n",
       "71252   0.000085  1.659948e-04  0.000009      0.189192               1   \n",
       "80679   0.000085  4.130930e-06  0.000009      0.000288               1   \n",
       "...          ...           ...       ...           ...             ...   \n",
       "149416  0.000085  5.623148e-07  0.000009      2.154643               1   \n",
       "231098  0.000085  2.927198e-05  0.000009      0.000302               1   \n",
       "143182  0.000085  0.000000e+00  0.000009      0.607321               1   \n",
       "14919   0.004191  2.802026e-08  0.000370      6.046401               9   \n",
       "243587  0.000085  1.659948e-04  0.000009      0.000356               1   \n",
       "\n",
       "        total_bpackets  total_fpktl  total_bpktl  min_fpktl  min_bpktl  ...  \\\n",
       "184211               1           65          377         65        377  ...   \n",
       "251384               1           74          138         74        138  ...   \n",
       "47615                2          176          218         87         94  ...   \n",
       "71252                1           74           74         74         74  ...   \n",
       "80679                1           77          189         77        189  ...   \n",
       "...                ...          ...          ...        ...        ...  ...   \n",
       "149416               1           77           77         77         77  ...   \n",
       "231098               1           66           66         66         66  ...   \n",
       "143182               1           93          195         93        195  ...   \n",
       "14919               11         1078         8928         60         54  ...   \n",
       "243587               1           74          138         74        138  ...   \n",
       "\n",
       "        flowBytesPerSecond  mean_flowpktl  std_flowpktl  mean_flowipt  \\\n",
       "184211        4.983572e+01          221.0    220.617310      8.869140   \n",
       "251384        1.054795e+06          106.0     45.254833      0.000201   \n",
       "47615         1.893330e+02           98.5     17.253019      0.758814   \n",
       "71252         7.822739e+02           74.0      0.000000      0.189192   \n",
       "80679         9.235802e+05          133.0     79.195961      0.000288   \n",
       "...                    ...            ...           ...           ...   \n",
       "149416        7.147356e+01           77.0      0.000000      2.154643   \n",
       "231098        4.369756e+05           66.0      0.000000      0.000302   \n",
       "143182        4.742138e+02          144.0     72.124893      0.607321   \n",
       "14919         1.654869e+03          500.3    638.026306      0.523668   \n",
       "243587        5.955743e+05          106.0     45.254833      0.000356   \n",
       "\n",
       "        std_flowipt  flow_fin  flow_syn  flow_rst  flow_ack  downUpRatio  \n",
       "184211     0.000000         0         0         0         0     5.800000  \n",
       "251384     0.000000         0         0         0         0     1.864865  \n",
       "47615      0.976082         0         0         0         0     1.238636  \n",
       "71252      0.000000         0         0         0         0     1.000000  \n",
       "80679      0.000000         0         0         0         0     2.454545  \n",
       "...             ...       ...       ...       ...       ...          ...  \n",
       "149416     0.000000         0         0         0         0     1.000000  \n",
       "231098     0.000000         0         0         0         0     1.000000  \n",
       "143182     0.000000         0         0         0         0     2.096774  \n",
       "14919      1.274822         2         2         0        19     8.282003  \n",
       "243587     0.000000         0         0         0         0     1.864865  \n",
       "\n",
       "[60757 rows x 43 columns]"
      ]
     },
     "execution_count": 25,
     "metadata": {},
     "output_type": "execute_result"
    }
   ],
   "source": [
    "#show the coded features\n",
    "testing_numeric_dataset"
   ]
  },
  {
   "cell_type": "markdown",
   "metadata": {},
   "source": [
    "# Standardization and scaling of numerical variables"
   ]
  },
  {
   "cell_type": "code",
   "execution_count": 26,
   "metadata": {},
   "outputs": [],
   "source": [
    "# import libraries\n",
    "from sklearn.preprocessing import StandardScaler\n",
    "\n",
    "numeric_cols = training_numeric_dataset.select_dtypes(include=['float64', 'int']).columns.to_list()\n",
    "preprocessor = ColumnTransformer([('scale', StandardScaler(), numeric_cols)], remainder='passthrough')"
   ]
  },
  {
   "cell_type": "code",
   "execution_count": 27,
   "metadata": {},
   "outputs": [],
   "source": [
    "X_train_prep = preprocessor.fit_transform(training_numeric_dataset)\n",
    "X_test_prep  = preprocessor.transform(testing_numeric_dataset)\n",
    "#The result returned by ColumnTransformer is a numpy array, so the column names are lost."
   ]
  },
  {
   "cell_type": "code",
   "execution_count": 28,
   "metadata": {},
   "outputs": [
    {
     "data": {
      "text/plain": [
       "((243027, 43), (60757, 43))"
      ]
     },
     "execution_count": 28,
     "metadata": {},
     "output_type": "execute_result"
    }
   ],
   "source": [
    "#Dimensions of training and testing datasets\n",
    "X_train_prep.shape, X_test_prep.shape"
   ]
  },
  {
   "cell_type": "markdown",
   "metadata": {},
   "source": [
    "# Feature selection\n",
    "Exclusion of variables with variance close to zero"
   ]
  },
  {
   "cell_type": "code",
   "execution_count": 29,
   "metadata": {},
   "outputs": [],
   "source": [
    "#join the prepared traing and test datasets in a single array X and y\n",
    "X = np.vstack((X_train_prep, X_test_prep))\n",
    "y = np.hstack((y_train, y_test))"
   ]
  },
  {
   "cell_type": "code",
   "execution_count": 30,
   "metadata": {},
   "outputs": [
    {
     "data": {
      "text/plain": [
       "Counter({0: 303587, 1: 197})"
      ]
     },
     "execution_count": 30,
     "metadata": {},
     "output_type": "execute_result"
    }
   ],
   "source": [
    "collections.Counter(y)"
   ]
  },
  {
   "cell_type": "code",
   "execution_count": 31,
   "metadata": {},
   "outputs": [
    {
     "name": "stdout",
     "output_type": "stream",
     "text": [
      ">Threshold=0.00, Features=43\n",
      ">Threshold=0.05, Features=43\n",
      ">Threshold=0.10, Features=43\n",
      ">Threshold=0.15, Features=42\n",
      ">Threshold=0.20, Features=42\n",
      ">Threshold=0.25, Features=42\n",
      ">Threshold=0.30, Features=42\n",
      ">Threshold=0.35, Features=42\n",
      ">Threshold=0.40, Features=42\n",
      ">Threshold=0.45, Features=41\n",
      ">Threshold=0.50, Features=41\n",
      ">Threshold=0.55, Features=40\n",
      ">Threshold=0.60, Features=40\n",
      ">Threshold=0.65, Features=40\n"
     ]
    },
    {
     "data": {
      "image/png": "[encoded data removed]",
      "text/plain": [
       "<Figure size 432x288 with 1 Axes>"
      ]
     },
     "metadata": {
      "needs_background": "light"
     },
     "output_type": "display_data"
    }
   ],
   "source": [
    "#the VarianceThreshold class from sklearn support a type of feature selection\n",
    "from sklearn.feature_selection import VarianceThreshold\n",
    "from numpy import arange\n",
    "#split data into inputs\n",
    "#data=df_float.values\n",
    "#X=data[:,:]\n",
    "#define thresholds to check\n",
    "thresholds = arange(0.0,0.7,0.05)\n",
    "#apply transform with each treshold\n",
    "results=list()\n",
    "for t in thresholds:\n",
    "    #define the transform\n",
    "    transform = VarianceThreshold(threshold=t)\n",
    "    #transform the input data\n",
    "    X_sel=transform.fit_transform(X)\n",
    "    #determine the number of input features\n",
    "    n_features=X_sel.shape[1]\n",
    "    print('>Threshold=%.2f, Features=%d' %(t,n_features))\n",
    "    #store the result\n",
    "    results.append(n_features)\n",
    "#plot the theshold vs the number of selected features\n",
    "plt.plot(thresholds,results)\n",
    "plt.show()"
   ]
  },
  {
   "cell_type": "code",
   "execution_count": 32,
   "metadata": {},
   "outputs": [
    {
     "name": "stdout",
     "output_type": "stream",
     "text": [
      "(303784, 40)\n"
     ]
    }
   ],
   "source": [
    "#new set of selected features\n",
    "X=X_sel\n",
    "print(X.shape)"
   ]
  },
  {
   "cell_type": "markdown",
   "metadata": {},
   "source": [
    "# Create Machine Learning Models"
   ]
  },
  {
   "cell_type": "markdown",
   "metadata": {},
   "source": [
    "### a) Grid search with Logistic Regression (GS-LR)"
   ]
  },
  {
   "cell_type": "code",
   "execution_count": 33,
   "metadata": {},
   "outputs": [
    {
     "name": "stdout",
     "output_type": "stream",
     "text": [
      "Best: 0.906195 using {'class_weight': {0: 1, 1: 100}}\n",
      "0.905788 (0.101499) with: {'class_weight': {0: 0.001, 1: 1.0}}\n",
      "0.892030 (0.074420) with: {'class_weight': {0: 0.01, 1: 1.0}}\n",
      "0.889089 (0.077827) with: {'class_weight': {0: 0.1, 1: 1}}\n",
      "0.906195 (0.075850) with: {'class_weight': {0: 1, 1: 100}}\n",
      "0.903427 (0.093013) with: {'class_weight': {0: 1, 1: 200}}\n"
     ]
    },
    {
     "name": "stderr",
     "output_type": "stream",
     "text": [
      "C:\\Users\\pvelarde\\anaconda3\\lib\\site-packages\\sklearn\\linear_model\\_logistic.py:763: ConvergenceWarning: lbfgs failed to converge (status=2):\n",
      "ABNORMAL_TERMINATION_IN_LNSRCH.\n",
      "\n",
      "Increase the number of iterations (max_iter) or scale the data as shown in:\n",
      "    https://scikit-learn.org/stable/modules/preprocessing.html\n",
      "Please also refer to the documentation for alternative solver options:\n",
      "    https://scikit-learn.org/stable/modules/linear_model.html#logistic-regression\n",
      "  n_iter_i = _check_optimize_result(\n"
     ]
    }
   ],
   "source": [
    "# grid search class weights with logistic regression for imbalanced classification\n",
    "\n",
    "model = LogisticRegression(solver='lbfgs',max_iter=1000)\n",
    "# define grid\n",
    "balance = [{0:0.001,1:1.0},{0:0.01,1:1.0}, {0:0.1,1:1}, {0:1,1:100},{0:1,1:200}]\n",
    "param_grid = dict(class_weight=balance)\n",
    "# define evaluation procedure\n",
    "cv = RepeatedStratifiedKFold(n_splits=10, n_repeats=3, random_state=1)\n",
    "# define grid search\n",
    "grid = GridSearchCV(estimator=model, param_grid=param_grid, n_jobs=-1, cv=cv,\n",
    "scoring='roc_auc')\n",
    "# execute the grid search\n",
    "grid_result = grid.fit(X, y)\n",
    "# report the best configuration\n",
    "print('Best: %f using %s' % (grid_result.best_score_, grid_result.best_params_))\n",
    "# report all configurations\n",
    "means = grid_result.cv_results_['mean_test_score']\n",
    "stds = grid_result.cv_results_['std_test_score']\n",
    "params = grid_result.cv_results_['params']\n",
    "for mean, stdev, param in zip(means, stds, params):\n",
    "    print('%f (%f) with: %r' % (mean, stdev, param))"
   ]
  },
  {
   "cell_type": "code",
   "execution_count": 31,
   "metadata": {},
   "outputs": [],
   "source": [
    "## split into train test sets\n",
    "X_train,X_test,y_train,y_test = train_test_split(X, y, test_size=0.2, random_state=42)"
   ]
  },
  {
   "cell_type": "code",
   "execution_count": 32,
   "metadata": {},
   "outputs": [
    {
     "name": "stderr",
     "output_type": "stream",
     "text": [
      "C:\\Users\\pvelarde\\anaconda3\\lib\\site-packages\\sklearn\\linear_model\\_logistic.py:763: ConvergenceWarning: lbfgs failed to converge (status=2):\n",
      "ABNORMAL_TERMINATION_IN_LNSRCH.\n",
      "\n",
      "Increase the number of iterations (max_iter) or scale the data as shown in:\n",
      "    https://scikit-learn.org/stable/modules/preprocessing.html\n",
      "Please also refer to the documentation for alternative solver options:\n",
      "    https://scikit-learn.org/stable/modules/linear_model.html#logistic-regression\n",
      "  n_iter_i = _check_optimize_result(\n"
     ]
    }
   ],
   "source": [
    "#evaluating a class-weighted logistic regression algorithm on the imbalanced classiffication dataset\n",
    "#listing 16.12\n",
    "\n",
    "weights = {0: 0.01, 1: 1.0}\n",
    "model = LogisticRegression(solver='lbfgs', class_weight=weights,max_iter=2000)\n",
    "model.fit(X_train, y_train)\n",
    "y_pred=model.predict(X_test)"
   ]
  },
  {
   "cell_type": "code",
   "execution_count": 33,
   "metadata": {},
   "outputs": [
    {
     "name": "stdout",
     "output_type": "stream",
     "text": [
      "ROCAUC score: 0.49999176561650827\n",
      "Accuracy score: 0.9993910166729759\n",
      "F1 score: 0.0\n",
      "Recall score: 0.0\n",
      "Precision score: 0.0\n",
      "              precision    recall  f1-score   support\n",
      "\n",
      "     class 0       1.00      1.00      1.00     60721\n",
      "     class 1       0.00      0.00      0.00        36\n",
      "\n",
      "    accuracy                           1.00     60757\n",
      "   macro avg       0.50      0.50      0.50     60757\n",
      "weighted avg       1.00      1.00      1.00     60757\n",
      "\n"
     ]
    },
    {
     "data": {
      "image/png": "[encoded data removed]",
      "text/plain": [
       "<Figure size 432x288 with 2 Axes>"
      ]
     },
     "metadata": {
      "needs_background": "light"
     },
     "output_type": "display_data"
    }
   ],
   "source": [
    "print('ROCAUC score:',roc_auc_score(y_test, y_pred))\n",
    "print('Accuracy score:',accuracy_score(y_test, y_pred))\n",
    "print('F1 score:',f1_score(y_test, y_pred))\n",
    "print('Recall score:',recall_score(y_test, y_pred))\n",
    "print('Precision score:',precision_score(y_test, y_pred))\n",
    "print(classification_report(y_test, y_pred, target_names=target_names))\n",
    "plot_confusion_matrix(model, X_test, y_test, display_labels=target_names,cmap=plt.cm.Blues);"
   ]
  },
  {
   "cell_type": "markdown",
   "metadata": {},
   "source": [
    " ### b) Logistic Regression with Synthetic minority over-sampleing technique (LR+SMOTE)"
   ]
  },
  {
   "cell_type": "code",
   "execution_count": 42,
   "metadata": {},
   "outputs": [
    {
     "name": "stdout",
     "output_type": "stream",
     "text": [
      "Origianl dataset shape: Counter({0: 303587, 1: 197})\n",
      "Resample dataset shape: Counter({0: 303587, 1: 303587})\n"
     ]
    }
   ],
   "source": [
    "# load library\n",
    "from imblearn.over_sampling import SMOTE\n",
    "\n",
    "smote = SMOTE()\n",
    "\n",
    "# fit target and predictor variable\n",
    "X_smote , y_smote = smote.fit_resample(X, y)\n",
    "\n",
    "print('Origianl dataset shape:', Counter(y))\n",
    "print('Resample dataset shape:', Counter(y_smote))"
   ]
  },
  {
   "cell_type": "code",
   "execution_count": 43,
   "metadata": {},
   "outputs": [],
   "source": [
    "X_train2, X_test2, y_train2, y_test2 = train_test_split(X_smote, y_smote, test_size =0.20, random_state=42)"
   ]
  },
  {
   "cell_type": "code",
   "execution_count": 44,
   "metadata": {},
   "outputs": [
    {
     "name": "stderr",
     "output_type": "stream",
     "text": [
      "C:\\Users\\pvelarde\\anaconda3\\lib\\site-packages\\sklearn\\linear_model\\_logistic.py:763: ConvergenceWarning: lbfgs failed to converge (status=1):\n",
      "STOP: TOTAL NO. of ITERATIONS REACHED LIMIT.\n",
      "\n",
      "Increase the number of iterations (max_iter) or scale the data as shown in:\n",
      "    https://scikit-learn.org/stable/modules/preprocessing.html\n",
      "Please also refer to the documentation for alternative solver options:\n",
      "    https://scikit-learn.org/stable/modules/linear_model.html#logistic-regression\n",
      "  n_iter_i = _check_optimize_result(\n"
     ]
    }
   ],
   "source": [
    "model2=LogisticRegression(solver='lbfgs',max_iter=2000)\n",
    "model2.fit(X_train2, y_train2)\n",
    "y_pred2=model2.predict(X_test2)"
   ]
  },
  {
   "cell_type": "code",
   "execution_count": 45,
   "metadata": {},
   "outputs": [
    {
     "name": "stdout",
     "output_type": "stream",
     "text": [
      "ROCAUC score: 0.9948876633502917\n",
      "Accuracy score: 0.9948943879441676\n",
      "F1 score: 0.9949208637808433\n",
      "Recall score: 0.9978145488604433\n",
      "Precision score: 0.9920439136756465\n",
      "              precision    recall  f1-score   support\n",
      "\n",
      "     class 0       1.00      0.99      0.99     60578\n",
      "     class 1       0.99      1.00      0.99     60857\n",
      "\n",
      "    accuracy                           0.99    121435\n",
      "   macro avg       0.99      0.99      0.99    121435\n",
      "weighted avg       0.99      0.99      0.99    121435\n",
      "\n"
     ]
    },
    {
     "data": {
      "image/png": "[encoded data removed]",
      "text/plain": [
       "<Figure size 432x288 with 2 Axes>"
      ]
     },
     "metadata": {
      "needs_background": "light"
     },
     "output_type": "display_data"
    }
   ],
   "source": [
    "print('ROCAUC score:',roc_auc_score(y_test2, y_pred2))\n",
    "print('Accuracy score:',accuracy_score(y_test2, y_pred2))\n",
    "print('F1 score:',f1_score(y_test2, y_pred2))\n",
    "print('Recall score:',recall_score(y_test2, y_pred2))\n",
    "print('Precision score:',precision_score(y_test2, y_pred2))\n",
    "\n",
    "print(classification_report(y_test2, y_pred2, target_names=target_names))\n",
    "plot_confusion_matrix(model2, X_test2, y_test2, display_labels=target_names,cmap=plt.cm.Blues); "
   ]
  },
  {
   "cell_type": "markdown",
   "metadata": {},
   "source": [
    "### c) Weighted Support Vector Machine (W-SVM)"
   ]
  },
  {
   "cell_type": "code",
   "execution_count": 47,
   "metadata": {},
   "outputs": [],
   "source": [
    "#train a model using Penalized-SVM on the original imbalanced dataset:\n",
    "#https://www.analyticsvidhya.com/blog/2020/07/10-techniques-to-deal-with-class-imbalance-in-machine-learning/\n",
    "# we can add class_weight='balanced' to add panalize mistake\n",
    "model_SVM = SVC(class_weight='balanced', probability=True)\n",
    "model_SVM.fit(X_train, y_train)\n",
    "y_pred_SVM = model_SVM.predict(X_test)"
   ]
  },
  {
   "cell_type": "code",
   "execution_count": 48,
   "metadata": {},
   "outputs": [],
   "source": [
    "y_pred_SVM = model_SVM.predict(X_test)"
   ]
  },
  {
   "cell_type": "code",
   "execution_count": 49,
   "metadata": {},
   "outputs": [
    {
     "name": "stdout",
     "output_type": "stream",
     "text": [
      "ROCAUC score: 0.5230562737767823\n",
      "Accuracy score: 0.04667774906595125\n",
      "F1 score: 0.0012415291500698358\n",
      "Recall score: 1.0\n",
      "Precision score: 0.0006211501630519178\n",
      "              precision    recall  f1-score   support\n",
      "\n",
      "     class 0       1.00      0.05      0.09     60721\n",
      "     class 1       0.00      1.00      0.00        36\n",
      "\n",
      "    accuracy                           0.05     60757\n",
      "   macro avg       0.50      0.52      0.04     60757\n",
      "weighted avg       1.00      0.05      0.09     60757\n",
      "\n"
     ]
    },
    {
     "data": {
      "image/png": "[encoded data removed]",
      "text/plain": [
       "<Figure size 432x288 with 2 Axes>"
      ]
     },
     "metadata": {
      "needs_background": "light"
     },
     "output_type": "display_data"
    }
   ],
   "source": [
    "print('ROCAUC score:',roc_auc_score(y_test, y_pred_SVM))\n",
    "print('Accuracy score:',accuracy_score(y_test, y_pred_SVM))\n",
    "print('F1 score:',f1_score(y_test, y_pred_SVM))\n",
    "print('Recall score:',recall_score(y_test, y_pred_SVM))\n",
    "print('Precision score:',precision_score(y_test, y_pred_SVM))\n",
    "\n",
    "print(classification_report(y_test, y_pred_SVM, target_names=target_names))\n",
    "plot_confusion_matrix(model_SVM, X_test, y_test, display_labels=target_names,cmap=plt.cm.Blues);"
   ]
  },
  {
   "cell_type": "markdown",
   "metadata": {},
   "source": [
    "# Undersampling using CNN\n",
    "Condensed Nearest Neighbor (CNN) is used to remove redundant examples from the interior of the density of the majority class. "
   ]
  },
  {
   "cell_type": "code",
   "execution_count": 34,
   "metadata": {},
   "outputs": [],
   "source": [
    "# undersample an imbalanced dataset with the Condensed Nearest Neighbor Rule pp.148\n",
    "from imblearn.under_sampling import CondensedNearestNeighbour"
   ]
  },
  {
   "cell_type": "code",
   "execution_count": 35,
   "metadata": {},
   "outputs": [
    {
     "name": "stdout",
     "output_type": "stream",
     "text": [
      "Counter({0: 303587, 1: 197})\n"
     ]
    }
   ],
   "source": [
    "counter = Counter(y)\n",
    "print(counter)"
   ]
  },
  {
   "cell_type": "code",
   "execution_count": 36,
   "metadata": {},
   "outputs": [
    {
     "name": "stdout",
     "output_type": "stream",
     "text": [
      "Counter({1: 197, 0: 124})\n"
     ]
    }
   ],
   "source": [
    "# define the undersampling method\n",
    "undersample = CondensedNearestNeighbour(n_neighbors=1)\n",
    "# transform the dataset\n",
    "Xu, yu = undersample.fit_resample(X, y)\n",
    "# summarize the new class distribution\n",
    "counter = Counter(yu)\n",
    "print(counter)"
   ]
  },
  {
   "cell_type": "markdown",
   "metadata": {},
   "source": [
    "### d) Weighted Decision Tree with Condensed Nearest Neighbor (DT+CNN)\n",
    "The `DecisionTreeClassifier` class provides the class weight argument that can be speci ed as a model hyperparameter. The class weight is a dictionary that de nes each class label (e.g. 0 and 1) and the weighting to apply in the calculation of group purity for splits in the decision tree when tting the model."
   ]
  },
  {
   "cell_type": "code",
   "execution_count": 37,
   "metadata": {},
   "outputs": [],
   "source": [
    "X_train3, X_test3, y_train3, y_test3 = train_test_split(Xu, yu, test_size =0.20, random_state=42)"
   ]
  },
  {
   "cell_type": "code",
   "execution_count": 54,
   "metadata": {},
   "outputs": [],
   "source": [
    "# define model\n",
    "model_DT = DecisionTreeClassifier(class_weight='balanced')\n",
    "#model performance\n",
    "model_DT.fit(X_train3, y_train3)\n",
    "y_pred_DT=model_DT.predict(X_test3)"
   ]
  },
  {
   "cell_type": "code",
   "execution_count": 55,
   "metadata": {},
   "outputs": [
    {
     "name": "stdout",
     "output_type": "stream",
     "text": [
      "ROCAUC score: 0.9827586206896552\n",
      "Accuracy score: 0.9846153846153847\n",
      "F1 score: 0.9863013698630138\n",
      "Recall score: 1.0\n",
      "Precision score: 0.972972972972973\n",
      "              precision    recall  f1-score   support\n",
      "\n",
      "     class 0       1.00      0.97      0.98        29\n",
      "     class 1       0.97      1.00      0.99        36\n",
      "\n",
      "    accuracy                           0.98        65\n",
      "   macro avg       0.99      0.98      0.98        65\n",
      "weighted avg       0.99      0.98      0.98        65\n",
      "\n"
     ]
    },
    {
     "data": {
      "image/png": "[encoded data removed]",
      "text/plain": [
       "<Figure size 432x288 with 2 Axes>"
      ]
     },
     "metadata": {
      "needs_background": "light"
     },
     "output_type": "display_data"
    }
   ],
   "source": [
    "print('ROCAUC score:',roc_auc_score(y_test3, y_pred_DT))\n",
    "print('Accuracy score:',accuracy_score(y_test3, y_pred_DT))\n",
    "print('F1 score:',f1_score(y_test3, y_pred_DT))\n",
    "print('Recall score:',recall_score(y_test3, y_pred_DT))\n",
    "print('Precision score:',precision_score(y_test3, y_pred_DT))\n",
    "\n",
    "print(classification_report(y_test3, y_pred_DT, target_names=target_names))\n",
    "plot_confusion_matrix(model_DT, X_test3, y_test3, display_labels=target_names,cmap=plt.cm.Blues);"
   ]
  },
  {
   "cell_type": "markdown",
   "metadata": {},
   "source": [
    "### e) Support Vector Machine with Condensed Nearest Neighbor (SVM+CNN)"
   ]
  },
  {
   "cell_type": "code",
   "execution_count": 42,
   "metadata": {},
   "outputs": [],
   "source": [
    "model_SVM_cnn = SVC()\n",
    "model_SVM_cnn.fit(X_train3, y_train3)\n",
    "y_pred_SVM_cnn = model_SVM_cnn.predict(X_test3)"
   ]
  },
  {
   "cell_type": "code",
   "execution_count": null,
   "metadata": {},
   "outputs": [],
   "source": [
    "print('ROCAUC score:',roc_auc_score(y_test3, y_pred_SVM_cnn))\n",
    "print('Accuracy score:',accuracy_score(y_test3, y_pred_SVM_cnn))\n",
    "print('F1 score:',f1_score(y_test3, y_pred_SVM_cnn))\n",
    "print('Recall score:',recall_score(y_test3, y_pred_SVM_cnn))\n",
    "print('Precision score:',precision_score(y_test3, y_pred_SVM_cnn))\n",
    "\n",
    "print(classification_report(y_test3, y_pred_SVM_cnn, target_names=target_names))\n",
    "plot_confusion_matrix(model_SVM_cnn, X_test3, y_test3, display_labels=target_names,cmap=plt.cm.Blues);"
   ]
  },
  {
   "cell_type": "code",
   "execution_count": null,
   "metadata": {},
   "outputs": [],
   "source": []
  }
 ],
 "metadata": {
  "kernelspec": {
   "display_name": "Python 3",
   "language": "python",
   "name": "python3"
  },
  "language_info": {
   "codemirror_mode": {
    "name": "ipython",
    "version": 3
   },
   "file_extension": ".py",
   "mimetype": "text/x-python",
   "name": "python",
   "nbconvert_exporter": "python",
   "pygments_lexer": "ipython3",
   "version": "3.8.5"
  }
 },
 "nbformat": 4,
 "nbformat_minor": 4
}
