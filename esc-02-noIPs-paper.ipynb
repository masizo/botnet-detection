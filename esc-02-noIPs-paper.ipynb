{
 "cells": [
  {
   "cell_type": "markdown",
   "metadata": {},
   "source": [
    "# Jupiter's Notebook for Scenario 02\n",
    "Requieres: [CategoryEncoders](http://contrib.scikit-learn.org/category_encoders/), [imbalanced-learn](https://imbalanced-learn.org/stable/)<br>\n",
    "`pip install category_encoders`<br>\n",
    "`pip install xgboost`<br>\n",
    "`pip install imbalanced-learn`"
   ]
  },
  {
   "cell_type": "code",
   "execution_count": 1,
   "metadata": {},
   "outputs": [],
   "source": [
    "#import libraries\n",
    "import numpy as np\n",
    "import pandas as pd\n",
    "import collections\n",
    "import matplotlib.pyplot as plt\n",
    "from sklearn.model_selection import train_test_split\n",
    "from sklearn.compose import ColumnTransformer\n",
    "from sklearn.pipeline import Pipeline,make_pipeline\n",
    "from sklearn.feature_selection import SelectKBest,chi2\n",
    "from sklearn.linear_model import LogisticRegression\n",
    "from sklearn.svm import SVC\n",
    "from sklearn.tree import DecisionTreeClassifier\n",
    "from sklearn.model_selection import RepeatedStratifiedKFold\n",
    "from sklearn.model_selection import cross_val_score\n",
    "from sklearn.model_selection import GridSearchCV\n",
    "from sklearn.model_selection import RepeatedStratifiedKFold\n",
    "from collections import Counter\n",
    "from sklearn.metrics import confusion_matrix\n",
    "from sklearn.metrics import accuracy_score, recall_score, precision_score, f1_score, confusion_matrix, roc_auc_score\n",
    "from sklearn.metrics import classification_report\n",
    "from sklearn.metrics import plot_confusion_matrix"
   ]
  },
  {
   "cell_type": "code",
   "execution_count": 2,
   "metadata": {},
   "outputs": [],
   "source": [
    "#To identify class 0 and 1, respectively\n",
    "target_names = ['class 0', 'class 1']"
   ]
  },
  {
   "cell_type": "code",
   "execution_count": 3,
   "metadata": {},
   "outputs": [],
   "source": [
    "#load dataset\n",
    "df=pd.read_csv('esc-02-Mixed-traffic.csv')"
   ]
  },
  {
   "cell_type": "code",
   "execution_count": 4,
   "metadata": {},
   "outputs": [
    {
     "data": {
      "text/plain": [
       "(268579, 52)"
      ]
     },
     "execution_count": 4,
     "metadata": {},
     "output_type": "execute_result"
    }
   ],
   "source": [
    "#check dimensions\n",
    "df.shape"
   ]
  },
  {
   "cell_type": "markdown",
   "metadata": {},
   "source": [
    "## Pre-feature selection"
   ]
  },
  {
   "cell_type": "code",
   "execution_count": 5,
   "metadata": {},
   "outputs": [
    {
     "name": "stdout",
     "output_type": "stream",
     "text": [
      "proto                 0\n",
      "ts                    0\n",
      "srcIP                 0\n",
      "srcPrt                0\n",
      "dstIP                 0\n",
      "dstPrt                0\n",
      "flowduration          0\n",
      "total_fpackets        0\n",
      "total_bpackets        0\n",
      "total_fpktl           0\n",
      "total_bpktl           0\n",
      "min_fpktl             0\n",
      "min_bpktl             0\n",
      "max_fpktl             0\n",
      "max_bpktl             0\n",
      "mean_fpktl            0\n",
      "mean_bpktl            0\n",
      "std_fpktl             0\n",
      "std_bpktl             0\n",
      "total_fipt            0\n",
      "total_bipt            0\n",
      "min_fipt              0\n",
      "min_bipt              0\n",
      "max_fipt              0\n",
      "max_bipt              0\n",
      "mean_fipt             0\n",
      "mean_bipt             0\n",
      "std_fipt              0\n",
      "std_bipt              0\n",
      "fpsh_cnt              0\n",
      "bpsh_cnt              0\n",
      "furg_cnt              0\n",
      "burg_cnt              0\n",
      "total_fhlen           0\n",
      "total_bhlen           0\n",
      "fPktsPerSecond        0\n",
      "bPktsPerSecond        0\n",
      "flowPktsPerSecond     0\n",
      "flowBytesPerSecond    0\n",
      "mean_flowpktl         0\n",
      "std_flowpktl          0\n",
      "mean_flowipt          0\n",
      "std_flowipt           0\n",
      "flow_fin              0\n",
      "flow_syn              0\n",
      "flow_rst              0\n",
      "flow_ack              0\n",
      "flow_urg              0\n",
      "flow_cwr              0\n",
      "flow_ece              0\n",
      "downUpRatio           0\n",
      "label                 0\n",
      "dtype: int64\n",
      "0\n"
     ]
    }
   ],
   "source": [
    "#check the number of null values\n",
    "print(df.isnull().sum())\n",
    "print(df.isnull().values.sum())"
   ]
  },
  {
   "cell_type": "code",
   "execution_count": 6,
   "metadata": {},
   "outputs": [],
   "source": [
    "#Dropping Rows with NA inplace\n",
    "df.dropna(inplace=True)"
   ]
  },
  {
   "cell_type": "code",
   "execution_count": 5,
   "metadata": {},
   "outputs": [
    {
     "name": "stdout",
     "output_type": "stream",
     "text": [
      "proto                      2\n",
      "ts                    268578\n",
      "srcIP                  12512\n",
      "srcPrt                 53389\n",
      "dstIP                  11894\n",
      "dstPrt                   238\n",
      "flowduration          164998\n",
      "total_fpackets           652\n",
      "total_bpackets           846\n",
      "total_fpktl             8936\n",
      "total_bpktl            20556\n",
      "min_fpktl                151\n",
      "min_bpktl                496\n",
      "max_fpktl               1323\n",
      "max_bpktl               1127\n",
      "mean_fpktl             19827\n",
      "mean_bpktl             24418\n",
      "std_fpktl              35248\n",
      "std_bpktl              30803\n",
      "total_fipt            102241\n",
      "total_bipt             79712\n",
      "min_fipt               54841\n",
      "min_bipt               24556\n",
      "max_fipt               96130\n",
      "max_bipt               71690\n",
      "mean_fipt              97713\n",
      "mean_bipt              76541\n",
      "std_fipt               84818\n",
      "std_bipt               67466\n",
      "fpsh_cnt                 193\n",
      "bpsh_cnt                 439\n",
      "furg_cnt                   1\n",
      "burg_cnt                   1\n",
      "total_fhlen             3172\n",
      "total_bhlen             4073\n",
      "fPktsPerSecond        152369\n",
      "bPktsPerSecond        144672\n",
      "flowPktsPerSecond     154786\n",
      "flowBytesPerSecond    197326\n",
      "mean_flowpktl          37079\n",
      "std_flowpktl           52868\n",
      "mean_flowipt          156698\n",
      "std_flowipt           101637\n",
      "flow_fin                  19\n",
      "flow_syn                  18\n",
      "flow_rst                  29\n",
      "flow_ack                1142\n",
      "flow_urg                   1\n",
      "flow_cwr                   2\n",
      "flow_ece                   1\n",
      "downUpRatio            55043\n",
      "label                      2\n",
      "dtype: int64\n"
     ]
    }
   ],
   "source": [
    "#sumarize the number of unique values for each column \n",
    "print(df.nunique())"
   ]
  },
  {
   "cell_type": "code",
   "execution_count": 7,
   "metadata": {},
   "outputs": [
    {
     "name": "stdout",
     "output_type": "stream",
     "text": [
      "[31, 32, 47, 49]\n",
      "(268579, 48)\n"
     ]
    }
   ],
   "source": [
    "#delete features with a single unique value\n",
    "#get the indexes of the single-valued columns\n",
    "counts=df.nunique()\n",
    "to_del=[i for i,v in enumerate(counts) if v==1]\n",
    "print(to_del)\n",
    "#drop unless columns\n",
    "df.drop(df.columns[to_del],axis=1,inplace=True)\n",
    "print(df.shape)"
   ]
  },
  {
   "cell_type": "code",
   "execution_count": 8,
   "metadata": {},
   "outputs": [
    {
     "name": "stdout",
     "output_type": "stream",
     "text": [
      "proto                      2\n",
      "ts                    268578\n",
      "srcIP                  12512\n",
      "srcPrt                 53389\n",
      "dstIP                  11894\n",
      "dstPrt                   238\n",
      "flowduration          164998\n",
      "total_fpackets           652\n",
      "total_bpackets           846\n",
      "total_fpktl             8936\n",
      "total_bpktl            20556\n",
      "min_fpktl                151\n",
      "min_bpktl                496\n",
      "max_fpktl               1323\n",
      "max_bpktl               1127\n",
      "mean_fpktl             19827\n",
      "mean_bpktl             24418\n",
      "std_fpktl              35248\n",
      "std_bpktl              30803\n",
      "total_fipt            102241\n",
      "total_bipt             79712\n",
      "min_fipt               54841\n",
      "min_bipt               24556\n",
      "max_fipt               96130\n",
      "max_bipt               71690\n",
      "mean_fipt              97713\n",
      "mean_bipt              76541\n",
      "std_fipt               84818\n",
      "std_bipt               67466\n",
      "fpsh_cnt                 193\n",
      "bpsh_cnt                 439\n",
      "total_fhlen             3172\n",
      "total_bhlen             4073\n",
      "fPktsPerSecond        152369\n",
      "bPktsPerSecond        144672\n",
      "flowPktsPerSecond     154786\n",
      "flowBytesPerSecond    197326\n",
      "mean_flowpktl          37079\n",
      "std_flowpktl           52868\n",
      "mean_flowipt          156698\n",
      "std_flowipt           101637\n",
      "flow_fin                  19\n",
      "flow_syn                  18\n",
      "flow_rst                  29\n",
      "flow_ack                1142\n",
      "flow_cwr                   2\n",
      "downUpRatio            55043\n",
      "label                      2\n",
      "dtype: int64\n"
     ]
    }
   ],
   "source": [
    "#sumarize the number of unique values for each column \n",
    "print(df.nunique())"
   ]
  },
  {
   "cell_type": "code",
   "execution_count": 9,
   "metadata": {},
   "outputs": [],
   "source": [
    "#delete ts, srcIP and dstIP columns\n",
    "df.drop(['ts','srcIP','dstIP'],axis=1,inplace=True)"
   ]
  },
  {
   "cell_type": "code",
   "execution_count": 10,
   "metadata": {},
   "outputs": [
    {
     "data": {
      "image/png": "[encoded data removed]",
      "text/plain": [
       "<Figure size 432x288 with 1 Axes>"
      ]
     },
     "metadata": {
      "needs_background": "light"
     },
     "output_type": "display_data"
    }
   ],
   "source": [
    "#Consider columns that have very few values, e.g. flow_cwr column\n",
    "ax = df['flow_cwr'].value_counts().plot(kind='bar',fontsize=16) \n",
    "for p in ax.patches:\n",
    "    x = p.get_x()\n",
    "    h = p.get_height()\n",
    "    w = p.get_width()\n",
    "    ax.annotate(f'{h:.0f}\\n', (x + w/2, h), ha='center', va='center', size=16)\n",
    "plt.margins(y=0.2)\n",
    "plt.tight_layout()\n",
    "plt.show()"
   ]
  },
  {
   "cell_type": "code",
   "execution_count": 11,
   "metadata": {},
   "outputs": [],
   "source": [
    "#delete flow_cwr column\n",
    "df.drop('flow_cwr',axis=1,inplace=True)"
   ]
  },
  {
   "cell_type": "code",
   "execution_count": 12,
   "metadata": {},
   "outputs": [
    {
     "data": {
      "text/plain": [
       "Counter({0: 247319, 1: 21260})"
      ]
     },
     "execution_count": 12,
     "metadata": {},
     "output_type": "execute_result"
    }
   ],
   "source": [
    "#counting classes\n",
    "collections.Counter(df.label.values)"
   ]
  },
  {
   "cell_type": "code",
   "execution_count": 13,
   "metadata": {},
   "outputs": [
    {
     "name": "stdout",
     "output_type": "stream",
     "text": [
      "(268579, 44)\n",
      "(265823, 44)\n"
     ]
    }
   ],
   "source": [
    "#Delete Rows That Contain Duplicate Data\n",
    "print(df.shape)\n",
    "df.drop_duplicates(inplace=True)\n",
    "print(df.shape)"
   ]
  },
  {
   "cell_type": "code",
   "execution_count": 14,
   "metadata": {},
   "outputs": [
    {
     "data": {
      "text/plain": [
       "Counter({0: 244571, 1: 21252})"
      ]
     },
     "execution_count": 14,
     "metadata": {},
     "output_type": "execute_result"
    }
   ],
   "source": [
    "#counting classes\n",
    "collections.Counter(df.label.values)"
   ]
  },
  {
   "cell_type": "code",
   "execution_count": 15,
   "metadata": {},
   "outputs": [
    {
     "data": {
      "text/html": [
       "<div>\n",
       "<style scoped>\n",
       "    .dataframe tbody tr th:only-of-type {\n",
       "        vertical-align: middle;\n",
       "    }\n",
       "\n",
       "    .dataframe tbody tr th {\n",
       "        vertical-align: top;\n",
       "    }\n",
       "\n",
       "    .dataframe thead th {\n",
       "        text-align: right;\n",
       "    }\n",
       "</style>\n",
       "<table border=\"1\" class=\"dataframe\">\n",
       "  <thead>\n",
       "    <tr style=\"text-align: right;\">\n",
       "      <th></th>\n",
       "      <th>proto</th>\n",
       "      <th>srcPrt</th>\n",
       "      <th>dstPrt</th>\n",
       "      <th>flowduration</th>\n",
       "      <th>total_fpackets</th>\n",
       "      <th>total_bpackets</th>\n",
       "      <th>total_fpktl</th>\n",
       "      <th>total_bpktl</th>\n",
       "      <th>min_fpktl</th>\n",
       "      <th>min_bpktl</th>\n",
       "      <th>...</th>\n",
       "      <th>mean_flowpktl</th>\n",
       "      <th>std_flowpktl</th>\n",
       "      <th>mean_flowipt</th>\n",
       "      <th>std_flowipt</th>\n",
       "      <th>flow_fin</th>\n",
       "      <th>flow_syn</th>\n",
       "      <th>flow_rst</th>\n",
       "      <th>flow_ack</th>\n",
       "      <th>downUpRatio</th>\n",
       "      <th>label</th>\n",
       "    </tr>\n",
       "  </thead>\n",
       "  <tbody>\n",
       "    <tr>\n",
       "      <th>0</th>\n",
       "      <td>TCP</td>\n",
       "      <td>50427</td>\n",
       "      <td>80</td>\n",
       "      <td>11.999684</td>\n",
       "      <td>14</td>\n",
       "      <td>12</td>\n",
       "      <td>1989</td>\n",
       "      <td>10121</td>\n",
       "      <td>66</td>\n",
       "      <td>66</td>\n",
       "      <td>...</td>\n",
       "      <td>465.769231</td>\n",
       "      <td>564.095703</td>\n",
       "      <td>0.675740</td>\n",
       "      <td>1.588288</td>\n",
       "      <td>2</td>\n",
       "      <td>0</td>\n",
       "      <td>0</td>\n",
       "      <td>26</td>\n",
       "      <td>5.088487</td>\n",
       "      <td>0</td>\n",
       "    </tr>\n",
       "    <tr>\n",
       "      <th>1</th>\n",
       "      <td>TCP</td>\n",
       "      <td>38785</td>\n",
       "      <td>80</td>\n",
       "      <td>12.197338</td>\n",
       "      <td>26</td>\n",
       "      <td>17</td>\n",
       "      <td>3311</td>\n",
       "      <td>16298</td>\n",
       "      <td>66</td>\n",
       "      <td>66</td>\n",
       "      <td>...</td>\n",
       "      <td>456.023256</td>\n",
       "      <td>570.117188</td>\n",
       "      <td>0.407021</td>\n",
       "      <td>1.245630</td>\n",
       "      <td>2</td>\n",
       "      <td>0</td>\n",
       "      <td>0</td>\n",
       "      <td>43</td>\n",
       "      <td>4.922380</td>\n",
       "      <td>0</td>\n",
       "    </tr>\n",
       "    <tr>\n",
       "      <th>2</th>\n",
       "      <td>TCP</td>\n",
       "      <td>33983</td>\n",
       "      <td>80</td>\n",
       "      <td>0.382890</td>\n",
       "      <td>7</td>\n",
       "      <td>7</td>\n",
       "      <td>814</td>\n",
       "      <td>3990</td>\n",
       "      <td>66</td>\n",
       "      <td>66</td>\n",
       "      <td>...</td>\n",
       "      <td>343.142857</td>\n",
       "      <td>510.992828</td>\n",
       "      <td>0.029794</td>\n",
       "      <td>0.071657</td>\n",
       "      <td>2</td>\n",
       "      <td>2</td>\n",
       "      <td>0</td>\n",
       "      <td>13</td>\n",
       "      <td>4.901720</td>\n",
       "      <td>0</td>\n",
       "    </tr>\n",
       "    <tr>\n",
       "      <th>3</th>\n",
       "      <td>TCP</td>\n",
       "      <td>56754</td>\n",
       "      <td>25</td>\n",
       "      <td>0.000013</td>\n",
       "      <td>1</td>\n",
       "      <td>1</td>\n",
       "      <td>66</td>\n",
       "      <td>54</td>\n",
       "      <td>66</td>\n",
       "      <td>54</td>\n",
       "      <td>...</td>\n",
       "      <td>60.000000</td>\n",
       "      <td>8.485281</td>\n",
       "      <td>0.000013</td>\n",
       "      <td>0.000000</td>\n",
       "      <td>0</td>\n",
       "      <td>1</td>\n",
       "      <td>1</td>\n",
       "      <td>1</td>\n",
       "      <td>0.818182</td>\n",
       "      <td>0</td>\n",
       "    </tr>\n",
       "    <tr>\n",
       "      <th>4</th>\n",
       "      <td>TCP</td>\n",
       "      <td>56755</td>\n",
       "      <td>25</td>\n",
       "      <td>0.000018</td>\n",
       "      <td>1</td>\n",
       "      <td>1</td>\n",
       "      <td>66</td>\n",
       "      <td>54</td>\n",
       "      <td>66</td>\n",
       "      <td>54</td>\n",
       "      <td>...</td>\n",
       "      <td>60.000000</td>\n",
       "      <td>8.485281</td>\n",
       "      <td>0.000018</td>\n",
       "      <td>0.000000</td>\n",
       "      <td>0</td>\n",
       "      <td>1</td>\n",
       "      <td>1</td>\n",
       "      <td>1</td>\n",
       "      <td>0.818182</td>\n",
       "      <td>0</td>\n",
       "    </tr>\n",
       "    <tr>\n",
       "      <th>...</th>\n",
       "      <td>...</td>\n",
       "      <td>...</td>\n",
       "      <td>...</td>\n",
       "      <td>...</td>\n",
       "      <td>...</td>\n",
       "      <td>...</td>\n",
       "      <td>...</td>\n",
       "      <td>...</td>\n",
       "      <td>...</td>\n",
       "      <td>...</td>\n",
       "      <td>...</td>\n",
       "      <td>...</td>\n",
       "      <td>...</td>\n",
       "      <td>...</td>\n",
       "      <td>...</td>\n",
       "      <td>...</td>\n",
       "      <td>...</td>\n",
       "      <td>...</td>\n",
       "      <td>...</td>\n",
       "      <td>...</td>\n",
       "      <td>...</td>\n",
       "    </tr>\n",
       "    <tr>\n",
       "      <th>268574</th>\n",
       "      <td>UDP</td>\n",
       "      <td>58772</td>\n",
       "      <td>53</td>\n",
       "      <td>0.000551</td>\n",
       "      <td>1</td>\n",
       "      <td>1</td>\n",
       "      <td>81</td>\n",
       "      <td>384</td>\n",
       "      <td>81</td>\n",
       "      <td>384</td>\n",
       "      <td>...</td>\n",
       "      <td>232.500000</td>\n",
       "      <td>214.253357</td>\n",
       "      <td>0.000551</td>\n",
       "      <td>0.000000</td>\n",
       "      <td>0</td>\n",
       "      <td>0</td>\n",
       "      <td>0</td>\n",
       "      <td>0</td>\n",
       "      <td>4.740741</td>\n",
       "      <td>0</td>\n",
       "    </tr>\n",
       "    <tr>\n",
       "      <th>268575</th>\n",
       "      <td>UDP</td>\n",
       "      <td>59865</td>\n",
       "      <td>53</td>\n",
       "      <td>0.264637</td>\n",
       "      <td>1</td>\n",
       "      <td>1</td>\n",
       "      <td>74</td>\n",
       "      <td>74</td>\n",
       "      <td>74</td>\n",
       "      <td>74</td>\n",
       "      <td>...</td>\n",
       "      <td>74.000000</td>\n",
       "      <td>0.000000</td>\n",
       "      <td>0.264637</td>\n",
       "      <td>0.000000</td>\n",
       "      <td>0</td>\n",
       "      <td>0</td>\n",
       "      <td>0</td>\n",
       "      <td>0</td>\n",
       "      <td>1.000000</td>\n",
       "      <td>0</td>\n",
       "    </tr>\n",
       "    <tr>\n",
       "      <th>268576</th>\n",
       "      <td>UDP</td>\n",
       "      <td>64348</td>\n",
       "      <td>53</td>\n",
       "      <td>0.000295</td>\n",
       "      <td>1</td>\n",
       "      <td>1</td>\n",
       "      <td>74</td>\n",
       "      <td>138</td>\n",
       "      <td>74</td>\n",
       "      <td>138</td>\n",
       "      <td>...</td>\n",
       "      <td>106.000000</td>\n",
       "      <td>45.254833</td>\n",
       "      <td>0.000295</td>\n",
       "      <td>0.000000</td>\n",
       "      <td>0</td>\n",
       "      <td>0</td>\n",
       "      <td>0</td>\n",
       "      <td>0</td>\n",
       "      <td>1.864865</td>\n",
       "      <td>0</td>\n",
       "    </tr>\n",
       "    <tr>\n",
       "      <th>268577</th>\n",
       "      <td>UDP</td>\n",
       "      <td>59871</td>\n",
       "      <td>53</td>\n",
       "      <td>0.000000</td>\n",
       "      <td>1</td>\n",
       "      <td>0</td>\n",
       "      <td>74</td>\n",
       "      <td>0</td>\n",
       "      <td>74</td>\n",
       "      <td>0</td>\n",
       "      <td>...</td>\n",
       "      <td>74.000000</td>\n",
       "      <td>0.000000</td>\n",
       "      <td>0.000000</td>\n",
       "      <td>0.000000</td>\n",
       "      <td>0</td>\n",
       "      <td>0</td>\n",
       "      <td>0</td>\n",
       "      <td>0</td>\n",
       "      <td>0.000000</td>\n",
       "      <td>0</td>\n",
       "    </tr>\n",
       "    <tr>\n",
       "      <th>268578</th>\n",
       "      <td>UDP</td>\n",
       "      <td>62997</td>\n",
       "      <td>53</td>\n",
       "      <td>0.000181</td>\n",
       "      <td>1</td>\n",
       "      <td>1</td>\n",
       "      <td>72</td>\n",
       "      <td>131</td>\n",
       "      <td>72</td>\n",
       "      <td>131</td>\n",
       "      <td>...</td>\n",
       "      <td>101.500000</td>\n",
       "      <td>41.719299</td>\n",
       "      <td>0.000181</td>\n",
       "      <td>0.000000</td>\n",
       "      <td>0</td>\n",
       "      <td>0</td>\n",
       "      <td>0</td>\n",
       "      <td>0</td>\n",
       "      <td>1.819444</td>\n",
       "      <td>0</td>\n",
       "    </tr>\n",
       "  </tbody>\n",
       "</table>\n",
       "<p>265823 rows × 44 columns</p>\n",
       "</div>"
      ],
      "text/plain": [
       "       proto  srcPrt  dstPrt  flowduration  total_fpackets  total_bpackets  \\\n",
       "0        TCP   50427      80     11.999684              14              12   \n",
       "1        TCP   38785      80     12.197338              26              17   \n",
       "2        TCP   33983      80      0.382890               7               7   \n",
       "3        TCP   56754      25      0.000013               1               1   \n",
       "4        TCP   56755      25      0.000018               1               1   \n",
       "...      ...     ...     ...           ...             ...             ...   \n",
       "268574   UDP   58772      53      0.000551               1               1   \n",
       "268575   UDP   59865      53      0.264637               1               1   \n",
       "268576   UDP   64348      53      0.000295               1               1   \n",
       "268577   UDP   59871      53      0.000000               1               0   \n",
       "268578   UDP   62997      53      0.000181               1               1   \n",
       "\n",
       "        total_fpktl  total_bpktl  min_fpktl  min_bpktl  ...  mean_flowpktl  \\\n",
       "0              1989        10121         66         66  ...     465.769231   \n",
       "1              3311        16298         66         66  ...     456.023256   \n",
       "2               814         3990         66         66  ...     343.142857   \n",
       "3                66           54         66         54  ...      60.000000   \n",
       "4                66           54         66         54  ...      60.000000   \n",
       "...             ...          ...        ...        ...  ...            ...   \n",
       "268574           81          384         81        384  ...     232.500000   \n",
       "268575           74           74         74         74  ...      74.000000   \n",
       "268576           74          138         74        138  ...     106.000000   \n",
       "268577           74            0         74          0  ...      74.000000   \n",
       "268578           72          131         72        131  ...     101.500000   \n",
       "\n",
       "        std_flowpktl  mean_flowipt  std_flowipt  flow_fin  flow_syn  flow_rst  \\\n",
       "0         564.095703      0.675740     1.588288         2         0         0   \n",
       "1         570.117188      0.407021     1.245630         2         0         0   \n",
       "2         510.992828      0.029794     0.071657         2         2         0   \n",
       "3           8.485281      0.000013     0.000000         0         1         1   \n",
       "4           8.485281      0.000018     0.000000         0         1         1   \n",
       "...              ...           ...          ...       ...       ...       ...   \n",
       "268574    214.253357      0.000551     0.000000         0         0         0   \n",
       "268575      0.000000      0.264637     0.000000         0         0         0   \n",
       "268576     45.254833      0.000295     0.000000         0         0         0   \n",
       "268577      0.000000      0.000000     0.000000         0         0         0   \n",
       "268578     41.719299      0.000181     0.000000         0         0         0   \n",
       "\n",
       "        flow_ack  downUpRatio  label  \n",
       "0             26     5.088487      0  \n",
       "1             43     4.922380      0  \n",
       "2             13     4.901720      0  \n",
       "3              1     0.818182      0  \n",
       "4              1     0.818182      0  \n",
       "...          ...          ...    ...  \n",
       "268574         0     4.740741      0  \n",
       "268575         0     1.000000      0  \n",
       "268576         0     1.864865      0  \n",
       "268577         0     0.000000      0  \n",
       "268578         0     1.819444      0  \n",
       "\n",
       "[265823 rows x 44 columns]"
      ]
     },
     "execution_count": 15,
     "metadata": {},
     "output_type": "execute_result"
    }
   ],
   "source": [
    "df"
   ]
  },
  {
   "cell_type": "code",
   "execution_count": 16,
   "metadata": {},
   "outputs": [
    {
     "name": "stdout",
     "output_type": "stream",
     "text": [
      "> Class 0 : 244571 of 265823 (92.0%)\n",
      "> Class 1 : 21252 of 265823 (8.0%)\n"
     ]
    }
   ],
   "source": [
    "#check % class distribution \n",
    "y=df['label'].values #convert to nparray\n",
    "\n",
    "classes=np.unique(y)\n",
    "total=len(y)\n",
    "\n",
    "for c in classes:\n",
    "    n_examples=len(y[y==c])\n",
    "    percent = n_examples/total*100\n",
    "    print('> Class %d : %d of %d (%.1f%%)' % (c, n_examples,total,percent))"
   ]
  },
  {
   "cell_type": "markdown",
   "metadata": {},
   "source": [
    "# Coding of categorical variables\n",
    "[Target encoding](https://contrib.scikit-learn.org/category_encoders/targetencoder.html) for categorical features will be used to encode three nominal categorical variables: protocol, source and destination ports. This method is supervised and requires training."
   ]
  },
  {
   "cell_type": "code",
   "execution_count": 17,
   "metadata": {},
   "outputs": [
    {
     "data": {
      "text/plain": [
       "proto                  object\n",
       "srcPrt                  int64\n",
       "dstPrt                  int64\n",
       "flowduration          float64\n",
       "total_fpackets          int64\n",
       "total_bpackets          int64\n",
       "total_fpktl             int64\n",
       "total_bpktl             int64\n",
       "min_fpktl               int64\n",
       "min_bpktl               int64\n",
       "max_fpktl               int64\n",
       "max_bpktl               int64\n",
       "mean_fpktl            float64\n",
       "mean_bpktl            float64\n",
       "std_fpktl             float64\n",
       "std_bpktl             float64\n",
       "total_fipt            float64\n",
       "total_bipt            float64\n",
       "min_fipt              float64\n",
       "min_bipt              float64\n",
       "max_fipt              float64\n",
       "max_bipt              float64\n",
       "mean_fipt             float64\n",
       "mean_bipt             float64\n",
       "std_fipt              float64\n",
       "std_bipt              float64\n",
       "fpsh_cnt                int64\n",
       "bpsh_cnt                int64\n",
       "total_fhlen             int64\n",
       "total_bhlen             int64\n",
       "fPktsPerSecond        float64\n",
       "bPktsPerSecond        float64\n",
       "flowPktsPerSecond     float64\n",
       "flowBytesPerSecond    float64\n",
       "mean_flowpktl         float64\n",
       "std_flowpktl          float64\n",
       "mean_flowipt          float64\n",
       "std_flowipt           float64\n",
       "flow_fin                int64\n",
       "flow_syn                int64\n",
       "flow_rst                int64\n",
       "flow_ack                int64\n",
       "downUpRatio           float64\n",
       "label                   int64\n",
       "dtype: object"
      ]
     },
     "execution_count": 17,
     "metadata": {},
     "output_type": "execute_result"
    }
   ],
   "source": [
    "#check data types for each feature\n",
    "df.dtypes"
   ]
  },
  {
   "cell_type": "code",
   "execution_count": 18,
   "metadata": {},
   "outputs": [],
   "source": [
    "#create training and test dataset\n",
    "X_train,X_test,y_train,y_test = train_test_split(df.drop(columns=['label']), df['label'], test_size=0.2, random_state=42)"
   ]
  },
  {
   "cell_type": "code",
   "execution_count": 19,
   "metadata": {},
   "outputs": [],
   "source": [
    "#load library for target encoder\n",
    "from category_encoders import TargetEncoder"
   ]
  },
  {
   "cell_type": "code",
   "execution_count": 20,
   "metadata": {},
   "outputs": [],
   "source": [
    "# Selecting the three categorical variables to be coded\n",
    "enc = TargetEncoder(cols=['proto','srcPrt','dstPrt'])\n",
    "\n",
    "# transform the datasets\n",
    "training_numeric_dataset = enc.fit_transform(X_train, y_train)\n",
    "testing_numeric_dataset = enc.transform(X_test)"
   ]
  },
  {
   "cell_type": "code",
   "execution_count": 21,
   "metadata": {},
   "outputs": [
    {
     "data": {
      "text/html": [
       "<div>\n",
       "<style scoped>\n",
       "    .dataframe tbody tr th:only-of-type {\n",
       "        vertical-align: middle;\n",
       "    }\n",
       "\n",
       "    .dataframe tbody tr th {\n",
       "        vertical-align: top;\n",
       "    }\n",
       "\n",
       "    .dataframe thead th {\n",
       "        text-align: right;\n",
       "    }\n",
       "</style>\n",
       "<table border=\"1\" class=\"dataframe\">\n",
       "  <thead>\n",
       "    <tr style=\"text-align: right;\">\n",
       "      <th></th>\n",
       "      <th>proto</th>\n",
       "      <th>srcPrt</th>\n",
       "      <th>dstPrt</th>\n",
       "      <th>flowduration</th>\n",
       "      <th>total_fpackets</th>\n",
       "      <th>total_bpackets</th>\n",
       "      <th>total_fpktl</th>\n",
       "      <th>total_bpktl</th>\n",
       "      <th>min_fpktl</th>\n",
       "      <th>min_bpktl</th>\n",
       "      <th>...</th>\n",
       "      <th>flowBytesPerSecond</th>\n",
       "      <th>mean_flowpktl</th>\n",
       "      <th>std_flowpktl</th>\n",
       "      <th>mean_flowipt</th>\n",
       "      <th>std_flowipt</th>\n",
       "      <th>flow_fin</th>\n",
       "      <th>flow_syn</th>\n",
       "      <th>flow_rst</th>\n",
       "      <th>flow_ack</th>\n",
       "      <th>downUpRatio</th>\n",
       "    </tr>\n",
       "  </thead>\n",
       "  <tbody>\n",
       "    <tr>\n",
       "      <th>103880</th>\n",
       "      <td>0.000737</td>\n",
       "      <td>0.000000</td>\n",
       "      <td>0.000343</td>\n",
       "      <td>0.080064</td>\n",
       "      <td>1</td>\n",
       "      <td>1</td>\n",
       "      <td>108</td>\n",
       "      <td>192</td>\n",
       "      <td>108</td>\n",
       "      <td>192</td>\n",
       "      <td>...</td>\n",
       "      <td>3.747000e+03</td>\n",
       "      <td>150.0</td>\n",
       "      <td>59.396969</td>\n",
       "      <td>0.080064</td>\n",
       "      <td>0.000000</td>\n",
       "      <td>0</td>\n",
       "      <td>0</td>\n",
       "      <td>0</td>\n",
       "      <td>0</td>\n",
       "      <td>1.777778</td>\n",
       "    </tr>\n",
       "    <tr>\n",
       "      <th>124959</th>\n",
       "      <td>0.000737</td>\n",
       "      <td>0.003791</td>\n",
       "      <td>0.000343</td>\n",
       "      <td>0.978804</td>\n",
       "      <td>2</td>\n",
       "      <td>2</td>\n",
       "      <td>164</td>\n",
       "      <td>282</td>\n",
       "      <td>82</td>\n",
       "      <td>141</td>\n",
       "      <td>...</td>\n",
       "      <td>4.556581e+02</td>\n",
       "      <td>111.5</td>\n",
       "      <td>34.063667</td>\n",
       "      <td>0.326313</td>\n",
       "      <td>0.564934</td>\n",
       "      <td>0</td>\n",
       "      <td>0</td>\n",
       "      <td>0</td>\n",
       "      <td>0</td>\n",
       "      <td>1.719512</td>\n",
       "    </tr>\n",
       "    <tr>\n",
       "      <th>267159</th>\n",
       "      <td>0.000737</td>\n",
       "      <td>0.000535</td>\n",
       "      <td>0.000343</td>\n",
       "      <td>0.035606</td>\n",
       "      <td>1</td>\n",
       "      <td>1</td>\n",
       "      <td>81</td>\n",
       "      <td>352</td>\n",
       "      <td>81</td>\n",
       "      <td>352</td>\n",
       "      <td>...</td>\n",
       "      <td>1.216090e+04</td>\n",
       "      <td>216.5</td>\n",
       "      <td>191.625931</td>\n",
       "      <td>0.035606</td>\n",
       "      <td>0.000000</td>\n",
       "      <td>0</td>\n",
       "      <td>0</td>\n",
       "      <td>0</td>\n",
       "      <td>0</td>\n",
       "      <td>4.345679</td>\n",
       "    </tr>\n",
       "    <tr>\n",
       "      <th>42742</th>\n",
       "      <td>0.278085</td>\n",
       "      <td>0.000073</td>\n",
       "      <td>0.190102</td>\n",
       "      <td>12.820711</td>\n",
       "      <td>4</td>\n",
       "      <td>3</td>\n",
       "      <td>246</td>\n",
       "      <td>174</td>\n",
       "      <td>60</td>\n",
       "      <td>54</td>\n",
       "      <td>...</td>\n",
       "      <td>3.275950e+01</td>\n",
       "      <td>60.0</td>\n",
       "      <td>4.898980</td>\n",
       "      <td>2.136803</td>\n",
       "      <td>4.642579</td>\n",
       "      <td>2</td>\n",
       "      <td>2</td>\n",
       "      <td>0</td>\n",
       "      <td>6</td>\n",
       "      <td>0.707317</td>\n",
       "    </tr>\n",
       "    <tr>\n",
       "      <th>131019</th>\n",
       "      <td>0.000737</td>\n",
       "      <td>0.003791</td>\n",
       "      <td>0.000343</td>\n",
       "      <td>0.000265</td>\n",
       "      <td>1</td>\n",
       "      <td>1</td>\n",
       "      <td>80</td>\n",
       "      <td>183</td>\n",
       "      <td>80</td>\n",
       "      <td>183</td>\n",
       "      <td>...</td>\n",
       "      <td>9.928911e+05</td>\n",
       "      <td>131.5</td>\n",
       "      <td>72.832001</td>\n",
       "      <td>0.000265</td>\n",
       "      <td>0.000000</td>\n",
       "      <td>0</td>\n",
       "      <td>0</td>\n",
       "      <td>0</td>\n",
       "      <td>0</td>\n",
       "      <td>2.287500</td>\n",
       "    </tr>\n",
       "    <tr>\n",
       "      <th>...</th>\n",
       "      <td>...</td>\n",
       "      <td>...</td>\n",
       "      <td>...</td>\n",
       "      <td>...</td>\n",
       "      <td>...</td>\n",
       "      <td>...</td>\n",
       "      <td>...</td>\n",
       "      <td>...</td>\n",
       "      <td>...</td>\n",
       "      <td>...</td>\n",
       "      <td>...</td>\n",
       "      <td>...</td>\n",
       "      <td>...</td>\n",
       "      <td>...</td>\n",
       "      <td>...</td>\n",
       "      <td>...</td>\n",
       "      <td>...</td>\n",
       "      <td>...</td>\n",
       "      <td>...</td>\n",
       "      <td>...</td>\n",
       "      <td>...</td>\n",
       "    </tr>\n",
       "    <tr>\n",
       "      <th>120496</th>\n",
       "      <td>0.000737</td>\n",
       "      <td>0.000001</td>\n",
       "      <td>0.000343</td>\n",
       "      <td>0.035916</td>\n",
       "      <td>1</td>\n",
       "      <td>1</td>\n",
       "      <td>76</td>\n",
       "      <td>374</td>\n",
       "      <td>76</td>\n",
       "      <td>374</td>\n",
       "      <td>...</td>\n",
       "      <td>1.252929e+04</td>\n",
       "      <td>225.0</td>\n",
       "      <td>210.717819</td>\n",
       "      <td>0.035916</td>\n",
       "      <td>0.000000</td>\n",
       "      <td>0</td>\n",
       "      <td>0</td>\n",
       "      <td>0</td>\n",
       "      <td>0</td>\n",
       "      <td>4.921052</td>\n",
       "    </tr>\n",
       "    <tr>\n",
       "      <th>261814</th>\n",
       "      <td>0.000737</td>\n",
       "      <td>0.000000</td>\n",
       "      <td>0.000343</td>\n",
       "      <td>0.185493</td>\n",
       "      <td>1</td>\n",
       "      <td>1</td>\n",
       "      <td>98</td>\n",
       "      <td>180</td>\n",
       "      <td>98</td>\n",
       "      <td>180</td>\n",
       "      <td>...</td>\n",
       "      <td>1.498709e+03</td>\n",
       "      <td>139.0</td>\n",
       "      <td>57.982758</td>\n",
       "      <td>0.185493</td>\n",
       "      <td>0.000000</td>\n",
       "      <td>0</td>\n",
       "      <td>0</td>\n",
       "      <td>0</td>\n",
       "      <td>0</td>\n",
       "      <td>1.836735</td>\n",
       "    </tr>\n",
       "    <tr>\n",
       "      <th>132727</th>\n",
       "      <td>0.000737</td>\n",
       "      <td>0.009529</td>\n",
       "      <td>0.000343</td>\n",
       "      <td>6.136319</td>\n",
       "      <td>1</td>\n",
       "      <td>1</td>\n",
       "      <td>75</td>\n",
       "      <td>118</td>\n",
       "      <td>75</td>\n",
       "      <td>118</td>\n",
       "      <td>...</td>\n",
       "      <td>3.145208e+01</td>\n",
       "      <td>96.5</td>\n",
       "      <td>30.405592</td>\n",
       "      <td>6.136319</td>\n",
       "      <td>0.000000</td>\n",
       "      <td>0</td>\n",
       "      <td>0</td>\n",
       "      <td>0</td>\n",
       "      <td>0</td>\n",
       "      <td>1.573333</td>\n",
       "    </tr>\n",
       "    <tr>\n",
       "      <th>147873</th>\n",
       "      <td>0.000737</td>\n",
       "      <td>0.001438</td>\n",
       "      <td>0.000343</td>\n",
       "      <td>0.000135</td>\n",
       "      <td>1</td>\n",
       "      <td>1</td>\n",
       "      <td>85</td>\n",
       "      <td>132</td>\n",
       "      <td>85</td>\n",
       "      <td>132</td>\n",
       "      <td>...</td>\n",
       "      <td>1.608064e+06</td>\n",
       "      <td>108.5</td>\n",
       "      <td>33.234020</td>\n",
       "      <td>0.000135</td>\n",
       "      <td>0.000000</td>\n",
       "      <td>0</td>\n",
       "      <td>0</td>\n",
       "      <td>0</td>\n",
       "      <td>0</td>\n",
       "      <td>1.552941</td>\n",
       "    </tr>\n",
       "    <tr>\n",
       "      <th>122604</th>\n",
       "      <td>0.000737</td>\n",
       "      <td>0.000027</td>\n",
       "      <td>0.000343</td>\n",
       "      <td>0.000373</td>\n",
       "      <td>1</td>\n",
       "      <td>1</td>\n",
       "      <td>75</td>\n",
       "      <td>387</td>\n",
       "      <td>75</td>\n",
       "      <td>387</td>\n",
       "      <td>...</td>\n",
       "      <td>1.238982e+06</td>\n",
       "      <td>231.0</td>\n",
       "      <td>220.617310</td>\n",
       "      <td>0.000373</td>\n",
       "      <td>0.000000</td>\n",
       "      <td>0</td>\n",
       "      <td>0</td>\n",
       "      <td>0</td>\n",
       "      <td>0</td>\n",
       "      <td>5.160000</td>\n",
       "    </tr>\n",
       "  </tbody>\n",
       "</table>\n",
       "<p>212658 rows × 43 columns</p>\n",
       "</div>"
      ],
      "text/plain": [
       "           proto    srcPrt    dstPrt  flowduration  total_fpackets  \\\n",
       "103880  0.000737  0.000000  0.000343      0.080064               1   \n",
       "124959  0.000737  0.003791  0.000343      0.978804               2   \n",
       "267159  0.000737  0.000535  0.000343      0.035606               1   \n",
       "42742   0.278085  0.000073  0.190102     12.820711               4   \n",
       "131019  0.000737  0.003791  0.000343      0.000265               1   \n",
       "...          ...       ...       ...           ...             ...   \n",
       "120496  0.000737  0.000001  0.000343      0.035916               1   \n",
       "261814  0.000737  0.000000  0.000343      0.185493               1   \n",
       "132727  0.000737  0.009529  0.000343      6.136319               1   \n",
       "147873  0.000737  0.001438  0.000343      0.000135               1   \n",
       "122604  0.000737  0.000027  0.000343      0.000373               1   \n",
       "\n",
       "        total_bpackets  total_fpktl  total_bpktl  min_fpktl  min_bpktl  ...  \\\n",
       "103880               1          108          192        108        192  ...   \n",
       "124959               2          164          282         82        141  ...   \n",
       "267159               1           81          352         81        352  ...   \n",
       "42742                3          246          174         60         54  ...   \n",
       "131019               1           80          183         80        183  ...   \n",
       "...                ...          ...          ...        ...        ...  ...   \n",
       "120496               1           76          374         76        374  ...   \n",
       "261814               1           98          180         98        180  ...   \n",
       "132727               1           75          118         75        118  ...   \n",
       "147873               1           85          132         85        132  ...   \n",
       "122604               1           75          387         75        387  ...   \n",
       "\n",
       "        flowBytesPerSecond  mean_flowpktl  std_flowpktl  mean_flowipt  \\\n",
       "103880        3.747000e+03          150.0     59.396969      0.080064   \n",
       "124959        4.556581e+02          111.5     34.063667      0.326313   \n",
       "267159        1.216090e+04          216.5    191.625931      0.035606   \n",
       "42742         3.275950e+01           60.0      4.898980      2.136803   \n",
       "131019        9.928911e+05          131.5     72.832001      0.000265   \n",
       "...                    ...            ...           ...           ...   \n",
       "120496        1.252929e+04          225.0    210.717819      0.035916   \n",
       "261814        1.498709e+03          139.0     57.982758      0.185493   \n",
       "132727        3.145208e+01           96.5     30.405592      6.136319   \n",
       "147873        1.608064e+06          108.5     33.234020      0.000135   \n",
       "122604        1.238982e+06          231.0    220.617310      0.000373   \n",
       "\n",
       "        std_flowipt  flow_fin  flow_syn  flow_rst  flow_ack  downUpRatio  \n",
       "103880     0.000000         0         0         0         0     1.777778  \n",
       "124959     0.564934         0         0         0         0     1.719512  \n",
       "267159     0.000000         0         0         0         0     4.345679  \n",
       "42742      4.642579         2         2         0         6     0.707317  \n",
       "131019     0.000000         0         0         0         0     2.287500  \n",
       "...             ...       ...       ...       ...       ...          ...  \n",
       "120496     0.000000         0         0         0         0     4.921052  \n",
       "261814     0.000000         0         0         0         0     1.836735  \n",
       "132727     0.000000         0         0         0         0     1.573333  \n",
       "147873     0.000000         0         0         0         0     1.552941  \n",
       "122604     0.000000         0         0         0         0     5.160000  \n",
       "\n",
       "[212658 rows x 43 columns]"
      ]
     },
     "execution_count": 21,
     "metadata": {},
     "output_type": "execute_result"
    }
   ],
   "source": [
    "#show the coded features\n",
    "training_numeric_dataset"
   ]
  },
  {
   "cell_type": "code",
   "execution_count": 22,
   "metadata": {},
   "outputs": [
    {
     "data": {
      "text/html": [
       "<div>\n",
       "<style scoped>\n",
       "    .dataframe tbody tr th:only-of-type {\n",
       "        vertical-align: middle;\n",
       "    }\n",
       "\n",
       "    .dataframe tbody tr th {\n",
       "        vertical-align: top;\n",
       "    }\n",
       "\n",
       "    .dataframe thead th {\n",
       "        text-align: right;\n",
       "    }\n",
       "</style>\n",
       "<table border=\"1\" class=\"dataframe\">\n",
       "  <thead>\n",
       "    <tr style=\"text-align: right;\">\n",
       "      <th></th>\n",
       "      <th>proto</th>\n",
       "      <th>srcPrt</th>\n",
       "      <th>dstPrt</th>\n",
       "      <th>flowduration</th>\n",
       "      <th>total_fpackets</th>\n",
       "      <th>total_bpackets</th>\n",
       "      <th>total_fpktl</th>\n",
       "      <th>total_bpktl</th>\n",
       "      <th>min_fpktl</th>\n",
       "      <th>min_bpktl</th>\n",
       "      <th>...</th>\n",
       "      <th>flowBytesPerSecond</th>\n",
       "      <th>mean_flowpktl</th>\n",
       "      <th>std_flowpktl</th>\n",
       "      <th>mean_flowipt</th>\n",
       "      <th>std_flowipt</th>\n",
       "      <th>flow_fin</th>\n",
       "      <th>flow_syn</th>\n",
       "      <th>flow_rst</th>\n",
       "      <th>flow_ack</th>\n",
       "      <th>downUpRatio</th>\n",
       "    </tr>\n",
       "  </thead>\n",
       "  <tbody>\n",
       "    <tr>\n",
       "      <th>221821</th>\n",
       "      <td>0.000737</td>\n",
       "      <td>0.003791</td>\n",
       "      <td>0.000343</td>\n",
       "      <td>0.000301</td>\n",
       "      <td>1</td>\n",
       "      <td>1</td>\n",
       "      <td>85</td>\n",
       "      <td>169</td>\n",
       "      <td>85</td>\n",
       "      <td>169</td>\n",
       "      <td>...</td>\n",
       "      <td>8.435101e+05</td>\n",
       "      <td>127.000000</td>\n",
       "      <td>59.396969</td>\n",
       "      <td>0.000301</td>\n",
       "      <td>0.000000</td>\n",
       "      <td>0</td>\n",
       "      <td>0</td>\n",
       "      <td>0</td>\n",
       "      <td>0</td>\n",
       "      <td>1.988235</td>\n",
       "    </tr>\n",
       "    <tr>\n",
       "      <th>238197</th>\n",
       "      <td>0.000737</td>\n",
       "      <td>0.079936</td>\n",
       "      <td>0.000343</td>\n",
       "      <td>0.000264</td>\n",
       "      <td>1</td>\n",
       "      <td>1</td>\n",
       "      <td>74</td>\n",
       "      <td>138</td>\n",
       "      <td>74</td>\n",
       "      <td>138</td>\n",
       "      <td>...</td>\n",
       "      <td>8.032452e+05</td>\n",
       "      <td>106.000000</td>\n",
       "      <td>45.254833</td>\n",
       "      <td>0.000264</td>\n",
       "      <td>0.000000</td>\n",
       "      <td>0</td>\n",
       "      <td>0</td>\n",
       "      <td>0</td>\n",
       "      <td>0</td>\n",
       "      <td>1.864865</td>\n",
       "    </tr>\n",
       "    <tr>\n",
       "      <th>122241</th>\n",
       "      <td>0.000737</td>\n",
       "      <td>0.000000</td>\n",
       "      <td>0.000343</td>\n",
       "      <td>13.270593</td>\n",
       "      <td>7</td>\n",
       "      <td>7</td>\n",
       "      <td>690</td>\n",
       "      <td>918</td>\n",
       "      <td>94</td>\n",
       "      <td>122</td>\n",
       "      <td>...</td>\n",
       "      <td>1.211702e+02</td>\n",
       "      <td>114.857143</td>\n",
       "      <td>24.964151</td>\n",
       "      <td>1.026448</td>\n",
       "      <td>3.657084</td>\n",
       "      <td>0</td>\n",
       "      <td>0</td>\n",
       "      <td>0</td>\n",
       "      <td>0</td>\n",
       "      <td>1.330435</td>\n",
       "    </tr>\n",
       "    <tr>\n",
       "      <th>72684</th>\n",
       "      <td>0.278085</td>\n",
       "      <td>0.555396</td>\n",
       "      <td>0.190102</td>\n",
       "      <td>6.241960</td>\n",
       "      <td>7</td>\n",
       "      <td>7</td>\n",
       "      <td>848</td>\n",
       "      <td>2614</td>\n",
       "      <td>60</td>\n",
       "      <td>54</td>\n",
       "      <td>...</td>\n",
       "      <td>5.546335e+02</td>\n",
       "      <td>247.285714</td>\n",
       "      <td>384.868286</td>\n",
       "      <td>0.852017</td>\n",
       "      <td>1.799235</td>\n",
       "      <td>2</td>\n",
       "      <td>2</td>\n",
       "      <td>0</td>\n",
       "      <td>13</td>\n",
       "      <td>3.082547</td>\n",
       "    </tr>\n",
       "    <tr>\n",
       "      <th>233255</th>\n",
       "      <td>0.000737</td>\n",
       "      <td>0.079936</td>\n",
       "      <td>0.000343</td>\n",
       "      <td>0.000164</td>\n",
       "      <td>1</td>\n",
       "      <td>1</td>\n",
       "      <td>85</td>\n",
       "      <td>144</td>\n",
       "      <td>85</td>\n",
       "      <td>144</td>\n",
       "      <td>...</td>\n",
       "      <td>1.396069e+06</td>\n",
       "      <td>114.500000</td>\n",
       "      <td>41.719299</td>\n",
       "      <td>0.000164</td>\n",
       "      <td>0.000000</td>\n",
       "      <td>0</td>\n",
       "      <td>0</td>\n",
       "      <td>0</td>\n",
       "      <td>0</td>\n",
       "      <td>1.694118</td>\n",
       "    </tr>\n",
       "    <tr>\n",
       "      <th>...</th>\n",
       "      <td>...</td>\n",
       "      <td>...</td>\n",
       "      <td>...</td>\n",
       "      <td>...</td>\n",
       "      <td>...</td>\n",
       "      <td>...</td>\n",
       "      <td>...</td>\n",
       "      <td>...</td>\n",
       "      <td>...</td>\n",
       "      <td>...</td>\n",
       "      <td>...</td>\n",
       "      <td>...</td>\n",
       "      <td>...</td>\n",
       "      <td>...</td>\n",
       "      <td>...</td>\n",
       "      <td>...</td>\n",
       "      <td>...</td>\n",
       "      <td>...</td>\n",
       "      <td>...</td>\n",
       "      <td>...</td>\n",
       "      <td>...</td>\n",
       "    </tr>\n",
       "    <tr>\n",
       "      <th>223456</th>\n",
       "      <td>0.000737</td>\n",
       "      <td>0.285205</td>\n",
       "      <td>0.000343</td>\n",
       "      <td>3.092232</td>\n",
       "      <td>2</td>\n",
       "      <td>2</td>\n",
       "      <td>144</td>\n",
       "      <td>826</td>\n",
       "      <td>72</td>\n",
       "      <td>413</td>\n",
       "      <td>...</td>\n",
       "      <td>3.136893e+02</td>\n",
       "      <td>242.500000</td>\n",
       "      <td>196.876434</td>\n",
       "      <td>1.149838</td>\n",
       "      <td>1.691254</td>\n",
       "      <td>0</td>\n",
       "      <td>0</td>\n",
       "      <td>0</td>\n",
       "      <td>0</td>\n",
       "      <td>5.736111</td>\n",
       "    </tr>\n",
       "    <tr>\n",
       "      <th>31302</th>\n",
       "      <td>0.278085</td>\n",
       "      <td>0.009529</td>\n",
       "      <td>0.190102</td>\n",
       "      <td>5.018024</td>\n",
       "      <td>5</td>\n",
       "      <td>5</td>\n",
       "      <td>666</td>\n",
       "      <td>2076</td>\n",
       "      <td>60</td>\n",
       "      <td>54</td>\n",
       "      <td>...</td>\n",
       "      <td>5.464302e+02</td>\n",
       "      <td>274.200000</td>\n",
       "      <td>447.667755</td>\n",
       "      <td>1.113762</td>\n",
       "      <td>2.205917</td>\n",
       "      <td>1</td>\n",
       "      <td>2</td>\n",
       "      <td>0</td>\n",
       "      <td>9</td>\n",
       "      <td>3.117117</td>\n",
       "    </tr>\n",
       "    <tr>\n",
       "      <th>220007</th>\n",
       "      <td>0.000737</td>\n",
       "      <td>0.003791</td>\n",
       "      <td>0.000343</td>\n",
       "      <td>6.275454</td>\n",
       "      <td>1</td>\n",
       "      <td>1</td>\n",
       "      <td>74</td>\n",
       "      <td>156</td>\n",
       "      <td>74</td>\n",
       "      <td>156</td>\n",
       "      <td>...</td>\n",
       "      <td>3.665073e+01</td>\n",
       "      <td>115.000000</td>\n",
       "      <td>57.982758</td>\n",
       "      <td>6.275454</td>\n",
       "      <td>0.000000</td>\n",
       "      <td>0</td>\n",
       "      <td>0</td>\n",
       "      <td>0</td>\n",
       "      <td>0</td>\n",
       "      <td>2.108108</td>\n",
       "    </tr>\n",
       "    <tr>\n",
       "      <th>109144</th>\n",
       "      <td>0.000737</td>\n",
       "      <td>0.003791</td>\n",
       "      <td>0.000343</td>\n",
       "      <td>18.313331</td>\n",
       "      <td>4</td>\n",
       "      <td>4</td>\n",
       "      <td>308</td>\n",
       "      <td>648</td>\n",
       "      <td>77</td>\n",
       "      <td>162</td>\n",
       "      <td>...</td>\n",
       "      <td>5.220241e+01</td>\n",
       "      <td>119.500000</td>\n",
       "      <td>45.434410</td>\n",
       "      <td>2.616190</td>\n",
       "      <td>3.705729</td>\n",
       "      <td>0</td>\n",
       "      <td>0</td>\n",
       "      <td>0</td>\n",
       "      <td>0</td>\n",
       "      <td>2.103896</td>\n",
       "    </tr>\n",
       "    <tr>\n",
       "      <th>184602</th>\n",
       "      <td>0.000737</td>\n",
       "      <td>0.000000</td>\n",
       "      <td>0.000343</td>\n",
       "      <td>0.589419</td>\n",
       "      <td>1</td>\n",
       "      <td>1</td>\n",
       "      <td>97</td>\n",
       "      <td>113</td>\n",
       "      <td>97</td>\n",
       "      <td>113</td>\n",
       "      <td>...</td>\n",
       "      <td>3.562830e+02</td>\n",
       "      <td>105.000000</td>\n",
       "      <td>11.313708</td>\n",
       "      <td>0.589419</td>\n",
       "      <td>0.000000</td>\n",
       "      <td>0</td>\n",
       "      <td>0</td>\n",
       "      <td>0</td>\n",
       "      <td>0</td>\n",
       "      <td>1.164948</td>\n",
       "    </tr>\n",
       "  </tbody>\n",
       "</table>\n",
       "<p>53165 rows × 43 columns</p>\n",
       "</div>"
      ],
      "text/plain": [
       "           proto    srcPrt    dstPrt  flowduration  total_fpackets  \\\n",
       "221821  0.000737  0.003791  0.000343      0.000301               1   \n",
       "238197  0.000737  0.079936  0.000343      0.000264               1   \n",
       "122241  0.000737  0.000000  0.000343     13.270593               7   \n",
       "72684   0.278085  0.555396  0.190102      6.241960               7   \n",
       "233255  0.000737  0.079936  0.000343      0.000164               1   \n",
       "...          ...       ...       ...           ...             ...   \n",
       "223456  0.000737  0.285205  0.000343      3.092232               2   \n",
       "31302   0.278085  0.009529  0.190102      5.018024               5   \n",
       "220007  0.000737  0.003791  0.000343      6.275454               1   \n",
       "109144  0.000737  0.003791  0.000343     18.313331               4   \n",
       "184602  0.000737  0.000000  0.000343      0.589419               1   \n",
       "\n",
       "        total_bpackets  total_fpktl  total_bpktl  min_fpktl  min_bpktl  ...  \\\n",
       "221821               1           85          169         85        169  ...   \n",
       "238197               1           74          138         74        138  ...   \n",
       "122241               7          690          918         94        122  ...   \n",
       "72684                7          848         2614         60         54  ...   \n",
       "233255               1           85          144         85        144  ...   \n",
       "...                ...          ...          ...        ...        ...  ...   \n",
       "223456               2          144          826         72        413  ...   \n",
       "31302                5          666         2076         60         54  ...   \n",
       "220007               1           74          156         74        156  ...   \n",
       "109144               4          308          648         77        162  ...   \n",
       "184602               1           97          113         97        113  ...   \n",
       "\n",
       "        flowBytesPerSecond  mean_flowpktl  std_flowpktl  mean_flowipt  \\\n",
       "221821        8.435101e+05     127.000000     59.396969      0.000301   \n",
       "238197        8.032452e+05     106.000000     45.254833      0.000264   \n",
       "122241        1.211702e+02     114.857143     24.964151      1.026448   \n",
       "72684         5.546335e+02     247.285714    384.868286      0.852017   \n",
       "233255        1.396069e+06     114.500000     41.719299      0.000164   \n",
       "...                    ...            ...           ...           ...   \n",
       "223456        3.136893e+02     242.500000    196.876434      1.149838   \n",
       "31302         5.464302e+02     274.200000    447.667755      1.113762   \n",
       "220007        3.665073e+01     115.000000     57.982758      6.275454   \n",
       "109144        5.220241e+01     119.500000     45.434410      2.616190   \n",
       "184602        3.562830e+02     105.000000     11.313708      0.589419   \n",
       "\n",
       "        std_flowipt  flow_fin  flow_syn  flow_rst  flow_ack  downUpRatio  \n",
       "221821     0.000000         0         0         0         0     1.988235  \n",
       "238197     0.000000         0         0         0         0     1.864865  \n",
       "122241     3.657084         0         0         0         0     1.330435  \n",
       "72684      1.799235         2         2         0        13     3.082547  \n",
       "233255     0.000000         0         0         0         0     1.694118  \n",
       "...             ...       ...       ...       ...       ...          ...  \n",
       "223456     1.691254         0         0         0         0     5.736111  \n",
       "31302      2.205917         1         2         0         9     3.117117  \n",
       "220007     0.000000         0         0         0         0     2.108108  \n",
       "109144     3.705729         0         0         0         0     2.103896  \n",
       "184602     0.000000         0         0         0         0     1.164948  \n",
       "\n",
       "[53165 rows x 43 columns]"
      ]
     },
     "execution_count": 22,
     "metadata": {},
     "output_type": "execute_result"
    }
   ],
   "source": [
    "#show the coded features\n",
    "testing_numeric_dataset"
   ]
  },
  {
   "cell_type": "markdown",
   "metadata": {},
   "source": [
    "# Standardization and scaling of numerical variables"
   ]
  },
  {
   "cell_type": "code",
   "execution_count": 23,
   "metadata": {},
   "outputs": [],
   "source": [
    "# import libraries\n",
    "from sklearn.preprocessing import StandardScaler\n",
    "\n",
    "numeric_cols = training_numeric_dataset.select_dtypes(include=['float64', 'int']).columns.to_list()\n",
    "preprocessor = ColumnTransformer([('scale', StandardScaler(), numeric_cols)], remainder='passthrough')"
   ]
  },
  {
   "cell_type": "code",
   "execution_count": 24,
   "metadata": {},
   "outputs": [],
   "source": [
    "X_train_prep = preprocessor.fit_transform(training_numeric_dataset)\n",
    "X_test_prep  = preprocessor.transform(testing_numeric_dataset)\n",
    "#The result returned by ColumnTransformer is a numpy array, so the column names are lost."
   ]
  },
  {
   "cell_type": "code",
   "execution_count": 25,
   "metadata": {},
   "outputs": [
    {
     "data": {
      "text/plain": [
       "((212658, 43), (53165, 43))"
      ]
     },
     "execution_count": 25,
     "metadata": {},
     "output_type": "execute_result"
    }
   ],
   "source": [
    "#Dimensiones del los datasets de training y testing\n",
    "X_train_prep.shape, X_test_prep.shape"
   ]
  },
  {
   "cell_type": "markdown",
   "metadata": {},
   "source": [
    "# Feature selection\n",
    "Exclusion of variables with variance close to zero"
   ]
  },
  {
   "cell_type": "code",
   "execution_count": 26,
   "metadata": {},
   "outputs": [],
   "source": [
    "#join the prepared traing and test datasets in a single array X and y\n",
    "X = np.vstack((X_train_prep, X_test_prep))\n",
    "y = np.hstack((y_train, y_test))"
   ]
  },
  {
   "cell_type": "code",
   "execution_count": 27,
   "metadata": {},
   "outputs": [
    {
     "data": {
      "text/plain": [
       "Counter({0: 244571, 1: 21252})"
      ]
     },
     "execution_count": 27,
     "metadata": {},
     "output_type": "execute_result"
    }
   ],
   "source": [
    "collections.Counter(y)"
   ]
  },
  {
   "cell_type": "code",
   "execution_count": 28,
   "metadata": {},
   "outputs": [
    {
     "name": "stdout",
     "output_type": "stream",
     "text": [
      ">Threshold=0.00, Features=43\n",
      ">Threshold=0.05, Features=43\n",
      ">Threshold=0.10, Features=43\n",
      ">Threshold=0.15, Features=43\n",
      ">Threshold=0.20, Features=43\n",
      ">Threshold=0.25, Features=43\n",
      ">Threshold=0.30, Features=43\n",
      ">Threshold=0.35, Features=42\n",
      ">Threshold=0.40, Features=42\n",
      ">Threshold=0.45, Features=42\n",
      ">Threshold=0.50, Features=42\n",
      ">Threshold=0.55, Features=42\n",
      ">Threshold=0.60, Features=42\n",
      ">Threshold=0.65, Features=41\n"
     ]
    },
    {
     "data": {
      "image/png": "[encoded data removed]",
      "text/plain": [
       "<Figure size 432x288 with 1 Axes>"
      ]
     },
     "metadata": {
      "needs_background": "light"
     },
     "output_type": "display_data"
    }
   ],
   "source": [
    "#the VarianceThreshold class from sklearn support a type of feature selection\n",
    "from sklearn.feature_selection import VarianceThreshold\n",
    "from numpy import arange\n",
    "#split data into inputs\n",
    "#data=df_float.values\n",
    "#X=data[:,:]\n",
    "#define thresholds to check\n",
    "thresholds = arange(0.0,0.7,0.05)\n",
    "#apply transform with each treshold\n",
    "results=list()\n",
    "for t in thresholds:\n",
    "    #define the transform\n",
    "    transform = VarianceThreshold(threshold=t)\n",
    "    #transform the input data\n",
    "    X_sel=transform.fit_transform(X)\n",
    "    #determine the number of input features\n",
    "    n_features=X_sel.shape[1]\n",
    "    print('>Threshold=%.2f, Features=%d' %(t,n_features))\n",
    "    #store the result\n",
    "    results.append(n_features)\n",
    "#plot the theshold vs the number of selected features\n",
    "plt.plot(thresholds,results)\n",
    "plt.show()"
   ]
  },
  {
   "cell_type": "code",
   "execution_count": 29,
   "metadata": {},
   "outputs": [
    {
     "name": "stdout",
     "output_type": "stream",
     "text": [
      "(265823, 41)\n"
     ]
    }
   ],
   "source": [
    "#new set of selected features\n",
    "X=X_sel\n",
    "print(X.shape)"
   ]
  },
  {
   "cell_type": "markdown",
   "metadata": {},
   "source": [
    "# Create Machine Learning Models"
   ]
  },
  {
   "cell_type": "markdown",
   "metadata": {},
   "source": [
    "### a) Grid search with Logistic Regression (GS-LR)"
   ]
  },
  {
   "cell_type": "code",
   "execution_count": 30,
   "metadata": {},
   "outputs": [
    {
     "name": "stdout",
     "output_type": "stream",
     "text": [
      "Best: 0.995046 using {'class_weight': {0: 0.1, 1: 1}}\n",
      "0.992446 (0.001200) with: {'class_weight': {0: 0.001, 1: 1.0}}\n",
      "0.993965 (0.001297) with: {'class_weight': {0: 0.01, 1: 1.0}}\n",
      "0.995046 (0.000997) with: {'class_weight': {0: 0.1, 1: 1}}\n",
      "0.994206 (0.001342) with: {'class_weight': {0: 1, 1: 100}}\n",
      "0.993822 (0.000997) with: {'class_weight': {0: 1, 1: 200}}\n"
     ]
    },
    {
     "name": "stderr",
     "output_type": "stream",
     "text": [
      "C:\\Users\\pvelarde\\anaconda3\\lib\\site-packages\\sklearn\\linear_model\\_logistic.py:763: ConvergenceWarning: lbfgs failed to converge (status=1):\n",
      "STOP: TOTAL NO. of ITERATIONS REACHED LIMIT.\n",
      "\n",
      "Increase the number of iterations (max_iter) or scale the data as shown in:\n",
      "    https://scikit-learn.org/stable/modules/preprocessing.html\n",
      "Please also refer to the documentation for alternative solver options:\n",
      "    https://scikit-learn.org/stable/modules/linear_model.html#logistic-regression\n",
      "  n_iter_i = _check_optimize_result(\n"
     ]
    }
   ],
   "source": [
    "# grid search class weights with logistic regression for imbalanced classification\n",
    "\n",
    "model = LogisticRegression(solver='lbfgs',max_iter=1000)\n",
    "# define grid\n",
    "balance = [{0:0.001,1:1.0},{0:0.01,1:1.0}, {0:0.1,1:1}, {0:1,1:100},{0:1,1:200}]\n",
    "param_grid = dict(class_weight=balance)\n",
    "# define evaluation procedure\n",
    "cv = RepeatedStratifiedKFold(n_splits=10, n_repeats=3, random_state=1)\n",
    "# define grid search\n",
    "grid = GridSearchCV(estimator=model, param_grid=param_grid, n_jobs=-1, cv=cv,\n",
    "scoring='roc_auc')\n",
    "# execute the grid search\n",
    "grid_result = grid.fit(X, y)\n",
    "# report the best configuration\n",
    "print('Best: %f using %s' % (grid_result.best_score_, grid_result.best_params_))\n",
    "# report all configurations\n",
    "means = grid_result.cv_results_['mean_test_score']\n",
    "stds = grid_result.cv_results_['std_test_score']\n",
    "params = grid_result.cv_results_['params']\n",
    "for mean, stdev, param in zip(means, stds, params):\n",
    "    print('%f (%f) with: %r' % (mean, stdev, param))"
   ]
  },
  {
   "cell_type": "code",
   "execution_count": 27,
   "metadata": {},
   "outputs": [],
   "source": [
    "## split into train test sets\n",
    "X_train,X_test,y_train,y_test = train_test_split(X, y, test_size=0.2, random_state=42)"
   ]
  },
  {
   "cell_type": "code",
   "execution_count": 28,
   "metadata": {},
   "outputs": [
    {
     "name": "stderr",
     "output_type": "stream",
     "text": [
      "C:\\Users\\pvelarde\\anaconda3\\lib\\site-packages\\sklearn\\linear_model\\_logistic.py:763: ConvergenceWarning: lbfgs failed to converge (status=1):\n",
      "STOP: TOTAL NO. of ITERATIONS REACHED LIMIT.\n",
      "\n",
      "Increase the number of iterations (max_iter) or scale the data as shown in:\n",
      "    https://scikit-learn.org/stable/modules/preprocessing.html\n",
      "Please also refer to the documentation for alternative solver options:\n",
      "    https://scikit-learn.org/stable/modules/linear_model.html#logistic-regression\n",
      "  n_iter_i = _check_optimize_result(\n"
     ]
    }
   ],
   "source": [
    "#Using the obtained weights for training the model GS-LR\n",
    "weights = {0: 0.01, 1: 1.0}\n",
    "model = LogisticRegression(solver='lbfgs', class_weight=weights,max_iter=2000)\n",
    "model.fit(X_train, y_train)\n",
    "y_pred=model.predict(X_test)"
   ]
  },
  {
   "cell_type": "code",
   "execution_count": 29,
   "metadata": {},
   "outputs": [
    {
     "name": "stdout",
     "output_type": "stream",
     "text": [
      "ROCAUC score: 0.9496361158034277\n",
      "Accuracy score: 0.9114078811248002\n",
      "F1 score: 0.6370221948212084\n",
      "Recall score: 0.9949446316803081\n",
      "Precision score: 0.4684878712310134\n",
      "              precision    recall  f1-score   support\n",
      "\n",
      "     class 0       1.00      0.90      0.95     49011\n",
      "     class 1       0.47      0.99      0.64      4154\n",
      "\n",
      "    accuracy                           0.91     53165\n",
      "   macro avg       0.73      0.95      0.79     53165\n",
      "weighted avg       0.96      0.91      0.93     53165\n",
      "\n"
     ]
    },
    {
     "data": {
      "image/png": "[encoded data removed]",
      "text/plain": [
       "<Figure size 432x288 with 2 Axes>"
      ]
     },
     "metadata": {
      "needs_background": "light"
     },
     "output_type": "display_data"
    }
   ],
   "source": [
    "print('ROCAUC score:',roc_auc_score(y_test, y_pred))\n",
    "print('Accuracy score:',accuracy_score(y_test, y_pred))\n",
    "print('F1 score:',f1_score(y_test, y_pred))\n",
    "print('Recall score:',recall_score(y_test, y_pred))\n",
    "print('Precision score:',precision_score(y_test, y_pred))\n",
    "print(classification_report(y_test, y_pred, target_names=target_names))\n",
    "plot_confusion_matrix(model, X_test, y_test, display_labels=target_names,cmap=plt.cm.Blues);"
   ]
  },
  {
   "cell_type": "markdown",
   "metadata": {},
   "source": [
    "### b) Logistic Regression with Synthetic minority over-sampleing technique (LR+SMOTE)"
   ]
  },
  {
   "cell_type": "code",
   "execution_count": 38,
   "metadata": {},
   "outputs": [
    {
     "name": "stdout",
     "output_type": "stream",
     "text": [
      "Origianl dataset shape: Counter({0: 244571, 1: 21252})\n",
      "Resample dataset shape: Counter({0: 244571, 1: 244571})\n"
     ]
    }
   ],
   "source": [
    "# load library\n",
    "from imblearn.over_sampling import SMOTE\n",
    "\n",
    "smote = SMOTE()\n",
    "\n",
    "# fit target and predictor variable\n",
    "X_smote , y_smote = smote.fit_resample(X, y)\n",
    "\n",
    "print('Origianl dataset shape:', Counter(y))\n",
    "print('Resample dataset shape:', Counter(y_smote))"
   ]
  },
  {
   "cell_type": "code",
   "execution_count": 39,
   "metadata": {},
   "outputs": [],
   "source": [
    "X_train2, X_test2, y_train2, y_test2 = train_test_split(X_smote, y_smote, test_size =0.20, random_state=42)"
   ]
  },
  {
   "cell_type": "code",
   "execution_count": 40,
   "metadata": {},
   "outputs": [
    {
     "name": "stderr",
     "output_type": "stream",
     "text": [
      "C:\\Users\\pvelarde\\anaconda3\\lib\\site-packages\\sklearn\\linear_model\\_logistic.py:763: ConvergenceWarning: lbfgs failed to converge (status=1):\n",
      "STOP: TOTAL NO. of ITERATIONS REACHED LIMIT.\n",
      "\n",
      "Increase the number of iterations (max_iter) or scale the data as shown in:\n",
      "    https://scikit-learn.org/stable/modules/preprocessing.html\n",
      "Please also refer to the documentation for alternative solver options:\n",
      "    https://scikit-learn.org/stable/modules/linear_model.html#logistic-regression\n",
      "  n_iter_i = _check_optimize_result(\n"
     ]
    }
   ],
   "source": [
    "model2=LogisticRegression(solver='lbfgs',max_iter=2000)\n",
    "model2.fit(X_train2, y_train2)\n",
    "y_pred2=model2.predict(X_test2)"
   ]
  },
  {
   "cell_type": "code",
   "execution_count": 41,
   "metadata": {},
   "outputs": [
    {
     "name": "stdout",
     "output_type": "stream",
     "text": [
      "ROCAUC score: 0.9805331180195875\n",
      "Accuracy score: 0.9805476903576649\n",
      "F1 score: 0.9807343814855686\n",
      "Recall score: 0.9884093459851035\n",
      "Precision score: 0.9731776902676204\n",
      "              precision    recall  f1-score   support\n",
      "\n",
      "     class 0       0.99      0.97      0.98     48824\n",
      "     class 1       0.97      0.99      0.98     49005\n",
      "\n",
      "    accuracy                           0.98     97829\n",
      "   macro avg       0.98      0.98      0.98     97829\n",
      "weighted avg       0.98      0.98      0.98     97829\n",
      "\n"
     ]
    },
    {
     "data": {
      "image/png": "[encoded data removed]",
      "text/plain": [
       "<Figure size 432x288 with 2 Axes>"
      ]
     },
     "metadata": {
      "needs_background": "light"
     },
     "output_type": "display_data"
    }
   ],
   "source": [
    "print('ROCAUC score:',roc_auc_score(y_test2, y_pred2))\n",
    "print('Accuracy score:',accuracy_score(y_test2, y_pred2))\n",
    "print('F1 score:',f1_score(y_test2, y_pred2))\n",
    "print('Recall score:',recall_score(y_test2, y_pred2))\n",
    "print('Precision score:',precision_score(y_test2, y_pred2))\n",
    "\n",
    "print(classification_report(y_test2, y_pred2, target_names=target_names))\n",
    "plot_confusion_matrix(model2, X_test2, y_test2, display_labels=target_names,cmap=plt.cm.Blues); "
   ]
  },
  {
   "cell_type": "markdown",
   "metadata": {},
   "source": [
    "### c) Weighted Support Vector Machine (W-SVM)"
   ]
  },
  {
   "cell_type": "code",
   "execution_count": 43,
   "metadata": {},
   "outputs": [],
   "source": [
    "#train a model using Penalized-SVM on the original imbalanced dataset\n",
    "# we can add class_weight='balanced' to add panalize mistake\n",
    "model_SVM = SVC(class_weight='balanced', probability=True)\n",
    "model_SVM.fit(X_train, y_train)\n",
    "y_pred_SVM = model_SVM.predict(X_test)"
   ]
  },
  {
   "cell_type": "code",
   "execution_count": 44,
   "metadata": {},
   "outputs": [],
   "source": [
    "y_pred_SVM = model_SVM.predict(X_test)"
   ]
  },
  {
   "cell_type": "code",
   "execution_count": 45,
   "metadata": {},
   "outputs": [
    {
     "name": "stdout",
     "output_type": "stream",
     "text": [
      "ROCAUC score: 0.6342293856054855\n",
      "Accuracy score: 0.3573027367629079\n",
      "F1 score: 0.18963595399027627\n",
      "Recall score: 0.9624458353394318\n",
      "Precision score: 0.10518007945068533\n",
      "              precision    recall  f1-score   support\n",
      "\n",
      "     class 0       0.99      0.31      0.47     49011\n",
      "     class 1       0.11      0.96      0.19      4154\n",
      "\n",
      "    accuracy                           0.36     53165\n",
      "   macro avg       0.55      0.63      0.33     53165\n",
      "weighted avg       0.92      0.36      0.45     53165\n",
      "\n"
     ]
    },
    {
     "data": {
      "image/png": "[encoded data removed]",
      "text/plain": [
       "<Figure size 432x288 with 2 Axes>"
      ]
     },
     "metadata": {
      "needs_background": "light"
     },
     "output_type": "display_data"
    }
   ],
   "source": [
    "print('ROCAUC score:',roc_auc_score(y_test, y_pred_SVM))\n",
    "print('Accuracy score:',accuracy_score(y_test, y_pred_SVM))\n",
    "print('F1 score:',f1_score(y_test, y_pred_SVM))\n",
    "print('Recall score:',recall_score(y_test, y_pred_SVM))\n",
    "print('Precision score:',precision_score(y_test, y_pred_SVM))\n",
    "\n",
    "print(classification_report(y_test, y_pred_SVM, target_names=target_names))\n",
    "plot_confusion_matrix(model_SVM, X_test, y_test, display_labels=target_names,cmap=plt.cm.Blues);"
   ]
  },
  {
   "cell_type": "markdown",
   "metadata": {},
   "source": [
    "# Undersampling using CNN\n",
    "Condensed Nearest Neighbor (CNN) is used to remove redundant examples from the interior of the density of the majority class. "
   ]
  },
  {
   "cell_type": "code",
   "execution_count": 46,
   "metadata": {},
   "outputs": [],
   "source": [
    "# undersample an imbalanced dataset with the Condensed Nearest Neighbor Rule\n",
    "from imblearn.under_sampling import CondensedNearestNeighbour"
   ]
  },
  {
   "cell_type": "code",
   "execution_count": 47,
   "metadata": {},
   "outputs": [
    {
     "name": "stdout",
     "output_type": "stream",
     "text": [
      "Counter({0: 244571, 1: 21252})\n"
     ]
    }
   ],
   "source": [
    "counter = Counter(y)\n",
    "print(counter)"
   ]
  },
  {
   "cell_type": "code",
   "execution_count": 48,
   "metadata": {},
   "outputs": [
    {
     "name": "stdout",
     "output_type": "stream",
     "text": [
      "Counter({1: 21252, 0: 1646})\n"
     ]
    }
   ],
   "source": [
    "# define the undersampling method\n",
    "undersample = CondensedNearestNeighbour(n_neighbors=1)\n",
    "# transform the dataset\n",
    "Xu, yu = undersample.fit_resample(X, y)\n",
    "# summarize the new class distribution\n",
    "counter = Counter(yu)\n",
    "print(counter)"
   ]
  },
  {
   "cell_type": "markdown",
   "metadata": {},
   "source": [
    "### d) Weighted Decision Tree with Condensed Nearest Neighbor (DT+CNN)\n",
    "The `DecisionTreeClassifier` class provides the class weight argument that can be speci ed as a model hyperparameter. The class weight is a dictionary that de nes each class label (e.g. 0 and 1) and the weighting to apply in the calculation of group purity for splits in the decision tree when tting the model."
   ]
  },
  {
   "cell_type": "code",
   "execution_count": 49,
   "metadata": {},
   "outputs": [],
   "source": [
    "X_train3, X_test3, y_train3, y_test3 = train_test_split(Xu, yu, test_size =0.20, random_state=42)"
   ]
  },
  {
   "cell_type": "code",
   "execution_count": 50,
   "metadata": {},
   "outputs": [],
   "source": [
    "# define model\n",
    "model_DT = DecisionTreeClassifier(class_weight='balanced')\n",
    "#model performance\n",
    "model_DT.fit(X_train3, y_train3)\n",
    "y_pred_DT=model_DT.predict(X_test3)"
   ]
  },
  {
   "cell_type": "code",
   "execution_count": 51,
   "metadata": {},
   "outputs": [
    {
     "name": "stdout",
     "output_type": "stream",
     "text": [
      "ROCAUC score: 0.9827341095957856\n",
      "Accuracy score: 0.9962882096069869\n",
      "F1 score: 0.9980128579777907\n",
      "Recall score: 0.9983629560336763\n",
      "Precision score: 0.9976630053750877\n",
      "              precision    recall  f1-score   support\n",
      "\n",
      "     class 0       0.98      0.97      0.97       304\n",
      "     class 1       1.00      1.00      1.00      4276\n",
      "\n",
      "    accuracy                           1.00      4580\n",
      "   macro avg       0.99      0.98      0.98      4580\n",
      "weighted avg       1.00      1.00      1.00      4580\n",
      "\n"
     ]
    },
    {
     "data": {
      "image/png": "[encoded data removed]",
      "text/plain": [
       "<Figure size 432x288 with 2 Axes>"
      ]
     },
     "metadata": {
      "needs_background": "light"
     },
     "output_type": "display_data"
    }
   ],
   "source": [
    "print('ROCAUC score:',roc_auc_score(y_test3, y_pred_DT))\n",
    "print('Accuracy score:',accuracy_score(y_test3, y_pred_DT))\n",
    "print('F1 score:',f1_score(y_test3, y_pred_DT))\n",
    "print('Recall score:',recall_score(y_test3, y_pred_DT))\n",
    "print('Precision score:',precision_score(y_test3, y_pred_DT))\n",
    "\n",
    "print(classification_report(y_test3, y_pred_DT, target_names=target_names))\n",
    "plot_confusion_matrix(model_DT, X_test3, y_test3, display_labels=target_names,cmap=plt.cm.Blues);"
   ]
  },
  {
   "cell_type": "markdown",
   "metadata": {},
   "source": [
    "### e) Support Vector Machine with Condensed Nearest Neighbor (SVM+CNN)"
   ]
  },
  {
   "cell_type": "code",
   "execution_count": 54,
   "metadata": {},
   "outputs": [],
   "source": [
    "model_SVM_cnn = SVC(class_weight='balanced', probability=True)\n",
    "model_SVM_cnn.fit(X_train3, y_train3)\n",
    "y_pred_SVM_cnn = model_SVM_cnn.predict(X_test3)"
   ]
  },
  {
   "cell_type": "code",
   "execution_count": 55,
   "metadata": {},
   "outputs": [
    {
     "name": "stdout",
     "output_type": "stream",
     "text": [
      "ROCAUC score: 0.8199467037565851\n",
      "Accuracy score: 0.8292576419213974\n",
      "F1 score: 0.9008369261983261\n",
      "Recall score: 0.8306828811973808\n",
      "Precision score: 0.9839335180055402\n",
      "              precision    recall  f1-score   support\n",
      "\n",
      "     class 0       0.25      0.81      0.39       304\n",
      "     class 1       0.98      0.83      0.90      4276\n",
      "\n",
      "    accuracy                           0.83      4580\n",
      "   macro avg       0.62      0.82      0.64      4580\n",
      "weighted avg       0.94      0.83      0.87      4580\n",
      "\n"
     ]
    },
    {
     "data": {
      "image/png": "[encoded data removed]",
      "text/plain": [
       "<Figure size 432x288 with 2 Axes>"
      ]
     },
     "metadata": {
      "needs_background": "light"
     },
     "output_type": "display_data"
    }
   ],
   "source": [
    "print('ROCAUC score:',roc_auc_score(y_test3, y_pred_SVM_cnn))\n",
    "print('Accuracy score:',accuracy_score(y_test3, y_pred_SVM_cnn))\n",
    "print('F1 score:',f1_score(y_test3, y_pred_SVM_cnn))\n",
    "print('Recall score:',recall_score(y_test3, y_pred_SVM_cnn))\n",
    "print('Precision score:',precision_score(y_test3, y_pred_SVM_cnn))\n",
    "\n",
    "print(classification_report(y_test3, y_pred_SVM_cnn, target_names=target_names))\n",
    "plot_confusion_matrix(model_SVM_cnn, X_test3, y_test3, display_labels=target_names,cmap=plt.cm.Blues);"
   ]
  }
 ],
 "metadata": {
  "kernelspec": {
   "display_name": "Python 3",
   "language": "python",
   "name": "python3"
  },
  "language_info": {
   "codemirror_mode": {
    "name": "ipython",
    "version": 3
   },
   "file_extension": ".py",
   "mimetype": "text/x-python",
   "name": "python",
   "nbconvert_exporter": "python",
   "pygments_lexer": "ipython3",
   "version": "3.8.5"
  }
 },
 "nbformat": 4,
 "nbformat_minor": 4
}
