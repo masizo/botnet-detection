{
 "cells": [
  {
   "cell_type": "markdown",
   "metadata": {},
   "source": [
    "# Jupiter's Notebook for Scenario 01\n",
    "Requieres: [CategoryEncoders](http://contrib.scikit-learn.org/category_encoders/), and [imbalanced-learn](https://imbalanced-learn.org/stable/)<br>\n",
    "`pip install category_encoders`<br>\n",
    "`pip install xgboost`<br>\n",
    "`pip install imbalanced-learn`"
   ]
  },
  {
   "cell_type": "code",
   "execution_count": 1,
   "metadata": {},
   "outputs": [],
   "source": [
    "#import libraries\n",
    "import numpy as np\n",
    "import pandas as pd\n",
    "import collections\n",
    "import matplotlib.pyplot as plt\n",
    "from sklearn.model_selection import train_test_split\n",
    "from sklearn.pipeline import Pipeline,make_pipeline\n",
    "from sklearn.feature_selection import SelectKBest,chi2\n",
    "from sklearn.linear_model import LogisticRegression\n",
    "from sklearn.svm import SVC\n",
    "from xgboost import XGBClassifier\n",
    "from sklearn.tree import DecisionTreeClassifier\n",
    "from sklearn.model_selection import RepeatedStratifiedKFold\n",
    "from sklearn.model_selection import cross_val_score\n",
    "from sklearn.model_selection import GridSearchCV\n",
    "from sklearn.model_selection import RepeatedStratifiedKFold\n",
    "from collections import Counter\n",
    "from sklearn.metrics import confusion_matrix\n",
    "from sklearn.metrics import accuracy_score, recall_score, precision_score, f1_score, confusion_matrix, roc_auc_score\n",
    "from sklearn.metrics import classification_report\n",
    "from sklearn.metrics import plot_confusion_matrix\n",
    "from sklearn.calibration import CalibratedClassifierCV"
   ]
  },
  {
   "cell_type": "code",
   "execution_count": 2,
   "metadata": {},
   "outputs": [],
   "source": [
    "#To identify class 0 and 1, respectively\n",
    "target_names = ['class 0', 'class 1']"
   ]
  },
  {
   "cell_type": "code",
   "execution_count": 3,
   "metadata": {},
   "outputs": [],
   "source": [
    "#load dataset\n",
    "df=pd.read_csv('esc-01-Mixed-traffic.csv')"
   ]
  },
  {
   "cell_type": "code",
   "execution_count": 4,
   "metadata": {},
   "outputs": [
    {
     "data": {
      "text/plain": [
       "(310663, 52)"
      ]
     },
     "execution_count": 4,
     "metadata": {},
     "output_type": "execute_result"
    }
   ],
   "source": [
    "#check dataset dimensions\n",
    "df.shape"
   ]
  },
  {
   "cell_type": "markdown",
   "metadata": {},
   "source": [
    "## Pre-feature selection"
   ]
  },
  {
   "cell_type": "code",
   "execution_count": 5,
   "metadata": {},
   "outputs": [
    {
     "name": "stdout",
     "output_type": "stream",
     "text": [
      "proto                 0\n",
      "ts                    0\n",
      "srcIP                 0\n",
      "srcPrt                0\n",
      "dstIP                 0\n",
      "dstPrt                0\n",
      "flowduration          0\n",
      "total_fpackets        0\n",
      "total_bpackets        0\n",
      "total_fpktl           0\n",
      "total_bpktl           0\n",
      "min_fpktl             0\n",
      "min_bpktl             0\n",
      "max_fpktl             0\n",
      "max_bpktl             0\n",
      "mean_fpktl            0\n",
      "mean_bpktl            0\n",
      "std_fpktl             0\n",
      "std_bpktl             0\n",
      "total_fipt            0\n",
      "total_bipt            0\n",
      "min_fipt              0\n",
      "min_bipt              0\n",
      "max_fipt              0\n",
      "max_bipt              0\n",
      "mean_fipt             0\n",
      "mean_bipt             0\n",
      "std_fipt              0\n",
      "std_bipt              0\n",
      "fpsh_cnt              0\n",
      "bpsh_cnt              0\n",
      "furg_cnt              0\n",
      "burg_cnt              0\n",
      "total_fhlen           0\n",
      "total_bhlen           0\n",
      "fPktsPerSecond        0\n",
      "bPktsPerSecond        0\n",
      "flowPktsPerSecond     0\n",
      "flowBytesPerSecond    0\n",
      "mean_flowpktl         0\n",
      "std_flowpktl          0\n",
      "mean_flowipt          0\n",
      "std_flowipt           0\n",
      "flow_fin              0\n",
      "flow_syn              0\n",
      "flow_rst              0\n",
      "flow_ack              0\n",
      "flow_urg              0\n",
      "flow_cwr              0\n",
      "flow_ece              0\n",
      "downUpRatio           0\n",
      "label                 0\n",
      "dtype: int64\n",
      "0\n"
     ]
    }
   ],
   "source": [
    "#check the number of null values\n",
    "print(df.isnull().sum())\n",
    "print(df.isnull().values.sum())"
   ]
  },
  {
   "cell_type": "code",
   "execution_count": 6,
   "metadata": {},
   "outputs": [],
   "source": [
    "#Dropping Rows with NA inplace\n",
    "df.dropna(inplace=True)"
   ]
  },
  {
   "cell_type": "code",
   "execution_count": 7,
   "metadata": {
    "scrolled": true
   },
   "outputs": [
    {
     "name": "stdout",
     "output_type": "stream",
     "text": [
      "proto                      2\n",
      "ts                    310663\n",
      "srcIP                  12361\n",
      "srcPrt                 52788\n",
      "dstIP                  13632\n",
      "dstPrt                   340\n",
      "flowduration          187149\n",
      "total_fpackets           703\n",
      "total_bpackets           922\n",
      "total_fpktl             9883\n",
      "total_bpktl            22973\n",
      "min_fpktl                149\n",
      "min_bpktl                495\n",
      "max_fpktl               1333\n",
      "max_bpktl               1142\n",
      "mean_fpktl             21622\n",
      "mean_bpktl             27875\n",
      "std_fpktl              38638\n",
      "std_bpktl              35450\n",
      "total_fipt            110017\n",
      "total_bipt             89339\n",
      "min_fipt               53908\n",
      "min_bipt               31118\n",
      "max_fipt              106490\n",
      "max_bipt               80321\n",
      "mean_fipt             104800\n",
      "mean_bipt              86597\n",
      "std_fipt               86574\n",
      "std_bipt               74955\n",
      "fpsh_cnt                 173\n",
      "bpsh_cnt                 440\n",
      "furg_cnt                   1\n",
      "burg_cnt                   1\n",
      "total_fhlen             3413\n",
      "total_bhlen             4511\n",
      "fPktsPerSecond        175700\n",
      "bPktsPerSecond        169465\n",
      "flowPktsPerSecond     179128\n",
      "flowBytesPerSecond    229271\n",
      "mean_flowpktl          40935\n",
      "std_flowpktl           58473\n",
      "mean_flowipt          177222\n",
      "std_flowipt           109432\n",
      "flow_fin                  17\n",
      "flow_syn                  18\n",
      "flow_rst                  34\n",
      "flow_ack                1196\n",
      "flow_urg                   1\n",
      "flow_cwr                   2\n",
      "flow_ece                   1\n",
      "downUpRatio            60814\n",
      "label                      2\n",
      "dtype: int64\n"
     ]
    }
   ],
   "source": [
    "#sumarize the number of unique values for each column (feature)\n",
    "print(df.nunique())"
   ]
  },
  {
   "cell_type": "code",
   "execution_count": 8,
   "metadata": {},
   "outputs": [
    {
     "name": "stdout",
     "output_type": "stream",
     "text": [
      "[31, 32, 47, 49]\n",
      "(310663, 48)\n"
     ]
    }
   ],
   "source": [
    "#delete features with a single unique value\n",
    "#get the indexes of the single-valued columns\n",
    "counts=df.nunique()\n",
    "to_del=[i for i,v in enumerate(counts) if v==1]\n",
    "print(to_del)\n",
    "#drop those columns\n",
    "df.drop(df.columns[to_del],axis=1,inplace=True)\n",
    "#new dataframe dimension\n",
    "print(df.shape)"
   ]
  },
  {
   "cell_type": "code",
   "execution_count": 9,
   "metadata": {},
   "outputs": [
    {
     "name": "stdout",
     "output_type": "stream",
     "text": [
      "proto                      2\n",
      "ts                    310663\n",
      "srcIP                  12361\n",
      "srcPrt                 52788\n",
      "dstIP                  13632\n",
      "dstPrt                   340\n",
      "flowduration          187149\n",
      "total_fpackets           703\n",
      "total_bpackets           922\n",
      "total_fpktl             9883\n",
      "total_bpktl            22973\n",
      "min_fpktl                149\n",
      "min_bpktl                495\n",
      "max_fpktl               1333\n",
      "max_bpktl               1142\n",
      "mean_fpktl             21622\n",
      "mean_bpktl             27875\n",
      "std_fpktl              38638\n",
      "std_bpktl              35450\n",
      "total_fipt            110017\n",
      "total_bipt             89339\n",
      "min_fipt               53908\n",
      "min_bipt               31118\n",
      "max_fipt              106490\n",
      "max_bipt               80321\n",
      "mean_fipt             104800\n",
      "mean_bipt              86597\n",
      "std_fipt               86574\n",
      "std_bipt               74955\n",
      "fpsh_cnt                 173\n",
      "bpsh_cnt                 440\n",
      "total_fhlen             3413\n",
      "total_bhlen             4511\n",
      "fPktsPerSecond        175700\n",
      "bPktsPerSecond        169465\n",
      "flowPktsPerSecond     179128\n",
      "flowBytesPerSecond    229271\n",
      "mean_flowpktl          40935\n",
      "std_flowpktl           58473\n",
      "mean_flowipt          177222\n",
      "std_flowipt           109432\n",
      "flow_fin                  17\n",
      "flow_syn                  18\n",
      "flow_rst                  34\n",
      "flow_ack                1196\n",
      "flow_cwr                   2\n",
      "downUpRatio            60814\n",
      "label                      2\n",
      "dtype: int64\n"
     ]
    }
   ],
   "source": [
    "#sumarize the number of unique values for each column \n",
    "print(df.nunique())"
   ]
  },
  {
   "cell_type": "code",
   "execution_count": 10,
   "metadata": {},
   "outputs": [],
   "source": [
    "#delete ts, srcIP and dstIP features\n",
    "df.drop(['ts','srcIP','dstIP'],axis=1,inplace=True)"
   ]
  },
  {
   "cell_type": "code",
   "execution_count": 11,
   "metadata": {},
   "outputs": [
    {
     "data": {
      "image/png": "[encoded data removed]",
      "text/plain": [
       "<Figure size 432x288 with 1 Axes>"
      ]
     },
     "metadata": {
      "needs_background": "light"
     },
     "output_type": "display_data"
    }
   ],
   "source": [
    "#checking columns that have very few values, e.g. flow_cwr column\n",
    "ax = df['flow_cwr'].value_counts().plot(kind='bar',fontsize=16) \n",
    "for p in ax.patches:\n",
    "    x = p.get_x()\n",
    "    h = p.get_height()\n",
    "    w = p.get_width()\n",
    "    ax.annotate(f'{h:.0f}\\n', (x + w/2, h), ha='center', va='center', size=16)\n",
    "plt.margins(y=0.2)\n",
    "plt.tight_layout()\n",
    "plt.show()"
   ]
  },
  {
   "cell_type": "code",
   "execution_count": 12,
   "metadata": {},
   "outputs": [],
   "source": [
    "#delete flow_cwr column\n",
    "df.drop('flow_cwr',axis=1,inplace=True)"
   ]
  },
  {
   "cell_type": "code",
   "execution_count": 14,
   "metadata": {},
   "outputs": [
    {
     "data": {
      "text/plain": [
       "Counter({0: 292386, 1: 18277})"
      ]
     },
     "execution_count": 14,
     "metadata": {},
     "output_type": "execute_result"
    }
   ],
   "source": [
    "#counting classes\n",
    "collections.Counter(df.label.values)"
   ]
  },
  {
   "cell_type": "code",
   "execution_count": 15,
   "metadata": {},
   "outputs": [
    {
     "name": "stdout",
     "output_type": "stream",
     "text": [
      "(310663, 44)\n",
      "(307754, 44)\n"
     ]
    }
   ],
   "source": [
    "#Delete Rows That Contain Duplicate Data\n",
    "print(df.shape)\n",
    "df.drop_duplicates(inplace=True)\n",
    "print(df.shape)"
   ]
  },
  {
   "cell_type": "code",
   "execution_count": 16,
   "metadata": {},
   "outputs": [
    {
     "data": {
      "text/plain": [
       "Counter({0: 289490, 1: 18264})"
      ]
     },
     "execution_count": 16,
     "metadata": {},
     "output_type": "execute_result"
    }
   ],
   "source": [
    "#counting classes\n",
    "collections.Counter(df.label.values)"
   ]
  },
  {
   "cell_type": "code",
   "execution_count": 17,
   "metadata": {},
   "outputs": [
    {
     "data": {
      "text/html": [
       "<div>\n",
       "<style scoped>\n",
       "    .dataframe tbody tr th:only-of-type {\n",
       "        vertical-align: middle;\n",
       "    }\n",
       "\n",
       "    .dataframe tbody tr th {\n",
       "        vertical-align: top;\n",
       "    }\n",
       "\n",
       "    .dataframe thead th {\n",
       "        text-align: right;\n",
       "    }\n",
       "</style>\n",
       "<table border=\"1\" class=\"dataframe\">\n",
       "  <thead>\n",
       "    <tr style=\"text-align: right;\">\n",
       "      <th></th>\n",
       "      <th>proto</th>\n",
       "      <th>srcPrt</th>\n",
       "      <th>dstPrt</th>\n",
       "      <th>flowduration</th>\n",
       "      <th>total_fpackets</th>\n",
       "      <th>total_bpackets</th>\n",
       "      <th>total_fpktl</th>\n",
       "      <th>total_bpktl</th>\n",
       "      <th>min_fpktl</th>\n",
       "      <th>min_bpktl</th>\n",
       "      <th>...</th>\n",
       "      <th>mean_flowpktl</th>\n",
       "      <th>std_flowpktl</th>\n",
       "      <th>mean_flowipt</th>\n",
       "      <th>std_flowipt</th>\n",
       "      <th>flow_fin</th>\n",
       "      <th>flow_syn</th>\n",
       "      <th>flow_rst</th>\n",
       "      <th>flow_ack</th>\n",
       "      <th>downUpRatio</th>\n",
       "      <th>label</th>\n",
       "    </tr>\n",
       "  </thead>\n",
       "  <tbody>\n",
       "    <tr>\n",
       "      <th>0</th>\n",
       "      <td>TCP</td>\n",
       "      <td>41039</td>\n",
       "      <td>25</td>\n",
       "      <td>0.000012</td>\n",
       "      <td>1</td>\n",
       "      <td>1</td>\n",
       "      <td>62</td>\n",
       "      <td>54</td>\n",
       "      <td>62</td>\n",
       "      <td>54</td>\n",
       "      <td>...</td>\n",
       "      <td>58.000000</td>\n",
       "      <td>5.656854</td>\n",
       "      <td>0.000012</td>\n",
       "      <td>0.000000</td>\n",
       "      <td>0</td>\n",
       "      <td>1</td>\n",
       "      <td>1</td>\n",
       "      <td>1</td>\n",
       "      <td>0.870968</td>\n",
       "      <td>0</td>\n",
       "    </tr>\n",
       "    <tr>\n",
       "      <th>1</th>\n",
       "      <td>TCP</td>\n",
       "      <td>41040</td>\n",
       "      <td>25</td>\n",
       "      <td>0.000012</td>\n",
       "      <td>1</td>\n",
       "      <td>1</td>\n",
       "      <td>62</td>\n",
       "      <td>54</td>\n",
       "      <td>62</td>\n",
       "      <td>54</td>\n",
       "      <td>...</td>\n",
       "      <td>58.000000</td>\n",
       "      <td>5.656854</td>\n",
       "      <td>0.000012</td>\n",
       "      <td>0.000000</td>\n",
       "      <td>0</td>\n",
       "      <td>1</td>\n",
       "      <td>1</td>\n",
       "      <td>1</td>\n",
       "      <td>0.870968</td>\n",
       "      <td>0</td>\n",
       "    </tr>\n",
       "    <tr>\n",
       "      <th>2</th>\n",
       "      <td>TCP</td>\n",
       "      <td>60720</td>\n",
       "      <td>80</td>\n",
       "      <td>0.000021</td>\n",
       "      <td>1</td>\n",
       "      <td>1</td>\n",
       "      <td>60</td>\n",
       "      <td>54</td>\n",
       "      <td>60</td>\n",
       "      <td>54</td>\n",
       "      <td>...</td>\n",
       "      <td>57.000000</td>\n",
       "      <td>4.242640</td>\n",
       "      <td>0.000021</td>\n",
       "      <td>0.000000</td>\n",
       "      <td>1</td>\n",
       "      <td>0</td>\n",
       "      <td>0</td>\n",
       "      <td>2</td>\n",
       "      <td>0.900000</td>\n",
       "      <td>0</td>\n",
       "    </tr>\n",
       "    <tr>\n",
       "      <th>3</th>\n",
       "      <td>TCP</td>\n",
       "      <td>60731</td>\n",
       "      <td>80</td>\n",
       "      <td>55.912911</td>\n",
       "      <td>21</td>\n",
       "      <td>35</td>\n",
       "      <td>1632</td>\n",
       "      <td>43821</td>\n",
       "      <td>60</td>\n",
       "      <td>54</td>\n",
       "      <td>...</td>\n",
       "      <td>811.660714</td>\n",
       "      <td>679.490845</td>\n",
       "      <td>1.101565</td>\n",
       "      <td>6.891815</td>\n",
       "      <td>2</td>\n",
       "      <td>2</td>\n",
       "      <td>0</td>\n",
       "      <td>55</td>\n",
       "      <td>26.851103</td>\n",
       "      <td>0</td>\n",
       "    </tr>\n",
       "    <tr>\n",
       "      <th>4</th>\n",
       "      <td>TCP</td>\n",
       "      <td>48889</td>\n",
       "      <td>80</td>\n",
       "      <td>12.624237</td>\n",
       "      <td>5</td>\n",
       "      <td>5</td>\n",
       "      <td>788</td>\n",
       "      <td>735</td>\n",
       "      <td>66</td>\n",
       "      <td>66</td>\n",
       "      <td>...</td>\n",
       "      <td>152.300000</td>\n",
       "      <td>177.225571</td>\n",
       "      <td>2.737010</td>\n",
       "      <td>5.315071</td>\n",
       "      <td>2</td>\n",
       "      <td>2</td>\n",
       "      <td>0</td>\n",
       "      <td>9</td>\n",
       "      <td>0.932741</td>\n",
       "      <td>0</td>\n",
       "    </tr>\n",
       "    <tr>\n",
       "      <th>...</th>\n",
       "      <td>...</td>\n",
       "      <td>...</td>\n",
       "      <td>...</td>\n",
       "      <td>...</td>\n",
       "      <td>...</td>\n",
       "      <td>...</td>\n",
       "      <td>...</td>\n",
       "      <td>...</td>\n",
       "      <td>...</td>\n",
       "      <td>...</td>\n",
       "      <td>...</td>\n",
       "      <td>...</td>\n",
       "      <td>...</td>\n",
       "      <td>...</td>\n",
       "      <td>...</td>\n",
       "      <td>...</td>\n",
       "      <td>...</td>\n",
       "      <td>...</td>\n",
       "      <td>...</td>\n",
       "      <td>...</td>\n",
       "      <td>...</td>\n",
       "    </tr>\n",
       "    <tr>\n",
       "      <th>310658</th>\n",
       "      <td>UDP</td>\n",
       "      <td>58665</td>\n",
       "      <td>53</td>\n",
       "      <td>0.259362</td>\n",
       "      <td>1</td>\n",
       "      <td>1</td>\n",
       "      <td>73</td>\n",
       "      <td>382</td>\n",
       "      <td>73</td>\n",
       "      <td>382</td>\n",
       "      <td>...</td>\n",
       "      <td>227.500000</td>\n",
       "      <td>218.496002</td>\n",
       "      <td>0.259362</td>\n",
       "      <td>0.000000</td>\n",
       "      <td>0</td>\n",
       "      <td>0</td>\n",
       "      <td>0</td>\n",
       "      <td>0</td>\n",
       "      <td>5.232877</td>\n",
       "      <td>0</td>\n",
       "    </tr>\n",
       "    <tr>\n",
       "      <th>310659</th>\n",
       "      <td>UDP</td>\n",
       "      <td>47777</td>\n",
       "      <td>53</td>\n",
       "      <td>0.076347</td>\n",
       "      <td>1</td>\n",
       "      <td>1</td>\n",
       "      <td>84</td>\n",
       "      <td>324</td>\n",
       "      <td>84</td>\n",
       "      <td>324</td>\n",
       "      <td>...</td>\n",
       "      <td>204.000000</td>\n",
       "      <td>169.705627</td>\n",
       "      <td>0.076347</td>\n",
       "      <td>0.000000</td>\n",
       "      <td>0</td>\n",
       "      <td>0</td>\n",
       "      <td>0</td>\n",
       "      <td>0</td>\n",
       "      <td>3.857143</td>\n",
       "      <td>0</td>\n",
       "    </tr>\n",
       "    <tr>\n",
       "      <th>310660</th>\n",
       "      <td>UDP</td>\n",
       "      <td>62559</td>\n",
       "      <td>53</td>\n",
       "      <td>0.000184</td>\n",
       "      <td>1</td>\n",
       "      <td>1</td>\n",
       "      <td>84</td>\n",
       "      <td>143</td>\n",
       "      <td>84</td>\n",
       "      <td>143</td>\n",
       "      <td>...</td>\n",
       "      <td>113.500000</td>\n",
       "      <td>41.719299</td>\n",
       "      <td>0.000184</td>\n",
       "      <td>0.000000</td>\n",
       "      <td>0</td>\n",
       "      <td>0</td>\n",
       "      <td>0</td>\n",
       "      <td>0</td>\n",
       "      <td>1.702381</td>\n",
       "      <td>0</td>\n",
       "    </tr>\n",
       "    <tr>\n",
       "      <th>310661</th>\n",
       "      <td>UDP</td>\n",
       "      <td>47777</td>\n",
       "      <td>53</td>\n",
       "      <td>0.107837</td>\n",
       "      <td>1</td>\n",
       "      <td>1</td>\n",
       "      <td>100</td>\n",
       "      <td>129</td>\n",
       "      <td>100</td>\n",
       "      <td>129</td>\n",
       "      <td>...</td>\n",
       "      <td>114.500000</td>\n",
       "      <td>20.506096</td>\n",
       "      <td>0.107837</td>\n",
       "      <td>0.000000</td>\n",
       "      <td>0</td>\n",
       "      <td>0</td>\n",
       "      <td>0</td>\n",
       "      <td>0</td>\n",
       "      <td>1.290000</td>\n",
       "      <td>0</td>\n",
       "    </tr>\n",
       "    <tr>\n",
       "      <th>310662</th>\n",
       "      <td>UDP</td>\n",
       "      <td>47777</td>\n",
       "      <td>53</td>\n",
       "      <td>0.071667</td>\n",
       "      <td>1</td>\n",
       "      <td>1</td>\n",
       "      <td>89</td>\n",
       "      <td>110</td>\n",
       "      <td>89</td>\n",
       "      <td>110</td>\n",
       "      <td>...</td>\n",
       "      <td>99.500000</td>\n",
       "      <td>14.849242</td>\n",
       "      <td>0.071667</td>\n",
       "      <td>0.000000</td>\n",
       "      <td>0</td>\n",
       "      <td>0</td>\n",
       "      <td>0</td>\n",
       "      <td>0</td>\n",
       "      <td>1.235955</td>\n",
       "      <td>0</td>\n",
       "    </tr>\n",
       "  </tbody>\n",
       "</table>\n",
       "<p>307754 rows × 44 columns</p>\n",
       "</div>"
      ],
      "text/plain": [
       "       proto  srcPrt  dstPrt  flowduration  total_fpackets  total_bpackets  \\\n",
       "0        TCP   41039      25      0.000012               1               1   \n",
       "1        TCP   41040      25      0.000012               1               1   \n",
       "2        TCP   60720      80      0.000021               1               1   \n",
       "3        TCP   60731      80     55.912911              21              35   \n",
       "4        TCP   48889      80     12.624237               5               5   \n",
       "...      ...     ...     ...           ...             ...             ...   \n",
       "310658   UDP   58665      53      0.259362               1               1   \n",
       "310659   UDP   47777      53      0.076347               1               1   \n",
       "310660   UDP   62559      53      0.000184               1               1   \n",
       "310661   UDP   47777      53      0.107837               1               1   \n",
       "310662   UDP   47777      53      0.071667               1               1   \n",
       "\n",
       "        total_fpktl  total_bpktl  min_fpktl  min_bpktl  ...  mean_flowpktl  \\\n",
       "0                62           54         62         54  ...      58.000000   \n",
       "1                62           54         62         54  ...      58.000000   \n",
       "2                60           54         60         54  ...      57.000000   \n",
       "3              1632        43821         60         54  ...     811.660714   \n",
       "4               788          735         66         66  ...     152.300000   \n",
       "...             ...          ...        ...        ...  ...            ...   \n",
       "310658           73          382         73        382  ...     227.500000   \n",
       "310659           84          324         84        324  ...     204.000000   \n",
       "310660           84          143         84        143  ...     113.500000   \n",
       "310661          100          129        100        129  ...     114.500000   \n",
       "310662           89          110         89        110  ...      99.500000   \n",
       "\n",
       "        std_flowpktl  mean_flowipt  std_flowipt  flow_fin  flow_syn  flow_rst  \\\n",
       "0           5.656854      0.000012     0.000000         0         1         1   \n",
       "1           5.656854      0.000012     0.000000         0         1         1   \n",
       "2           4.242640      0.000021     0.000000         1         0         0   \n",
       "3         679.490845      1.101565     6.891815         2         2         0   \n",
       "4         177.225571      2.737010     5.315071         2         2         0   \n",
       "...              ...           ...          ...       ...       ...       ...   \n",
       "310658    218.496002      0.259362     0.000000         0         0         0   \n",
       "310659    169.705627      0.076347     0.000000         0         0         0   \n",
       "310660     41.719299      0.000184     0.000000         0         0         0   \n",
       "310661     20.506096      0.107837     0.000000         0         0         0   \n",
       "310662     14.849242      0.071667     0.000000         0         0         0   \n",
       "\n",
       "        flow_ack  downUpRatio  label  \n",
       "0              1     0.870968      0  \n",
       "1              1     0.870968      0  \n",
       "2              2     0.900000      0  \n",
       "3             55    26.851103      0  \n",
       "4              9     0.932741      0  \n",
       "...          ...          ...    ...  \n",
       "310658         0     5.232877      0  \n",
       "310659         0     3.857143      0  \n",
       "310660         0     1.702381      0  \n",
       "310661         0     1.290000      0  \n",
       "310662         0     1.235955      0  \n",
       "\n",
       "[307754 rows x 44 columns]"
      ]
     },
     "execution_count": 17,
     "metadata": {},
     "output_type": "execute_result"
    }
   ],
   "source": [
    "df"
   ]
  },
  {
   "cell_type": "code",
   "execution_count": 18,
   "metadata": {},
   "outputs": [
    {
     "name": "stdout",
     "output_type": "stream",
     "text": [
      "> Class 0 : 289490 of 307754 (94.1%)\n",
      "> Class 1 : 18264 of 307754 (5.9%)\n"
     ]
    }
   ],
   "source": [
    "#check % class distribution \n",
    "y=df['label'].values #convert to nparray\n",
    "\n",
    "classes=np.unique(y)\n",
    "total=len(y)\n",
    "\n",
    "for c in classes:\n",
    "    n_examples=len(y[y==c])\n",
    "    percent = n_examples/total*100\n",
    "    print('> Class %d : %d of %d (%.1f%%)' % (c, n_examples,total,percent))"
   ]
  },
  {
   "cell_type": "markdown",
   "metadata": {},
   "source": [
    "# Coding of categorical variables\n",
    "[Target encoding](https://contrib.scikit-learn.org/category_encoders/targetencoder.html) for categorical features will be used to encode three nominal categorical variables: protocol, source and destination ports. This method is supervised and requires training."
   ]
  },
  {
   "cell_type": "code",
   "execution_count": 19,
   "metadata": {},
   "outputs": [
    {
     "data": {
      "text/plain": [
       "proto                  object\n",
       "srcPrt                  int64\n",
       "dstPrt                  int64\n",
       "flowduration          float64\n",
       "total_fpackets          int64\n",
       "total_bpackets          int64\n",
       "total_fpktl             int64\n",
       "total_bpktl             int64\n",
       "min_fpktl               int64\n",
       "min_bpktl               int64\n",
       "max_fpktl               int64\n",
       "max_bpktl               int64\n",
       "mean_fpktl            float64\n",
       "mean_bpktl            float64\n",
       "std_fpktl             float64\n",
       "std_bpktl             float64\n",
       "total_fipt            float64\n",
       "total_bipt            float64\n",
       "min_fipt              float64\n",
       "min_bipt              float64\n",
       "max_fipt              float64\n",
       "max_bipt              float64\n",
       "mean_fipt             float64\n",
       "mean_bipt             float64\n",
       "std_fipt              float64\n",
       "std_bipt              float64\n",
       "fpsh_cnt                int64\n",
       "bpsh_cnt                int64\n",
       "total_fhlen             int64\n",
       "total_bhlen             int64\n",
       "fPktsPerSecond        float64\n",
       "bPktsPerSecond        float64\n",
       "flowPktsPerSecond     float64\n",
       "flowBytesPerSecond    float64\n",
       "mean_flowpktl         float64\n",
       "std_flowpktl          float64\n",
       "mean_flowipt          float64\n",
       "std_flowipt           float64\n",
       "flow_fin                int64\n",
       "flow_syn                int64\n",
       "flow_rst                int64\n",
       "flow_ack                int64\n",
       "downUpRatio           float64\n",
       "label                   int64\n",
       "dtype: object"
      ]
     },
     "execution_count": 19,
     "metadata": {},
     "output_type": "execute_result"
    }
   ],
   "source": [
    "#check data types for each feature\n",
    "df.dtypes"
   ]
  },
  {
   "cell_type": "code",
   "execution_count": 22,
   "metadata": {},
   "outputs": [],
   "source": [
    "#create training and test dataset\n",
    "X_train,X_test,y_train,y_test = train_test_split(df.drop(columns=['label']), df['label'], test_size=0.2, random_state=42)"
   ]
  },
  {
   "cell_type": "code",
   "execution_count": 23,
   "metadata": {},
   "outputs": [],
   "source": [
    "#load library for target encoder \n",
    "from category_encoders import TargetEncoder"
   ]
  },
  {
   "cell_type": "code",
   "execution_count": 24,
   "metadata": {},
   "outputs": [],
   "source": [
    "# Selecting the three categorical variables to be coded\n",
    "enc = TargetEncoder(cols=['proto','srcPrt','dstPrt'])\n",
    "\n",
    "# transform the datasets\n",
    "training_numeric_dataset = enc.fit_transform(X_train, y_train)\n",
    "testing_numeric_dataset = enc.transform(X_test)"
   ]
  },
  {
   "cell_type": "code",
   "execution_count": 26,
   "metadata": {},
   "outputs": [
    {
     "data": {
      "text/html": [
       "<div>\n",
       "<style scoped>\n",
       "    .dataframe tbody tr th:only-of-type {\n",
       "        vertical-align: middle;\n",
       "    }\n",
       "\n",
       "    .dataframe tbody tr th {\n",
       "        vertical-align: top;\n",
       "    }\n",
       "\n",
       "    .dataframe thead th {\n",
       "        text-align: right;\n",
       "    }\n",
       "</style>\n",
       "<table border=\"1\" class=\"dataframe\">\n",
       "  <thead>\n",
       "    <tr style=\"text-align: right;\">\n",
       "      <th></th>\n",
       "      <th>proto</th>\n",
       "      <th>srcPrt</th>\n",
       "      <th>dstPrt</th>\n",
       "      <th>flowduration</th>\n",
       "      <th>total_fpackets</th>\n",
       "      <th>total_bpackets</th>\n",
       "      <th>total_fpktl</th>\n",
       "      <th>total_bpktl</th>\n",
       "      <th>min_fpktl</th>\n",
       "      <th>min_bpktl</th>\n",
       "      <th>...</th>\n",
       "      <th>flowBytesPerSecond</th>\n",
       "      <th>mean_flowpktl</th>\n",
       "      <th>std_flowpktl</th>\n",
       "      <th>mean_flowipt</th>\n",
       "      <th>std_flowipt</th>\n",
       "      <th>flow_fin</th>\n",
       "      <th>flow_syn</th>\n",
       "      <th>flow_rst</th>\n",
       "      <th>flow_ack</th>\n",
       "      <th>downUpRatio</th>\n",
       "    </tr>\n",
       "  </thead>\n",
       "  <tbody>\n",
       "    <tr>\n",
       "      <th>156306</th>\n",
       "      <td>0.025356</td>\n",
       "      <td>5.929254e-02</td>\n",
       "      <td>0.025093</td>\n",
       "      <td>0.000105</td>\n",
       "      <td>1</td>\n",
       "      <td>1</td>\n",
       "      <td>106</td>\n",
       "      <td>54</td>\n",
       "      <td>106</td>\n",
       "      <td>54</td>\n",
       "      <td>...</td>\n",
       "      <td>1.525202e+06</td>\n",
       "      <td>80.000000</td>\n",
       "      <td>36.769554</td>\n",
       "      <td>0.000105</td>\n",
       "      <td>0.000000</td>\n",
       "      <td>0</td>\n",
       "      <td>0</td>\n",
       "      <td>0</td>\n",
       "      <td>0</td>\n",
       "      <td>0.509434</td>\n",
       "    </tr>\n",
       "    <tr>\n",
       "      <th>190053</th>\n",
       "      <td>0.025356</td>\n",
       "      <td>9.968726e-01</td>\n",
       "      <td>0.025093</td>\n",
       "      <td>60.318130</td>\n",
       "      <td>8</td>\n",
       "      <td>4</td>\n",
       "      <td>568</td>\n",
       "      <td>1544</td>\n",
       "      <td>66</td>\n",
       "      <td>342</td>\n",
       "      <td>...</td>\n",
       "      <td>3.501435e+01</td>\n",
       "      <td>176.000000</td>\n",
       "      <td>157.611145</td>\n",
       "      <td>5.516488</td>\n",
       "      <td>17.837491</td>\n",
       "      <td>0</td>\n",
       "      <td>0</td>\n",
       "      <td>0</td>\n",
       "      <td>0</td>\n",
       "      <td>2.718310</td>\n",
       "    </tr>\n",
       "    <tr>\n",
       "      <th>239389</th>\n",
       "      <td>0.025356</td>\n",
       "      <td>3.643037e-07</td>\n",
       "      <td>0.025093</td>\n",
       "      <td>2.132073</td>\n",
       "      <td>1</td>\n",
       "      <td>1</td>\n",
       "      <td>85</td>\n",
       "      <td>149</td>\n",
       "      <td>85</td>\n",
       "      <td>149</td>\n",
       "      <td>...</td>\n",
       "      <td>1.097523e+02</td>\n",
       "      <td>117.000000</td>\n",
       "      <td>45.254833</td>\n",
       "      <td>2.132073</td>\n",
       "      <td>0.000000</td>\n",
       "      <td>0</td>\n",
       "      <td>0</td>\n",
       "      <td>0</td>\n",
       "      <td>0</td>\n",
       "      <td>1.752941</td>\n",
       "    </tr>\n",
       "    <tr>\n",
       "      <th>65943</th>\n",
       "      <td>0.167577</td>\n",
       "      <td>9.902696e-07</td>\n",
       "      <td>0.021653</td>\n",
       "      <td>80.740670</td>\n",
       "      <td>13</td>\n",
       "      <td>24</td>\n",
       "      <td>1130</td>\n",
       "      <td>21826</td>\n",
       "      <td>60</td>\n",
       "      <td>54</td>\n",
       "      <td>...</td>\n",
       "      <td>2.843177e+02</td>\n",
       "      <td>620.432432</td>\n",
       "      <td>673.613342</td>\n",
       "      <td>4.393708</td>\n",
       "      <td>14.396949</td>\n",
       "      <td>7</td>\n",
       "      <td>2</td>\n",
       "      <td>1</td>\n",
       "      <td>35</td>\n",
       "      <td>19.315044</td>\n",
       "    </tr>\n",
       "    <tr>\n",
       "      <th>155587</th>\n",
       "      <td>0.025356</td>\n",
       "      <td>5.401853e-05</td>\n",
       "      <td>0.025093</td>\n",
       "      <td>0.000475</td>\n",
       "      <td>1</td>\n",
       "      <td>1</td>\n",
       "      <td>81</td>\n",
       "      <td>360</td>\n",
       "      <td>81</td>\n",
       "      <td>360</td>\n",
       "      <td>...</td>\n",
       "      <td>9.285582e+05</td>\n",
       "      <td>220.500000</td>\n",
       "      <td>197.282791</td>\n",
       "      <td>0.000475</td>\n",
       "      <td>0.000000</td>\n",
       "      <td>0</td>\n",
       "      <td>0</td>\n",
       "      <td>0</td>\n",
       "      <td>0</td>\n",
       "      <td>4.444445</td>\n",
       "    </tr>\n",
       "    <tr>\n",
       "      <th>...</th>\n",
       "      <td>...</td>\n",
       "      <td>...</td>\n",
       "      <td>...</td>\n",
       "      <td>...</td>\n",
       "      <td>...</td>\n",
       "      <td>...</td>\n",
       "      <td>...</td>\n",
       "      <td>...</td>\n",
       "      <td>...</td>\n",
       "      <td>...</td>\n",
       "      <td>...</td>\n",
       "      <td>...</td>\n",
       "      <td>...</td>\n",
       "      <td>...</td>\n",
       "      <td>...</td>\n",
       "      <td>...</td>\n",
       "      <td>...</td>\n",
       "      <td>...</td>\n",
       "      <td>...</td>\n",
       "      <td>...</td>\n",
       "      <td>...</td>\n",
       "    </tr>\n",
       "    <tr>\n",
       "      <th>49948</th>\n",
       "      <td>0.167577</td>\n",
       "      <td>9.030241e-10</td>\n",
       "      <td>0.021653</td>\n",
       "      <td>9.454764</td>\n",
       "      <td>32</td>\n",
       "      <td>47</td>\n",
       "      <td>2564</td>\n",
       "      <td>61705</td>\n",
       "      <td>66</td>\n",
       "      <td>66</td>\n",
       "      <td>...</td>\n",
       "      <td>6.797525e+03</td>\n",
       "      <td>813.531646</td>\n",
       "      <td>678.766235</td>\n",
       "      <td>0.123546</td>\n",
       "      <td>0.453059</td>\n",
       "      <td>2</td>\n",
       "      <td>2</td>\n",
       "      <td>0</td>\n",
       "      <td>78</td>\n",
       "      <td>24.065912</td>\n",
       "    </tr>\n",
       "    <tr>\n",
       "      <th>205339</th>\n",
       "      <td>0.025356</td>\n",
       "      <td>5.929254e-02</td>\n",
       "      <td>0.025093</td>\n",
       "      <td>0.000157</td>\n",
       "      <td>1</td>\n",
       "      <td>1</td>\n",
       "      <td>88</td>\n",
       "      <td>139</td>\n",
       "      <td>88</td>\n",
       "      <td>139</td>\n",
       "      <td>...</td>\n",
       "      <td>1.444775e+06</td>\n",
       "      <td>113.500000</td>\n",
       "      <td>36.062447</td>\n",
       "      <td>0.000157</td>\n",
       "      <td>0.000000</td>\n",
       "      <td>0</td>\n",
       "      <td>0</td>\n",
       "      <td>0</td>\n",
       "      <td>0</td>\n",
       "      <td>1.579545</td>\n",
       "    </tr>\n",
       "    <tr>\n",
       "      <th>188501</th>\n",
       "      <td>0.025356</td>\n",
       "      <td>1.594622e-02</td>\n",
       "      <td>0.025093</td>\n",
       "      <td>0.358496</td>\n",
       "      <td>1</td>\n",
       "      <td>1</td>\n",
       "      <td>74</td>\n",
       "      <td>74</td>\n",
       "      <td>74</td>\n",
       "      <td>74</td>\n",
       "      <td>...</td>\n",
       "      <td>4.128359e+02</td>\n",
       "      <td>74.000000</td>\n",
       "      <td>0.000000</td>\n",
       "      <td>0.358496</td>\n",
       "      <td>0.000000</td>\n",
       "      <td>0</td>\n",
       "      <td>0</td>\n",
       "      <td>0</td>\n",
       "      <td>0</td>\n",
       "      <td>1.000000</td>\n",
       "    </tr>\n",
       "    <tr>\n",
       "      <th>299192</th>\n",
       "      <td>0.025356</td>\n",
       "      <td>0.000000e+00</td>\n",
       "      <td>0.025093</td>\n",
       "      <td>0.191670</td>\n",
       "      <td>1</td>\n",
       "      <td>1</td>\n",
       "      <td>90</td>\n",
       "      <td>223</td>\n",
       "      <td>90</td>\n",
       "      <td>223</td>\n",
       "      <td>...</td>\n",
       "      <td>1.633014e+03</td>\n",
       "      <td>156.500000</td>\n",
       "      <td>94.045204</td>\n",
       "      <td>0.191670</td>\n",
       "      <td>0.000000</td>\n",
       "      <td>0</td>\n",
       "      <td>0</td>\n",
       "      <td>0</td>\n",
       "      <td>0</td>\n",
       "      <td>2.477778</td>\n",
       "    </tr>\n",
       "    <tr>\n",
       "      <th>267454</th>\n",
       "      <td>0.025356</td>\n",
       "      <td>9.902696e-07</td>\n",
       "      <td>0.025093</td>\n",
       "      <td>0.336579</td>\n",
       "      <td>1</td>\n",
       "      <td>1</td>\n",
       "      <td>74</td>\n",
       "      <td>74</td>\n",
       "      <td>74</td>\n",
       "      <td>74</td>\n",
       "      <td>...</td>\n",
       "      <td>4.397184e+02</td>\n",
       "      <td>74.000000</td>\n",
       "      <td>0.000000</td>\n",
       "      <td>0.336579</td>\n",
       "      <td>0.000000</td>\n",
       "      <td>0</td>\n",
       "      <td>0</td>\n",
       "      <td>0</td>\n",
       "      <td>0</td>\n",
       "      <td>1.000000</td>\n",
       "    </tr>\n",
       "  </tbody>\n",
       "</table>\n",
       "<p>61551 rows × 43 columns</p>\n",
       "</div>"
      ],
      "text/plain": [
       "           proto        srcPrt    dstPrt  flowduration  total_fpackets  \\\n",
       "156306  0.025356  5.929254e-02  0.025093      0.000105               1   \n",
       "190053  0.025356  9.968726e-01  0.025093     60.318130               8   \n",
       "239389  0.025356  3.643037e-07  0.025093      2.132073               1   \n",
       "65943   0.167577  9.902696e-07  0.021653     80.740670              13   \n",
       "155587  0.025356  5.401853e-05  0.025093      0.000475               1   \n",
       "...          ...           ...       ...           ...             ...   \n",
       "49948   0.167577  9.030241e-10  0.021653      9.454764              32   \n",
       "205339  0.025356  5.929254e-02  0.025093      0.000157               1   \n",
       "188501  0.025356  1.594622e-02  0.025093      0.358496               1   \n",
       "299192  0.025356  0.000000e+00  0.025093      0.191670               1   \n",
       "267454  0.025356  9.902696e-07  0.025093      0.336579               1   \n",
       "\n",
       "        total_bpackets  total_fpktl  total_bpktl  min_fpktl  min_bpktl  ...  \\\n",
       "156306               1          106           54        106         54  ...   \n",
       "190053               4          568         1544         66        342  ...   \n",
       "239389               1           85          149         85        149  ...   \n",
       "65943               24         1130        21826         60         54  ...   \n",
       "155587               1           81          360         81        360  ...   \n",
       "...                ...          ...          ...        ...        ...  ...   \n",
       "49948               47         2564        61705         66         66  ...   \n",
       "205339               1           88          139         88        139  ...   \n",
       "188501               1           74           74         74         74  ...   \n",
       "299192               1           90          223         90        223  ...   \n",
       "267454               1           74           74         74         74  ...   \n",
       "\n",
       "        flowBytesPerSecond  mean_flowpktl  std_flowpktl  mean_flowipt  \\\n",
       "156306        1.525202e+06      80.000000     36.769554      0.000105   \n",
       "190053        3.501435e+01     176.000000    157.611145      5.516488   \n",
       "239389        1.097523e+02     117.000000     45.254833      2.132073   \n",
       "65943         2.843177e+02     620.432432    673.613342      4.393708   \n",
       "155587        9.285582e+05     220.500000    197.282791      0.000475   \n",
       "...                    ...            ...           ...           ...   \n",
       "49948         6.797525e+03     813.531646    678.766235      0.123546   \n",
       "205339        1.444775e+06     113.500000     36.062447      0.000157   \n",
       "188501        4.128359e+02      74.000000      0.000000      0.358496   \n",
       "299192        1.633014e+03     156.500000     94.045204      0.191670   \n",
       "267454        4.397184e+02      74.000000      0.000000      0.336579   \n",
       "\n",
       "        std_flowipt  flow_fin  flow_syn  flow_rst  flow_ack  downUpRatio  \n",
       "156306     0.000000         0         0         0         0     0.509434  \n",
       "190053    17.837491         0         0         0         0     2.718310  \n",
       "239389     0.000000         0         0         0         0     1.752941  \n",
       "65943     14.396949         7         2         1        35    19.315044  \n",
       "155587     0.000000         0         0         0         0     4.444445  \n",
       "...             ...       ...       ...       ...       ...          ...  \n",
       "49948      0.453059         2         2         0        78    24.065912  \n",
       "205339     0.000000         0         0         0         0     1.579545  \n",
       "188501     0.000000         0         0         0         0     1.000000  \n",
       "299192     0.000000         0         0         0         0     2.477778  \n",
       "267454     0.000000         0         0         0         0     1.000000  \n",
       "\n",
       "[61551 rows x 43 columns]"
      ]
     },
     "execution_count": 26,
     "metadata": {},
     "output_type": "execute_result"
    }
   ],
   "source": [
    "#show the coded features\n",
    "testing_numeric_dataset"
   ]
  },
  {
   "cell_type": "markdown",
   "metadata": {},
   "source": [
    "# Standardization and scaling of numerical variables"
   ]
  },
  {
   "cell_type": "code",
   "execution_count": 28,
   "metadata": {},
   "outputs": [],
   "source": [
    "# import libraries\n",
    "from sklearn.preprocessing import StandardScaler\n",
    "from sklearn.compose import ColumnTransformer\n",
    "\n",
    "numeric_cols = training_numeric_dataset.select_dtypes(include=['float64', 'int']).columns.to_list()\n",
    "preprocessor = ColumnTransformer([('scale', StandardScaler(), numeric_cols)], remainder='passthrough')"
   ]
  },
  {
   "cell_type": "code",
   "execution_count": 29,
   "metadata": {},
   "outputs": [],
   "source": [
    "X_train_prep = preprocessor.fit_transform(training_numeric_dataset)\n",
    "X_test_prep  = preprocessor.transform(testing_numeric_dataset)\n",
    "#The result returned by ColumnTransformer is a numpy array, so the column names are lost."
   ]
  },
  {
   "cell_type": "code",
   "execution_count": 30,
   "metadata": {},
   "outputs": [
    {
     "data": {
      "text/plain": [
       "((246203, 43), (61551, 43))"
      ]
     },
     "execution_count": 30,
     "metadata": {},
     "output_type": "execute_result"
    }
   ],
   "source": [
    "#Dimensions of training and testing datasets\n",
    "X_train_prep.shape, X_test_prep.shape"
   ]
  },
  {
   "cell_type": "markdown",
   "metadata": {},
   "source": [
    "# Feature selection\n",
    "Exclusion of variables with variance close to zero"
   ]
  },
  {
   "cell_type": "code",
   "execution_count": 31,
   "metadata": {},
   "outputs": [],
   "source": [
    "#join the prepared traing and test datasets in a single array X and y\n",
    "X = np.vstack((X_train_prep, X_test_prep))\n",
    "y = np.hstack((y_train, y_test))"
   ]
  },
  {
   "cell_type": "code",
   "execution_count": 32,
   "metadata": {},
   "outputs": [
    {
     "data": {
      "text/plain": [
       "Counter({0: 289490, 1: 18264})"
      ]
     },
     "execution_count": 32,
     "metadata": {},
     "output_type": "execute_result"
    }
   ],
   "source": [
    "collections.Counter(y)"
   ]
  },
  {
   "cell_type": "code",
   "execution_count": 33,
   "metadata": {},
   "outputs": [
    {
     "name": "stdout",
     "output_type": "stream",
     "text": [
      ">Threshold=0.00, Features=43\n",
      ">Threshold=0.05, Features=43\n",
      ">Threshold=0.10, Features=43\n",
      ">Threshold=0.15, Features=43\n",
      ">Threshold=0.20, Features=43\n",
      ">Threshold=0.25, Features=43\n",
      ">Threshold=0.30, Features=42\n",
      ">Threshold=0.35, Features=42\n",
      ">Threshold=0.40, Features=42\n",
      ">Threshold=0.45, Features=42\n",
      ">Threshold=0.50, Features=42\n",
      ">Threshold=0.55, Features=42\n",
      ">Threshold=0.60, Features=41\n",
      ">Threshold=0.65, Features=41\n"
     ]
    },
    {
     "data": {
      "image/png": "[encoded data removed]",
      "text/plain": [
       "<Figure size 432x288 with 1 Axes>"
      ]
     },
     "metadata": {
      "needs_background": "light"
     },
     "output_type": "display_data"
    }
   ],
   "source": [
    "#the VarianceThreshold class from sklearn support a type of feature selection\n",
    "from sklearn.feature_selection import VarianceThreshold\n",
    "from numpy import arange\n",
    "#split data into inputs\n",
    "#data=df_float.values\n",
    "#X=data[:,:]\n",
    "#define thresholds to check\n",
    "thresholds = arange(0.0,0.7,0.05)\n",
    "#apply transform with each treshold\n",
    "results=list()\n",
    "for t in thresholds:\n",
    "    #define the transform\n",
    "    transform = VarianceThreshold(threshold=t)\n",
    "    #transform the input data\n",
    "    X_sel=transform.fit_transform(X)\n",
    "    #determine the number of input features\n",
    "    n_features=X_sel.shape[1]\n",
    "    print('>Threshold=%.2f, Features=%d' %(t,n_features))\n",
    "    #store the result\n",
    "    results.append(n_features)\n",
    "#plot the theshold vs the number of selected features\n",
    "plt.plot(thresholds,results)\n",
    "plt.show()"
   ]
  },
  {
   "cell_type": "code",
   "execution_count": 34,
   "metadata": {},
   "outputs": [
    {
     "name": "stdout",
     "output_type": "stream",
     "text": [
      "(307754, 41)\n"
     ]
    }
   ],
   "source": [
    "#new set of selected features\n",
    "X=X_sel\n",
    "print(X.shape)"
   ]
  },
  {
   "cell_type": "markdown",
   "metadata": {},
   "source": [
    "# Create Machine Learning Models"
   ]
  },
  {
   "cell_type": "markdown",
   "metadata": {},
   "source": [
    "### a) Grid search with Logistic Regression (GS-LR)"
   ]
  },
  {
   "cell_type": "code",
   "execution_count": 35,
   "metadata": {},
   "outputs": [
    {
     "name": "stdout",
     "output_type": "stream",
     "text": [
      "Best: 0.993922 using {'class_weight': {0: 1, 1: 200}}\n",
      "0.992426 (0.000864) with: {'class_weight': {0: 0.001, 1: 1.0}}\n",
      "0.992729 (0.001480) with: {'class_weight': {0: 0.01, 1: 1.0}}\n",
      "0.979233 (0.031533) with: {'class_weight': {0: 0.1, 1: 1}}\n",
      "0.992756 (0.001644) with: {'class_weight': {0: 1, 1: 100}}\n",
      "0.993922 (0.001577) with: {'class_weight': {0: 1, 1: 200}}\n"
     ]
    },
    {
     "name": "stderr",
     "output_type": "stream",
     "text": [
      "C:\\Users\\pvelarde\\anaconda3\\lib\\site-packages\\sklearn\\linear_model\\_logistic.py:763: ConvergenceWarning: lbfgs failed to converge (status=1):\n",
      "STOP: TOTAL NO. of ITERATIONS REACHED LIMIT.\n",
      "\n",
      "Increase the number of iterations (max_iter) or scale the data as shown in:\n",
      "    https://scikit-learn.org/stable/modules/preprocessing.html\n",
      "Please also refer to the documentation for alternative solver options:\n",
      "    https://scikit-learn.org/stable/modules/linear_model.html#logistic-regression\n",
      "  n_iter_i = _check_optimize_result(\n"
     ]
    }
   ],
   "source": [
    "# grid search class weights with logistic regression for imbalanced classification\n",
    "\n",
    "model = LogisticRegression(solver='lbfgs',max_iter=1000)\n",
    "# define grid\n",
    "balance = [{0:0.001,1:1.0},{0:0.01,1:1.0}, {0:0.1,1:1}, {0:1,1:100},{0:1,1:200}]\n",
    "param_grid = dict(class_weight=balance)\n",
    "# define evaluation procedure\n",
    "cv = RepeatedStratifiedKFold(n_splits=10, n_repeats=3, random_state=1)\n",
    "# define grid search\n",
    "grid = GridSearchCV(estimator=model, param_grid=param_grid, n_jobs=-1, cv=cv,\n",
    "scoring='roc_auc')\n",
    "# execute the grid search\n",
    "grid_result = grid.fit(X, y)\n",
    "# report the best configuration\n",
    "print('Best: %f using %s' % (grid_result.best_score_, grid_result.best_params_))\n",
    "# report all configurations\n",
    "means = grid_result.cv_results_['mean_test_score']\n",
    "stds = grid_result.cv_results_['std_test_score']\n",
    "params = grid_result.cv_results_['params']\n",
    "for mean, stdev, param in zip(means, stds, params):\n",
    "    print('%f (%f) with: %r' % (mean, stdev, param))"
   ]
  },
  {
   "cell_type": "code",
   "execution_count": 30,
   "metadata": {},
   "outputs": [],
   "source": [
    "## split into train test sets\n",
    "X_train,X_test,y_train,y_test = train_test_split(X, y, test_size=0.2, random_state=42)"
   ]
  },
  {
   "cell_type": "code",
   "execution_count": 31,
   "metadata": {},
   "outputs": [
    {
     "name": "stderr",
     "output_type": "stream",
     "text": [
      "C:\\Users\\pvelarde\\anaconda3\\lib\\site-packages\\sklearn\\linear_model\\_logistic.py:763: ConvergenceWarning: lbfgs failed to converge (status=1):\n",
      "STOP: TOTAL NO. of ITERATIONS REACHED LIMIT.\n",
      "\n",
      "Increase the number of iterations (max_iter) or scale the data as shown in:\n",
      "    https://scikit-learn.org/stable/modules/preprocessing.html\n",
      "Please also refer to the documentation for alternative solver options:\n",
      "    https://scikit-learn.org/stable/modules/linear_model.html#logistic-regression\n",
      "  n_iter_i = _check_optimize_result(\n"
     ]
    }
   ],
   "source": [
    "#Using the obtained weights for training the model GS-LR\n",
    "weights = {0: 0.01, 1: 1.0}\n",
    "model = LogisticRegression(solver='lbfgs', class_weight=weights,max_iter=2000)\n",
    "model.fit(X_train, y_train)\n",
    "y_pred=model.predict(X_test)"
   ]
  },
  {
   "cell_type": "code",
   "execution_count": 32,
   "metadata": {},
   "outputs": [
    {
     "name": "stdout",
     "output_type": "stream",
     "text": [
      "ROCAUC score: 0.9653222764903033\n",
      "Accuracy score: 0.940082208250069\n",
      "F1 score: 0.6615892824371445\n",
      "Recall score: 0.9939343810311553\n",
      "Precision score: 0.4958052537477651\n",
      "              precision    recall  f1-score   support\n",
      "\n",
      "     class 0       1.00      0.94      0.97     57924\n",
      "     class 1       0.50      0.99      0.66      3627\n",
      "\n",
      "    accuracy                           0.94     61551\n",
      "   macro avg       0.75      0.97      0.81     61551\n",
      "weighted avg       0.97      0.94      0.95     61551\n",
      "\n"
     ]
    },
    {
     "data": {
      "image/png": "[encoded data removed]",
      "text/plain": [
       "<Figure size 432x288 with 2 Axes>"
      ]
     },
     "metadata": {
      "needs_background": "light"
     },
     "output_type": "display_data"
    }
   ],
   "source": [
    "print('ROCAUC score:',roc_auc_score(y_test, y_pred))\n",
    "print('Accuracy score:',accuracy_score(y_test, y_pred))\n",
    "print('F1 score:',f1_score(y_test, y_pred))\n",
    "print('Recall score:',recall_score(y_test, y_pred))\n",
    "print('Precision score:',precision_score(y_test, y_pred))\n",
    "print(classification_report(y_test, y_pred, target_names=target_names))\n",
    "plot_confusion_matrix(model, X_test, y_test, display_labels=target_names,cmap=plt.cm.Blues);"
   ]
  },
  {
   "cell_type": "markdown",
   "metadata": {},
   "source": [
    " ### b) Logistic Regression with Synthetic minority over-sampleing technique (LR+SMOTE)"
   ]
  },
  {
   "cell_type": "code",
   "execution_count": 43,
   "metadata": {},
   "outputs": [
    {
     "name": "stdout",
     "output_type": "stream",
     "text": [
      "Origianl dataset shape: Counter({0: 289490, 1: 18264})\n",
      "Resample dataset shape: Counter({0: 289490, 1: 289490})\n"
     ]
    }
   ],
   "source": [
    "# load library\n",
    "from imblearn.over_sampling import SMOTE\n",
    "\n",
    "smote = SMOTE()\n",
    "\n",
    "# fit target and predictor variable\n",
    "X_smote , y_smote = smote.fit_resample(X, y)\n",
    "\n",
    "print('Origianl dataset shape:', Counter(y))\n",
    "print('Resample dataset shape:', Counter(y_smote))"
   ]
  },
  {
   "cell_type": "code",
   "execution_count": 44,
   "metadata": {},
   "outputs": [],
   "source": [
    "X_train2, X_test2, y_train2, y_test2 = train_test_split(X_smote, y_smote, test_size =0.20, random_state=42)"
   ]
  },
  {
   "cell_type": "code",
   "execution_count": 45,
   "metadata": {},
   "outputs": [],
   "source": [
    "model2=LogisticRegression(solver='lbfgs',max_iter=2000)\n",
    "model2.fit(X_train2, y_train2)\n",
    "y_pred2=model2.predict(X_test2)"
   ]
  },
  {
   "cell_type": "code",
   "execution_count": 46,
   "metadata": {},
   "outputs": [
    {
     "name": "stdout",
     "output_type": "stream",
     "text": [
      "ROCAUC score: 0.9780604621336225\n",
      "Accuracy score: 0.9780821444609485\n",
      "F1 score: 0.9783922763881557\n",
      "Recall score: 0.9907409003913995\n",
      "Precision score: 0.9663476900825752\n",
      "              precision    recall  f1-score   support\n",
      "\n",
      "     class 0       0.99      0.97      0.98     57799\n",
      "     class 1       0.97      0.99      0.98     57997\n",
      "\n",
      "    accuracy                           0.98    115796\n",
      "   macro avg       0.98      0.98      0.98    115796\n",
      "weighted avg       0.98      0.98      0.98    115796\n",
      "\n"
     ]
    },
    {
     "data": {
      "image/png": "[encoded data removed]",
      "text/plain": [
       "<Figure size 432x288 with 2 Axes>"
      ]
     },
     "metadata": {
      "needs_background": "light"
     },
     "output_type": "display_data"
    }
   ],
   "source": [
    "print('ROCAUC score:',roc_auc_score(y_test2, y_pred2))\n",
    "print('Accuracy score:',accuracy_score(y_test2, y_pred2))\n",
    "print('F1 score:',f1_score(y_test2, y_pred2))\n",
    "print('Recall score:',recall_score(y_test2, y_pred2))\n",
    "print('Precision score:',precision_score(y_test2, y_pred2))\n",
    "\n",
    "print(classification_report(y_test2, y_pred2, target_names=target_names))\n",
    "plot_confusion_matrix(model2, X_test2, y_test2, display_labels=target_names,cmap=plt.cm.Blues); "
   ]
  },
  {
   "cell_type": "markdown",
   "metadata": {},
   "source": [
    "### c) Weighted Support Vector Machine (W-SVM)\n"
   ]
  },
  {
   "cell_type": "code",
   "execution_count": 48,
   "metadata": {},
   "outputs": [],
   "source": [
    "#train a model using Penalized-SVM on the original imbalanced dataset:\n",
    "#https://www.analyticsvidhya.com/blog/2020/07/10-techniques-to-deal-with-class-imbalance-in-machine-learning/\n",
    "# we can add class_weight='balanced' to add panalize mistake\n",
    "model_SVM = SVC(class_weight='balanced', probability=True)\n",
    "model_SVM.fit(X_train, y_train)\n",
    "y_pred_SVM = model_SVM.predict(X_test)"
   ]
  },
  {
   "cell_type": "code",
   "execution_count": 49,
   "metadata": {},
   "outputs": [],
   "source": [
    "y_pred_SVM = model_SVM.predict(X_test)"
   ]
  },
  {
   "cell_type": "code",
   "execution_count": 50,
   "metadata": {},
   "outputs": [
    {
     "name": "stdout",
     "output_type": "stream",
     "text": [
      "ROCAUC score: 0.5333173159387599\n",
      "Accuracy score: 0.12771522802229046\n",
      "F1 score: 0.11830393799060662\n",
      "Recall score: 0.9931072511717673\n",
      "Precision score: 0.06289835332739623\n",
      "              precision    recall  f1-score   support\n",
      "\n",
      "     class 0       0.99      0.07      0.14     57924\n",
      "     class 1       0.06      0.99      0.12      3627\n",
      "\n",
      "    accuracy                           0.13     61551\n",
      "   macro avg       0.53      0.53      0.13     61551\n",
      "weighted avg       0.94      0.13      0.14     61551\n",
      "\n"
     ]
    },
    {
     "data": {
      "image/png": "[encoded data removed]",
      "text/plain": [
       "<Figure size 432x288 with 2 Axes>"
      ]
     },
     "metadata": {
      "needs_background": "light"
     },
     "output_type": "display_data"
    }
   ],
   "source": [
    "print('ROCAUC score:',roc_auc_score(y_test, y_pred_SVM))\n",
    "print('Accuracy score:',accuracy_score(y_test, y_pred_SVM))\n",
    "print('F1 score:',f1_score(y_test, y_pred_SVM))\n",
    "print('Recall score:',recall_score(y_test, y_pred_SVM))\n",
    "print('Precision score:',precision_score(y_test, y_pred_SVM))\n",
    "\n",
    "print(classification_report(y_test, y_pred_SVM, target_names=target_names))\n",
    "plot_confusion_matrix(model_SVM, X_test, y_test, display_labels=target_names,cmap=plt.cm.Blues);"
   ]
  },
  {
   "cell_type": "markdown",
   "metadata": {},
   "source": [
    "# Undersampling using CNN\n",
    "Condensed Nearest Neighbor (CNN) is used to remove redundant examples from the interior of the density of the majority class. "
   ]
  },
  {
   "cell_type": "code",
   "execution_count": 51,
   "metadata": {},
   "outputs": [],
   "source": [
    "# undersample an imbalanced dataset with the Condensed Nearest Neighbor Rule pp.148\n",
    "from imblearn.under_sampling import CondensedNearestNeighbour"
   ]
  },
  {
   "cell_type": "code",
   "execution_count": 52,
   "metadata": {},
   "outputs": [
    {
     "name": "stdout",
     "output_type": "stream",
     "text": [
      "Counter({0: 289490, 1: 18264})\n"
     ]
    }
   ],
   "source": [
    "counter = Counter(y)\n",
    "print(counter)"
   ]
  },
  {
   "cell_type": "code",
   "execution_count": 53,
   "metadata": {},
   "outputs": [
    {
     "name": "stdout",
     "output_type": "stream",
     "text": [
      "Counter({1: 18264, 0: 1759})\n"
     ]
    }
   ],
   "source": [
    "# define the undersampling method\n",
    "undersample = CondensedNearestNeighbour(n_neighbors=1)\n",
    "# transform the dataset\n",
    "Xu, yu = undersample.fit_resample(X, y)\n",
    "# summarize the new class distribution\n",
    "counter = Counter(yu)\n",
    "print(counter)"
   ]
  },
  {
   "cell_type": "markdown",
   "metadata": {},
   "source": [
    "### d) Weighted Decision Tree with Condensed Nearest Neighbor (DT+CNN)\n",
    "The `DecisionTreeClassifier` class provides the class weight argument that can be speci ed as a model hyperparameter. The class weight is a dictionary that de nes each class label (e.g. 0 and 1) and the weighting to apply in the calculation of group purity for splits in the decision tree when tting the model."
   ]
  },
  {
   "cell_type": "code",
   "execution_count": 54,
   "metadata": {},
   "outputs": [],
   "source": [
    "X_train3, X_test3, y_train3, y_test3 = train_test_split(Xu, yu, test_size =0.20, random_state=42)"
   ]
  },
  {
   "cell_type": "code",
   "execution_count": 55,
   "metadata": {},
   "outputs": [],
   "source": [
    "# define model\n",
    "model_DT = DecisionTreeClassifier(class_weight='balanced')\n",
    "#model performance\n",
    "model_DT.fit(X_train3, y_train3)\n",
    "y_pred_DT=model_DT.predict(X_test3)"
   ]
  },
  {
   "cell_type": "code",
   "execution_count": 56,
   "metadata": {},
   "outputs": [
    {
     "name": "stdout",
     "output_type": "stream",
     "text": [
      "ROCAUC score: 0.9903243144865687\n",
      "Accuracy score: 0.9980024968789014\n",
      "F1 score: 0.9989154013015185\n",
      "Recall score: 0.9994574064026045\n",
      "Precision score: 0.9983739837398374\n",
      "              precision    recall  f1-score   support\n",
      "\n",
      "     class 0       0.99      0.98      0.99       319\n",
      "     class 1       1.00      1.00      1.00      3686\n",
      "\n",
      "    accuracy                           1.00      4005\n",
      "   macro avg       1.00      0.99      0.99      4005\n",
      "weighted avg       1.00      1.00      1.00      4005\n",
      "\n"
     ]
    },
    {
     "data": {
      "image/png": "[encoded data removed]",
      "text/plain": [
       "<Figure size 432x288 with 2 Axes>"
      ]
     },
     "metadata": {
      "needs_background": "light"
     },
     "output_type": "display_data"
    }
   ],
   "source": [
    "print('ROCAUC score:',roc_auc_score(y_test3, y_pred_DT))\n",
    "print('Accuracy score:',accuracy_score(y_test3, y_pred_DT))\n",
    "print('F1 score:',f1_score(y_test3, y_pred_DT))\n",
    "print('Recall score:',recall_score(y_test3, y_pred_DT))\n",
    "print('Precision score:',precision_score(y_test3, y_pred_DT))\n",
    "\n",
    "print(classification_report(y_test3, y_pred_DT, target_names=target_names))\n",
    "plot_confusion_matrix(model_DT, X_test3, y_test3, display_labels=target_names,cmap=plt.cm.Blues);"
   ]
  },
  {
   "cell_type": "markdown",
   "metadata": {},
   "source": [
    "### e) Support Vector Machine with Condensed Nearest Neighbor (SVM+CNN)"
   ]
  },
  {
   "cell_type": "code",
   "execution_count": 59,
   "metadata": {},
   "outputs": [],
   "source": [
    "model_SVM_cnn = SVC(class_weight='balanced', probability=True)\n",
    "model_SVM_cnn.fit(X_train3, y_train3)\n",
    "y_pred_SVM_cnn = model_SVM_cnn.predict(X_test3)"
   ]
  },
  {
   "cell_type": "code",
   "execution_count": 60,
   "metadata": {},
   "outputs": [
    {
     "name": "stdout",
     "output_type": "stream",
     "text": [
      "ROCAUC score: 0.7372320412575245\n",
      "Accuracy score: 0.8826466916354557\n",
      "F1 score: 0.9345403899721448\n",
      "Recall score: 0.9102007596310363\n",
      "Precision score: 0.9602175157412708\n",
      "              precision    recall  f1-score   support\n",
      "\n",
      "     class 0       0.35      0.56      0.43       319\n",
      "     class 1       0.96      0.91      0.93      3686\n",
      "\n",
      "    accuracy                           0.88      4005\n",
      "   macro avg       0.66      0.74      0.68      4005\n",
      "weighted avg       0.91      0.88      0.89      4005\n",
      "\n"
     ]
    },
    {
     "data": {
      "image/png": "[encoded data removed]",
      "text/plain": [
       "<Figure size 432x288 with 2 Axes>"
      ]
     },
     "metadata": {
      "needs_background": "light"
     },
     "output_type": "display_data"
    }
   ],
   "source": [
    "print('ROCAUC score:',roc_auc_score(y_test3, y_pred_SVM_cnn))\n",
    "print('Accuracy score:',accuracy_score(y_test3, y_pred_SVM_cnn))\n",
    "print('F1 score:',f1_score(y_test3, y_pred_SVM_cnn))\n",
    "print('Recall score:',recall_score(y_test3, y_pred_SVM_cnn))\n",
    "print('Precision score:',precision_score(y_test3, y_pred_SVM_cnn))\n",
    "\n",
    "print(classification_report(y_test3, y_pred_SVM_cnn, target_names=target_names))\n",
    "plot_confusion_matrix(model_SVM_cnn, X_test3, y_test3, display_labels=target_names,cmap=plt.cm.Blues);"
   ]
  }
 ],
 "metadata": {
  "kernelspec": {
   "display_name": "Python 3",
   "language": "python",
   "name": "python3"
  },
  "language_info": {
   "codemirror_mode": {
    "name": "ipython",
    "version": 3
   },
   "file_extension": ".py",
   "mimetype": "text/x-python",
   "name": "python",
   "nbconvert_exporter": "python",
   "pygments_lexer": "ipython3",
   "version": "3.8.5"
  }
 },
 "nbformat": 4,
 "nbformat_minor": 4
}
